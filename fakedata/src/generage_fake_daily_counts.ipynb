{
 "cells": [
  {
   "cell_type": "code",
   "execution_count": 64,
   "metadata": {},
   "outputs": [],
   "source": [
    "import numpy as np\n",
    "import pandas as pd\n",
    "import altair as alt\n",
    "from os.path import join\n",
    "import random\n",
    "import math\n",
    "import string\n",
    "from numpy.random import choice\n",
    "from datetime import timedelta, date\n",
    "\n",
    "import sys\n",
    "sys.path.insert(1, '../../notebooks') # We want to use constants.py in another folder\n",
    "\n",
    "from constants import DATA_DIR\n",
    "\n",
    "np.random.seed(0)"
   ]
  },
  {
   "cell_type": "code",
   "execution_count": 65,
   "metadata": {},
   "outputs": [],
   "source": [
    "# File #1: DailyCounts-SiteID.csv\n",
    "# Fields: siteid, date, new_positive_cases, patients_in_icu, new_deaths\n",
    "# Notes:\n",
    "# (1) One row per date (2020-03-15, 2020-03-16, etc.)\n",
    "# (2) Site is a unique identifier for your institution (e.g., \"BIDMC\")\n",
    "# (3) new_positive_cases, patients_in_icu, and new_deaths are number of distinct patients\n",
    "# (4) If a patient has multiple positive test results, use the earliest date\n",
    "# (5) Set patients_in_icu = -2 if you do not have ICU data\n",
    "# (6) Set new_deaths = -2 if you do not have death data\n",
    "# (7) Obfuscate small counts with \"-1\" as required by your institution\n",
    "# Examples: (DailyCounts-BIDMC.csv)\n",
    "# BIDMC, 2020-03-20, -1, 0, -2\n",
    "# BIDMC, 2020-03-21, 6, -1, -2\n",
    "# BIDMC, 2020-03-22, 14, 5, -2\n",
    "# BIDMC, 2020-03-23, 26, 10, -2"
   ]
  },
  {
   "cell_type": "code",
   "execution_count": 66,
   "metadata": {},
   "outputs": [],
   "source": [
    "site_ids = ['FWN','FXL','FZT','FMT','FFG','FOW','FSZ','FMA','FEQ','FVX','FKQ','FBL','FDQ','FKN','FBD','FKL','FUU','FZU','FZM','FUN']"
   ]
  },
  {
   "cell_type": "code",
   "execution_count": 70,
   "metadata": {},
   "outputs": [],
   "source": [
    "start_date = date(2020, 3, 14)\n",
    "end_date = date(2020,3,31)"
   ]
  },
  {
   "cell_type": "code",
   "execution_count": 72,
   "metadata": {},
   "outputs": [],
   "source": [
    "# Iterate each site to make dataFrame\n",
    "\n",
    "for siteid in site_ids:\n",
    "    data = []\n",
    "\n",
    "    #### Factors:\n",
    "    # https://twitter.com/FinancialTimes/status/1244520128386985984/photo/1\n",
    "    #\n",
    "    # When are the patients start to be discovered?\n",
    "    offset = random.choice(range(0, 10))\n",
    "\n",
    "    # Does the number of patients starts to drop at some time point?\n",
    "    \n",
    "    # Slope of the growth before dropping \n",
    "    base_slope = random.choice(range(8, 12)) * 0.1\n",
    "    \n",
    "    is_obfuscate = choice([True, False], 1, [0.3, 0.7])\n",
    "    #############\n",
    "    \n",
    "    cur_date = start_date + timedelta(days=offset)\n",
    "    \n",
    "    while cur_date <= end_date:\n",
    "        date_str = cur_date.strftime(\"%Y-%m-%d\")\n",
    "        \n",
    "        num_days_so_far = (cur_date-start_date).days\n",
    "        \n",
    "        slope_new_positive = base_slope * 1\n",
    "        slope_icu = base_slope * 0.25\n",
    "        slope_death = base_slope * 0.1\n",
    "        \n",
    "        new_positive_cases = math.floor(num_days_so_far * slope_new_positive)\n",
    "        new_positive_cases += math.floor(random.uniform(-new_positive_cases*0.3, new_positive_cases*0.3))\n",
    "        \n",
    "        patients_in_icu = math.floor(num_days_so_far * slope_icu)\n",
    "        patients_in_icu += math.floor(random.uniform(-patients_in_icu*0.3, patients_in_icu*0.3))\n",
    "\n",
    "        new_deaths = math.floor(num_days_so_far * slope_death)\n",
    "        new_deaths += math.floor(random.uniform(-new_deaths*0.3, new_deaths*0.3))\n",
    "        \n",
    "        if new_positive_cases <= 0:\n",
    "            cur_date += timedelta(days=1)\n",
    "            continue\n",
    "        \n",
    "        # Obfuscate / mark -2 for zero value\n",
    "        if patients_in_icu <= 0:\n",
    "            patients_in_icu = -2\n",
    "        if new_deaths <= 0:\n",
    "            new_deaths = -2\n",
    "            \n",
    "        if is_obfuscate and patients_in_icu < 5:\n",
    "            patients_in_icu = -1\n",
    "        if is_obfuscate and new_deaths < 5:\n",
    "            new_deaths = -1\n",
    "\n",
    "        data.append([siteid, date_str, new_positive_cases, patients_in_icu, new_deaths])\n",
    "        \n",
    "        cur_date += timedelta(days=1)\n",
    "\n",
    "    # Make data\n",
    "    df = pd.DataFrame(data)\n",
    "    \n",
    "    # Write a file\n",
    "    save_date = end_date.strftime(\"%Y-%m-%d\")\n",
    "    fname = f\"{save_date}_DailyCounts-{siteid}.csv\"\n",
    "    df.to_csv(join(\"..\", \"site_level_data\", siteid, fname), index = False, header=False)"
   ]
  },
  {
   "cell_type": "code",
   "execution_count": null,
   "metadata": {},
   "outputs": [],
   "source": []
  },
  {
   "cell_type": "code",
   "execution_count": null,
   "metadata": {},
   "outputs": [],
   "source": []
  }
 ],
 "metadata": {
  "kernelspec": {
   "display_name": "Python [conda env:c19i2b2-py] *",
   "language": "python",
   "name": "conda-env-c19i2b2-py-py"
  },
  "language_info": {
   "codemirror_mode": {
    "name": "ipython",
    "version": 3
   },
   "file_extension": ".py",
   "mimetype": "text/x-python",
   "name": "python",
   "nbconvert_exporter": "python",
   "pygments_lexer": "ipython3",
   "version": "3.8.2"
  }
 },
 "nbformat": 4,
 "nbformat_minor": 4
}
