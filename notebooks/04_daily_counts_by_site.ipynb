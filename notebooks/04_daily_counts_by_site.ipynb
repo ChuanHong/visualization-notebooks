{
 "cells": [
  {
   "cell_type": "code",
   "execution_count": 214,
   "metadata": {},
   "outputs": [],
   "source": [
    "import pandas as pd\n",
    "import numpy as np\n",
    "import altair as alt\n",
    "from altair import datum\n",
    "from ipywidgets import interact\n",
    "from os.path import join\n",
    "\n",
    "from constants import COLUMNS\n",
    "from utils import read_latest_daily_counts_df"
   ]
  },
  {
   "cell_type": "code",
   "execution_count": 11,
   "metadata": {},
   "outputs": [
    {
     "data": {
      "text/html": [
       "<div>\n",
       "<style scoped>\n",
       "    .dataframe tbody tr th:only-of-type {\n",
       "        vertical-align: middle;\n",
       "    }\n",
       "\n",
       "    .dataframe tbody tr th {\n",
       "        vertical-align: top;\n",
       "    }\n",
       "\n",
       "    .dataframe thead th {\n",
       "        text-align: right;\n",
       "    }\n",
       "</style>\n",
       "<table border=\"1\" class=\"dataframe\">\n",
       "  <thead>\n",
       "    <tr style=\"text-align: right;\">\n",
       "      <th></th>\n",
       "      <th>siteid</th>\n",
       "      <th>date</th>\n",
       "      <th>new_positive_cases</th>\n",
       "      <th>patients_in_icu</th>\n",
       "      <th>new_deaths</th>\n",
       "    </tr>\n",
       "  </thead>\n",
       "  <tbody>\n",
       "    <tr>\n",
       "      <th>0</th>\n",
       "      <td>FZU</td>\n",
       "      <td>2020-02-05</td>\n",
       "      <td>21</td>\n",
       "      <td>7</td>\n",
       "      <td>-1</td>\n",
       "    </tr>\n",
       "    <tr>\n",
       "      <th>1</th>\n",
       "      <td>FZU</td>\n",
       "      <td>2020-02-06</td>\n",
       "      <td>27</td>\n",
       "      <td>8</td>\n",
       "      <td>-1</td>\n",
       "    </tr>\n",
       "    <tr>\n",
       "      <th>2</th>\n",
       "      <td>FZU</td>\n",
       "      <td>2020-02-07</td>\n",
       "      <td>35</td>\n",
       "      <td>11</td>\n",
       "      <td>-1</td>\n",
       "    </tr>\n",
       "    <tr>\n",
       "      <th>3</th>\n",
       "      <td>FZU</td>\n",
       "      <td>2020-02-08</td>\n",
       "      <td>41</td>\n",
       "      <td>12</td>\n",
       "      <td>5</td>\n",
       "    </tr>\n",
       "    <tr>\n",
       "      <th>4</th>\n",
       "      <td>FZU</td>\n",
       "      <td>2020-02-09</td>\n",
       "      <td>41</td>\n",
       "      <td>15</td>\n",
       "      <td>7</td>\n",
       "    </tr>\n",
       "    <tr>\n",
       "      <th>...</th>\n",
       "      <td>...</td>\n",
       "      <td>...</td>\n",
       "      <td>...</td>\n",
       "      <td>...</td>\n",
       "      <td>...</td>\n",
       "    </tr>\n",
       "    <tr>\n",
       "      <th>1105</th>\n",
       "      <td>FBD</td>\n",
       "      <td>2020-03-27</td>\n",
       "      <td>344</td>\n",
       "      <td>98</td>\n",
       "      <td>51</td>\n",
       "    </tr>\n",
       "    <tr>\n",
       "      <th>1106</th>\n",
       "      <td>FBD</td>\n",
       "      <td>2020-03-28</td>\n",
       "      <td>343</td>\n",
       "      <td>108</td>\n",
       "      <td>57</td>\n",
       "    </tr>\n",
       "    <tr>\n",
       "      <th>1107</th>\n",
       "      <td>FBD</td>\n",
       "      <td>2020-03-29</td>\n",
       "      <td>350</td>\n",
       "      <td>103</td>\n",
       "      <td>52</td>\n",
       "    </tr>\n",
       "    <tr>\n",
       "      <th>1108</th>\n",
       "      <td>FBD</td>\n",
       "      <td>2020-03-30</td>\n",
       "      <td>355</td>\n",
       "      <td>101</td>\n",
       "      <td>49</td>\n",
       "    </tr>\n",
       "    <tr>\n",
       "      <th>1109</th>\n",
       "      <td>FBD</td>\n",
       "      <td>2020-03-31</td>\n",
       "      <td>305</td>\n",
       "      <td>122</td>\n",
       "      <td>51</td>\n",
       "    </tr>\n",
       "  </tbody>\n",
       "</table>\n",
       "<p>1110 rows × 5 columns</p>\n",
       "</div>"
      ],
      "text/plain": [
       "     siteid        date  new_positive_cases  patients_in_icu  new_deaths\n",
       "0       FZU  2020-02-05                  21                7          -1\n",
       "1       FZU  2020-02-06                  27                8          -1\n",
       "2       FZU  2020-02-07                  35               11          -1\n",
       "3       FZU  2020-02-08                  41               12           5\n",
       "4       FZU  2020-02-09                  41               15           7\n",
       "...     ...         ...                 ...              ...         ...\n",
       "1105    FBD  2020-03-27                 344               98          51\n",
       "1106    FBD  2020-03-28                 343              108          57\n",
       "1107    FBD  2020-03-29                 350              103          52\n",
       "1108    FBD  2020-03-30                 355              101          49\n",
       "1109    FBD  2020-03-31                 305              122          51\n",
       "\n",
       "[1110 rows x 5 columns]"
      ]
     },
     "execution_count": 11,
     "metadata": {},
     "output_type": "execute_result"
    }
   ],
   "source": [
    "df = read_latest_daily_counts_df()\n",
    "SITE_IDS = df[COLUMNS.SITE_ID].unique().tolist()\n",
    "\n",
    "# Columns\n",
    "siteid = COLUMNS.SITE_ID\n",
    "date = COLUMNS.DATE\n",
    "new_positive_cases = COLUMNS.NEW_POSITIVE_CASES\n",
    "patients_in_icu = COLUMNS.PATIENTS_IN_ICU\n",
    "new_deaths = COLUMNS.NEW_DEATHS\n",
    "\n",
    "df"
   ]
  },
  {
   "cell_type": "code",
   "execution_count": 87,
   "metadata": {},
   "outputs": [],
   "source": [
    "def apply_theme(base):\n",
    "    return base.configure_axis(\n",
    "        labelFontSize=14,\n",
    "        labelFontWeight=300,\n",
    "        titleFontSize=18,\n",
    "        titleFontWeight=300\n",
    "    ).configure_title(fontSize=18, fontWeight=400, anchor=\"middle\"\n",
    "    ).configure_legend(\n",
    "        titleFontSize=18, titleFontWeight=400,\n",
    "        labelFontSize=14, labelFontWeight=300\n",
    "    )"
   ]
  },
  {
   "cell_type": "code",
   "execution_count": 251,
   "metadata": {},
   "outputs": [
    {
     "data": {
      "application/vnd.jupyter.widget-view+json": {
       "model_id": "1b2af7f614f9481fb949ceb68d672e8d",
       "version_major": 2,
       "version_minor": 0
      },
      "text/plain": [
       "interactive(children=(Dropdown(description='SiteID', options=('All', 'FZU', 'FZT', 'FZM', 'FXL', 'FWN', 'FVX',…"
      ]
     },
     "metadata": {},
     "output_type": "display_data"
    },
    {
     "data": {
      "text/plain": [
       "<function __main__.daily_counts_chart(SiteID)>"
      ]
     },
     "execution_count": 251,
     "metadata": {},
     "output_type": "execute_result"
    }
   ],
   "source": [
    "end_date = \"2020-03-30\"\n",
    "\n",
    "def daily_counts_chart(SiteID):\n",
    "    category = \"category\"\n",
    "    value = \"value\"\n",
    "    \n",
    "    # Mouseover effect\n",
    "    mouseover = alt.selection_single(on=\"mouseover\", fields=[category]) # nearest=True does not look working\n",
    "    \n",
    "    base = alt.Chart(df).transform_fold(\n",
    "        # Fold three quantitative fields, making three rows from one original row.\n",
    "        fold=[new_positive_cases, patients_in_icu, new_deaths], \n",
    "        as_=[category, value]\n",
    "    ).encode(\n",
    "        x=alt.X(\n",
    "            f\"{date}:T\", \n",
    "            axis=alt.Axis(tickCount=7), \n",
    "            title=\"\", \n",
    "            scale=alt.Scale(domain=[\"2020-02-01\", \"2020-04-20\"])\n",
    "        ),y=alt.Y(\n",
    "            f\"sum({value}):Q\", \n",
    "            axis=alt.Axis(tickCount=5), \n",
    "            title=\"Number of Patients\"\n",
    "        ),\n",
    "        color=alt.Color(f\"{category}:N\", scale=alt.Scale(range=[\"#5C63A2\", \"#EC7176\", \"#F4AB32\"])),\n",
    "        # mouse hover visual effect\n",
    "        size=alt.condition(~mouseover, alt.value(4), alt.value(6)),\n",
    "        tooltip=[f\"{date}:T\", f\"{category}:N\", f\"sum({value}):Q\"],\n",
    "    ).properties(width=700, height=500, title=\"Number of Possitive Cases, Patients in ICU, and Deaths\")\n",
    "    \n",
    "    if SiteID != \"All\":\n",
    "        base = base.transform_filter(\n",
    "            alt.FieldEqualPredicate(field=siteid, equal=SiteID)\n",
    "        )\n",
    "    \n",
    "    line = base.mark_line(size=4)\n",
    "    circle = base.mark_circle(size=50).encode(\n",
    "        size=alt.condition(~mouseover, alt.value(50), alt.value(80))\n",
    "    )\n",
    "    \n",
    "    text = base.mark_text(align='left', fontWeight=400, dx=10, dy=1).encode(\n",
    "        text=f\"{category}:N\",\n",
    "        size=alt.value(20)\n",
    "    ).transform_window(\n",
    "        sort=[alt.SortField(date, order=\"descending\")], \n",
    "        rank=\"rank(date)\"\n",
    "    ).transform_filter(alt.datum.rank == 1)\n",
    "    \n",
    "    return apply_theme(line + circle + text).add_selection(mouseover).interactive()\n",
    "\n",
    "interact(daily_counts_chart, SiteID=[\"All\"] + SITE_IDS, )"
   ]
  },
  {
   "cell_type": "code",
   "execution_count": 290,
   "metadata": {},
   "outputs": [
    {
     "data": {
      "application/vnd.jupyter.widget-view+json": {
       "model_id": "e9119b0653c9482fb905357d54726494",
       "version_major": 2,
       "version_minor": 0
      },
      "text/plain": [
       "interactive(children=(Dropdown(description='SiteID', options=('FZU', 'FZT', 'FZM', 'FXL', 'FWN', 'FVX', 'FUU',…"
      ]
     },
     "metadata": {},
     "output_type": "display_data"
    },
    {
     "data": {
      "text/plain": [
       "<function __main__.daily_counts_chart(SiteID)>"
      ]
     },
     "execution_count": 290,
     "metadata": {},
     "output_type": "execute_result"
    }
   ],
   "source": [
    "def daily_counts_chart(SiteID):\n",
    "    \n",
    "    base = alt.Chart(df).encode(\n",
    "        x=alt.X(\n",
    "            f\"{date}:T\", \n",
    "            axis=alt.Axis(tickCount=7), \n",
    "            title=\"\", \n",
    "            scale=alt.Scale(domain=[\"2020-02-01\", \"2020-04-20\"])\n",
    "        ),\n",
    "        y=alt.Y(\n",
    "            f\"{new_deaths}:Q\", \n",
    "            axis=alt.Axis(tickCount=5), \n",
    "            title=\"Number of Patients\"\n",
    "        ),\n",
    "        color=alt.Color(siteid, scale=alt.Scale(range=[\"lightgray\"]), legend=None)\n",
    "    ).transform_filter(\n",
    "        alt.FieldGTEPredicate(field=new_deaths, gte=0)\n",
    "    ).properties(width=700, height=500, title=\"Number of Deaths\")\n",
    "    \n",
    "    line = base.mark_line(size=4)\n",
    "    \n",
    "    hl_line = base.mark_line(size=4).encode(\n",
    "        color=alt.value(\"steelblue\")\n",
    "    ).transform_filter(alt.datum.siteid == SiteID)\n",
    "\n",
    "    circle = hl_line.mark_circle(size=80)\n",
    "    \n",
    "    text = hl_line.mark_text(align='left', fontWeight=400, dx=10, dy=1).encode(\n",
    "        text=f\"{siteid}:N\",\n",
    "        size=alt.value(20),\n",
    "    ).transform_window(\n",
    "        sort=[alt.SortField(date, order=\"descending\")], \n",
    "        rank=\"rank(date)\"\n",
    "    ).transform_filter(alt.datum.rank == 1)\n",
    "    \n",
    "    return apply_theme(line + text + hl_line + circle).interactive()\n",
    "\n",
    "interact(daily_counts_chart, SiteID=SITE_IDS, )"
   ]
  },
  {
   "cell_type": "code",
   "execution_count": null,
   "metadata": {},
   "outputs": [],
   "source": []
  }
 ],
 "metadata": {
  "kernelspec": {
   "display_name": "Python [conda env:c19i2b2-py] *",
   "language": "python",
   "name": "conda-env-c19i2b2-py-py"
  },
  "language_info": {
   "codemirror_mode": {
    "name": "ipython",
    "version": 3
   },
   "file_extension": ".py",
   "mimetype": "text/x-python",
   "name": "python",
   "nbconvert_exporter": "python",
   "pygments_lexer": "ipython3",
   "version": "3.8.2"
  }
 },
 "nbformat": 4,
 "nbformat_minor": 4
}
