{
 "cells": [
  {
   "cell_type": "code",
   "execution_count": 19,
   "metadata": {},
   "outputs": [],
   "source": [
    "import pandas as pd\n",
    "import numpy as np\n",
    "import altair as alt\n",
    "from altair import datum\n",
    "from ipywidgets import interact\n",
    "from os.path import join\n",
    "from datetime import date, datetime, timedelta\n",
    "\n",
    "from constants import COLUMNS\n",
    "from utils import read_latest_daily_counts_df\n",
    "from utils_data_align import add_aligned_time_steps_column"
   ]
  },
  {
   "cell_type": "code",
   "execution_count": 25,
   "metadata": {},
   "outputs": [],
   "source": [
    "df = read_latest_daily_counts_df()\n",
    "SITE_IDS = df[COLUMNS.SITE_ID].unique().tolist()\n",
    "\n",
    "# Columns\n",
    "siteid = COLUMNS.SITE_ID\n",
    "date = COLUMNS.DATE\n",
    "new_positive_cases = COLUMNS.NEW_POSITIVE_CASES\n",
    "patients_in_icu = COLUMNS.PATIENTS_IN_ICU\n",
    "new_deaths = COLUMNS.NEW_DEATHS\n",
    "\n",
    "# Convert data for viz\n",
    "df.loc[df[new_positive_cases] < 0, new_positive_cases] = 0\n",
    "df.loc[df[patients_in_icu] < 0, patients_in_icu] = 0\n",
    "df.loc[df[new_deaths] < 0, new_deaths] = 0\n",
    "\n",
    "# Range of some columns\n",
    "start_date = min(df['date'])\n",
    "end_date = max(df['date'])\n",
    "duration = (datetime.strptime(end_date, \"%Y-%m-%d\") - datetime.strptime(start_date, \"%Y-%m-%d\")).days\n",
    "\n",
    "start_date_margin = datetime.strptime(start_date, \"%Y-%m-%d\") - timedelta(days=1)\n",
    "start_date_margin = start_date_margin.strftime(\"%Y-%m-%d\")\n",
    "\n",
    "end_date_margin = datetime.strptime(end_date, \"%Y-%m-%d\") + timedelta(days=1)\n",
    "end_date_margin = end_date_margin.strftime(\"%Y-%m-%d\")\n",
    "\n",
    "# Align data and make new column, timestep\n",
    "df = add_aligned_time_steps_column(df, new_positive_cases, date, 1)\n",
    "\n",
    "# df.head() # Comment this line not to include data preview in GitHub repo"
   ]
  },
  {
   "cell_type": "code",
   "execution_count": 26,
   "metadata": {},
   "outputs": [],
   "source": [
    "def apply_theme(base):\n",
    "    return base.configure_axis(\n",
    "        labelFontSize=14,\n",
    "        labelFontWeight=300,\n",
    "        titleFontSize=18,\n",
    "        titleFontWeight=300\n",
    "    ).configure_title(fontSize=18, fontWeight=400, anchor=\"middle\"\n",
    "    ).configure_legend(\n",
    "        titleFontSize=18, titleFontWeight=400,\n",
    "        labelFontSize=14, labelFontWeight=300\n",
    "    )"
   ]
  },
  {
   "cell_type": "markdown",
   "metadata": {},
   "source": [
    "## Total Daily Counts"
   ]
  },
  {
   "cell_type": "code",
   "execution_count": 27,
   "metadata": {},
   "outputs": [
    {
     "data": {
      "application/vnd.jupyter.widget-view+json": {
       "model_id": "5f9231bcc2854c498feeb446f3af6149",
       "version_major": 2,
       "version_minor": 0
      },
      "text/plain": [
       "interactive(children=(Dropdown(description='SiteID', options=('All', 'UPenn', 'BCH'), value='All'), Output()),…"
      ]
     },
     "metadata": {},
     "output_type": "display_data"
    },
    {
     "data": {
      "text/plain": [
       "<function __main__.daily_counts_chart(SiteID)>"
      ]
     },
     "execution_count": 27,
     "metadata": {},
     "output_type": "execute_result"
    }
   ],
   "source": [
    "def daily_counts_chart(SiteID):\n",
    "    category = \"category\"\n",
    "    value = \"value\"\n",
    "    \n",
    "    # Mouseover effect\n",
    "    mouseover = alt.selection_single(on=\"mouseover\", fields=[category]) # nearest=True does not look working\n",
    "    \n",
    "    base = alt.Chart(df).transform_fold(\n",
    "        # Fold three quantitative fields, making three rows from one original row.\n",
    "        fold=[new_positive_cases, patients_in_icu, new_deaths], \n",
    "        as_=[category, value]\n",
    "    ).encode(\n",
    "        x=alt.X(\n",
    "            f\"{date}:T\", axis=alt.Axis(tickCount=7), \n",
    "            scale=alt.Scale(domain=[start_date_margin, end_date_margin]),\n",
    "            title=None,\n",
    "        ),y=alt.Y(\n",
    "            f\"sum({value}):Q\", axis=alt.Axis(tickCount=5), \n",
    "            scale=alt.Scale(domain=[-2, 110]),\n",
    "            title=\"Number of Patients\"\n",
    "        ),\n",
    "        color=alt.Color(f\"{category}:N\", scale=alt.Scale(range=[\"#5C63A2\", \"#EC7176\", \"#F4AB32\"])),\n",
    "        # mouse hover visual effect\n",
    "        size=alt.condition(~mouseover, alt.value(4), alt.value(6)),\n",
    "        tooltip=[f\"{date}:T\", f\"{category}:N\", f\"sum({value}):Q\"],\n",
    "    )\n",
    "    \n",
    "    if SiteID != \"All\":\n",
    "        base = base.transform_filter(\n",
    "            alt.FieldEqualPredicate(field=siteid, equal=SiteID)\n",
    "        )\n",
    "    \n",
    "    line = base.mark_line(size=4).properties(\n",
    "        width=750, height=400, title=\"Number of Positive Cases, Patients in ICU, and Deaths\"\n",
    "    ).add_selection(mouseover)\n",
    "    \n",
    "    circle = base.mark_circle(size=70).encode(\n",
    "        size=alt.condition(~mouseover, alt.value(70), alt.value(100))\n",
    "    )\n",
    "    \n",
    "    # Uncomment below to show label at the end of lines\n",
    "    # text = base.mark_text(align='left', fontWeight=400, dx=10, dy=1).encode(\n",
    "    #     text=f\"{category}:N\",\n",
    "    #     size=alt.condition(~mouseover, alt.value(20), alt.value(24))\n",
    "    # ).transform_window(\n",
    "    #     sort=[alt.SortField(date, order=\"descending\")], \n",
    "    #     rank=\"rank(date)\"\n",
    "    # ).transform_filter(alt.datum.rank == 1)\n",
    "\n",
    "    # Guidelines\n",
    "    g = alt.Chart(pd.DataFrame({\n",
    "        \"date\":[start_date, end_date_margin],\n",
    "        \"value\":[0, duration]\n",
    "    })).mark_line(color=\"lightgray\", strokeDash=[10,1], size=3).encode(\n",
    "        x=\"date:T\",\n",
    "        y=\"value:Q\"\n",
    "    )\n",
    "\n",
    "    g10 = alt.Chart(pd.DataFrame({\n",
    "        \"date\":[start_date, end_date_margin],\n",
    "        \"value\":[0, duration * 10]\n",
    "    })).mark_line(color=\"lightgray\", strokeDash=[10,1], size=3).encode(\n",
    "        x=\"date:T\",\n",
    "        y=\"value:Q\"\n",
    "    )\n",
    "    \n",
    "#     g20 = alt.Chart(pd.DataFrame({\n",
    "#         \"date\":[start_date, end_date_margin],\n",
    "#         \"value\":[0, duration * 20]\n",
    "#     })).mark_line(color=\"lightgray\", strokeDash=[10,1], size=3).encode(\n",
    "#         x=\"date:T\",\n",
    "#         y=\"value:Q\"\n",
    "#     )\n",
    "    \n",
    "    return apply_theme(g + g10 + line + circle).interactive()\n",
    "\n",
    "interact(daily_counts_chart, SiteID=[\"All\"] + SITE_IDS, )"
   ]
  },
  {
   "cell_type": "markdown",
   "metadata": {},
   "source": [
    "## Since N Possitive Cases"
   ]
  },
  {
   "cell_type": "code",
   "execution_count": 28,
   "metadata": {},
   "outputs": [
    {
     "data": {
      "application/vnd.jupyter.widget-view+json": {
       "model_id": "34eb2eebdbcb47299344506d67f85c35",
       "version_major": 2,
       "version_minor": 0
      },
      "text/plain": [
       "interactive(children=(Dropdown(description='SiteID', options=('All', 'UPenn', 'BCH'), value='All'), Output()),…"
      ]
     },
     "metadata": {},
     "output_type": "display_data"
    },
    {
     "data": {
      "text/plain": [
       "<function __main__.daily_counts_chart(SiteID)>"
      ]
     },
     "execution_count": 28,
     "metadata": {},
     "output_type": "execute_result"
    }
   ],
   "source": [
    "# Align data and make \"timestep\" column indicating the relative date\n",
    "df_aligned = add_aligned_time_steps_column(df, new_positive_cases, date, 10)\n",
    "\n",
    "def daily_counts_chart(SiteID):\n",
    "    category = \"category\"\n",
    "    value = \"value\"\n",
    "    \n",
    "    # Mouseover effect\n",
    "    mouseover = alt.selection_single(on=\"mouseover\", fields=[category]) # nearest=True does not look working\n",
    "    \n",
    "    base = alt.Chart(df_aligned).transform_fold(\n",
    "        # Fold three quantitative fields, making three rows from one original row.\n",
    "        fold=[new_positive_cases, patients_in_icu, new_deaths], \n",
    "        as_=[category, value]\n",
    "    ).transform_filter(\n",
    "        (0 <= alt.datum.timestep) & (alt.datum.timestep <= 8) # Just because the number going down because of less institution is missleading\n",
    "    ).encode(\n",
    "        x=alt.X(\n",
    "            f\"timestep\", axis=alt.Axis(tickCount=7),\n",
    "            title=\"Number of days since 1st possitive cases\",\n",
    "            scale=alt.Scale(domain=[0,8])\n",
    "        ),y=alt.Y(\n",
    "            f\"sum({value}):Q\", axis=alt.Axis(tickCount=5),\n",
    "            title=\"Number of Patients\"\n",
    "        ),\n",
    "        color=alt.Color(f\"{category}:N\", scale=alt.Scale(range=[\"#5C63A2\", \"#EC7176\", \"#F4AB32\"])),\n",
    "        # mouse hover visual effect\n",
    "        size=alt.condition(~mouseover, alt.value(4), alt.value(6)),\n",
    "        tooltip=[f\"timestep\", f\"{category}:N\", f\"sum({value}):Q\"],\n",
    "    )\n",
    "    \n",
    "    if SiteID != \"All\":\n",
    "        base = base.transform_filter(\n",
    "            alt.FieldEqualPredicate(field=siteid, equal=SiteID)\n",
    "        )\n",
    "    \n",
    "    line = base.mark_line(size=4).properties(\n",
    "        width=750, height=400, title=\"Number of Possitive Cases, Patients in ICU, and Deaths\"\n",
    "    ).add_selection(mouseover)\n",
    "    \n",
    "    circle = base.mark_circle(size=70).encode(\n",
    "        size=alt.condition(~mouseover, alt.value(70), alt.value(100))\n",
    "    )\n",
    "    \n",
    "    # Uncomment below to show label at the end of lines\n",
    "    # text = base.mark_text(align='left', fontWeight=400, dx=10, dy=1).encode(\n",
    "    #     text=f\"{category}:N\",\n",
    "    #     size=alt.condition(~mouseover, alt.value(20), alt.value(24))\n",
    "    # ).transform_window(\n",
    "    #     sort=[alt.SortField(date, order=\"descending\")], \n",
    "    #     rank=\"rank(date)\"\n",
    "    # ).transform_filter(alt.datum.rank == 1)\n",
    "    \n",
    "    return apply_theme(line + circle).interactive()\n",
    "\n",
    "interact(daily_counts_chart, SiteID=[\"All\"] + SITE_IDS, )"
   ]
  },
  {
   "cell_type": "markdown",
   "metadata": {},
   "source": [
    "## By Individual Sites"
   ]
  },
  {
   "cell_type": "code",
   "execution_count": 29,
   "metadata": {
    "scrolled": false
   },
   "outputs": [
    {
     "data": {
      "application/vnd.jupyter.widget-view+json": {
       "model_id": "6a52139163f74a5499c6c5c18aa4d9f4",
       "version_major": 2,
       "version_minor": 0
      },
      "text/plain": [
       "interactive(children=(Dropdown(description='SiteID', options=('All', 'UPenn', 'BCH'), value='All'), Output()),…"
      ]
     },
     "metadata": {},
     "output_type": "display_data"
    },
    {
     "data": {
      "text/plain": [
       "<function __main__.daily_counts_site_chart(SiteID)>"
      ]
     },
     "execution_count": 29,
     "metadata": {},
     "output_type": "execute_result"
    }
   ],
   "source": [
    "def daily_counts_site_chart(SiteID):\n",
    "    \n",
    "    base = alt.Chart(df).encode(\n",
    "        x=alt.X(\n",
    "            f\"{date}:T\", \n",
    "            axis=alt.Axis(tickCount=7), \n",
    "            title=\"\",\n",
    "            scale=alt.Scale(domain=[start_date_margin, end_date_margin])\n",
    "        ),\n",
    "        y=alt.Y(\n",
    "            f\"{new_positive_cases}:Q\", \n",
    "            axis=alt.Axis(tickCount=5), \n",
    "            title=None\n",
    "        )\n",
    "    ).properties(width=700, height=500, title=\"Number of Possitive Cases\")\n",
    "    \n",
    "    # Color encoding\n",
    "    if SiteID == \"All\":\n",
    "        base = base.encode(color=alt.Color(siteid, title=\"Site\"))\n",
    "    else:\n",
    "        base = base.encode(\n",
    "            color=alt.Color(siteid, scale=alt.Scale(range=[\"lightgray\"]), legend=None)\n",
    "        )\n",
    "    \n",
    "    line = base.mark_line(size=4)\n",
    "    circle = line.mark_circle(size=80)\n",
    "    \n",
    "    # Only when seeing individual data\n",
    "    hl_line = base.mark_line(size=4).encode(\n",
    "        color=alt.value(\"steelblue\")\n",
    "    ).transform_filter(alt.datum.siteid == SiteID)\n",
    "    hl_circle = hl_line.mark_circle(size=80)\n",
    "    \n",
    "    \n",
    "    text = hl_line.mark_text(align='left', fontWeight=400, dx=10, dy=1).encode(\n",
    "        text=f\"{siteid}:N\",\n",
    "        size=alt.value(20),\n",
    "    ).transform_window(\n",
    "        sort=[alt.SortField(date, order=\"descending\")], \n",
    "        rank=\"rank(date)\"\n",
    "    ).transform_filter(alt.datum.rank == 1)\n",
    "    \n",
    "    return apply_theme(line + text + hl_line + circle + hl_circle).interactive()\n",
    "\n",
    "interact(daily_counts_site_chart, SiteID=[\"All\"] + SITE_IDS, )"
   ]
  },
  {
   "cell_type": "markdown",
   "metadata": {},
   "source": [
    "## Since N Possitive Cases"
   ]
  },
  {
   "cell_type": "code",
   "execution_count": 30,
   "metadata": {},
   "outputs": [
    {
     "data": {
      "application/vnd.jupyter.widget-view+json": {
       "model_id": "273d45f297da4ca7aa12503b6ee3a2ea",
       "version_major": 2,
       "version_minor": 0
      },
      "text/plain": [
       "interactive(children=(Dropdown(description='SiteID', options=('All', 'UPenn', 'BCH'), value='All'), Output()),…"
      ]
     },
     "metadata": {},
     "output_type": "display_data"
    },
    {
     "data": {
      "text/plain": [
       "<function __main__.daily_counts_site_chart(SiteID)>"
      ]
     },
     "execution_count": 30,
     "metadata": {},
     "output_type": "execute_result"
    }
   ],
   "source": [
    "def daily_counts_site_chart(SiteID):\n",
    "    \n",
    "    base = alt.Chart(df).encode(\n",
    "        x=alt.X(\n",
    "            f\"timestep\", \n",
    "            axis=alt.Axis(tickCount=7), \n",
    "            title=\"Number of days since 1st possitive cases\",\n",
    "        ),\n",
    "        y=alt.Y(\n",
    "            f\"{new_positive_cases}:Q\", \n",
    "            axis=alt.Axis(tickCount=5), \n",
    "            title=None\n",
    "        )\n",
    "    ).transform_filter(\n",
    "        alt.datum.timestep >= 0\n",
    "    ).properties(width=700, height=500, title=\"Number of Possitive Cases\")\n",
    "    \n",
    "    # Color encoding\n",
    "    if SiteID == \"All\":\n",
    "        base = base.encode(color=alt.Color(siteid, title=\"Site\"))\n",
    "    else:\n",
    "        base = base.encode(\n",
    "            color=alt.Color(siteid, scale=alt.Scale(range=[\"lightgray\"]), legend=None)\n",
    "        )\n",
    "    \n",
    "    line = base.mark_line(size=4)\n",
    "    circle = line.mark_circle(size=80)\n",
    "    \n",
    "    # Only when seeing individual data\n",
    "    hl_line = base.mark_line(size=4).encode(\n",
    "        color=alt.value(\"steelblue\")\n",
    "    ).transform_filter(alt.datum.siteid == SiteID)\n",
    "    hl_circle = hl_line.mark_circle(size=80)\n",
    "    \n",
    "    \n",
    "    text = hl_line.mark_text(align='left', fontWeight=400, dx=10, dy=1).encode(\n",
    "        text=f\"{siteid}:N\",\n",
    "        size=alt.value(20),\n",
    "    ).transform_window(\n",
    "        sort=[alt.SortField(date, order=\"descending\")], \n",
    "        rank=\"rank(date)\"\n",
    "    ).transform_filter(alt.datum.rank == 1)\n",
    "    \n",
    "    return apply_theme(line + text + hl_line + circle + hl_circle).interactive()\n",
    "\n",
    "interact(daily_counts_site_chart, SiteID=[\"All\"] + SITE_IDS, )"
   ]
  },
  {
   "cell_type": "code",
   "execution_count": null,
   "metadata": {},
   "outputs": [],
   "source": []
  },
  {
   "cell_type": "code",
   "execution_count": null,
   "metadata": {},
   "outputs": [],
   "source": []
  }
 ],
 "metadata": {
  "kernelspec": {
   "display_name": "Python [conda env:c19i2b2-py] *",
   "language": "python",
   "name": "conda-env-c19i2b2-py-py"
  },
  "language_info": {
   "codemirror_mode": {
    "name": "ipython",
    "version": 3
   },
   "file_extension": ".py",
   "mimetype": "text/x-python",
   "name": "python",
   "nbconvert_exporter": "python",
   "pygments_lexer": "ipython3",
   "version": "3.8.2"
  }
 },
 "nbformat": 4,
 "nbformat_minor": 4
}
