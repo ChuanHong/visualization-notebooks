{
 "cells": [
  {
   "cell_type": "code",
   "execution_count": 62,
   "metadata": {},
   "outputs": [],
   "source": [
    "import pandas as pd\n",
    "import numpy as np\n",
    "import altair as alt\n",
    "from ipywidgets import interact\n",
    "from os.path import join\n",
    "\n",
    "from constants import COLUMNS, SITE_IDS\n",
    "from utils import read_full_daily_counts_df"
   ]
  },
  {
   "cell_type": "code",
   "execution_count": 64,
   "metadata": {},
   "outputs": [
    {
     "data": {
      "text/html": [
       "<div>\n",
       "<style scoped>\n",
       "    .dataframe tbody tr th:only-of-type {\n",
       "        vertical-align: middle;\n",
       "    }\n",
       "\n",
       "    .dataframe tbody tr th {\n",
       "        vertical-align: top;\n",
       "    }\n",
       "\n",
       "    .dataframe thead th {\n",
       "        text-align: right;\n",
       "    }\n",
       "</style>\n",
       "<table border=\"1\" class=\"dataframe\">\n",
       "  <thead>\n",
       "    <tr style=\"text-align: right;\">\n",
       "      <th></th>\n",
       "      <th>siteid</th>\n",
       "      <th>date</th>\n",
       "      <th>new_positive_cases</th>\n",
       "      <th>patients_in_icu</th>\n",
       "      <th>new_deaths</th>\n",
       "    </tr>\n",
       "  </thead>\n",
       "  <tbody>\n",
       "    <tr>\n",
       "      <th>0</th>\n",
       "      <td>FMC</td>\n",
       "      <td>2020-03-20</td>\n",
       "      <td>5</td>\n",
       "      <td>1</td>\n",
       "      <td>-2</td>\n",
       "    </tr>\n",
       "    <tr>\n",
       "      <th>1</th>\n",
       "      <td>FMC</td>\n",
       "      <td>2020-03-21</td>\n",
       "      <td>7</td>\n",
       "      <td>2</td>\n",
       "      <td>-2</td>\n",
       "    </tr>\n",
       "    <tr>\n",
       "      <th>2</th>\n",
       "      <td>FMC</td>\n",
       "      <td>2020-03-22</td>\n",
       "      <td>10</td>\n",
       "      <td>4</td>\n",
       "      <td>-2</td>\n",
       "    </tr>\n",
       "    <tr>\n",
       "      <th>3</th>\n",
       "      <td>FMC</td>\n",
       "      <td>2020-03-23</td>\n",
       "      <td>13</td>\n",
       "      <td>5</td>\n",
       "      <td>-2</td>\n",
       "    </tr>\n",
       "    <tr>\n",
       "      <th>4</th>\n",
       "      <td>FMC</td>\n",
       "      <td>2020-03-24</td>\n",
       "      <td>15</td>\n",
       "      <td>6</td>\n",
       "      <td>-2</td>\n",
       "    </tr>\n",
       "  </tbody>\n",
       "</table>\n",
       "</div>"
      ],
      "text/plain": [
       "  siteid        date  new_positive_cases  patients_in_icu  new_deaths\n",
       "0    FMC  2020-03-20                   5                1          -2\n",
       "1    FMC  2020-03-21                   7                2          -2\n",
       "2    FMC  2020-03-22                  10                4          -2\n",
       "3    FMC  2020-03-23                  13                5          -2\n",
       "4    FMC  2020-03-24                  15                6          -2"
      ]
     },
     "execution_count": 64,
     "metadata": {},
     "output_type": "execute_result"
    }
   ],
   "source": [
    "df = read_full_daily_counts_df([\"FMC\"])\n",
    "\n",
    "# Columns\n",
    "siteid = COLUMNS.SITE_ID\n",
    "date = COLUMNS.DATE\n",
    "new_positive_cases = COLUMNS.NEW_POSITIVE_CASES\n",
    "patients_in_icu = COLUMNS.PATIENTS_IN_ICU\n",
    "new_deaths = COLUMNS.NEW_DEATHS\n",
    "\n",
    "df.head()"
   ]
  },
  {
   "cell_type": "code",
   "execution_count": 57,
   "metadata": {},
   "outputs": [
    {
     "data": {
      "application/vnd.jupyter.widget-view+json": {
       "model_id": "9bf3e4431aea4c6489804b71a40e2cbf",
       "version_major": 2,
       "version_minor": 0
      },
      "text/plain": [
       "interactive(children=(Dropdown(description='SiteID', options=('All', 'BCH'), value='All'), Output()), _dom_cla…"
      ]
     },
     "metadata": {},
     "output_type": "display_data"
    },
    {
     "data": {
      "text/plain": [
       "<function __main__.daily_counts_chart(SiteID)>"
      ]
     },
     "execution_count": 57,
     "metadata": {},
     "output_type": "execute_result"
    }
   ],
   "source": [
    "def daily_counts_chart(SiteID):\n",
    "    base = alt.Chart(df).mark_line().encode(\n",
    "        x=date + \":T\"\n",
    "    )\n",
    "    \n",
    "    if SiteID != \"All\":\n",
    "        base = base.transform_filter(\n",
    "            alt.FieldEqualPredicate(field=siteid, equal=SiteID)\n",
    "        )\n",
    "    \n",
    "    line_pos = base.encode(\n",
    "        y=new_positive_cases\n",
    "    )\n",
    "    \n",
    "    line_icus = base.encode(\n",
    "        y=patients_in_icu\n",
    "    )\n",
    "    \n",
    "    l_deaths = base.encode(\n",
    "        y=new_deaths\n",
    "    )\n",
    "    \n",
    "    return (\n",
    "        line_pos + line_icus + l_deaths\n",
    "    ).interactive()\n",
    "\n",
    "interact(daily_counts_chart, SiteID=[\"All\", \"BCH\"], )"
   ]
  },
  {
   "cell_type": "code",
   "execution_count": null,
   "metadata": {},
   "outputs": [],
   "source": []
  }
 ],
 "metadata": {
  "kernelspec": {
   "display_name": "Python [conda env:c19i2b2-py] *",
   "language": "python",
   "name": "conda-env-c19i2b2-py-py"
  },
  "language_info": {
   "codemirror_mode": {
    "name": "ipython",
    "version": 3
   },
   "file_extension": ".py",
   "mimetype": "text/x-python",
   "name": "python",
   "nbconvert_exporter": "python",
   "pygments_lexer": "ipython3",
   "version": "3.8.2"
  }
 },
 "nbformat": 4,
 "nbformat_minor": 4
}
