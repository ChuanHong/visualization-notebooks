{
 "cells": [
  {
   "cell_type": "code",
   "execution_count": 1,
   "metadata": {},
   "outputs": [],
   "source": [
    "import pandas as pd\n",
    "import numpy as np\n",
    "import altair as alt\n",
    "from altair import datum\n",
    "from ipywidgets import interact\n",
    "from os.path import join\n",
    "from datetime import date, datetime, timedelta\n",
    "\n",
    "from constants import COLUMNS\n",
    "from utils import read_latest_daily_counts_df\n",
    "from utils_data_align import add_aligned_time_steps_column"
   ]
  },
  {
   "cell_type": "code",
   "execution_count": 2,
   "metadata": {},
   "outputs": [
    {
     "name": "stdout",
     "output_type": "stream",
     "text": [
      "2020-03-16 2020-03-31\n"
     ]
    },
    {
     "data": {
      "text/html": [
       "<div>\n",
       "<style scoped>\n",
       "    .dataframe tbody tr th:only-of-type {\n",
       "        vertical-align: middle;\n",
       "    }\n",
       "\n",
       "    .dataframe tbody tr th {\n",
       "        vertical-align: top;\n",
       "    }\n",
       "\n",
       "    .dataframe thead th {\n",
       "        text-align: right;\n",
       "    }\n",
       "</style>\n",
       "<table border=\"1\" class=\"dataframe\">\n",
       "  <thead>\n",
       "    <tr style=\"text-align: right;\">\n",
       "      <th></th>\n",
       "      <th>siteid</th>\n",
       "      <th>date</th>\n",
       "      <th>new_positive_cases</th>\n",
       "      <th>patients_in_icu</th>\n",
       "      <th>new_deaths</th>\n",
       "    </tr>\n",
       "  </thead>\n",
       "  <tbody>\n",
       "    <tr>\n",
       "      <th>0</th>\n",
       "      <td>FZU</td>\n",
       "      <td>2020-03-20</td>\n",
       "      <td>5</td>\n",
       "      <td>0</td>\n",
       "      <td>0</td>\n",
       "    </tr>\n",
       "    <tr>\n",
       "      <th>1</th>\n",
       "      <td>FZU</td>\n",
       "      <td>2020-03-21</td>\n",
       "      <td>8</td>\n",
       "      <td>0</td>\n",
       "      <td>0</td>\n",
       "    </tr>\n",
       "    <tr>\n",
       "      <th>2</th>\n",
       "      <td>FZU</td>\n",
       "      <td>2020-03-22</td>\n",
       "      <td>6</td>\n",
       "      <td>0</td>\n",
       "      <td>0</td>\n",
       "    </tr>\n",
       "    <tr>\n",
       "      <th>3</th>\n",
       "      <td>FZU</td>\n",
       "      <td>2020-03-23</td>\n",
       "      <td>10</td>\n",
       "      <td>0</td>\n",
       "      <td>0</td>\n",
       "    </tr>\n",
       "    <tr>\n",
       "      <th>4</th>\n",
       "      <td>FZU</td>\n",
       "      <td>2020-03-24</td>\n",
       "      <td>8</td>\n",
       "      <td>0</td>\n",
       "      <td>0</td>\n",
       "    </tr>\n",
       "    <tr>\n",
       "      <th>...</th>\n",
       "      <td>...</td>\n",
       "      <td>...</td>\n",
       "      <td>...</td>\n",
       "      <td>...</td>\n",
       "      <td>...</td>\n",
       "    </tr>\n",
       "    <tr>\n",
       "      <th>274</th>\n",
       "      <td>FBD</td>\n",
       "      <td>2020-03-27</td>\n",
       "      <td>11</td>\n",
       "      <td>1</td>\n",
       "      <td>0</td>\n",
       "    </tr>\n",
       "    <tr>\n",
       "      <th>275</th>\n",
       "      <td>FBD</td>\n",
       "      <td>2020-03-28</td>\n",
       "      <td>11</td>\n",
       "      <td>1</td>\n",
       "      <td>0</td>\n",
       "    </tr>\n",
       "    <tr>\n",
       "      <th>276</th>\n",
       "      <td>FBD</td>\n",
       "      <td>2020-03-29</td>\n",
       "      <td>10</td>\n",
       "      <td>3</td>\n",
       "      <td>1</td>\n",
       "    </tr>\n",
       "    <tr>\n",
       "      <th>277</th>\n",
       "      <td>FBD</td>\n",
       "      <td>2020-03-30</td>\n",
       "      <td>8</td>\n",
       "      <td>2</td>\n",
       "      <td>1</td>\n",
       "    </tr>\n",
       "    <tr>\n",
       "      <th>278</th>\n",
       "      <td>FBD</td>\n",
       "      <td>2020-03-31</td>\n",
       "      <td>11</td>\n",
       "      <td>2</td>\n",
       "      <td>0</td>\n",
       "    </tr>\n",
       "  </tbody>\n",
       "</table>\n",
       "<p>279 rows × 5 columns</p>\n",
       "</div>"
      ],
      "text/plain": [
       "    siteid        date  new_positive_cases  patients_in_icu  new_deaths\n",
       "0      FZU  2020-03-20                   5                0           0\n",
       "1      FZU  2020-03-21                   8                0           0\n",
       "2      FZU  2020-03-22                   6                0           0\n",
       "3      FZU  2020-03-23                  10                0           0\n",
       "4      FZU  2020-03-24                   8                0           0\n",
       "..     ...         ...                 ...              ...         ...\n",
       "274    FBD  2020-03-27                  11                1           0\n",
       "275    FBD  2020-03-28                  11                1           0\n",
       "276    FBD  2020-03-29                  10                3           1\n",
       "277    FBD  2020-03-30                   8                2           1\n",
       "278    FBD  2020-03-31                  11                2           0\n",
       "\n",
       "[279 rows x 5 columns]"
      ]
     },
     "execution_count": 2,
     "metadata": {},
     "output_type": "execute_result"
    }
   ],
   "source": [
    "df = read_latest_daily_counts_df()\n",
    "SITE_IDS = df[COLUMNS.SITE_ID].unique().tolist()\n",
    "\n",
    "# Columns\n",
    "siteid = COLUMNS.SITE_ID\n",
    "date = COLUMNS.DATE\n",
    "new_positive_cases = COLUMNS.NEW_POSITIVE_CASES\n",
    "patients_in_icu = COLUMNS.PATIENTS_IN_ICU\n",
    "new_deaths = COLUMNS.NEW_DEATHS\n",
    "\n",
    "# Convert data for viz\n",
    "df.loc[df[new_positive_cases] < 0, new_positive_cases] = 0\n",
    "df.loc[df[patients_in_icu] < 0, patients_in_icu] = 0\n",
    "df.loc[df[new_deaths] < 0, new_deaths] = 0\n",
    "\n",
    "# Range of some columns\n",
    "start_date = min(df['date'])\n",
    "end_date = max(df['date'])\n",
    "duration = (datetime.strptime(end_date, \"%Y-%m-%d\") - datetime.strptime(start_date, \"%Y-%m-%d\")).days\n",
    "\n",
    "start_date_margin = datetime.strptime(start_date, \"%Y-%m-%d\") - timedelta(days=1)\n",
    "start_date_margin = start_date_margin.strftime(\"%Y-%m-%d\")\n",
    "\n",
    "end_date_margin = datetime.strptime(end_date, \"%Y-%m-%d\") + timedelta(days=1)\n",
    "end_date_margin = end_date_margin.strftime(\"%Y-%m-%d\")\n",
    "\n",
    "print(start_date, end_date)\n",
    "\n",
    "df"
   ]
  },
  {
   "cell_type": "code",
   "execution_count": 3,
   "metadata": {},
   "outputs": [],
   "source": [
    "def apply_theme(base):\n",
    "    return base.configure_axis(\n",
    "        labelFontSize=14,\n",
    "        labelFontWeight=300,\n",
    "        titleFontSize=18,\n",
    "        titleFontWeight=300\n",
    "    ).configure_title(fontSize=18, fontWeight=400, anchor=\"middle\"\n",
    "    ).configure_legend(\n",
    "        titleFontSize=18, titleFontWeight=400,\n",
    "        labelFontSize=14, labelFontWeight=300\n",
    "    )"
   ]
  },
  {
   "cell_type": "markdown",
   "metadata": {},
   "source": [
    "## Total Daily Counts"
   ]
  },
  {
   "cell_type": "code",
   "execution_count": 4,
   "metadata": {},
   "outputs": [
    {
     "data": {
      "application/vnd.jupyter.widget-view+json": {
       "model_id": "f5c8e8232b2a42a9a89e22fe3585d37b",
       "version_major": 2,
       "version_minor": 0
      },
      "text/plain": [
       "interactive(children=(Dropdown(description='SiteID', options=('All', 'FZU', 'FZT', 'FZM', 'FXL', 'FWN', 'FVX',…"
      ]
     },
     "metadata": {},
     "output_type": "display_data"
    },
    {
     "data": {
      "text/plain": [
       "<function __main__.daily_counts_chart(SiteID)>"
      ]
     },
     "execution_count": 4,
     "metadata": {},
     "output_type": "execute_result"
    }
   ],
   "source": [
    "def daily_counts_chart(SiteID):\n",
    "    category = \"category\"\n",
    "    value = \"value\"\n",
    "    \n",
    "    # Mouseover effect\n",
    "    mouseover = alt.selection_single(on=\"mouseover\", fields=[category]) # nearest=True does not look working\n",
    "    \n",
    "    base = alt.Chart(df).transform_fold(\n",
    "        # Fold three quantitative fields, making three rows from one original row.\n",
    "        fold=[new_positive_cases, patients_in_icu, new_deaths], \n",
    "        as_=[category, value]\n",
    "    ).encode(\n",
    "        x=alt.X(\n",
    "            f\"{date}:T\", axis=alt.Axis(tickCount=7), \n",
    "            scale=alt.Scale(domain=[start_date_margin, end_date_margin]),\n",
    "            title=None,\n",
    "        ),y=alt.Y(\n",
    "            f\"sum({value}):Q\", axis=alt.Axis(tickCount=5), \n",
    "            scale=alt.Scale(domain=[-2, 400]),\n",
    "            title=\"Number of Patients\"\n",
    "        ),\n",
    "        color=alt.Color(f\"{category}:N\", scale=alt.Scale(range=[\"#5C63A2\", \"#EC7176\", \"#F4AB32\"])),\n",
    "        # mouse hover visual effect\n",
    "        size=alt.condition(~mouseover, alt.value(4), alt.value(6)),\n",
    "        tooltip=[f\"{date}:T\", f\"{category}:N\", f\"sum({value}):Q\"],\n",
    "    )\n",
    "    \n",
    "    if SiteID != \"All\":\n",
    "        base = base.transform_filter(\n",
    "            alt.FieldEqualPredicate(field=siteid, equal=SiteID)\n",
    "        )\n",
    "    \n",
    "    line = base.mark_line(size=4).properties(\n",
    "        width=750, height=400, title=\"Number of Possitive Cases, Patients in ICU, and Deaths\"\n",
    "    ).add_selection(mouseover)\n",
    "    \n",
    "    circle = base.mark_circle(size=70).encode(\n",
    "        size=alt.condition(~mouseover, alt.value(70), alt.value(100))\n",
    "    )\n",
    "    \n",
    "    # Uncomment below to show label at the end of lines\n",
    "    # text = base.mark_text(align='left', fontWeight=400, dx=10, dy=1).encode(\n",
    "    #     text=f\"{category}:N\",\n",
    "    #     size=alt.condition(~mouseover, alt.value(20), alt.value(24))\n",
    "    # ).transform_window(\n",
    "    #     sort=[alt.SortField(date, order=\"descending\")], \n",
    "    #     rank=\"rank(date)\"\n",
    "    # ).transform_filter(alt.datum.rank == 1)\n",
    "\n",
    "    # Guidelines\n",
    "    g = alt.Chart(pd.DataFrame({\n",
    "        \"date\":[start_date, end_date_margin],\n",
    "        \"value\":[0, duration]\n",
    "    })).mark_line(color=\"lightgray\", strokeDash=[10,1], size=3).encode(\n",
    "        x=\"date:T\",\n",
    "        y=\"value:Q\"\n",
    "    )\n",
    "\n",
    "    g10 = alt.Chart(pd.DataFrame({\n",
    "        \"date\":[start_date, end_date_margin],\n",
    "        \"value\":[0, duration * 10]\n",
    "    })).mark_line(color=\"lightgray\", strokeDash=[10,1], size=3).encode(\n",
    "        x=\"date:T\",\n",
    "        y=\"value:Q\"\n",
    "    )\n",
    "    \n",
    "    g20 = alt.Chart(pd.DataFrame({\n",
    "        \"date\":[start_date, end_date_margin],\n",
    "        \"value\":[0, duration * 20]\n",
    "    })).mark_line(color=\"lightgray\", strokeDash=[10,1], size=3).encode(\n",
    "        x=\"date:T\",\n",
    "        y=\"value:Q\"\n",
    "    )\n",
    "    \n",
    "    return apply_theme(g + g10 + g20 + line + circle).interactive()\n",
    "\n",
    "interact(daily_counts_chart, SiteID=[\"All\"] + SITE_IDS, )"
   ]
  },
  {
   "cell_type": "markdown",
   "metadata": {},
   "source": [
    "## Align Date - \"Since N Possitive Cases\""
   ]
  },
  {
   "cell_type": "code",
   "execution_count": 5,
   "metadata": {},
   "outputs": [
    {
     "data": {
      "application/vnd.jupyter.widget-view+json": {
       "model_id": "575628d7e90c4a78885bc0b69c096f4e",
       "version_major": 2,
       "version_minor": 0
      },
      "text/plain": [
       "interactive(children=(Dropdown(description='SiteID', options=('All', 'FZU', 'FZT', 'FZM', 'FXL', 'FWN', 'FVX',…"
      ]
     },
     "metadata": {},
     "output_type": "display_data"
    },
    {
     "data": {
      "text/plain": [
       "<function __main__.daily_counts_chart(SiteID)>"
      ]
     },
     "execution_count": 5,
     "metadata": {},
     "output_type": "execute_result"
    }
   ],
   "source": [
    "# Align data and make new dataframe\n",
    "df_aligned = add_aligned_time_steps_column(df, new_positive_cases, date, 10)\n",
    "\n",
    "def daily_counts_chart(SiteID):\n",
    "    category = \"category\"\n",
    "    value = \"value\"\n",
    "    \n",
    "    # Mouseover effect\n",
    "    mouseover = alt.selection_single(on=\"mouseover\", fields=[category]) # nearest=True does not look working\n",
    "    \n",
    "    base = alt.Chart(df_aligned).transform_fold(\n",
    "        # Fold three quantitative fields, making three rows from one original row.\n",
    "        fold=[new_positive_cases, patients_in_icu, new_deaths], \n",
    "        as_=[category, value]\n",
    "    ).transform_filter(\n",
    "        (0 <= alt.datum.timestep) & (alt.datum.timestep <= 8) # Just because the number going down because of less institution is missleading\n",
    "    ).encode(\n",
    "        x=alt.X(\n",
    "            f\"timestep\", axis=alt.Axis(tickCount=7),\n",
    "            title=\"Number of days since 10th possitive cases\",\n",
    "            scale=alt.Scale(domain=[0,8])\n",
    "        ),y=alt.Y(\n",
    "            f\"sum({value}):Q\", axis=alt.Axis(tickCount=5),\n",
    "            title=\"Number of Patients\"\n",
    "        ),\n",
    "        color=alt.Color(f\"{category}:N\", scale=alt.Scale(range=[\"#5C63A2\", \"#EC7176\", \"#F4AB32\"])),\n",
    "        # mouse hover visual effect\n",
    "        size=alt.condition(~mouseover, alt.value(4), alt.value(6)),\n",
    "        tooltip=[f\"timestep\", f\"{category}:N\", f\"sum({value}):Q\"],\n",
    "    )\n",
    "    \n",
    "    if SiteID != \"All\":\n",
    "        base = base.transform_filter(\n",
    "            alt.FieldEqualPredicate(field=siteid, equal=SiteID)\n",
    "        )\n",
    "    \n",
    "    line = base.mark_line(size=4).properties(\n",
    "        width=750, height=400, title=\"Number of Possitive Cases, Patients in ICU, and Deaths\"\n",
    "    ).add_selection(mouseover)\n",
    "    \n",
    "    circle = base.mark_circle(size=70).encode(\n",
    "        size=alt.condition(~mouseover, alt.value(70), alt.value(100))\n",
    "    )\n",
    "    \n",
    "    # Uncomment below to show label at the end of lines\n",
    "    # text = base.mark_text(align='left', fontWeight=400, dx=10, dy=1).encode(\n",
    "    #     text=f\"{category}:N\",\n",
    "    #     size=alt.condition(~mouseover, alt.value(20), alt.value(24))\n",
    "    # ).transform_window(\n",
    "    #     sort=[alt.SortField(date, order=\"descending\")], \n",
    "    #     rank=\"rank(date)\"\n",
    "    # ).transform_filter(alt.datum.rank == 1)\n",
    "    \n",
    "    return apply_theme(line + circle).interactive()\n",
    "\n",
    "interact(daily_counts_chart, SiteID=[\"All\"] + SITE_IDS, )"
   ]
  },
  {
   "cell_type": "markdown",
   "metadata": {},
   "source": [
    "## By Individual Sites"
   ]
  },
  {
   "cell_type": "code",
   "execution_count": 6,
   "metadata": {
    "scrolled": true
   },
   "outputs": [
    {
     "data": {
      "application/vnd.jupyter.widget-view+json": {
       "model_id": "01e096432d234dc689a8c472a1386875",
       "version_major": 2,
       "version_minor": 0
      },
      "text/plain": [
       "interactive(children=(Dropdown(description='SiteID', options=('All', 'FZU', 'FZT', 'FZM', 'FXL', 'FWN', 'FVX',…"
      ]
     },
     "metadata": {},
     "output_type": "display_data"
    },
    {
     "data": {
      "text/plain": [
       "<function __main__.daily_counts_site_chart(SiteID)>"
      ]
     },
     "execution_count": 6,
     "metadata": {},
     "output_type": "execute_result"
    }
   ],
   "source": [
    "def daily_counts_site_chart(SiteID):\n",
    "    \n",
    "    base = alt.Chart(df).encode(\n",
    "        x=alt.X(\n",
    "            f\"{date}:T\", \n",
    "            axis=alt.Axis(tickCount=7), \n",
    "            title=\"\",\n",
    "            scale=alt.Scale(domain=[start_date_margin, end_date_margin])\n",
    "        ),\n",
    "        y=alt.Y(\n",
    "            f\"{new_positive_cases}:Q\", \n",
    "            axis=alt.Axis(tickCount=5), \n",
    "            title=None\n",
    "        )\n",
    "    ).properties(width=700, height=500, title=\"Number of Possitive Cases\")\n",
    "    \n",
    "    # Color encoding\n",
    "    if SiteID == \"All\":\n",
    "        base = base.encode(color=alt.Color(siteid, title=\"Site\"))\n",
    "    else:\n",
    "        base = base.encode(\n",
    "            color=alt.Color(siteid, scale=alt.Scale(range=[\"lightgray\"]), legend=None)\n",
    "        )\n",
    "    \n",
    "    line = base.mark_line(size=4)\n",
    "    circle = line.mark_circle(size=80)\n",
    "    \n",
    "    # Only when seeing individual data\n",
    "    hl_line = base.mark_line(size=4).encode(\n",
    "        color=alt.value(\"steelblue\")\n",
    "    ).transform_filter(alt.datum.siteid == SiteID)\n",
    "    hl_circle = hl_line.mark_circle(size=80)\n",
    "    \n",
    "    \n",
    "    text = hl_line.mark_text(align='left', fontWeight=400, dx=10, dy=1).encode(\n",
    "        text=f\"{siteid}:N\",\n",
    "        size=alt.value(20),\n",
    "    ).transform_window(\n",
    "        sort=[alt.SortField(date, order=\"descending\")], \n",
    "        rank=\"rank(date)\"\n",
    "    ).transform_filter(alt.datum.rank == 1)\n",
    "    \n",
    "    return apply_theme(line + text + hl_line + circle + hl_circle).interactive()\n",
    "\n",
    "interact(daily_counts_site_chart, SiteID=[\"All\"] + SITE_IDS, )"
   ]
  },
  {
   "cell_type": "markdown",
   "metadata": {},
   "source": [
    "## Align Date - \"Since N Possitive Cases\""
   ]
  },
  {
   "cell_type": "code",
   "execution_count": 7,
   "metadata": {},
   "outputs": [
    {
     "data": {
      "application/vnd.jupyter.widget-view+json": {
       "model_id": "135259927aa64cfbb766e6c9bb54db56",
       "version_major": 2,
       "version_minor": 0
      },
      "text/plain": [
       "interactive(children=(Dropdown(description='SiteID', options=('All', 'FZU', 'FZT', 'FZM', 'FXL', 'FWN', 'FVX',…"
      ]
     },
     "metadata": {},
     "output_type": "display_data"
    },
    {
     "data": {
      "text/plain": [
       "<function __main__.daily_counts_site_chart(SiteID)>"
      ]
     },
     "execution_count": 7,
     "metadata": {},
     "output_type": "execute_result"
    }
   ],
   "source": [
    "# Align data and make new dataframe\n",
    "df_aligned = add_aligned_time_steps_column(df, new_positive_cases, date, 10)\n",
    "\n",
    "def daily_counts_site_chart(SiteID):\n",
    "    \n",
    "    base = alt.Chart(df_aligned).encode(\n",
    "        x=alt.X(\n",
    "            f\"timestep\", \n",
    "            axis=alt.Axis(tickCount=7), \n",
    "            title=\"Number of days since 10th possitive cases\",\n",
    "        ),\n",
    "        y=alt.Y(\n",
    "            f\"{new_positive_cases}:Q\", \n",
    "            axis=alt.Axis(tickCount=5), \n",
    "            title=None\n",
    "        )\n",
    "    ).transform_filter(\n",
    "        alt.datum.timestep >= 0\n",
    "    ).properties(width=700, height=500, title=\"Number of Possitive Cases\")\n",
    "    \n",
    "    # Color encoding\n",
    "    if SiteID == \"All\":\n",
    "        base = base.encode(color=alt.Color(siteid, title=\"Site\"))\n",
    "    else:\n",
    "        base = base.encode(\n",
    "            color=alt.Color(siteid, scale=alt.Scale(range=[\"lightgray\"]), legend=None)\n",
    "        )\n",
    "    \n",
    "    line = base.mark_line(size=4)\n",
    "    circle = line.mark_circle(size=80)\n",
    "    \n",
    "    # Only when seeing individual data\n",
    "    hl_line = base.mark_line(size=4).encode(\n",
    "        color=alt.value(\"steelblue\")\n",
    "    ).transform_filter(alt.datum.siteid == SiteID)\n",
    "    hl_circle = hl_line.mark_circle(size=80)\n",
    "    \n",
    "    \n",
    "    text = hl_line.mark_text(align='left', fontWeight=400, dx=10, dy=1).encode(\n",
    "        text=f\"{siteid}:N\",\n",
    "        size=alt.value(20),\n",
    "    ).transform_window(\n",
    "        sort=[alt.SortField(date, order=\"descending\")], \n",
    "        rank=\"rank(date)\"\n",
    "    ).transform_filter(alt.datum.rank == 1)\n",
    "    \n",
    "    return apply_theme(line + text + hl_line + circle + hl_circle).interactive()\n",
    "\n",
    "interact(daily_counts_site_chart, SiteID=[\"All\"] + SITE_IDS, )"
   ]
  }
 ],
 "metadata": {
  "kernelspec": {
   "display_name": "Python [conda env:c19i2b2-py] *",
   "language": "python",
   "name": "conda-env-c19i2b2-py-py"
  },
  "language_info": {
   "codemirror_mode": {
    "name": "ipython",
    "version": 3
   },
   "file_extension": ".py",
   "mimetype": "text/x-python",
   "name": "python",
   "nbconvert_exporter": "python",
   "pygments_lexer": "ipython3",
   "version": "3.8.2"
  }
 },
 "nbformat": 4,
 "nbformat_minor": 4
}
