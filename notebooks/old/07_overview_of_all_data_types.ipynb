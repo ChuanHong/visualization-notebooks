{
 "cells": [
  {
   "cell_type": "code",
   "execution_count": null,
   "metadata": {},
   "outputs": [],
   "source": [
    "# Auto-reload frequently changed files\n",
    "%load_ext autoreload\n",
    "%autoreload 2\n",
    "%aimport utils\n",
    "\n",
    "import pandas as pd\n",
    "import numpy as np\n",
    "import altair as alt\n",
    "from ipywidgets import interact\n",
    "from os.path import join\n",
    "\n",
    "from constants import COLUMNS\n",
    "from utils import (\n",
    "    read_latest_daily_counts_df, preprocess_daily_counts_df_for_vis,\n",
    "    read_latest_demographics_df, preprocess_demographics_df_for_vis, \n",
    "    read_latest_diagnoses_df, preprocess_diagnoses_df_for_vis,\n",
    "    read_latest_labs_df, preprocess_labs_df_for_vis,\n",
    "    apply_theme\n",
    ")"
   ]
  },
  {
   "cell_type": "markdown",
   "metadata": {},
   "source": [
    "# Dataset"
   ]
  },
  {
   "cell_type": "markdown",
   "metadata": {},
   "source": [
    "### Demographics"
   ]
  },
  {
   "cell_type": "code",
   "execution_count": null,
   "metadata": {},
   "outputs": [],
   "source": [
    "dem_df = read_latest_demographics_df()\n",
    "dem_df = preprocess_demographics_df_for_vis(dem_df)\n",
    "\n",
    "DEM_SITE_IDS = dem_df[COLUMNS.SITE_ID].unique().tolist()\n",
    "\n",
    "# Columns to use\n",
    "siteid = COLUMNS.SITE_ID\n",
    "sex = COLUMNS.SEX\n",
    "total_patients = COLUMNS.TOTAL_PATIENTS\n",
    "age_group = COLUMNS.AGE_GROUP\n",
    "num_patients = COLUMNS.NUM_PATIENTS\n",
    "\n",
    "dem_df.head()"
   ]
  },
  {
   "cell_type": "markdown",
   "metadata": {},
   "source": [
    "### DailyCounts"
   ]
  },
  {
   "cell_type": "code",
   "execution_count": null,
   "metadata": {},
   "outputs": [],
   "source": [
    "dai_df = read_latest_daily_counts_df()\n",
    "dai_df = preprocess_daily_counts_df_for_vis(dai_df)\n",
    "\n",
    "DAI_SITE_IDS = dai_df[COLUMNS.SITE_ID].unique().tolist()\n",
    "\n",
    "# Columns to use\n",
    "siteid = COLUMNS.SITE_ID\n",
    "date = COLUMNS.DATE\n",
    "new_positive_cases = \"New positive cases\"\n",
    "patients_in_icu = \"Patients in ICU\"\n",
    "new_deaths = \"New deaths\"\n",
    "category = \"category\"\n",
    "num_patients = COLUMNS.NUM_PATIENTS\n",
    "\n",
    "dai_df"
   ]
  },
  {
   "cell_type": "markdown",
   "metadata": {},
   "source": [
    "### Lab"
   ]
  },
  {
   "cell_type": "code",
   "execution_count": null,
   "metadata": {},
   "outputs": [],
   "source": [
    "lab_df = read_latest_labs_df()\n",
    "lab_df = preprocess_labs_df_for_vis(lab_df)\n",
    "\n",
    "LAB_SITE_IDS = lab_df[COLUMNS.SITE_ID].unique().tolist()\n",
    "\n",
    "# Columns to use\n",
    "\n",
    "lab_df"
   ]
  },
  {
   "cell_type": "markdown",
   "metadata": {},
   "source": [
    "### Diagnoses"
   ]
  },
  {
   "cell_type": "code",
   "execution_count": null,
   "metadata": {},
   "outputs": [],
   "source": [
    "dia_df = read_latest_diagnoses_df()\n",
    "dia_df = preprocess_diagnoses_df_for_vis(dia_df)\n",
    "\n",
    "SITE_IDS = dia_df[COLUMNS.SITE_ID].unique().tolist()\n",
    "\n",
    "# Columns\n",
    "siteid = COLUMNS.SITE_ID\n",
    "icd_code = COLUMNS.ICD_CODE\n",
    "icd_version = COLUMNS.ICD_VERSION\n",
    "num_patients = COLUMNS.NUM_PATIENTS\n",
    "\n",
    "dia_df"
   ]
  },
  {
   "cell_type": "code",
   "execution_count": null,
   "metadata": {},
   "outputs": [],
   "source": []
  }
 ],
 "metadata": {
  "kernelspec": {
   "display_name": "Python [conda env:c19i2b2-py] *",
   "language": "python",
   "name": "conda-env-c19i2b2-py-py"
  },
  "language_info": {
   "codemirror_mode": {
    "name": "ipython",
    "version": 3
   },
   "file_extension": ".py",
   "mimetype": "text/x-python",
   "name": "python",
   "nbconvert_exporter": "python",
   "pygments_lexer": "ipython3",
   "version": "3.8.2"
  }
 },
 "nbformat": 4,
 "nbformat_minor": 4
}
