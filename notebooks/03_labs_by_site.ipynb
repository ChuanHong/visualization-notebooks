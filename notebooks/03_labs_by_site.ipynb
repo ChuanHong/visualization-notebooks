{
 "cells": [
  {
   "cell_type": "code",
   "execution_count": null,
   "metadata": {},
   "outputs": [],
   "source": [
    "import pandas as pd\n",
    "import numpy as np\n",
    "import altair as alt\n",
    "from os.path import join\n",
    "\n",
    "from constants import COLUMNS\n",
    "from utils import read_latest_labs_df, read_loinc_df\n",
    "\n",
    "alt.data_transformers.disable_max_rows();"
   ]
  },
  {
   "cell_type": "code",
   "execution_count": null,
   "metadata": {},
   "outputs": [],
   "source": [
    "df = read_latest_labs_df()\n",
    "# df.head() # Comment this line not to include data preview in GitHub repo"
   ]
  },
  {
   "cell_type": "code",
   "execution_count": null,
   "metadata": {},
   "outputs": [],
   "source": [
    "loinc_df = read_loinc_df().set_index('loinc').rename(columns={'labTest': 'name'})\n",
    "df[\"loinc_name\"] = df[COLUMNS.LOINC].apply(lambda code: code + \" (\" + loinc_df.at[code, \"name\"] + \")\")"
   ]
  },
  {
   "cell_type": "code",
   "execution_count": null,
   "metadata": {},
   "outputs": [],
   "source": [
    "line = alt.Chart(df).mark_line().encode(\n",
    "    x=alt.X(COLUMNS.DAYS_SINCE_POSITIVE, title=\"Days since positive\"),\n",
    "    y=alt.Y(COLUMNS.MEAN_VALUE, title=\"Mean value\"),\n",
    "    color=alt.Color(COLUMNS.SITE_ID, title=\"Site\")\n",
    ")\n",
    "\n",
    "point = alt.Chart(df).mark_point(filled=True).encode(\n",
    "    x=alt.X(COLUMNS.DAYS_SINCE_POSITIVE, title=\"Days since positive\"),\n",
    "    y=alt.Y(COLUMNS.MEAN_VALUE, title=\"Mean value\"),\n",
    "    color=alt.Color(COLUMNS.SITE_ID, title=\"Site\")\n",
    ")\n",
    "\n",
    "\n",
    "band = alt.Chart(df).mark_errorbar().encode(\n",
    "    x=alt.X(COLUMNS.DAYS_SINCE_POSITIVE, title=\"Days since positive\"),\n",
    "    y=alt.Y(COLUMNS.MEAN_VALUE, title=\"Mean value\"),\n",
    "    yError=alt.YError(COLUMNS.STDEV_VALUE),\n",
    "    color=alt.Color(COLUMNS.SITE_ID, title=\"Site\")\n",
    ")\n",
    "\n",
    "(band + point + line).properties(\n",
    "    width=150,\n",
    "    height=150\n",
    ").facet(\n",
    "    facet=alt.Facet(\"loinc_name\", title=\"LOINC\"),\n",
    "    columns=3\n",
    ")"
   ]
  },
  {
   "cell_type": "code",
   "execution_count": null,
   "metadata": {},
   "outputs": [],
   "source": []
  },
  {
   "cell_type": "code",
   "execution_count": null,
   "metadata": {},
   "outputs": [],
   "source": []
  },
  {
   "cell_type": "code",
   "execution_count": null,
   "metadata": {},
   "outputs": [],
   "source": []
  }
 ],
 "metadata": {
  "kernelspec": {
   "display_name": "Python [conda env:c19i2b2-py] *",
   "language": "python",
   "name": "conda-env-c19i2b2-py-py"
  },
  "language_info": {
   "codemirror_mode": {
    "name": "ipython",
    "version": 3
   },
   "file_extension": ".py",
   "mimetype": "text/x-python",
   "name": "python",
   "nbconvert_exporter": "python",
   "pygments_lexer": "ipython3",
   "version": "3.8.2"
  }
 },
 "nbformat": 4,
 "nbformat_minor": 4
}
