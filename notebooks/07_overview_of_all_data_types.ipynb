{
 "cells": [
  {
   "cell_type": "code",
   "execution_count": null,
   "metadata": {},
   "outputs": [],
   "source": [
    "# Auto-reload frequently changed files\n",
    "%load_ext autoreload\n",
    "%autoreload 2\n",
    "%aimport utils\n",
    "\n",
    "import pandas as pd\n",
    "import numpy as np\n",
    "import altair as alt\n",
    "from ipywidgets import interact\n",
    "from os.path import join\n",
    "\n",
    "from constants import COLUMNS\n",
    "from utils import (\n",
    "    read_latest_daily_counts_df, clean_daily_counts_df,\n",
    "    read_latest_demographics_df, clean_demographics_df, \n",
    "    read_latest_diagnoses_df,\n",
    "    read_latest_labs_df,\n",
    "    read_loinc_df, read_icd_df,\n",
    "    apply_theme\n",
    ")"
   ]
  },
  {
   "cell_type": "markdown",
   "metadata": {},
   "source": [
    "# Dataset"
   ]
  },
  {
   "cell_type": "markdown",
   "metadata": {},
   "source": [
    "### Demographics"
   ]
  },
  {
   "cell_type": "code",
   "execution_count": null,
   "metadata": {},
   "outputs": [],
   "source": [
    "dem_df = read_latest_demographics_df()\n",
    "dem_df = clean_demographics_df(dem_df)\n",
    "\n",
    "DEM_SITE_IDS = dem_df[COLUMNS.SITE_ID].unique().tolist()\n",
    "\n",
    "# Columns to use\n",
    "siteid = COLUMNS.SITE_ID\n",
    "sex = COLUMNS.SEX\n",
    "total_patients = COLUMNS.TOTAL_PATIENTS\n",
    "age_group = COLUMNS.AGE_GROUP\n",
    "num_patients = COLUMNS.NUM_PATIENTS\n",
    "\n",
    "# Remove aggregated rows and columns\n",
    "not_all_filter = dem_df[COLUMNS.SEX] != \"All\"\n",
    "dem_df = dem_df[not_all_filter]\n",
    "dem_df = dem_df.drop(columns=[COLUMNS.TOTAL_PATIENTS])\n",
    "\n",
    "# Wide to long\n",
    "dem_df = pd.melt(dem_df, id_vars=[COLUMNS.SITE_ID, COLUMNS.SEX])\n",
    "dem_df = dem_df.rename(columns={\"variable\": age_group, \"value\": num_patients})\n",
    "\n",
    "dem_df.head()"
   ]
  },
  {
   "cell_type": "markdown",
   "metadata": {},
   "source": [
    "### DailyCounts"
   ]
  },
  {
   "cell_type": "code",
   "execution_count": null,
   "metadata": {},
   "outputs": [],
   "source": [
    "dai_df = read_latest_daily_counts_df()\n",
    "dai_df = clean_daily_counts_df(dai_df)\n",
    "DAI_SITE_IDS = dai_df[COLUMNS.SITE_ID].unique().tolist()\n",
    "\n",
    "# Columns to use\n",
    "siteid = COLUMNS.SITE_ID\n",
    "date = COLUMNS.DATE\n",
    "new_positive_cases = \"New positive cases\"\n",
    "patients_in_icu = \"Patients in ICU\"\n",
    "new_deaths = \"New deaths\"\n",
    "category = \"category\"\n",
    "num_patients = COLUMNS.NUM_PATIENTS\n",
    "\n",
    "# Convert uncertain data to zero\n",
    "dai_df.loc[dai_df[new_positive_cases] < 0, new_positive_cases] = 0\n",
    "dai_df.loc[dai_df[patients_in_icu] < 0, patients_in_icu] = 0\n",
    "dai_df.loc[dai_df[new_deaths] < 0, new_deaths] = 0\n",
    "\n",
    "# wide to long\n",
    "dai_df = pd.melt(dai_df, id_vars=[siteid, date])\n",
    "dai_df = dai_df.rename(columns={\"variable\": category, \"value\": num_patients})\n",
    "\n",
    "dai_df"
   ]
  },
  {
   "cell_type": "markdown",
   "metadata": {},
   "source": [
    "### Lab"
   ]
  },
  {
   "cell_type": "code",
   "execution_count": null,
   "metadata": {},
   "outputs": [],
   "source": [
    "lab_df = read_latest_labs_df()\n",
    "LAB_SITE_IDS = lab_df[COLUMNS.SITE_ID].unique().tolist()\n",
    "\n",
    "# Columns to use\n",
    "\n",
    "_loinc_df = read_loinc_df().set_index('loinc').rename(columns={'labTest': 'name'})\n",
    "\n",
    "lab_df[\"loinc_name\"] = lab_df[COLUMNS.LOINC].apply(lambda code: _loinc_df.at[code, \"name\"].capitalize())\n",
    "\n",
    "# Convert uncertain data to zero\n",
    "lab_df.loc[lab_df[\"num_patients\"] < 0, \"num_patients\"] = 0\n",
    "\n",
    "lab_df"
   ]
  },
  {
   "cell_type": "markdown",
   "metadata": {},
   "source": [
    "### Diagnoses"
   ]
  },
  {
   "cell_type": "code",
   "execution_count": null,
   "metadata": {},
   "outputs": [],
   "source": [
    "dia_df = read_latest_diagnoses_df()\n",
    "SITE_IDS = dia_df[COLUMNS.SITE_ID].unique().tolist()\n",
    "\n",
    "# Columns\n",
    "siteid = COLUMNS.SITE_ID\n",
    "icd_code = COLUMNS.ICD_CODE\n",
    "icd_version = COLUMNS.ICD_VERSION\n",
    "num_patients = COLUMNS.NUM_PATIENTS\n",
    "\n",
    "dia_df[COLUMNS.ICD_CODE] = dia_df[COLUMNS.ICD_CODE].apply(lambda x: x.replace(\".\", \"\"))\n",
    "\n",
    "icd_df = read_icd_df()\n",
    "dia_df = dia_df.merge(icd_df, how=\"left\", left_on='icd_code', right_on='ICDcode')\n",
    "\n",
    "# Handle the missing data\n",
    "dia_df.loc[pd.isna(dia_df[\"ICDdescription\"]), \"ICDdescription\"] = dia_df.loc[pd.isna(dia_df[\"ICDdescription\"]), \"icd_code\"]\n",
    "dia_df.loc[pd.isna(dia_df[\"Category\"]), \"Category\"] = dia_df.loc[pd.isna(dia_df[\"Category\"]), \"icd_code\"]\n",
    "\n",
    "# Consistent capitalization\n",
    "dia_df[\"ICDdescription\"] = dia_df[\"ICDdescription\"].apply(lambda x: x.capitalize())\n",
    "dia_df[\"Category\"] = dia_df[\"Category\"].apply(lambda x: x.capitalize())\n",
    "\n",
    "dia_df"
   ]
  },
  {
   "cell_type": "code",
   "execution_count": null,
   "metadata": {},
   "outputs": [],
   "source": []
  }
 ],
 "metadata": {
  "kernelspec": {
   "display_name": "Python [conda env:c19i2b2-py] *",
   "language": "python",
   "name": "conda-env-c19i2b2-py-py"
  },
  "language_info": {
   "codemirror_mode": {
    "name": "ipython",
    "version": 3
   },
   "file_extension": ".py",
   "mimetype": "text/x-python",
   "name": "python",
   "nbconvert_exporter": "python",
   "pygments_lexer": "ipython3",
   "version": "3.8.2"
  }
 },
 "nbformat": 4,
 "nbformat_minor": 4
}
