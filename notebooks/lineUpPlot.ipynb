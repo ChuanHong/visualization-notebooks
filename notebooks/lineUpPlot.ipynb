{
 "cells": [
  {
   "cell_type": "code",
   "execution_count": null,
   "metadata": {
    "collapsed": true
   },
   "outputs": [],
   "source": [
    "##############################\n",
    "### Install/load packages ###\n",
    "#############################\n",
    "#devtools::install_github(\"rstudio/crosstalk\")\n",
    "#devtools::install_github(\"datavisyn/lineup_htmlwidget\")\n",
    "library(lineupjs)\n",
    "library(dplyr)"
   ]
  },
  {
   "cell_type": "code",
   "execution_count": null,
   "metadata": {
    "collapsed": true
   },
   "outputs": [],
   "source": [
    "#####################\n",
    "### Load the data ###\n",
    "#####################\n",
    "load(\"country.report.RData\")\n",
    "\n",
    "#for the codes without description, we put the original code\n",
    "country.report$description <- ifelse( is.na( country.report$Icd10Name), \n",
    "                                     country.report$icd_code, \n",
    "                                     country.report$Icd10Name)\n",
    "#select the columns of interest for the plot\n",
    "dataLineUp <- country.report[, c(\"siteid\", \"FractionPatients\", \"description\", \"Level2Concept\", \"Level3Concept\")]"
   ]
  },
  {
   "cell_type": "code",
   "execution_count": null,
   "metadata": {
    "collapsed": true
   },
   "outputs": [],
   "source": [
    "###################################\n",
    "### Format the data for lineUp ###\n",
    "##################################\n",
    "#create a subset per country \n",
    "italy <- dataLineUp[ dataLineUp$siteid == \"Italy\", c(\"FractionPatients\", \"description\", \"Level2Concept\", \"Level3Concept\")]\n",
    "colnames(italy)[1] <- \"Italy\"\n",
    "germany <- dataLineUp[ dataLineUp$siteid == \"Germany\", c(\"FractionPatients\", \"description\", \"Level2Concept\", \"Level3Concept\")]\n",
    "colnames(germany)[1] <- \"Germany\"\n",
    "france <- dataLineUp[ dataLineUp$siteid == \"France\", c(\"FractionPatients\", \"description\", \"Level2Concept\", \"Level3Concept\")]\n",
    "colnames(france)[1] <- \"France\"\n",
    "usa <- dataLineUp[ dataLineUp$siteid == \"USA\", c(\"FractionPatients\", \"description\", \"Level2Concept\", \"Level3Concept\")]\n",
    "colnames(usa)[1] <- \"USA\"\n",
    "combined <- dataLineUp[ dataLineUp$siteid == \"Combined\", c(\"FractionPatients\", \"description\", \"Level2Concept\", \"Level3Concept\")]\n",
    "colnames(combined)[1] <- \"Combined\"\n",
    "\n",
    "#combine them\n",
    "fileToPlot <- full_join( italy, france )\n",
    "fileToPlot <- full_join( usa, fileToPlot )\n",
    "fileToPlot <- full_join( germany, fileToPlot )\n",
    "fileToPlot <- full_join( combined, fileToPlot )"
   ]
  },
  {
   "cell_type": "code",
   "execution_count": null,
   "metadata": {
    "collapsed": true
   },
   "outputs": [],
   "source": [
    "###################\n",
    "### lineUp plot ###\n",
    "###################\n",
    "#re-order the columns\n",
    "lineUpInput <- fileToPlot[ , c(\"USA\", \"Italy\", \"France\", \"Germany\",\n",
    "                                  \"Combined\",\"description\", \"Level2Concept\", \"Level3Concept\")]\n",
    "#plot\n",
    "lineup(lineUpInput)"
   ]
  }
 ],
 "metadata": {
  "kernelspec": {
   "display_name": "R",
   "language": "R",
   "name": "ir"
  },
  "language_info": {
   "codemirror_mode": "r",
   "file_extension": ".r",
   "mimetype": "text/x-r-source",
   "name": "R",
   "pygments_lexer": "r",
   "version": "3.3.1"
  }
 },
 "nbformat": 4,
 "nbformat_minor": 1
}
