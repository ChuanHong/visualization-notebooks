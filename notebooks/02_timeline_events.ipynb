{
 "cells": [
  {
   "cell_type": "code",
   "execution_count": null,
   "metadata": {},
   "outputs": [],
   "source": [
    "import pandas as pd\n",
    "import altair as alt\n",
    "from os.path import join\n",
    "\n",
    "from constants import DATA_DIR, COLUMNS\n",
    "\n",
    "alt.data_transformers.disable_max_rows();"
   ]
  },
  {
   "cell_type": "code",
   "execution_count": null,
   "metadata": {},
   "outputs": [],
   "source": [
    "df = pd.read_csv(join(DATA_DIR, \"fake_event_data.csv\"))\n",
    "df.head()"
   ]
  },
  {
   "cell_type": "code",
   "execution_count": null,
   "metadata": {},
   "outputs": [],
   "source": [
    "events = df[COLUMNS.EVENT].unique().tolist()\n",
    "events"
   ]
  },
  {
   "cell_type": "code",
   "execution_count": null,
   "metadata": {},
   "outputs": [],
   "source": [
    "alt.Chart(df).mark_line().encode(\n",
    "    x=COLUMNS.TIMESTAMP,\n",
    "    y=\"count()\",\n",
    "    color=COLUMNS.EVENT\n",
    ").properties(\n",
    "    title=\"Count of timeline entries stratified by event type\"\n",
    ")"
   ]
  },
  {
   "cell_type": "code",
   "execution_count": null,
   "metadata": {},
   "outputs": [],
   "source": [
    "alt.Chart(df.loc[df[COLUMNS.EVENT] == 'Acute Respiratory Distress Syndrome']).mark_line().encode(\n",
    "    x=COLUMNS.TIMESTAMP,\n",
    "    y=\"count()\",\n",
    "    color=COLUMNS.VALUE\n",
    ").properties(\n",
    "    title=\"Count of ARDS cases stratified by severity\"\n",
    ")"
   ]
  },
  {
   "cell_type": "code",
   "execution_count": null,
   "metadata": {},
   "outputs": [],
   "source": []
  },
  {
   "cell_type": "code",
   "execution_count": null,
   "metadata": {},
   "outputs": [],
   "source": []
  }
 ],
 "metadata": {
  "kernelspec": {
   "display_name": "Python 3",
   "language": "python",
   "name": "python3"
  },
  "language_info": {
   "codemirror_mode": {
    "name": "ipython",
    "version": 3
   },
   "file_extension": ".py",
   "mimetype": "text/x-python",
   "name": "python",
   "nbconvert_exporter": "python",
   "pygments_lexer": "ipython3",
   "version": "3.8.2"
  }
 },
 "nbformat": 4,
 "nbformat_minor": 4
}
