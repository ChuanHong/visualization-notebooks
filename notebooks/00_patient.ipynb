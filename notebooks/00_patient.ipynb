{
 "cells": [
  {
   "cell_type": "markdown",
   "metadata": {},
   "source": [
    "# Visualizations for Patient Data"
   ]
  },
  {
   "cell_type": "code",
   "execution_count": null,
   "metadata": {},
   "outputs": [],
   "source": [
    "import altair as alt\n",
    "import pandas as pd"
   ]
  },
  {
   "cell_type": "markdown",
   "metadata": {},
   "source": [
    "## Data Set\n",
    "This is an artificial dataset that contains patient id, age, sex, city, language, ever_smoker, current_smoker, and etc."
   ]
  },
  {
   "cell_type": "code",
   "execution_count": null,
   "metadata": {},
   "outputs": [],
   "source": [
    "patient = pd.read_csv('../../artificial_patient_data.csv', header=[0])\n",
    "cols = patient.columns.tolist()\n",
    "\n",
    "patient.head() # Preview data"
   ]
  },
  {
   "cell_type": "code",
   "execution_count": null,
   "metadata": {},
   "outputs": [],
   "source": [
    "# setup renderer for Jupyter Notebooks (not needed for Juptyer Lab)\n",
    "# alt.renderers.enable('notebook')"
   ]
  },
  {
   "cell_type": "markdown",
   "metadata": {},
   "source": [
    "## Demographics"
   ]
  },
  {
   "cell_type": "markdown",
   "metadata": {},
   "source": [
    "### Simple Histograms & Bar Charts\n",
    "These charts show simple demographic information of people. An orange vertical line in a histogram indicates the mean value."
   ]
  },
  {
   "cell_type": "code",
   "execution_count": null,
   "metadata": {},
   "outputs": [],
   "source": [
    "sex_scale = alt.Scale(\n",
    "    domain=('male', 'female'),\n",
    "    range=[\"steelblue\", \"salmon\"]\n",
    ")\n",
    "\n",
    "slider = alt.binding_range(min=1900, max=2000, step=10)\n",
    "\n",
    "select_year = alt.selection_single(name=\"test_date\", fields=['test_date'],\n",
    "                                   bind=slider, init={'test_date': 2000})\n",
    "\n",
    "confirmed_by_age = alt.Chart(patient).mark_bar().encode(\n",
    "    x=alt.X('sex:N', title=None),\n",
    "    y=alt.Y('count()', scale=alt.Scale(domain=(0, 60)), title=\"Number of Confirmed Cases\"),\n",
    "    color=alt.Color('sex:N', scale=sex_scale, title=\"Sex\"),\n",
    "    column=alt.Column('age:O', bin=alt.Bin(maxbins=10), title=\"Age\")\n",
    ").properties(\n",
    "    title=\"Confirmed Cases By Age\",\n",
    "    width=60\n",
    ")\n",
    "\n",
    "confirmed_by_age.configure_title(fontSize=20,fontWeight=300)"
   ]
  },
  {
   "cell_type": "code",
   "execution_count": null,
   "metadata": {},
   "outputs": [],
   "source": [
    "scale_test_result = alt.Scale(\n",
    "    domain=[\"confirmed\", \"presumptive positive\", \"negative\"],\n",
    "    range=['#E05759','#F28E2B','#4E79A7']\n",
    ")\n",
    "\n",
    "viz_test = alt.Chart(patient).mark_bar().encode(\n",
    "    x=alt.X('test_result:N'),\n",
    "    y=\"count()\",\n",
    "    color=alt.Color('test_result:N', scale=scale_test_result)\n",
    ").properties(\n",
    "    title=\"Distribution of COVID-19 Test Results\",\n",
    "    width=300\n",
    ")\n",
    "\n",
    "viz_age = alt.Chart(patient).mark_bar().encode(\n",
    "    alt.X(\"age:Q\", bin=True, scale=alt.Scale(domain=[0,100])),\n",
    "    y='count()',\n",
    ").properties(\n",
    "    title=\"Age Distribution\",\n",
    "    width=300\n",
    ")\n",
    "\n",
    "rule = alt.Chart(patient).mark_rule(color='orange').encode(\n",
    "    x='mean(age):Q',\n",
    "    size=alt.value(3)\n",
    ")\n",
    "\n",
    "viz_sex = alt.Chart(patient).mark_bar().encode(\n",
    "    x=\"sex:N\",\n",
    "    y='count()',\n",
    ").properties(\n",
    "    width=150,\n",
    "    title=\"Sex Distribution\"\n",
    ")\n",
    "\n",
    "viz_race = alt.Chart(patient).mark_bar().encode(\n",
    "    alt.X(\"race:N\"),\n",
    "    y='count()',\n",
    ").properties(\n",
    "    height=300, \n",
    "    width=250,\n",
    "    title=\"Race Distribution\"\n",
    ")\n",
    "\n",
    "viz_pregnant = alt.Chart(patient).mark_bar().encode(\n",
    "    alt.X(\"pregnant:N\", sort='-y'),\n",
    "    y='count()',\n",
    ").properties(\n",
    "    height=300, \n",
    "    width=150,\n",
    "    title=\"Pregnancy Distribution\"\n",
    ")\n",
    "\n",
    "((viz_test | viz_age + rule) & (viz_sex | viz_race | viz_pregnant)).configure_title(fontSize=20,fontWeight=300)"
   ]
  },
  {
   "cell_type": "markdown",
   "metadata": {},
   "source": [
    "### Interactive Crossfilter\n",
    "This allows you to draw a rectangular brush in a chart using mouse dragging interactions that help you find the corresponding data in other charts. For example, you can see the age, sex, and race distributions of the patients of \"confirmed\" cases. The position of the orange vertical line indicating the mean value in a histrogram updates upon adjusting the crossfilter."
   ]
  },
  {
   "cell_type": "code",
   "execution_count": null,
   "metadata": {},
   "outputs": [],
   "source": [
    "brush_x = alt.selection(type='interval', encodings=['x'])\n",
    "\n",
    "# Add brush to each chart\n",
    "viz_test_with_brush = alt.layer(\n",
    "    viz_test.encode(color=alt.value(\"lightgray\")),\n",
    "    viz_test.transform_filter(brush_x).add_selection(brush_x)\n",
    ")\n",
    "\n",
    "viz_age_with_brush = alt.layer(\n",
    "    viz_age.encode(color=alt.value(\"lightgray\")),\n",
    "    viz_age.transform_filter(brush_x).add_selection(brush_x)\n",
    ")\n",
    "\n",
    "rule_with_brush = rule.transform_filter(brush_x)\n",
    "\n",
    "viz_sex_with_brush = alt.layer(\n",
    "    viz_sex.encode(color=alt.value(\"lightgray\")),\n",
    "    viz_sex.transform_filter(brush_x).add_selection(brush_x)\n",
    ")\n",
    "\n",
    "viz_race_with_brush = alt.layer(\n",
    "    viz_race.encode(color=alt.value(\"lightgray\")),\n",
    "    viz_race.transform_filter(brush_x).add_selection(brush_x)\n",
    ")\n",
    "\n",
    "viz_pregnant_with_brush = alt.layer(\n",
    "    viz_pregnant.encode(color=alt.value(\"lightgray\")),\n",
    "    viz_pregnant.transform_filter(brush_x).add_selection(brush_x)\n",
    ")\n",
    "\n",
    "(\n",
    "    (viz_test_with_brush | viz_age_with_brush + rule_with_brush) & (viz_sex_with_brush | viz_race_with_brush | viz_pregnant_with_brush)\n",
    ").configure_title(fontSize=20,fontWeight=300)"
   ]
  },
  {
   "cell_type": "code",
   "execution_count": null,
   "metadata": {},
   "outputs": [],
   "source": [
    "viz_age_male = alt.Chart(patient).transform_filter(\n",
    "    alt.FieldEqualPredicate(field=\"sex\", equal=\"male\")\n",
    ").mark_bar(opacity=0.5).encode(\n",
    "    alt.X(\"age:Q\", bin=True, scale=alt.Scale(domain=[0,100])),\n",
    "    y='count()',\n",
    "    color=alt.value(\"steelblue\")\n",
    ")\n",
    "\n",
    "viz_age_female = alt.Chart(patient).transform_filter(\n",
    "    alt.FieldEqualPredicate(field=\"sex\", equal=\"female\")\n",
    ").mark_bar(opacity=0.5).encode(\n",
    "    alt.X(\"age:Q\", bin=True, scale=alt.Scale(domain=[0,100])),\n",
    "    y='count()',\n",
    "    color=alt.value(\"salmon\")\n",
    ")\n",
    "\n",
    "(viz_age_male + viz_age_female).properties(\n",
    "    title=\"Age Distribution by Sex\"\n",
    ").configure_title(fontSize=20,fontWeight=300)"
   ]
  },
  {
   "cell_type": "markdown",
   "metadata": {},
   "source": [
    "### Confirmed Cases Over Time"
   ]
  },
  {
   "cell_type": "code",
   "execution_count": null,
   "metadata": {},
   "outputs": [],
   "source": [
    "test_over_time = alt.Chart(patient).transform_window(\n",
    "    cumulative_count=\"count()\",\n",
    "    sort=[{\"field\": \"test_date\"}],\n",
    ").mark_line(size=3).encode(\n",
    "    x='test_date:T',\n",
    "    y=alt.Y('cumulative_count:Q', title=None),\n",
    "    color=alt.value(\"steelblue\")\n",
    ")\n",
    "\n",
    "test_over_time_point = test_over_time.mark_point(size=8)\n",
    "\n",
    "confirm_over_time = alt.Chart(patient).transform_filter(\n",
    "    alt.FieldEqualPredicate(field=\"test_result\", equal=\"confirmed\")\n",
    ").transform_window(\n",
    "    cumulative_count=\"count()\",\n",
    "    sort=[{\"field\": \"test_date\"}],\n",
    ").mark_line(size=3).encode(\n",
    "    x=alt.X('test_date:T', title=\"Date\"),\n",
    "    y='cumulative_count:Q',\n",
    "    color=alt.value(\"salmon\")\n",
    ")\n",
    "\n",
    "confirm_over_time_point = confirm_over_time.mark_point(size=8)\n",
    "\n",
    "# Selection that get the nearest point in x-axis\n",
    "nearest = alt.selection(type='single', nearest=True, on='mouseover',\n",
    "                        fields=['test_date'], empty='none')\n",
    "\n",
    "# Selectors to get x position of the cursor\n",
    "selectors = alt.Chart(patient).mark_point().encode(\n",
    "    x='test_date:T',\n",
    "    opacity=alt.value(0),\n",
    ").add_selection(\n",
    "    nearest\n",
    ")\n",
    "\n",
    "# Show points upon selection\n",
    "points1 = test_over_time.mark_point(size=30).encode(\n",
    "    opacity=alt.condition(nearest, alt.value(1), alt.value(0))\n",
    ")\n",
    "points2 = confirm_over_time.mark_point(size=30).encode(\n",
    "    opacity=alt.condition(nearest, alt.value(1), alt.value(0))\n",
    ")\n",
    "\n",
    "# Show text labels upon selection\n",
    "text1 = test_over_time.mark_text(align='left', fontSize=20, fontWeight=200, dx=5, dy=+15).encode(\n",
    "    text=alt.condition(nearest, 'cumulative_count:Q', alt.value(' '))\n",
    ")\n",
    "text2 = confirm_over_time.mark_text(align='left', fontSize=20, fontWeight=200, dx=5, dy=-25).encode(\n",
    "    text=alt.condition(nearest, 'cumulative_count:Q', alt.value(' '))\n",
    ")\n",
    "\n",
    "# Draw a guideline\n",
    "rules = alt.Chart(patient).mark_rule(color='black').encode(\n",
    "    x='test_date:T',\n",
    ").transform_filter(\n",
    "    nearest\n",
    ")\n",
    "\n",
    "(\n",
    "    test_over_time + test_over_time_point + confirm_over_time + confirm_over_time_point +\n",
    "    points1 + points2 + rules + selectors + text1 + text2\n",
    "    \n",
    ").properties(\n",
    "    title=\"Confirmed Cases Over Time\",\n",
    "    height=500, width=800\n",
    ").configure_title(fontSize=20,fontWeight=300)"
   ]
  },
  {
   "cell_type": "markdown",
   "metadata": {},
   "source": [
    "## Relationship Between Test Results And Preconditions\n",
    "In our artificial data, we have patients' preconditions, such as smoking history and cancer history."
   ]
  },
  {
   "cell_type": "markdown",
   "metadata": {},
   "source": [
    "### Test Results vs. Smoking History w/ Crossfilter"
   ]
  },
  {
   "cell_type": "code",
   "execution_count": null,
   "metadata": {},
   "outputs": [],
   "source": [
    "viz_test_with_brush.properties(width=300)\n",
    "\n",
    "ever_smoker = alt.Chart(patient).mark_bar().encode(\n",
    "    x=(\"ever_smoker:N\"),\n",
    "    y='count()'\n",
    ").properties(\n",
    "    title=\"Smoker Distribution\",\n",
    "    width=100\n",
    ")\n",
    "\n",
    "pack_years = alt.Chart(patient).mark_bar().encode(\n",
    "    x=alt.X(\"pack_years:Q\", bin=True),\n",
    "    y=alt.Y('count()')\n",
    ").properties(\n",
    "    title=\"Pack Years Distribution\",\n",
    "    width=300\n",
    ")\n",
    "\n",
    "rule = alt.Chart(patient).mark_rule(color='orange').encode(\n",
    "    x='mean(pack_years):Q',\n",
    "    size=alt.value(3)\n",
    ")\n",
    "\n",
    "# Brushing\n",
    "ever_smoker_with_brush = alt.layer(\n",
    "    ever_smoker.encode(color=alt.value(\"lightgray\")),\n",
    "    ever_smoker.transform_filter(brush_x).add_selection(brush_x)\n",
    ")\n",
    "pack_years_with_brush = alt.layer(\n",
    "    pack_years.encode(color=alt.value(\"lightgray\")),\n",
    "    pack_years.transform_filter(brush_x).add_selection(brush_x)\n",
    ")\n",
    "rule = rule.transform_filter(brush_x)\n",
    "\n",
    "(viz_test_with_brush | (ever_smoker_with_brush | pack_years_with_brush + rule)).configure_title(fontSize=20,fontWeight=300)"
   ]
  },
  {
   "cell_type": "markdown",
   "metadata": {},
   "source": [
    "### Pack Years by Test Results\n",
    "Bar chart w/ error bars"
   ]
  },
  {
   "cell_type": "code",
   "execution_count": null,
   "metadata": {},
   "outputs": [],
   "source": [
    "viz_test_by_pack = alt.Chart(patient).mark_bar().encode(\n",
    "    y='test_result:N',\n",
    "    x='mean(pack_years)',\n",
    "    color=alt.Color('test_result:N', scale=scale_test_result)\n",
    ").properties(\n",
    "    title=\"COVID-19 Test Results by Smoking Pack Years w/ Error Bars\",\n",
    "    width=400,\n",
    "    height=200\n",
    ")\n",
    "\n",
    "points = alt.Chart(patient).mark_point(filled=True, color='black').encode(\n",
    "  y='test_result:N',\n",
    "  x='mean(pack_years)',\n",
    ")\n",
    "\n",
    "error_bars = alt.Chart(patient).mark_errorbar(extent='stdev').encode(\n",
    "    y='test_result:N',\n",
    "    x='pack_years',\n",
    ")\n",
    "\n",
    "(viz_test_by_pack + error_bars + points).configure_title(fontSize=20,fontWeight=300)"
   ]
  },
  {
   "cell_type": "markdown",
   "metadata": {},
   "source": [
    "### Test Results by Smoking History\n",
    "Stacked bar chart"
   ]
  },
  {
   "cell_type": "code",
   "execution_count": null,
   "metadata": {},
   "outputs": [],
   "source": [
    "stacked_bar_chart = alt.Chart(patient).mark_bar().encode(\n",
    "    x='ever_smoker:N',\n",
    "    y='count()',\n",
    "    color=alt.Color(\"test_result:N\", scale=scale_test_result)\n",
    ").properties(\n",
    "    title=\"Test Results by Smoking History\",\n",
    "    width=200,\n",
    "    height=300\n",
    ")\n",
    "\n",
    "stacked_bar_chart.configure_title(fontSize=20,fontWeight=300)"
   ]
  },
  {
   "cell_type": "markdown",
   "metadata": {},
   "source": [
    "### Test Results by Cancer History"
   ]
  },
  {
   "cell_type": "code",
   "execution_count": null,
   "metadata": {},
   "outputs": [],
   "source": [
    "cancer = alt.Chart(patient).mark_bar().encode(\n",
    "    x=(\"hx_cancer:N\"),\n",
    "    y='count()'\n",
    ").properties(\n",
    "    title=\"Cancer History\",\n",
    "    width=100,\n",
    "    height=250\n",
    ")\n",
    "\n",
    "cancer_type = alt.Chart(patient).mark_bar().encode(\n",
    "    x=alt.X(\"hx_cancer_type:N\", sort=\"-y\"),\n",
    "    y='count()',\n",
    "    color='hx_cancer_type:N',\n",
    "    column='test_result'\n",
    ").transform_filter(\n",
    "    alt.FieldEqualPredicate(field=\"hx_cancer\", equal=\"yes\")\n",
    ").properties(\n",
    "    title=\"Test Results by Cancer Types\",\n",
    "    height=250\n",
    ")\n",
    "\n",
    "(cancer | cancer_type).configure_title(fontSize=20,fontWeight=300,anchor=\"middle\")"
   ]
  },
  {
   "cell_type": "code",
   "execution_count": null,
   "metadata": {},
   "outputs": [],
   "source": [
    "heatmap = alt.Chart(patient).transform_filter(\n",
    "    alt.FieldEqualPredicate(field=\"hx_cancer\", equal=\"yes\")\n",
    ").mark_rect().encode(\n",
    "    y='test_result:N',\n",
    "    x=alt.X('hx_cancer_type:N', title=\"Previous Cancer History\"),\n",
    "    color=alt.Color('count()', legend=alt.Legend(direction='horizontal', title=\"Number of People\"))\n",
    ").properties(\n",
    "    title=\"Test Result vs. Cancer History\",\n",
    "    height=200,\n",
    "    width=300\n",
    ")\n",
    "\n",
    "text = heatmap.mark_text(baseline='middle',fontSize=15,fontWeight=100).encode(\n",
    "    text='count()',\n",
    "    color=alt.value(\"black\")\n",
    ")\n",
    "\n",
    "(heatmap + text).configure_title(fontSize=20,fontWeight=300,anchor=\"middle\")"
   ]
  },
  {
   "cell_type": "code",
   "execution_count": null,
   "metadata": {},
   "outputs": [],
   "source": [
    "# Testing ipywidgets\n",
    "from ipywidgets import interact"
   ]
  },
  {
   "cell_type": "code",
   "execution_count": null,
   "metadata": {},
   "outputs": [],
   "source": [
    "def chart_by_field(nField):\n",
    "    return alt.Chart(patient).mark_bar().encode(\n",
    "        x=nField,\n",
    "        y=\"count()\"\n",
    "    )\n",
    "\n",
    "interact(chart_by_field, nField=['sex', 'test_result', 'sex'], );"
   ]
  },
  {
   "cell_type": "code",
   "execution_count": null,
   "metadata": {},
   "outputs": [],
   "source": []
  }
 ],
 "metadata": {
  "kernelspec": {
   "display_name": "Python 3",
   "language": "python",
   "name": "python3"
  },
  "language_info": {
   "codemirror_mode": {
    "name": "ipython",
    "version": 3
   },
   "file_extension": ".py",
   "mimetype": "text/x-python",
   "name": "python",
   "nbconvert_exporter": "python",
   "pygments_lexer": "ipython3",
   "version": "3.8.2"
  }
 },
 "nbformat": 4,
 "nbformat_minor": 4
}
