{
 "cells": [
  {
   "cell_type": "code",
   "execution_count": null,
   "metadata": {
    "collapsed": true
   },
   "outputs": [],
   "source": [
    "######################\n",
    "## ICD descriptions ##\n",
    "######################\n",
    "ncats <- read.csv(\"./data_A_NCATS_ICD10_ICD9_DX_V1_MAP.csv\")\n",
    "ncats$icd_code <- sapply(strsplit( as.character(ncats$ACT_CONCEPT_CD), \"[:]\"), '[', 2)\n",
    "ncats$Version <- sapply(strsplit( as.character(ncats$ACT_CONCEPT_CD), \"[:]\"), '[', 1)\n",
    "ncats$icd_version <- substr( x = ncats$Version, 4, nchar( ncats$Version ))\n",
    "ncats$icd_version <- gsub( \"CM\", \"\", ncats$icd_version)\n",
    "ncats$Category <- sapply(strsplit( as.character(ncats$ACT_CONCEPT_PATH), \"[\\\\]\"), '[', 3)\n",
    "ncats$Category <- sapply(strsplit( as.character(ncats$Category), \"[(]\"), '[', 1)\n",
    "ncats$icd_code <- ifelse( ncats$icd_version == 9, gsub(\"[.]\", \"\", ncats$icd_code), ncats$icd_code)\n",
    "\n",
    "icd_mapping <- ncats[, c(\"icd_code\", \"icd_version\", \"ACT_NAME_CHAR\", \"Category\")]\n",
    "icd_mapping <- icd_mapping[! duplicated( icd_mapping ), ]"
   ]
  },
  {
   "cell_type": "code",
   "execution_count": null,
   "metadata": {
    "collapsed": true
   },
   "outputs": [],
   "source": [
    "#####################\n",
    "## Diagnosis files ##\n",
    "#####################\n",
    "\n",
    "diagnosisCombined <- read.csv(\"./Diagnoses-Combined200405.csv\", sep = \",\", header = TRUE, colClasses = \"character\")\n",
    "diagnosisCombined <- diagnosisCombined[, c(\"siteid\", \"icd_code\", \"icd_version\", \"num_patients\")]\n",
    "diagnosisCombined$perc_patients <- round(100*(as.numeric( diagnosisCombined$num_patients ) / 15637 ),2)\n",
    "\n",
    "  \n",
    "diagnosisPerCountry <- read.delim(\"./Diagnoses-CombinedByCountry200405.csv\", sep = \",\", header = TRUE, colClasses = \"character\")\n",
    "diagnosisPerCountry <- diagnosisPerCountry[, c(\"siteid\", \"icd_code\", \"icd_version\", \"num_patients\") ]\n",
    "\n",
    "demographicsPerCountry <- read.delim(\"./Demographics-CombinedByCountry200405.csv\", \n",
    "                                    sep = \",\", header = TRUE, colClasses = \"character\")\n",
    "demographicsPerCountry <- demographicsPerCountry[demographicsPerCountry$sex == \"All\", c(\"siteid\", \"total_patients\") ]\n",
    "\n",
    "diagnosisPerCountry$siteid <- as.character( diagnosisPerCountry$siteid )\n",
    "\n",
    "diagnosisPerCountry <- merge( diagnosisPerCountry, demographicsPerCountry, by = \"siteid\")\n",
    "diagnosisPerCountry$perc_patients <- round(100*(as.numeric( diagnosisPerCountry$num_patients ) /  as.numeric( diagnosisPerCountry$total_patients )),2)\n",
    "diagnosisPerCountry <- diagnosisPerCountry[, c(\"siteid\", \"icd_code\", \"icd_version\", \"num_patients\", \"perc_patients\")]\n",
    "\n",
    "diagnosis <- rbind( diagnosisCombined, diagnosisPerCountry)"
   ]
  },
  {
   "cell_type": "code",
   "execution_count": null,
   "metadata": {
    "collapsed": true
   },
   "outputs": [],
   "source": [
    "#########################################################\n",
    "### Filter the ICD by percentage of affected patients ###\n",
    "#########################################################\n",
    "percentageFilter = 0.5\n",
    "selection <- diagnosis[ as.numeric( diagnosis$perc_patients) > percentageFilter, ]"
   ]
  },
  {
   "cell_type": "code",
   "execution_count": null,
   "metadata": {
    "collapsed": true
   },
   "outputs": [],
   "source": [
    "##################################################\n",
    "## Heatmap with ICD description and categories ##\n",
    "#################################################\n",
    "selectionDesc <- merge( selection, icd_mapping, all.x = TRUE, by = \"icd_code\")\n",
    "selectionDesc$description <- ifelse( is.na(selectionDesc$ACT_NAME_CHAR), as.character(selectionDesc$icd_code),\n",
    "                                     as.character(selectionDesc$ACT_NAME_CHAR))\n",
    "\n",
    "selectionDesc$Category <- factor(selectionDesc$Category, levels = c(\"Certain conditions originating in the perinatal period \",  \n",
    "                                                                   \"Congenital malformations, deformations and chromosomal abnormalities \", \n",
    "                                                                   \"Symptoms, signs and abnormal clinical and laboratory findings, not elsewhere classified \",\n",
    "                                                                   \"Certain infectious and parasitic diseases \",\n",
    "                                                                   \"Factors influencing health status and contact with health services \",\n",
    "                                                                   \"Pregnancy, childbirth and the puerperium \", \n",
    "                                                                   \"Diseases of the nervous system \", \n",
    "                                                                   \"Diseases of the blood and blood-forming organs and certain disorders involving the immune mechanism \",\n",
    "                                                                   \"Diseases of the circulatory system \",\n",
    "                                                                   \"Neoplasms \", \n",
    "                                                                   \"Diseases of the musculoskeletal system and connective tissue \"  ,\n",
    "                                                                   \"Injury, poisoning and certain other consequences of external causes \", \n",
    "                                                                   \"Diseases of the digestive system \", \n",
    "                                                                   \"Diseases of the respiratory system \", \n",
    "                                                                   \"Diseases of the genitourinary system \",\n",
    "                                                                   \"Endocrine, nutritional and metabolic diseases \", \n",
    "                                                                   \"Diseases of the ear and mastoid process \", \n",
    "                                                                   \"Diseases of the eye and adnexa \",\n",
    "                                                                   \"Mental and behavioral disorders \",\n",
    "                                                                   \"Diseases of the skin and subcutaneous tissue \",\n",
    "                                                                   \"External causes of morbidity \"), \n",
    "                  labels = c(\"Perinatal\",\n",
    "                             \"Congenital&Chromosomal\",\n",
    "                             \"Symptoms\",\n",
    "                             \"Infectious\",\n",
    "                             \"Factors influencing health status\",\n",
    "                             \"Pregnance, childbirth\",\n",
    "                             \"Nervous\",\n",
    "                             \"Blood\",\n",
    "                             \"Circulatory\", \n",
    "                             \"Neoplams\",\n",
    "                             \"Musculoskeletal\",\n",
    "                             \"Injury,poisoning\",\n",
    "                             \"Digestive\",\n",
    "                             \"Respiratory\",\n",
    "                             \"Genitourinary\",\n",
    "                             \"Endocrine/metabolic\",\n",
    "                             \"Ear and mastoid\",\n",
    "                             \"Eye and adnexa\",\n",
    "                             \"Mental\",\n",
    "                             \"Skin\",\n",
    "                             \"External causes\"))\n",
    "\n",
    "ggplot(selectionDesc, aes(y=description, x=siteid, fill=siteid, alpha=perc_patients)) +\n",
    "  geom_tile() + \n",
    "  scale_fill_manual(values = c(\"Italy\" = \"#009E73\", \"France\" = \"#0072B2\", \"Germany\" = \"#E69F00\", \"USA\" = \"#D55E00\", \"Combined\" = \"#444444\")) +\n",
    "  theme_bw() +\n",
    "  theme(panel.grid=element_blank(), axis.text.y  = element_text(size=5),plot.title = element_text(size=7)) +\n",
    "  coord_cartesian(expand=FALSE)+\n",
    "  facet_grid(Category ~ ., scales = \"free\")+theme(\n",
    "    strip.text.y = element_text(\n",
    "      size = 5))+\n",
    "  labs(title = \"Diagnoses (Date 2020-04-05) | 12 sites | 15,637 patients \")"
   ]
  },
  {
   "cell_type": "code",
   "execution_count": null,
   "metadata": {
    "collapsed": true
   },
   "outputs": [],
   "source": [
    "################################################\n",
    "## Split the heatmap in 3 different heatmaps ##\n",
    "###############################################\n",
    "\n",
    "### the ones that cannot be mapped (ICD10, ICD-CM 2020)\n",
    "subsetNa <- selectionDesc[ is.na(selectionDesc$Category),]\n",
    "subsetNaIcd9 <- subsetNa[ subsetNa$icd_version.x == 9,]\n",
    "## for the ones mapping, split in respiratory, infection, etc and the rest\n",
    "subsetNoNa <- selectionDesc[! is.na(selectionDesc$Category),]\n",
    "\n",
    "subset1 <- subsetNoNa[! subsetNoNa$Category %in% \n",
    "                                       c(\"Respiratory\",\n",
    "                                         \"Infectious\", \n",
    "                                         \"Symptoms\", \n",
    "                                         \"Factors influencing health status\"),]\n",
    "\n",
    "subset2 <- subsetNoNa[ subsetNoNa$Category %in% \n",
    "                           c(\"Respiratory\",\n",
    "                             \"Infectious\", \n",
    "                             \"Symptoms\", \n",
    "                             \"Factors influencing health status\"),]\n",
    "\n",
    "ggplot(subset1, aes(y=description, x=siteid, fill=siteid, alpha=perc_patients)) +\n",
    "  geom_tile() + \n",
    "  scale_fill_manual(values = c(\"Italy\" = \"#009E73\", \"France\" = \"#0072B2\", \"Germany\" = \"#E69F00\", \"USA\" = \"#D55E00\", \"Combined\" = \"#444444\")) +\n",
    "  theme_bw() +\n",
    "  theme(panel.grid=element_blank(), axis.text.y  = element_text(size=5), plot.title = element_text(size=7)) +\n",
    "  coord_cartesian(expand=FALSE)+\n",
    "  facet_grid(Category ~ ., scales = \"free\")+theme(\n",
    "    strip.text.y = element_text(\n",
    "      size = 5))+\n",
    "  labs(title = \"Diagnoses (Date 2020-04-05) | 12 sites | 15,637 patients \")\n",
    "\n",
    "\n",
    "ggplot(subset2, aes(y=description, x=siteid, fill=siteid, alpha=perc_patients)) +\n",
    "  geom_tile() + \n",
    "  scale_fill_manual(values = c(\"Italy\" = \"#009E73\", \"France\" = \"#0072B2\", \"Germany\" = \"#E69F00\", \"USA\" = \"#D55E00\", \"Combined\" = \"#444444\")) +\n",
    "  theme_bw() +\n",
    "  theme(panel.grid=element_blank(), axis.text.y  = element_text(size=5), plot.title = element_text(size=7)) +\n",
    "  coord_cartesian(expand=FALSE)+\n",
    "  facet_grid(Category ~ ., scales = \"free\")+theme(\n",
    "    strip.text.y = element_text(\n",
    "      size = 5))+\n",
    "  labs(title = \"Diagnoses (Date 2020-04-05) | 12 sites | 15,637 patients \")\n",
    "\n",
    "\n",
    "ggplot(subsetNa, aes(y=description, x=siteid, fill=siteid, alpha=perc_patients)) +\n",
    "  geom_tile() + \n",
    "  scale_fill_manual(values = c(\"Italy\" = \"#009E73\", \"France\" = \"#0072B2\", \"Germany\" = \"#E69F00\", \"USA\" = \"#D55E00\", \"Combined\" = \"#444444\")) +\n",
    "  theme_bw() +\n",
    "  theme(panel.grid=element_blank(), axis.text.y  = element_text(size=5),plot.title = element_text(size=7)) +\n",
    "  coord_cartesian(expand=FALSE)+\n",
    "  facet_grid(Category ~ ., scales = \"free\")+theme(\n",
    "    strip.text.y = element_text(\n",
    "      size = 5))+\n",
    "  labs(title = \"Diagnoses (Date 2020-04-05) | 12 sites | 15,637 patients \")"
   ]
  },
  {
   "cell_type": "code",
   "execution_count": null,
   "metadata": {
    "collapsed": true
   },
   "outputs": [],
   "source": [
    "######################\n",
    "## Barplot with ICD ##\n",
    "######################\n",
    "ggplot(data=selection, aes(x=reorder(icd_code,perc_patients), y=perc_patients)) +\n",
    "  geom_bar(aes(fill= siteid), stat=\"identity\", position=position_dodge()) + \n",
    "  theme_bw()+\n",
    "  theme(axis.text.x = element_text(angle =45, hjust = 1), axis.text.y = element_text(size=5))+\n",
    "  labs(title = paste0(\"Number of patients by ICD9/ICD10 code (>=\",min(selection$num_patients),\"patients)\" ), \n",
    "       x = \"ICD9/ICD10 code\", y = \"number of patients\")+ coord_flip()+\n",
    "  scale_fill_manual(\"legend\", values = c(\"Italy\" = \"#009E73\", \"France\" = \"#0072B2\", \"Germany\" = \"#E69F00\", \"USA\" = \"#D55E00\", \"Combined\" = \"#444444\"))\n"
   ]
  },
  {
   "cell_type": "code",
   "execution_count": null,
   "metadata": {
    "collapsed": true
   },
   "outputs": [],
   "source": [
    "######################\n",
    "## Heatmap with ICD ##\n",
    "######################\n",
    "ggplot(selection, aes(y=icd_code, x=siteid, fill=siteid, alpha=perc_patients)) +\n",
    "  geom_tile(colour=\"white\", size=1) + \n",
    "  scale_fill_manual(values = c(\"Italy\" = \"#009E73\", \"France\" = \"#0072B2\", \"Germany\" = \"#E69F00\", \"USA\" = \"#D55E00\", \"Combined\" = \"#444444\")) +\n",
    "  theme_bw() +\n",
    "  theme(panel.grid=element_blank()) +\n",
    "  coord_cartesian(expand=FALSE)"
   ]
  }
 ],
 "metadata": {
  "kernelspec": {
   "display_name": "R",
   "language": "R",
   "name": "ir"
  },
  "language_info": {
   "codemirror_mode": "r",
   "file_extension": ".r",
   "mimetype": "text/x-r-source",
   "name": "R",
   "pygments_lexer": "r",
   "version": "3.3.1"
  }
 },
 "nbformat": 4,
 "nbformat_minor": 1
}
