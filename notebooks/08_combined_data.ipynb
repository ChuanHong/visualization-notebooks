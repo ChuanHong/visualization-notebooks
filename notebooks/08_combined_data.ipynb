{
 "cells": [
  {
   "cell_type": "code",
   "execution_count": null,
   "metadata": {},
   "outputs": [],
   "source": [
    "# Auto-reload frequently changed files\n",
    "%load_ext autoreload\n",
    "%autoreload 2\n",
    "%aimport utils\n",
    "\n",
    "import pandas as pd\n",
    "import numpy as np\n",
    "import altair as alt\n",
    "from ipywidgets import interact\n",
    "from os.path import join\n",
    "\n",
    "from constants import COLUMNS\n",
    "from utils import (\n",
    "    read_combined_daily_counts_df,\n",
    "    read_combined_demographics_df, \n",
    "    read_combined_diagnoses_df,\n",
    "    read_combined_labs_df,\n",
    "    apply_theme\n",
    ")"
   ]
  },
  {
   "cell_type": "markdown",
   "metadata": {},
   "source": [
    "# Daily Counts"
   ]
  },
  {
   "cell_type": "code",
   "execution_count": null,
   "metadata": {},
   "outputs": [],
   "source": [
    "df = read_combined_daily_counts_df()\n",
    "\n",
    "# Drop unused columns before preprocessing for the simplicity\n",
    "df = df.drop(columns=[\n",
    "    COLUMNS.UNMASKED_SITES_NEW_POSITIVE_CASES,\n",
    "    COLUMNS.UNMASKED_SITES_PATIENTS_IN_ICU,\n",
    "    COLUMNS.UNMASKED_SITES_NEW_DEATHS,\n",
    "    COLUMNS.MASKED_SITES_NEW_POSITIVE_CASES,\n",
    "    COLUMNS.MASKED_SITES_PATIENTS_IN_ICU,\n",
    "    COLUMNS.MASKED_SITES_NEW_DEATHS\n",
    "])\n",
    "\n",
    "# Wide to long\n",
    "CATEGORY = \"category\"\n",
    "df = pd.melt(df, id_vars=[\n",
    "    COLUMNS.SITE_ID, COLUMNS.DATE,\n",
    "    COLUMNS.MASKED_UPPER_BOUND_NEW_POSITIVE_CASES,\n",
    "    COLUMNS.MASKED_UPPER_BOUND_PATIENTS_IN_ICU,\n",
    "    COLUMNS.MASKED_UPPER_BOUND_NEW_DEATHS    \n",
    "])\n",
    "df = df.rename(columns={\"variable\": CATEGORY, \"value\": COLUMNS.NUM_PATIENTS})\n",
    "\n",
    "# Leave only the 'upper' and 'under' values for the certain 'category' only\n",
    "for c in [COLUMNS.NEW_POSITIVE_CASES, COLUMNS.PATIENTS_IN_ICU, COLUMNS.NEW_DEATHS]:\n",
    "    filter_c = df[CATEGORY] == c\n",
    "    df.loc[filter_c, \"upper\"] = df.loc[filter_c, COLUMNS.NUM_PATIENTS] + df.loc[filter_c, \"masked_upper_bound_\" + c]\n",
    "    df.loc[filter_c, \"under\"] = df.loc[filter_c, COLUMNS.NUM_PATIENTS]\n",
    "    df.loc[filter_c, COLUMNS.NUM_PATIENTS] = df.loc[filter_c, COLUMNS.NUM_PATIENTS] + df.loc[filter_c, \"masked_upper_bound_\" + c] / 2.0\n",
    "\n",
    "# Drop unused columns\n",
    "df = df.drop(columns=[\n",
    "    COLUMNS.MASKED_UPPER_BOUND_NEW_POSITIVE_CASES,\n",
    "    COLUMNS.MASKED_UPPER_BOUND_PATIENTS_IN_ICU,\n",
    "    COLUMNS.MASKED_UPPER_BOUND_NEW_DEATHS\n",
    "])\n",
    "\n",
    "df.head()"
   ]
  },
  {
   "cell_type": "code",
   "execution_count": null,
   "metadata": {},
   "outputs": [],
   "source": [
    "MID_FIELDS = [COLUMNS.NEW_POSITIVE_CASES, COLUMNS.NEW_DEATHS, COLUMNS.PATIENTS_IN_ICU]\n",
    "UPPER_FIELDS = [f\"upper_{COLUMNS.NEW_POSITIVE_CASES}\", f\"upper_{COLUMNS.NEW_DEATHS}\", f\"upper_{COLUMNS.PATIENTS_IN_ICU}\"]\n",
    "UNDER_FIELDS = [f\"under_{COLUMNS.NEW_POSITIVE_CASES}\", f\"under_{COLUMNS.NEW_DEATHS}\", f\"under_{COLUMNS.PATIENTS_IN_ICU}\"]\n",
    "THREE_COLORS = [\"#CA2026\", \"#377FB8\", \"#60B75D\"]\n",
    "COLOR_BY_FIELD = {\n",
    "    COLUMNS.NEW_POSITIVE_CASES: \"#CA2026\",\n",
    "    COLUMNS.NEW_DEATHS: \"#60B75D\",\n",
    "    COLUMNS.PATIENTS_IN_ICU: \"#377FB8\"\n",
    "}\n",
    "GRAY_COLOR = \"lightgray\"\n",
    "\n",
    "line = alt.Chart(df).mark_line(size=3).encode(\n",
    "    x=alt.X(\n",
    "        f\"{COLUMNS.DATE}:T\", axis=alt.Axis(tickCount=7), \n",
    "        title=None,\n",
    "    ),\n",
    "    y=alt.Y(\n",
    "        f\"{COLUMNS.NUM_PATIENTS}:Q\", axis=alt.Axis(tickCount=5), \n",
    "        title=\"Number of patients\",\n",
    "        scale=alt.Scale(domain=[-1,170])\n",
    "    ),\n",
    "    color=alt.Color(f\"{CATEGORY}:N\", scale=alt.Scale(domain=MID_FIELDS, range=THREE_COLORS), legend=alt.Legend(title=None))\n",
    ")\n",
    "point = line.mark_circle(size=40)\n",
    "errorband = alt.Chart(df).mark_errorband().encode(\n",
    "    x=alt.X(\n",
    "        f\"{COLUMNS.DATE}:T\", axis=alt.Axis(tickCount=7), \n",
    "        title=None,\n",
    "    ),y=alt.Y(\n",
    "        f\"upper:Q\", title=\"\"\n",
    "    ),y2=alt.Y2(\n",
    "        f\"under:Q\"\n",
    "    ),\n",
    "    color=alt.Color(f\"{CATEGORY}:N\", scale=alt.Scale(domain=MID_FIELDS, range=THREE_COLORS))\n",
    ")\n",
    "\n",
    "agg_chart = (line + point + errorband).resolve_scale(color=\"shared\")\n",
    "\n",
    "apply_theme(agg_chart).properties(\n",
    "    width=750, height=400, title=\"Number of Positive Cases, Patients in ICU, and Deaths\"\n",
    ").interactive()"
   ]
  },
  {
   "cell_type": "markdown",
   "metadata": {},
   "source": [
    "# Demographics"
   ]
  },
  {
   "cell_type": "code",
   "execution_count": null,
   "metadata": {},
   "outputs": [],
   "source": [
    "# TODO: Better way to clear the codes here?\n",
    "df = read_combined_demographics_df()\n",
    "\n",
    "print(df)"
   ]
  },
  {
   "cell_type": "code",
   "execution_count": null,
   "metadata": {},
   "outputs": [],
   "source": []
  }
 ],
 "metadata": {
  "kernelspec": {
   "display_name": "Python 3",
   "language": "python",
   "name": "python3"
  },
  "language_info": {
   "codemirror_mode": {
    "name": "ipython",
    "version": 3
   },
   "file_extension": ".py",
   "mimetype": "text/x-python",
   "name": "python",
   "nbconvert_exporter": "python",
   "pygments_lexer": "ipython3",
   "version": "3.8.2-final"
  }
 },
 "nbformat": 4,
 "nbformat_minor": 4
}
