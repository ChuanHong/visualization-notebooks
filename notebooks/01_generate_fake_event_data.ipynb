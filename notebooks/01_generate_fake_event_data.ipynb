{
 "cells": [
  {
   "cell_type": "code",
   "execution_count": 1,
   "metadata": {},
   "outputs": [],
   "source": [
    "import numpy as np\n",
    "import pandas as pd\n",
    "import altair as alt\n",
    "from os.path import join\n",
    "\n",
    "from constants import DATA_DIR, COLUMNS\n",
    "\n",
    "np.random.seed(0)"
   ]
  },
  {
   "cell_type": "code",
   "execution_count": 2,
   "metadata": {},
   "outputs": [],
   "source": [
    "n = 2500 # total number of patients\n",
    "R = 3 # doubling rate of number of cases\n",
    "d = 30 # maximum timestamp for the initial onset data points"
   ]
  },
  {
   "cell_type": "code",
   "execution_count": 3,
   "metadata": {},
   "outputs": [],
   "source": [
    "patient_ids = list(range(n))"
   ]
  },
  {
   "cell_type": "code",
   "execution_count": 4,
   "metadata": {},
   "outputs": [],
   "source": [
    "def generate_exponential_df():\n",
    "    onsets = np.power(np.random.random(n) * np.power(d, 1/R), R) # exponential growth\n",
    "    onsets_noisy = np.random.poisson(onsets) # poisson noise\n",
    "    \n",
    "    arr = np.stack((patient_ids, onsets_noisy), axis=-1)\n",
    "    \n",
    "    df = pd.DataFrame(data=arr, columns=[COLUMNS.PATIENT_ID, COLUMNS.TIMESTAMP]).sort_values(by=COLUMNS.TIMESTAMP, ignore_index=True)\n",
    "    df[COLUMNS.VALUE] = \"true\"\n",
    "    return df"
   ]
  },
  {
   "cell_type": "code",
   "execution_count": 5,
   "metadata": {},
   "outputs": [],
   "source": [
    "def lag_exponential_df(df, lag):\n",
    "    df = df.copy()\n",
    "    lag_arr = np.abs(np.random.normal(lag, 1, df.shape[0]))\n",
    "    df[COLUMNS.TIMESTAMP] = df[COLUMNS.TIMESTAMP] + pd.Series(lag_arr)\n",
    "    return df"
   ]
  },
  {
   "cell_type": "code",
   "execution_count": 6,
   "metadata": {},
   "outputs": [],
   "source": [
    "def add_qualitative_value(df):\n",
    "    vals = np.random.choice([\"mild\", \"severe\"], df.shape[0], p=[0.7, 0.3])\n",
    "    df[COLUMNS.VALUE] = vals\n",
    "    return df"
   ]
  },
  {
   "cell_type": "code",
   "execution_count": 7,
   "metadata": {},
   "outputs": [],
   "source": [
    "onset_of_symptoms_df = generate_exponential_df()\n",
    "admission_to_hospital_df = lag_exponential_df(onset_of_symptoms_df, lag=4)\n",
    "ards_df = add_qualitative_value(lag_exponential_df(admission_to_hospital_df, lag=1))\n",
    "admission_to_icu_df = lag_exponential_df(ards_df, lag=1)\n",
    "discharge_from_icu_df = lag_exponential_df(admission_to_icu_df, lag=2)\n",
    "discharge_from_hospital_df = lag_exponential_df(discharge_from_icu_df, lag=3)"
   ]
  },
  {
   "cell_type": "code",
   "execution_count": 8,
   "metadata": {},
   "outputs": [],
   "source": [
    "rate_of_respiration_df = lag_exponential_df(onset_of_symptoms_df, lag=1)"
   ]
  },
  {
   "cell_type": "code",
   "execution_count": 9,
   "metadata": {},
   "outputs": [],
   "source": [
    "timeline_entries = {\n",
    "    'Onset of COVID-19 Symptoms': onset_of_symptoms_df.to_dict(\"records\"),\n",
    "    'Admission to the hospital': admission_to_hospital_df.to_dict(\"records\"),\n",
    "    'Acute Respiratory Distress Syndrome': ards_df.to_dict(\"records\"),\n",
    "    'Admission to ICU': admission_to_icu_df.to_dict(\"records\"),\n",
    "    'Rate of respiration': rate_of_respiration_df.to_dict(\"records\"),\n",
    "    'Discharge from ICU': discharge_from_icu_df.to_dict(\"records\"),\n",
    "    'Discharge from hospital': discharge_from_hospital_df.to_dict(\"records\")\n",
    "}"
   ]
  },
  {
   "cell_type": "code",
   "execution_count": 10,
   "metadata": {},
   "outputs": [],
   "source": [
    "def convert_timeline_entries_to_df(timeline_entries):\n",
    "    df = pd.DataFrame(columns=[COLUMNS.PATIENT_ID, COLUMNS.TIMESTAMP, COLUMNS.EVENT, COLUMNS.VALUE])\n",
    "    for event_name, entries in timeline_entries.items():\n",
    "        for entry in entries:\n",
    "            df = df.append({\n",
    "                COLUMNS.EVENT: event_name,\n",
    "                COLUMNS.PATIENT_ID: entry[COLUMNS.PATIENT_ID],\n",
    "                COLUMNS.TIMESTAMP: entry[COLUMNS.TIMESTAMP],\n",
    "                COLUMNS.VALUE: entry[COLUMNS.VALUE],\n",
    "            }, ignore_index=True)\n",
    "    return df"
   ]
  },
  {
   "cell_type": "code",
   "execution_count": 11,
   "metadata": {},
   "outputs": [
    {
     "data": {
      "text/html": [
       "<div>\n",
       "<style scoped>\n",
       "    .dataframe tbody tr th:only-of-type {\n",
       "        vertical-align: middle;\n",
       "    }\n",
       "\n",
       "    .dataframe tbody tr th {\n",
       "        vertical-align: top;\n",
       "    }\n",
       "\n",
       "    .dataframe thead th {\n",
       "        text-align: right;\n",
       "    }\n",
       "</style>\n",
       "<table border=\"1\" class=\"dataframe\">\n",
       "  <thead>\n",
       "    <tr style=\"text-align: right;\">\n",
       "      <th></th>\n",
       "      <th>patient_id</th>\n",
       "      <th>timestamp</th>\n",
       "      <th>event</th>\n",
       "      <th>value</th>\n",
       "    </tr>\n",
       "  </thead>\n",
       "  <tbody>\n",
       "    <tr>\n",
       "      <th>0</th>\n",
       "      <td>736</td>\n",
       "      <td>0</td>\n",
       "      <td>Onset of COVID-19 Symptoms</td>\n",
       "      <td>true</td>\n",
       "    </tr>\n",
       "    <tr>\n",
       "      <th>1</th>\n",
       "      <td>1072</td>\n",
       "      <td>0</td>\n",
       "      <td>Onset of COVID-19 Symptoms</td>\n",
       "      <td>true</td>\n",
       "    </tr>\n",
       "    <tr>\n",
       "      <th>2</th>\n",
       "      <td>2122</td>\n",
       "      <td>0</td>\n",
       "      <td>Onset of COVID-19 Symptoms</td>\n",
       "      <td>true</td>\n",
       "    </tr>\n",
       "    <tr>\n",
       "      <th>3</th>\n",
       "      <td>1070</td>\n",
       "      <td>0</td>\n",
       "      <td>Onset of COVID-19 Symptoms</td>\n",
       "      <td>true</td>\n",
       "    </tr>\n",
       "    <tr>\n",
       "      <th>4</th>\n",
       "      <td>545</td>\n",
       "      <td>0</td>\n",
       "      <td>Onset of COVID-19 Symptoms</td>\n",
       "      <td>true</td>\n",
       "    </tr>\n",
       "  </tbody>\n",
       "</table>\n",
       "</div>"
      ],
      "text/plain": [
       "  patient_id timestamp                       event value\n",
       "0        736         0  Onset of COVID-19 Symptoms  true\n",
       "1       1072         0  Onset of COVID-19 Symptoms  true\n",
       "2       2122         0  Onset of COVID-19 Symptoms  true\n",
       "3       1070         0  Onset of COVID-19 Symptoms  true\n",
       "4        545         0  Onset of COVID-19 Symptoms  true"
      ]
     },
     "execution_count": 11,
     "metadata": {},
     "output_type": "execute_result"
    }
   ],
   "source": [
    "timeline_entries_df = convert_timeline_entries_to_df(timeline_entries)\n",
    "timeline_entries_df.head()"
   ]
  },
  {
   "cell_type": "code",
   "execution_count": 12,
   "metadata": {},
   "outputs": [],
   "source": [
    "timeline_entries_df.to_csv(join(DATA_DIR, \"fake_event_data.csv\"), index=False)"
   ]
  },
  {
   "cell_type": "code",
   "execution_count": null,
   "metadata": {},
   "outputs": [],
   "source": []
  }
 ],
 "metadata": {
  "kernelspec": {
   "display_name": "Python [conda env:c19i2b2] *",
   "language": "python",
   "name": "conda-env-c19i2b2-py"
  },
  "language_info": {
   "codemirror_mode": {
    "name": "ipython",
    "version": 3
   },
   "file_extension": ".py",
   "mimetype": "text/x-python",
   "name": "python",
   "nbconvert_exporter": "python",
   "pygments_lexer": "ipython3",
   "version": "3.8.2"
  }
 },
 "nbformat": 4,
 "nbformat_minor": 4
}
