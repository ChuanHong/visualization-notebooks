{
 "cells": [
  {
   "cell_type": "code",
   "execution_count": 3,
   "metadata": {},
   "outputs": [],
   "source": [
    "import pandas as pd\n",
    "import numpy as np\n",
    "import altair as alt\n",
    "from ipywidgets import interact\n",
    "from os.path import join\n",
    "\n",
    "from constants import COLUMNS\n",
    "from utils import read_latest_demographics_df"
   ]
  },
  {
   "cell_type": "markdown",
   "metadata": {},
   "source": [
    "# Data Aggregation & Cleaning"
   ]
  },
  {
   "cell_type": "code",
   "execution_count": 4,
   "metadata": {},
   "outputs": [],
   "source": [
    "df = read_latest_demographics_df()\n",
    "SITE_IDS = df[COLUMNS.SITE_ID].unique().tolist()\n",
    "\n",
    "# Columns\n",
    "siteid = COLUMNS.SITE_ID\n",
    "sex = COLUMNS.SEX\n",
    "total_patients = COLUMNS.TOTAL_PATIENTS\n",
    "\n",
    "# Use the consistent capitalization\n",
    "df[COLUMNS.SEX] = df[COLUMNS.SEX].apply(lambda x: x.capitalize())\n",
    "\n",
    "# remove aggregate rows and columns\n",
    "not_all_filter = df[COLUMNS.SEX] != \"All\"\n",
    "df = df[not_all_filter]\n",
    "df = df.drop(columns=[COLUMNS.TOTAL_PATIENTS])\n",
    "\n",
    "# wide to long\n",
    "df = pd.melt(df, id_vars=[COLUMNS.SITE_ID, COLUMNS.SEX])\n",
    "df = df.rename(columns={\"variable\": \"age_group\", \"value\": \"num_patients\"})\n",
    "\n",
    "# TODO: Use readable category names here\n",
    "# \"age_0to2\" to \"0-2\"\n",
    "\n",
    "\n",
    "# df # Comment this line not to include data preview in GitHub repo"
   ]
  },
  {
   "cell_type": "markdown",
   "metadata": {},
   "source": [
    "## Summarization Chart\n",
    "##### Select Site ID to see data by a specific site ID"
   ]
  },
  {
   "cell_type": "code",
   "execution_count": 4,
   "metadata": {},
   "outputs": [
    {
     "data": {
      "application/vnd.jupyter.widget-view+json": {
       "model_id": "53dec385907f4c82b5873208d89f9741",
       "version_major": 2,
       "version_minor": 0
      },
      "text/plain": [
       "interactive(children=(Dropdown(description='SiteID', options=('All Sites', 'UPenn', 'BCH'), value='All Sites')…"
      ]
     },
     "metadata": {},
     "output_type": "display_data"
    },
    {
     "data": {
      "text/plain": [
       "<function __main__.demographics_chart(SiteID, Normalize)>"
      ]
     },
     "execution_count": 4,
     "metadata": {},
     "output_type": "execute_result"
    }
   ],
   "source": [
    "sex_color_scale = alt.Scale(domain=[\"Male\", \"Female\", \"Other\"], range=[\"#0072B2\", \"#D55E00\", \"gray\"])\n",
    "\n",
    "def apply_theme(base):\n",
    "    return base.configure_axis(\n",
    "        labelFontSize=14,\n",
    "        labelFontWeight=300,\n",
    "        titleFontSize=18,\n",
    "        titleFontWeight=300\n",
    "    ).configure_title(fontSize=18, fontWeight=400, anchor=\"middle\")\n",
    "    \n",
    "def demographics_chart(SiteID, Normalize): \n",
    "    \n",
    "    # Base bar chart\n",
    "    base = alt.Chart(df).mark_bar().encode(\n",
    "        x=alt.X('age_group:N', title=\"Age Group\",sort=\"x\"),\n",
    "        y=alt.Y(f\"sum(num_patients):Q\", title=\"Number of Patients\", axis=alt.Axis(tickCount=5)),\n",
    "        \n",
    "        color=alt.Color(\"sex:N\", title=\"Sex\", scale=sex_color_scale),\n",
    "        tooltip=[siteid, sex, f\"sum(num_patients)\"]\n",
    "    ).properties(\n",
    "        title=\"COVID-19 Patients (\" + SiteID + \")\",\n",
    "        width=500,\n",
    "        height=300\n",
    "    )\n",
    "    \n",
    "    if SiteID != \"All Sites\":\n",
    "        base = base.transform_filter(\n",
    "            alt.FieldEqualPredicate(field=siteid, equal=SiteID)\n",
    "        )\n",
    "\n",
    "    if Normalize != \"no\":\n",
    "        base = base.encode(\n",
    "            y=alt.Y(f\"sum(num_patients):Q\", title=\"Fraction of Patients\", stack=\"normalize\"),\n",
    "        )    \n",
    "    \n",
    "    chart = apply_theme(base)\n",
    "        \n",
    "    return chart.interactive()\n",
    "\n",
    "interact(demographics_chart, SiteID=[\"All Sites\"] + SITE_IDS, Normalize=[\"yes\", \"no\"] )"
   ]
  },
  {
   "cell_type": "code",
   "execution_count": 8,
   "metadata": {},
   "outputs": [
    {
     "data": {
      "text/html": [
       "\n",
       "<div id=\"altair-viz-8e14b4e53eca4ebaa44c8b170c9425a7\"></div>\n",
       "<script type=\"text/javascript\">\n",
       "  (function(spec, embedOpt){\n",
       "    const outputDiv = document.getElementById(\"altair-viz-8e14b4e53eca4ebaa44c8b170c9425a7\");\n",
       "    const paths = {\n",
       "      \"vega\": \"https://cdn.jsdelivr.net/npm//vega@5?noext\",\n",
       "      \"vega-lib\": \"https://cdn.jsdelivr.net/npm//vega-lib?noext\",\n",
       "      \"vega-lite\": \"https://cdn.jsdelivr.net/npm//vega-lite@4.0.2?noext\",\n",
       "      \"vega-embed\": \"https://cdn.jsdelivr.net/npm//vega-embed@6?noext\",\n",
       "    };\n",
       "\n",
       "    function loadScript(lib) {\n",
       "      return new Promise(function(resolve, reject) {\n",
       "        var s = document.createElement('script');\n",
       "        s.src = paths[lib];\n",
       "        s.async = true;\n",
       "        s.onload = () => resolve(paths[lib]);\n",
       "        s.onerror = () => reject(`Error loading script: ${paths[lib]}`);\n",
       "        document.getElementsByTagName(\"head\")[0].appendChild(s);\n",
       "      });\n",
       "    }\n",
       "\n",
       "    function showError(err) {\n",
       "      outputDiv.innerHTML = `<div class=\"error\" style=\"color:red;\">${err}</div>`;\n",
       "      throw err;\n",
       "    }\n",
       "\n",
       "    function displayChart(vegaEmbed) {\n",
       "      vegaEmbed(outputDiv, spec, embedOpt)\n",
       "        .catch(err => showError(`Javascript Error: ${err.message}<br>This usually means there's a typo in your chart specification. See the javascript console for the full traceback.`));\n",
       "    }\n",
       "\n",
       "    if(typeof define === \"function\" && define.amd) {\n",
       "      requirejs.config({paths});\n",
       "      require([\"vega-embed\"], displayChart, err => showError(`Error loading script: ${err.message}`));\n",
       "    } else if (typeof vegaEmbed === \"function\") {\n",
       "      displayChart(vegaEmbed);\n",
       "    } else {\n",
       "      loadScript(\"vega\")\n",
       "        .then(() => loadScript(\"vega-lite\"))\n",
       "        .then(() => loadScript(\"vega-embed\"))\n",
       "        .catch(showError)\n",
       "        .then(() => displayChart(vegaEmbed));\n",
       "    }\n",
       "  })({\"config\": {\"view\": {\"continuousWidth\": 400, \"continuousHeight\": 300}, \"axis\": {\"labelFontSize\": 14, \"labelFontWeight\": 300, \"titleFontSize\": 18, \"titleFontWeight\": 300}, \"title\": {\"anchor\": \"start\", \"fontSize\": 18, \"fontWeight\": 400}}, \"hconcat\": [{\"mark\": {\"type\": \"circle\", \"size\": 100}, \"encoding\": {\"color\": {\"condition\": {\"type\": \"nominal\", \"field\": \"siteid\", \"legend\": null, \"scale\": {\"scheme\": \"category20\"}, \"title\": \"Site\", \"selection\": \"selector013\"}, \"value\": \"gray\"}, \"y\": {\"type\": \"nominal\", \"field\": \"siteid\", \"sort\": \"y\", \"title\": \"Site\"}}, \"height\": 300, \"selection\": {\"selector013\": {\"type\": \"multi\", \"encodings\": [\"color\"]}, \"selector014\": {\"type\": \"interval\", \"bind\": \"scales\", \"encodings\": [\"x\", \"y\"]}}, \"title\": \"\"}, {\"mark\": \"bar\", \"encoding\": {\"color\": {\"type\": \"nominal\", \"field\": \"siteid\", \"legend\": null, \"scale\": {\"scheme\": \"category20\"}, \"title\": \"Site\"}, \"column\": {\"type\": \"ordinal\", \"field\": \"age_group\", \"sort\": [\"age_0to2\", \"age_3to5\", \"age_6to11\", \"age_12to17\", \"age_18to25\", \"age_26to49\", \"age_50to69\", \"age_70to79\", \"age_80plus\"], \"title\": \"\"}, \"tooltip\": [{\"type\": \"nominal\", \"field\": \"siteid\"}, {\"type\": \"quantitative\", \"aggregate\": \"sum\", \"field\": \"num_patients\"}], \"x\": {\"type\": \"nominal\", \"axis\": null, \"field\": \"siteid\", \"sort\": \"x\", \"title\": \"Site\"}, \"y\": {\"type\": \"quantitative\", \"aggregate\": \"sum\", \"axis\": {\"tickCount\": 5}, \"field\": \"num_patients\", \"title\": \"Number of Patients\"}}, \"height\": 300, \"selection\": {\"selector015\": {\"type\": \"interval\", \"bind\": \"scales\", \"encodings\": [\"x\", \"y\"]}}, \"transform\": [{\"filter\": {\"selection\": \"selector013\"}}], \"width\": 70}], \"data\": {\"name\": \"data-f6069f9bec3db54307b09e69c353724d\"}, \"title\": \"COVID-19 Patients by Age Group and Site\", \"$schema\": \"https://vega.github.io/schema/vega-lite/v4.0.2.json\", \"datasets\": {\"data-f6069f9bec3db54307b09e69c353724d\": [{\"siteid\": \"UPenn\", \"sex\": \"Female\", \"age_group\": \"age_0to2\", \"num_patients\": 0}, {\"siteid\": \"UPenn\", \"sex\": \"Male\", \"age_group\": \"age_0to2\", \"num_patients\": 0}, {\"siteid\": \"BCH\", \"sex\": \"Male\", \"age_group\": \"age_0to2\", \"num_patients\": 0}, {\"siteid\": \"BCH\", \"sex\": \"Female\", \"age_group\": \"age_0to2\", \"num_patients\": 0}, {\"siteid\": \"UPenn\", \"sex\": \"Female\", \"age_group\": \"age_3to5\", \"num_patients\": 0}, {\"siteid\": \"UPenn\", \"sex\": \"Male\", \"age_group\": \"age_3to5\", \"num_patients\": 0}, {\"siteid\": \"BCH\", \"sex\": \"Male\", \"age_group\": \"age_3to5\", \"num_patients\": 0}, {\"siteid\": \"BCH\", \"sex\": \"Female\", \"age_group\": \"age_3to5\", \"num_patients\": 0}, {\"siteid\": \"UPenn\", \"sex\": \"Female\", \"age_group\": \"age_6to11\", \"num_patients\": 0}, {\"siteid\": \"UPenn\", \"sex\": \"Male\", \"age_group\": \"age_6to11\", \"num_patients\": 0}, {\"siteid\": \"BCH\", \"sex\": \"Male\", \"age_group\": \"age_6to11\", \"num_patients\": 1}, {\"siteid\": \"BCH\", \"sex\": \"Female\", \"age_group\": \"age_6to11\", \"num_patients\": 0}, {\"siteid\": \"UPenn\", \"sex\": \"Female\", \"age_group\": \"age_12to17\", \"num_patients\": 0}, {\"siteid\": \"UPenn\", \"sex\": \"Male\", \"age_group\": \"age_12to17\", \"num_patients\": 0}, {\"siteid\": \"BCH\", \"sex\": \"Male\", \"age_group\": \"age_12to17\", \"num_patients\": 2}, {\"siteid\": \"BCH\", \"sex\": \"Female\", \"age_group\": \"age_12to17\", \"num_patients\": 3}, {\"siteid\": \"UPenn\", \"sex\": \"Female\", \"age_group\": \"age_18to25\", \"num_patients\": 26}, {\"siteid\": \"UPenn\", \"sex\": \"Male\", \"age_group\": \"age_18to25\", \"num_patients\": 25}, {\"siteid\": \"BCH\", \"sex\": \"Male\", \"age_group\": \"age_18to25\", \"num_patients\": 0}, {\"siteid\": \"BCH\", \"sex\": \"Female\", \"age_group\": \"age_18to25\", \"num_patients\": 0}, {\"siteid\": \"UPenn\", \"sex\": \"Female\", \"age_group\": \"age_26to49\", \"num_patients\": 111}, {\"siteid\": \"UPenn\", \"sex\": \"Male\", \"age_group\": \"age_26to49\", \"num_patients\": 129}, {\"siteid\": \"BCH\", \"sex\": \"Male\", \"age_group\": \"age_26to49\", \"num_patients\": 0}, {\"siteid\": \"BCH\", \"sex\": \"Female\", \"age_group\": \"age_26to49\", \"num_patients\": 0}, {\"siteid\": \"UPenn\", \"sex\": \"Female\", \"age_group\": \"age_50to69\", \"num_patients\": 83}, {\"siteid\": \"UPenn\", \"sex\": \"Male\", \"age_group\": \"age_50to69\", \"num_patients\": 97}, {\"siteid\": \"BCH\", \"sex\": \"Male\", \"age_group\": \"age_50to69\", \"num_patients\": 0}, {\"siteid\": \"BCH\", \"sex\": \"Female\", \"age_group\": \"age_50to69\", \"num_patients\": 0}, {\"siteid\": \"UPenn\", \"sex\": \"Female\", \"age_group\": \"age_70to79\", \"num_patients\": 20}, {\"siteid\": \"UPenn\", \"sex\": \"Male\", \"age_group\": \"age_70to79\", \"num_patients\": 29}, {\"siteid\": \"BCH\", \"sex\": \"Male\", \"age_group\": \"age_70to79\", \"num_patients\": 0}, {\"siteid\": \"BCH\", \"sex\": \"Female\", \"age_group\": \"age_70to79\", \"num_patients\": 0}, {\"siteid\": \"UPenn\", \"sex\": \"Female\", \"age_group\": \"age_80plus\", \"num_patients\": 16}, {\"siteid\": \"UPenn\", \"sex\": \"Male\", \"age_group\": \"age_80plus\", \"num_patients\": 12}, {\"siteid\": \"BCH\", \"sex\": \"Male\", \"age_group\": \"age_80plus\", \"num_patients\": 0}, {\"siteid\": \"BCH\", \"sex\": \"Female\", \"age_group\": \"age_80plus\", \"num_patients\": 0}]}}, {\"mode\": \"vega-lite\"});\n",
       "</script>"
      ],
      "text/plain": [
       "alt.HConcatChart(...)"
      ]
     },
     "execution_count": 8,
     "metadata": {},
     "output_type": "execute_result"
    }
   ],
   "source": [
    "click = alt.selection_multi(encodings=['color'])\n",
    "\n",
    "def apply_theme(base):\n",
    "    return base.configure_axis(\n",
    "        labelFontSize=14,\n",
    "        labelFontWeight=300,\n",
    "        titleFontSize=18,\n",
    "        titleFontWeight=300\n",
    "    ).configure_title(fontSize=18, fontWeight=400, anchor=\"start\")\n",
    "    \n",
    "def demographics_chart():     \n",
    "    base = alt.Chart(df).mark_bar().encode(\n",
    "        x=alt.X('siteid:N', title=\"Site\",sort=\"x\", axis=None),\n",
    "        y=alt.Y(f\"sum(num_patients):Q\", title=\"Number of Patients\", axis=alt.Axis(tickCount=5)),\n",
    "        column=alt.Column('age_group:O', title=\"\", sort=['age_0to2', \n",
    "                                                         'age_3to5',\n",
    "                                                         'age_6to11',\n",
    "                                                         'age_12to17', \n",
    "                                                         'age_18to25',\n",
    "                                                         'age_26to49',\n",
    "                                                         'age_50to69',\n",
    "                                                         'age_70to79',\n",
    "                                                         'age_80plus']),\n",
    "        \n",
    "        color=alt.Color(\"siteid:N\", title=\"Site\", scale=alt.Scale(scheme=\"category20\"), legend=None),\n",
    "        tooltip=[siteid, f\"sum(num_patients)\"]\n",
    "    ).properties(\n",
    "        width=70,\n",
    "        height=300\n",
    "    ).transform_filter(\n",
    "        click\n",
    "    )\n",
    "        \n",
    "    return base.interactive()\n",
    "\n",
    "def site_chart():     \n",
    "    base = alt.Chart(df).mark_circle(size=100).encode(\n",
    "        y=alt.Y('siteid:N', title=\"Site\",sort=\"y\"),\n",
    "        color=alt.condition( click, alt.Color(\"siteid:N\", title=\"Site\", scale=alt.Scale(scheme=\"category20\"), legend=None), alt.value('gray') ),\n",
    "    ).properties(\n",
    "        selection=click        \n",
    "    ).properties(\n",
    "        title=\"\",\n",
    "        height=300\n",
    "    )\n",
    "                \n",
    "    return base.interactive()\n",
    "\n",
    "\n",
    "\n",
    "apply_theme( site_chart() | demographics_chart()\n",
    "    ).properties(\n",
    "        title=\"COVID-19 Patients by Age Group and Site\"\n",
    "    )"
   ]
  },
  {
   "cell_type": "markdown",
   "metadata": {},
   "source": [
    "Removing narrow white strokes arround bars by not separating bars by `siteid` when \"All Sites\" is selected."
   ]
  },
  {
   "cell_type": "code",
   "execution_count": 9,
   "metadata": {},
   "outputs": [
    {
     "data": {
      "application/vnd.jupyter.widget-view+json": {
       "model_id": "b9e28d81bd4b43b98a28ee4f5274833b",
       "version_major": 2,
       "version_minor": 0
      },
      "text/plain": [
       "interactive(children=(Dropdown(description='SiteID', options=('All Sites', 'UPenn', 'BCH'), value='All Sites')…"
      ]
     },
     "metadata": {},
     "output_type": "display_data"
    },
    {
     "data": {
      "text/plain": [
       "<function __main__.demographics_chart(SiteID, Normalize)>"
      ]
     },
     "execution_count": 9,
     "metadata": {},
     "output_type": "execute_result"
    }
   ],
   "source": [
    "sex_color_scale = alt.Scale(domain=[\"Male\", \"Female\", \"Other\"], range=[\"#0072B2\", \"#D55E00\", \"gray\"])\n",
    "\n",
    "def apply_theme(base):\n",
    "    return base.configure_axis(\n",
    "        labelFontSize=14,\n",
    "        labelFontWeight=300,\n",
    "        titleFontSize=18,\n",
    "        titleFontWeight=300\n",
    "    ).configure_title(fontSize=18, fontWeight=400, anchor=\"middle\")\n",
    "    \n",
    "def demographics_chart(SiteID, Normalize): \n",
    "    \n",
    "    # Base bar chart\n",
    "    base = alt.Chart(df).mark_bar().encode(\n",
    "        x=alt.X('age_group:N', title=\"Age Group\",sort=\"x\"),\n",
    "        y=alt.Y(f\"sum(num_patients):Q\", title=\"Number of Patients\", axis=alt.Axis(tickCount=5)),\n",
    "        \n",
    "        color=alt.Color(\"sex:N\", title=\"Sex\", scale=sex_color_scale),\n",
    "    ).properties(\n",
    "        title=\"COVID-19 Patients (\" + SiteID + \")\",\n",
    "        width=500,\n",
    "        height=300\n",
    "    )\n",
    "    \n",
    "    if SiteID != \"All Sites\":\n",
    "        base = base.transform_filter(\n",
    "            alt.FieldEqualPredicate(field=siteid, equal=SiteID)\n",
    "        ).encode(tooltip=[siteid, sex, f\"sum(num_patients)\"])\n",
    "    else:\n",
    "        base = base.encode(tooltip=[sex, f\"sum(num_patients)\"])\n",
    "\n",
    "    if Normalize != \"no\":\n",
    "        base = base.encode(\n",
    "            y=alt.Y(f\"sum(num_patients):Q\", title=\"Fraction of Patients\", stack=\"normalize\"),\n",
    "        )\n",
    "    \n",
    "    chart = apply_theme(base)\n",
    "        \n",
    "    return (chart).interactive()\n",
    "\n",
    "interact(demographics_chart, SiteID=[\"All Sites\"] + SITE_IDS, Normalize=[\"yes\", \"no\"] )"
   ]
  },
  {
   "cell_type": "code",
   "execution_count": null,
   "metadata": {},
   "outputs": [],
   "source": []
  }
 ],
 "metadata": {
  "kernelspec": {
   "display_name": "Python 3",
   "language": "python",
   "name": "python3"
  },
  "language_info": {
   "codemirror_mode": {
    "name": "ipython",
    "version": 3
   },
   "file_extension": ".py",
   "mimetype": "text/x-python",
   "name": "python",
   "nbconvert_exporter": "python",
   "pygments_lexer": "ipython3",
   "version": "3.8.2"
  }
 },
 "nbformat": 4,
 "nbformat_minor": 4
}
