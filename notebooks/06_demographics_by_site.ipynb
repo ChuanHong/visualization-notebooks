{
 "cells": [
  {
   "cell_type": "code",
   "execution_count": 5,
   "metadata": {},
   "outputs": [],
   "source": [
    "import pandas as pd\n",
    "import numpy as np\n",
    "import altair as alt\n",
    "from ipywidgets import interact\n",
    "from os.path import join\n",
    "\n",
    "from constants import COLUMNS, SITE_IDS_IN_DIR\n",
    "from utils import read_full_demographics_df"
   ]
  },
  {
   "cell_type": "code",
   "execution_count": 6,
   "metadata": {},
   "outputs": [],
   "source": [
    "# SITE_IDS = ['FWN','FXL','FZT','FMT','FFG','FOW','FSZ','FMA','FEQ','FVX','FKQ','FBL','FDQ','FKN','FBD','FKL','FUU','FZU','FZM','FUN']\n",
    "SITE_IDS = SITE_IDS_IN_DIR.DIAGNOSES"
   ]
  },
  {
   "cell_type": "code",
   "execution_count": 28,
   "metadata": {},
   "outputs": [
    {
     "data": {
      "text/html": [
       "<div>\n",
       "<style scoped>\n",
       "    .dataframe tbody tr th:only-of-type {\n",
       "        vertical-align: middle;\n",
       "    }\n",
       "\n",
       "    .dataframe tbody tr th {\n",
       "        vertical-align: top;\n",
       "    }\n",
       "\n",
       "    .dataframe thead th {\n",
       "        text-align: right;\n",
       "    }\n",
       "</style>\n",
       "<table border=\"1\" class=\"dataframe\">\n",
       "  <thead>\n",
       "    <tr style=\"text-align: right;\">\n",
       "      <th></th>\n",
       "      <th>siteid</th>\n",
       "      <th>sex</th>\n",
       "      <th>age_group</th>\n",
       "      <th>num_patients</th>\n",
       "    </tr>\n",
       "  </thead>\n",
       "  <tbody>\n",
       "    <tr>\n",
       "      <th>0</th>\n",
       "      <td>FKN</td>\n",
       "      <td>Male</td>\n",
       "      <td>age_0to2</td>\n",
       "      <td>28</td>\n",
       "    </tr>\n",
       "    <tr>\n",
       "      <th>1</th>\n",
       "      <td>FKN</td>\n",
       "      <td>Female</td>\n",
       "      <td>age_0to2</td>\n",
       "      <td>2</td>\n",
       "    </tr>\n",
       "    <tr>\n",
       "      <th>2</th>\n",
       "      <td>FKN</td>\n",
       "      <td>Other</td>\n",
       "      <td>age_0to2</td>\n",
       "      <td>0</td>\n",
       "    </tr>\n",
       "    <tr>\n",
       "      <th>3</th>\n",
       "      <td>FEQ</td>\n",
       "      <td>Male</td>\n",
       "      <td>age_0to2</td>\n",
       "      <td>86</td>\n",
       "    </tr>\n",
       "    <tr>\n",
       "      <th>4</th>\n",
       "      <td>FEQ</td>\n",
       "      <td>Female</td>\n",
       "      <td>age_0to2</td>\n",
       "      <td>13</td>\n",
       "    </tr>\n",
       "  </tbody>\n",
       "</table>\n",
       "</div>"
      ],
      "text/plain": [
       "  siteid     sex age_group  num_patients\n",
       "0    FKN    Male  age_0to2            28\n",
       "1    FKN  Female  age_0to2             2\n",
       "2    FKN   Other  age_0to2             0\n",
       "3    FEQ    Male  age_0to2            86\n",
       "4    FEQ  Female  age_0to2            13"
      ]
     },
     "execution_count": 28,
     "metadata": {},
     "output_type": "execute_result"
    }
   ],
   "source": [
    "df = read_full_demographics_df(SITE_IDS)\n",
    "\n",
    "# Columns\n",
    "siteid = COLUMNS.SITE_ID\n",
    "sex = COLUMNS.SEX\n",
    "total_patients = COLUMNS.TOTAL_PATIENTS\n",
    "\n",
    "# remove aggregate rows and columns\n",
    "not_all_filter = df['sex']!=\"All\"\n",
    "df = df[not_all_filter]\n",
    "df = df.drop(columns=['total_patients'])\n",
    "\n",
    "# wide to long\n",
    "df = pd.melt(df, id_vars=['siteid','sex'])\n",
    "df = df.rename(columns={\"variable\": \"age_group\", \"value\": \"num_patients\"})\n",
    "\n",
    "df.head()"
   ]
  },
  {
   "cell_type": "markdown",
   "metadata": {},
   "source": [
    "## Summarization Chart\n",
    "##### Select Site ID to see data by a specific site ID"
   ]
  },
  {
   "cell_type": "code",
   "execution_count": 55,
   "metadata": {
    "scrolled": false
   },
   "outputs": [
    {
     "data": {
      "application/vnd.jupyter.widget-view+json": {
       "model_id": "3a0f8c7e51274153b455e495c291f4dc",
       "version_major": 2,
       "version_minor": 0
      },
      "text/plain": [
       "interactive(children=(Dropdown(description='SiteID', options=('All Sites', 'FKN', 'FEQ', 'FKL', 'FDQ', 'FSZ', …"
      ]
     },
     "metadata": {},
     "output_type": "display_data"
    },
    {
     "data": {
      "text/plain": [
       "<function __main__.demographics_chart(SiteID, Normalize)>"
      ]
     },
     "execution_count": 55,
     "metadata": {},
     "output_type": "execute_result"
    }
   ],
   "source": [
    "sex_color_scale = alt.Scale(domain=[\"Male\", \"Female\", \"Other\"], range=[\"#0072B2\", \"#D55E00\", \"gray\"])\n",
    "\n",
    "def apply_theme(base):\n",
    "    return base.configure_axis(\n",
    "        labelFontSize=14,\n",
    "        labelFontWeight=300,\n",
    "        titleFontSize=18,\n",
    "        titleFontWeight=300\n",
    "    ).configure_title(fontSize=18, fontWeight=400, anchor=\"middle\")\n",
    "    \n",
    "def demographics_chart(SiteID, Normalize): \n",
    "    \n",
    "    # Base bar chart\n",
    "    base = alt.Chart(df).mark_bar().encode(\n",
    "        x=alt.X('age_group:N', title=\"Age Group\",sort=\"x\"),\n",
    "        y=alt.Y(f\"sum(num_patients):Q\", title=\"Number of Patients\", axis=alt.Axis(tickCount=5)),\n",
    "        \n",
    "        color=alt.Color(\"sex:N\", title=\"Sex\", scale=sex_color_scale),\n",
    "        tooltip=[siteid, sex, f\"sum(num_patients)\"]\n",
    "    ).properties(\n",
    "        title=\"COVID-19 Patients (\" + SiteID + \")\",\n",
    "        width=500,\n",
    "        height=300\n",
    "    )\n",
    "    \n",
    "    if SiteID != \"All Sites\":\n",
    "        base = base.transform_filter(\n",
    "            alt.FieldEqualPredicate(field=siteid, equal=SiteID)\n",
    "        )\n",
    "\n",
    "    if Normalize != \"no\":\n",
    "        base = base.encode(\n",
    "            y=alt.Y(f\"sum(num_patients):Q\", title=\"Fraction of Patients\", stack=\"normalize\"),\n",
    "        )    \n",
    "    \n",
    "    chart = apply_theme(base)\n",
    "        \n",
    "    return chart.interactive()\n",
    "\n",
    "interact(demographics_chart, SiteID=[\"All Sites\"] + SITE_IDS, Normalize=[\"yes\", \"no\"] )"
   ]
  },
  {
   "cell_type": "code",
   "execution_count": 97,
   "metadata": {},
   "outputs": [
    {
     "data": {
      "text/html": [
       "\n",
       "<div id=\"altair-viz-c5effe69275243ee9259ba507f9c5ce9\"></div>\n",
       "<script type=\"text/javascript\">\n",
       "  (function(spec, embedOpt){\n",
       "    const outputDiv = document.getElementById(\"altair-viz-c5effe69275243ee9259ba507f9c5ce9\");\n",
       "    const paths = {\n",
       "      \"vega\": \"https://cdn.jsdelivr.net/npm//vega@5?noext\",\n",
       "      \"vega-lib\": \"https://cdn.jsdelivr.net/npm//vega-lib?noext\",\n",
       "      \"vega-lite\": \"https://cdn.jsdelivr.net/npm//vega-lite@4.0.2?noext\",\n",
       "      \"vega-embed\": \"https://cdn.jsdelivr.net/npm//vega-embed@6?noext\",\n",
       "    };\n",
       "\n",
       "    function loadScript(lib) {\n",
       "      return new Promise(function(resolve, reject) {\n",
       "        var s = document.createElement('script');\n",
       "        s.src = paths[lib];\n",
       "        s.async = true;\n",
       "        s.onload = () => resolve(paths[lib]);\n",
       "        s.onerror = () => reject(`Error loading script: ${paths[lib]}`);\n",
       "        document.getElementsByTagName(\"head\")[0].appendChild(s);\n",
       "      });\n",
       "    }\n",
       "\n",
       "    function showError(err) {\n",
       "      outputDiv.innerHTML = `<div class=\"error\" style=\"color:red;\">${err}</div>`;\n",
       "      throw err;\n",
       "    }\n",
       "\n",
       "    function displayChart(vegaEmbed) {\n",
       "      vegaEmbed(outputDiv, spec, embedOpt)\n",
       "        .catch(err => showError(`Javascript Error: ${err.message}<br>This usually means there's a typo in your chart specification. See the javascript console for the full traceback.`));\n",
       "    }\n",
       "\n",
       "    if(typeof define === \"function\" && define.amd) {\n",
       "      requirejs.config({paths});\n",
       "      require([\"vega-embed\"], displayChart, err => showError(`Error loading script: ${err.message}`));\n",
       "    } else if (typeof vegaEmbed === \"function\") {\n",
       "      displayChart(vegaEmbed);\n",
       "    } else {\n",
       "      loadScript(\"vega\")\n",
       "        .then(() => loadScript(\"vega-lite\"))\n",
       "        .then(() => loadScript(\"vega-embed\"))\n",
       "        .catch(showError)\n",
       "        .then(() => displayChart(vegaEmbed));\n",
       "    }\n",
       "  })({\"config\": {\"view\": {\"continuousWidth\": 400, \"continuousHeight\": 300}, \"axis\": {\"labelFontSize\": 14, \"labelFontWeight\": 300, \"titleFontSize\": 18, \"titleFontWeight\": 300}, \"title\": {\"anchor\": \"start\", \"fontSize\": 18, \"fontWeight\": 400}}, \"hconcat\": [{\"mark\": {\"type\": \"circle\", \"size\": 100}, \"encoding\": {\"color\": {\"condition\": {\"type\": \"nominal\", \"field\": \"siteid\", \"legend\": null, \"scale\": {\"scheme\": \"category20\"}, \"title\": \"Site\", \"selection\": \"selector133\"}, \"value\": \"gray\"}, \"y\": {\"type\": \"nominal\", \"field\": \"siteid\", \"sort\": \"y\", \"title\": \"Site\"}}, \"height\": 300, \"selection\": {\"selector133\": {\"type\": \"multi\", \"encodings\": [\"color\"]}, \"selector134\": {\"type\": \"interval\", \"bind\": \"scales\", \"encodings\": [\"x\", \"y\"]}}, \"title\": \"\"}, {\"mark\": \"bar\", \"encoding\": {\"color\": {\"type\": \"nominal\", \"field\": \"siteid\", \"legend\": null, \"scale\": {\"scheme\": \"category20\"}, \"title\": \"Site\"}, \"column\": {\"type\": \"ordinal\", \"field\": \"age_group\", \"sort\": [\"age_0to2\", \"age_3to5\", \"age_6to11\", \"age_12to17\", \"age_18to25\", \"age_26to49\", \"age_50to69\", \"age_70to79\", \"age_80plus\"], \"title\": \"\"}, \"tooltip\": [{\"type\": \"nominal\", \"field\": \"siteid\"}, {\"type\": \"quantitative\", \"aggregate\": \"sum\", \"field\": \"num_patients\"}], \"x\": {\"type\": \"nominal\", \"axis\": null, \"field\": \"siteid\", \"sort\": \"x\", \"title\": \"Site\"}, \"y\": {\"type\": \"quantitative\", \"aggregate\": \"sum\", \"axis\": {\"tickCount\": 5}, \"field\": \"num_patients\", \"title\": \"Number of Patients\"}}, \"height\": 300, \"selection\": {\"selector135\": {\"type\": \"interval\", \"bind\": \"scales\", \"encodings\": [\"x\", \"y\"]}}, \"transform\": [{\"filter\": {\"selection\": \"selector133\"}}], \"width\": 70}], \"data\": {\"name\": \"data-17968bc1f53655ccc2c7ca736192cbbc\"}, \"title\": \"COVID-19 Patients by Age Group and Site\", \"$schema\": \"https://vega.github.io/schema/vega-lite/v4.0.2.json\", \"datasets\": {\"data-17968bc1f53655ccc2c7ca736192cbbc\": [{\"siteid\": \"FKN\", \"sex\": \"Male\", \"age_group\": \"age_0to2\", \"num_patients\": 28}, {\"siteid\": \"FKN\", \"sex\": \"Female\", \"age_group\": \"age_0to2\", \"num_patients\": 2}, {\"siteid\": \"FKN\", \"sex\": \"Other\", \"age_group\": \"age_0to2\", \"num_patients\": 0}, {\"siteid\": \"FEQ\", \"sex\": \"Male\", \"age_group\": \"age_0to2\", \"num_patients\": 86}, {\"siteid\": \"FEQ\", \"sex\": \"Female\", \"age_group\": \"age_0to2\", \"num_patients\": 13}, {\"siteid\": \"FEQ\", \"sex\": \"Other\", \"age_group\": \"age_0to2\", \"num_patients\": 0}, {\"siteid\": \"FKL\", \"sex\": \"Male\", \"age_group\": \"age_0to2\", \"num_patients\": 28}, {\"siteid\": \"FKL\", \"sex\": \"Female\", \"age_group\": \"age_0to2\", \"num_patients\": 14}, {\"siteid\": \"FKL\", \"sex\": \"Other\", \"age_group\": \"age_0to2\", \"num_patients\": 0}, {\"siteid\": \"FDQ\", \"sex\": \"Male\", \"age_group\": \"age_0to2\", \"num_patients\": 99}, {\"siteid\": \"FDQ\", \"sex\": \"Female\", \"age_group\": \"age_0to2\", \"num_patients\": 8}, {\"siteid\": \"FDQ\", \"sex\": \"Other\", \"age_group\": \"age_0to2\", \"num_patients\": 0}, {\"siteid\": \"FSZ\", \"sex\": \"Male\", \"age_group\": \"age_0to2\", \"num_patients\": 99}, {\"siteid\": \"FSZ\", \"sex\": \"Female\", \"age_group\": \"age_0to2\", \"num_patients\": 127}, {\"siteid\": \"FSZ\", \"sex\": \"Other\", \"age_group\": \"age_0to2\", \"num_patients\": 0}, {\"siteid\": \"FXL\", \"sex\": \"Male\", \"age_group\": \"age_0to2\", \"num_patients\": 59}, {\"siteid\": \"FXL\", \"sex\": \"Female\", \"age_group\": \"age_0to2\", \"num_patients\": 16}, {\"siteid\": \"FXL\", \"sex\": \"Other\", \"age_group\": \"age_0to2\", \"num_patients\": 1}, {\"siteid\": \"FBD\", \"sex\": \"Male\", \"age_group\": \"age_0to2\", \"num_patients\": 6}, {\"siteid\": \"FBD\", \"sex\": \"Female\", \"age_group\": \"age_0to2\", \"num_patients\": 18}, {\"siteid\": \"FBD\", \"sex\": \"Other\", \"age_group\": \"age_0to2\", \"num_patients\": 1}, {\"siteid\": \"FZU\", \"sex\": \"Male\", \"age_group\": \"age_0to2\", \"num_patients\": 1}, {\"siteid\": \"FZU\", \"sex\": \"Female\", \"age_group\": \"age_0to2\", \"num_patients\": 4}, {\"siteid\": \"FZU\", \"sex\": \"Other\", \"age_group\": \"age_0to2\", \"num_patients\": 0}, {\"siteid\": \"FZT\", \"sex\": \"Male\", \"age_group\": \"age_0to2\", \"num_patients\": 21}, {\"siteid\": \"FZT\", \"sex\": \"Female\", \"age_group\": \"age_0to2\", \"num_patients\": 7}, {\"siteid\": \"FZT\", \"sex\": \"Other\", \"age_group\": \"age_0to2\", \"num_patients\": 0}, {\"siteid\": \"FOW\", \"sex\": \"Male\", \"age_group\": \"age_0to2\", \"num_patients\": 37}, {\"siteid\": \"FOW\", \"sex\": \"Female\", \"age_group\": \"age_0to2\", \"num_patients\": 39}, {\"siteid\": \"FOW\", \"sex\": \"Other\", \"age_group\": \"age_0to2\", \"num_patients\": 0}, {\"siteid\": \"FUN\", \"sex\": \"Male\", \"age_group\": \"age_0to2\", \"num_patients\": 5}, {\"siteid\": \"FUN\", \"sex\": \"Female\", \"age_group\": \"age_0to2\", \"num_patients\": 5}, {\"siteid\": \"FUN\", \"sex\": \"Other\", \"age_group\": \"age_0to2\", \"num_patients\": 0}, {\"siteid\": \"FUU\", \"sex\": \"Male\", \"age_group\": \"age_0to2\", \"num_patients\": 100}, {\"siteid\": \"FUU\", \"sex\": \"Female\", \"age_group\": \"age_0to2\", \"num_patients\": 64}, {\"siteid\": \"FUU\", \"sex\": \"Other\", \"age_group\": \"age_0to2\", \"num_patients\": 1}, {\"siteid\": \"FZM\", \"sex\": \"Male\", \"age_group\": \"age_0to2\", \"num_patients\": 2}, {\"siteid\": \"FZM\", \"sex\": \"Female\", \"age_group\": \"age_0to2\", \"num_patients\": 21}, {\"siteid\": \"FZM\", \"sex\": \"Other\", \"age_group\": \"age_0to2\", \"num_patients\": 0}, {\"siteid\": \"FVX\", \"sex\": \"Male\", \"age_group\": \"age_0to2\", \"num_patients\": 60}, {\"siteid\": \"FVX\", \"sex\": \"Female\", \"age_group\": \"age_0to2\", \"num_patients\": 5}, {\"siteid\": \"FVX\", \"sex\": \"Other\", \"age_group\": \"age_0to2\", \"num_patients\": 1}, {\"siteid\": \"FBL\", \"sex\": \"Male\", \"age_group\": \"age_0to2\", \"num_patients\": 29}, {\"siteid\": \"FBL\", \"sex\": \"Female\", \"age_group\": \"age_0to2\", \"num_patients\": 74}, {\"siteid\": \"FBL\", \"sex\": \"Other\", \"age_group\": \"age_0to2\", \"num_patients\": 0}, {\"siteid\": \"FMT\", \"sex\": \"Male\", \"age_group\": \"age_0to2\", \"num_patients\": 3}, {\"siteid\": \"FMT\", \"sex\": \"Female\", \"age_group\": \"age_0to2\", \"num_patients\": 11}, {\"siteid\": \"FMT\", \"sex\": \"Other\", \"age_group\": \"age_0to2\", \"num_patients\": 0}, {\"siteid\": \"FMA\", \"sex\": \"Male\", \"age_group\": \"age_0to2\", \"num_patients\": 15}, {\"siteid\": \"FMA\", \"sex\": \"Female\", \"age_group\": \"age_0to2\", \"num_patients\": 82}, {\"siteid\": \"FMA\", \"sex\": \"Other\", \"age_group\": \"age_0to2\", \"num_patients\": 0}, {\"siteid\": \"FWN\", \"sex\": \"Male\", \"age_group\": \"age_0to2\", \"num_patients\": 3}, {\"siteid\": \"FWN\", \"sex\": \"Female\", \"age_group\": \"age_0to2\", \"num_patients\": 76}, {\"siteid\": \"FWN\", \"sex\": \"Other\", \"age_group\": \"age_0to2\", \"num_patients\": 0}, {\"siteid\": \"FKQ\", \"sex\": \"Male\", \"age_group\": \"age_0to2\", \"num_patients\": 36}, {\"siteid\": \"FKQ\", \"sex\": \"Female\", \"age_group\": \"age_0to2\", \"num_patients\": 43}, {\"siteid\": \"FKQ\", \"sex\": \"Other\", \"age_group\": \"age_0to2\", \"num_patients\": 0}, {\"siteid\": \"FFG\", \"sex\": \"Male\", \"age_group\": \"age_0to2\", \"num_patients\": 88}, {\"siteid\": \"FFG\", \"sex\": \"Female\", \"age_group\": \"age_0to2\", \"num_patients\": 45}, {\"siteid\": \"FFG\", \"sex\": \"Other\", \"age_group\": \"age_0to2\", \"num_patients\": 0}, {\"siteid\": \"FKN\", \"sex\": \"Male\", \"age_group\": \"age_3to5\", \"num_patients\": 7}, {\"siteid\": \"FKN\", \"sex\": \"Female\", \"age_group\": \"age_3to5\", \"num_patients\": 27}, {\"siteid\": \"FKN\", \"sex\": \"Other\", \"age_group\": \"age_3to5\", \"num_patients\": 0}, {\"siteid\": \"FEQ\", \"sex\": \"Male\", \"age_group\": \"age_3to5\", \"num_patients\": 21}, {\"siteid\": \"FEQ\", \"sex\": \"Female\", \"age_group\": \"age_3to5\", \"num_patients\": 100}, {\"siteid\": \"FEQ\", \"sex\": \"Other\", \"age_group\": \"age_3to5\", \"num_patients\": 0}, {\"siteid\": \"FKL\", \"sex\": \"Male\", \"age_group\": \"age_3to5\", \"num_patients\": 0}, {\"siteid\": \"FKL\", \"sex\": \"Female\", \"age_group\": \"age_3to5\", \"num_patients\": 24}, {\"siteid\": \"FKL\", \"sex\": \"Other\", \"age_group\": \"age_3to5\", \"num_patients\": 0}, {\"siteid\": \"FDQ\", \"sex\": \"Male\", \"age_group\": \"age_3to5\", \"num_patients\": 106}, {\"siteid\": \"FDQ\", \"sex\": \"Female\", \"age_group\": \"age_3to5\", \"num_patients\": 94}, {\"siteid\": \"FDQ\", \"sex\": \"Other\", \"age_group\": \"age_3to5\", \"num_patients\": 0}, {\"siteid\": \"FSZ\", \"sex\": \"Male\", \"age_group\": \"age_3to5\", \"num_patients\": 0}, {\"siteid\": \"FSZ\", \"sex\": \"Female\", \"age_group\": \"age_3to5\", \"num_patients\": 141}, {\"siteid\": \"FSZ\", \"sex\": \"Other\", \"age_group\": \"age_3to5\", \"num_patients\": 0}, {\"siteid\": \"FXL\", \"sex\": \"Male\", \"age_group\": \"age_3to5\", \"num_patients\": 88}, {\"siteid\": \"FXL\", \"sex\": \"Female\", \"age_group\": \"age_3to5\", \"num_patients\": 86}, {\"siteid\": \"FXL\", \"sex\": \"Other\", \"age_group\": \"age_3to5\", \"num_patients\": 0}, {\"siteid\": \"FBD\", \"sex\": \"Male\", \"age_group\": \"age_3to5\", \"num_patients\": 11}, {\"siteid\": \"FBD\", \"sex\": \"Female\", \"age_group\": \"age_3to5\", \"num_patients\": 110}, {\"siteid\": \"FBD\", \"sex\": \"Other\", \"age_group\": \"age_3to5\", \"num_patients\": 0}, {\"siteid\": \"FZU\", \"sex\": \"Male\", \"age_group\": \"age_3to5\", \"num_patients\": 18}, {\"siteid\": \"FZU\", \"sex\": \"Female\", \"age_group\": \"age_3to5\", \"num_patients\": 7}, {\"siteid\": \"FZU\", \"sex\": \"Other\", \"age_group\": \"age_3to5\", \"num_patients\": 0}, {\"siteid\": \"FZT\", \"sex\": \"Male\", \"age_group\": \"age_3to5\", \"num_patients\": 12}, {\"siteid\": \"FZT\", \"sex\": \"Female\", \"age_group\": \"age_3to5\", \"num_patients\": 7}, {\"siteid\": \"FZT\", \"sex\": \"Other\", \"age_group\": \"age_3to5\", \"num_patients\": 0}, {\"siteid\": \"FOW\", \"sex\": \"Male\", \"age_group\": \"age_3to5\", \"num_patients\": 21}, {\"siteid\": \"FOW\", \"sex\": \"Female\", \"age_group\": \"age_3to5\", \"num_patients\": 38}, {\"siteid\": \"FOW\", \"sex\": \"Other\", \"age_group\": \"age_3to5\", \"num_patients\": 0}, {\"siteid\": \"FUN\", \"sex\": \"Male\", \"age_group\": \"age_3to5\", \"num_patients\": 44}, {\"siteid\": \"FUN\", \"sex\": \"Female\", \"age_group\": \"age_3to5\", \"num_patients\": 32}, {\"siteid\": \"FUN\", \"sex\": \"Other\", \"age_group\": \"age_3to5\", \"num_patients\": 0}, {\"siteid\": \"FUU\", \"sex\": \"Male\", \"age_group\": \"age_3to5\", \"num_patients\": 53}, {\"siteid\": \"FUU\", \"sex\": \"Female\", \"age_group\": \"age_3to5\", \"num_patients\": 174}, {\"siteid\": \"FUU\", \"sex\": \"Other\", \"age_group\": \"age_3to5\", \"num_patients\": 0}, {\"siteid\": \"FZM\", \"sex\": \"Male\", \"age_group\": \"age_3to5\", \"num_patients\": 17}, {\"siteid\": \"FZM\", \"sex\": \"Female\", \"age_group\": \"age_3to5\", \"num_patients\": 20}, {\"siteid\": \"FZM\", \"sex\": \"Other\", \"age_group\": \"age_3to5\", \"num_patients\": 0}, {\"siteid\": \"FVX\", \"sex\": \"Male\", \"age_group\": \"age_3to5\", \"num_patients\": 63}, {\"siteid\": \"FVX\", \"sex\": \"Female\", \"age_group\": \"age_3to5\", \"num_patients\": 90}, {\"siteid\": \"FVX\", \"sex\": \"Other\", \"age_group\": \"age_3to5\", \"num_patients\": 1}, {\"siteid\": \"FBL\", \"sex\": \"Male\", \"age_group\": \"age_3to5\", \"num_patients\": 28}, {\"siteid\": \"FBL\", \"sex\": \"Female\", \"age_group\": \"age_3to5\", \"num_patients\": 24}, {\"siteid\": \"FBL\", \"sex\": \"Other\", \"age_group\": \"age_3to5\", \"num_patients\": 0}, {\"siteid\": \"FMT\", \"sex\": \"Male\", \"age_group\": \"age_3to5\", \"num_patients\": 0}, {\"siteid\": \"FMT\", \"sex\": \"Female\", \"age_group\": \"age_3to5\", \"num_patients\": 33}, {\"siteid\": \"FMT\", \"sex\": \"Other\", \"age_group\": \"age_3to5\", \"num_patients\": 0}, {\"siteid\": \"FMA\", \"sex\": \"Male\", \"age_group\": \"age_3to5\", \"num_patients\": 102}, {\"siteid\": \"FMA\", \"sex\": \"Female\", \"age_group\": \"age_3to5\", \"num_patients\": 65}, {\"siteid\": \"FMA\", \"sex\": \"Other\", \"age_group\": \"age_3to5\", \"num_patients\": 1}, {\"siteid\": \"FWN\", \"sex\": \"Male\", \"age_group\": \"age_3to5\", \"num_patients\": 39}, {\"siteid\": \"FWN\", \"sex\": \"Female\", \"age_group\": \"age_3to5\", \"num_patients\": 90}, {\"siteid\": \"FWN\", \"sex\": \"Other\", \"age_group\": \"age_3to5\", \"num_patients\": 1}, {\"siteid\": \"FKQ\", \"sex\": \"Male\", \"age_group\": \"age_3to5\", \"num_patients\": 5}, {\"siteid\": \"FKQ\", \"sex\": \"Female\", \"age_group\": \"age_3to5\", \"num_patients\": 60}, {\"siteid\": \"FKQ\", \"sex\": \"Other\", \"age_group\": \"age_3to5\", \"num_patients\": 1}, {\"siteid\": \"FFG\", \"sex\": \"Male\", \"age_group\": \"age_3to5\", \"num_patients\": 95}, {\"siteid\": \"FFG\", \"sex\": \"Female\", \"age_group\": \"age_3to5\", \"num_patients\": 65}, {\"siteid\": \"FFG\", \"sex\": \"Other\", \"age_group\": \"age_3to5\", \"num_patients\": 0}, {\"siteid\": \"FKN\", \"sex\": \"Male\", \"age_group\": \"age_6to11\", \"num_patients\": 3}, {\"siteid\": \"FKN\", \"sex\": \"Female\", \"age_group\": \"age_6to11\", \"num_patients\": 3}, {\"siteid\": \"FKN\", \"sex\": \"Other\", \"age_group\": \"age_6to11\", \"num_patients\": 0}, {\"siteid\": \"FEQ\", \"sex\": \"Male\", \"age_group\": \"age_6to11\", \"num_patients\": 47}, {\"siteid\": \"FEQ\", \"sex\": \"Female\", \"age_group\": \"age_6to11\", \"num_patients\": 85}, {\"siteid\": \"FEQ\", \"sex\": \"Other\", \"age_group\": \"age_6to11\", \"num_patients\": 0}, {\"siteid\": \"FKL\", \"sex\": \"Male\", \"age_group\": \"age_6to11\", \"num_patients\": 19}, {\"siteid\": \"FKL\", \"sex\": \"Female\", \"age_group\": \"age_6to11\", \"num_patients\": 29}, {\"siteid\": \"FKL\", \"sex\": \"Other\", \"age_group\": \"age_6to11\", \"num_patients\": 0}, {\"siteid\": \"FDQ\", \"sex\": \"Male\", \"age_group\": \"age_6to11\", \"num_patients\": 75}, {\"siteid\": \"FDQ\", \"sex\": \"Female\", \"age_group\": \"age_6to11\", \"num_patients\": 40}, {\"siteid\": \"FDQ\", \"sex\": \"Other\", \"age_group\": \"age_6to11\", \"num_patients\": 1}, {\"siteid\": \"FSZ\", \"sex\": \"Male\", \"age_group\": \"age_6to11\", \"num_patients\": 44}, {\"siteid\": \"FSZ\", \"sex\": \"Female\", \"age_group\": \"age_6to11\", \"num_patients\": 3}, {\"siteid\": \"FSZ\", \"sex\": \"Other\", \"age_group\": \"age_6to11\", \"num_patients\": 0}, {\"siteid\": \"FXL\", \"sex\": \"Male\", \"age_group\": \"age_6to11\", \"num_patients\": 44}, {\"siteid\": \"FXL\", \"sex\": \"Female\", \"age_group\": \"age_6to11\", \"num_patients\": 41}, {\"siteid\": \"FXL\", \"sex\": \"Other\", \"age_group\": \"age_6to11\", \"num_patients\": 0}, {\"siteid\": \"FBD\", \"sex\": \"Male\", \"age_group\": \"age_6to11\", \"num_patients\": 27}, {\"siteid\": \"FBD\", \"sex\": \"Female\", \"age_group\": \"age_6to11\", \"num_patients\": 82}, {\"siteid\": \"FBD\", \"sex\": \"Other\", \"age_group\": \"age_6to11\", \"num_patients\": 0}, {\"siteid\": \"FZU\", \"sex\": \"Male\", \"age_group\": \"age_6to11\", \"num_patients\": 17}, {\"siteid\": \"FZU\", \"sex\": \"Female\", \"age_group\": \"age_6to11\", \"num_patients\": 58}, {\"siteid\": \"FZU\", \"sex\": \"Other\", \"age_group\": \"age_6to11\", \"num_patients\": 0}, {\"siteid\": \"FZT\", \"sex\": \"Male\", \"age_group\": \"age_6to11\", \"num_patients\": 21}, {\"siteid\": \"FZT\", \"sex\": \"Female\", \"age_group\": \"age_6to11\", \"num_patients\": 29}, {\"siteid\": \"FZT\", \"sex\": \"Other\", \"age_group\": \"age_6to11\", \"num_patients\": 0}, {\"siteid\": \"FOW\", \"sex\": \"Male\", \"age_group\": \"age_6to11\", \"num_patients\": 63}, {\"siteid\": \"FOW\", \"sex\": \"Female\", \"age_group\": \"age_6to11\", \"num_patients\": 95}, {\"siteid\": \"FOW\", \"sex\": \"Other\", \"age_group\": \"age_6to11\", \"num_patients\": 0}, {\"siteid\": \"FUN\", \"sex\": \"Male\", \"age_group\": \"age_6to11\", \"num_patients\": 6}, {\"siteid\": \"FUN\", \"sex\": \"Female\", \"age_group\": \"age_6to11\", \"num_patients\": 9}, {\"siteid\": \"FUN\", \"sex\": \"Other\", \"age_group\": \"age_6to11\", \"num_patients\": 0}, {\"siteid\": \"FUU\", \"sex\": \"Male\", \"age_group\": \"age_6to11\", \"num_patients\": 50}, {\"siteid\": \"FUU\", \"sex\": \"Female\", \"age_group\": \"age_6to11\", \"num_patients\": 9}, {\"siteid\": \"FUU\", \"sex\": \"Other\", \"age_group\": \"age_6to11\", \"num_patients\": 1}, {\"siteid\": \"FZM\", \"sex\": \"Male\", \"age_group\": \"age_6to11\", \"num_patients\": 1}, {\"siteid\": \"FZM\", \"sex\": \"Female\", \"age_group\": \"age_6to11\", \"num_patients\": 42}, {\"siteid\": \"FZM\", \"sex\": \"Other\", \"age_group\": \"age_6to11\", \"num_patients\": 0}, {\"siteid\": \"FVX\", \"sex\": \"Male\", \"age_group\": \"age_6to11\", \"num_patients\": 162}, {\"siteid\": \"FVX\", \"sex\": \"Female\", \"age_group\": \"age_6to11\", \"num_patients\": 100}, {\"siteid\": \"FVX\", \"sex\": \"Other\", \"age_group\": \"age_6to11\", \"num_patients\": 0}, {\"siteid\": \"FBL\", \"sex\": \"Male\", \"age_group\": \"age_6to11\", \"num_patients\": 4}, {\"siteid\": \"FBL\", \"sex\": \"Female\", \"age_group\": \"age_6to11\", \"num_patients\": 84}, {\"siteid\": \"FBL\", \"sex\": \"Other\", \"age_group\": \"age_6to11\", \"num_patients\": 1}, {\"siteid\": \"FMT\", \"sex\": \"Male\", \"age_group\": \"age_6to11\", \"num_patients\": 4}, {\"siteid\": \"FMT\", \"sex\": \"Female\", \"age_group\": \"age_6to11\", \"num_patients\": 6}, {\"siteid\": \"FMT\", \"sex\": \"Other\", \"age_group\": \"age_6to11\", \"num_patients\": 0}, {\"siteid\": \"FMA\", \"sex\": \"Male\", \"age_group\": \"age_6to11\", \"num_patients\": 66}, {\"siteid\": \"FMA\", \"sex\": \"Female\", \"age_group\": \"age_6to11\", \"num_patients\": 42}, {\"siteid\": \"FMA\", \"sex\": \"Other\", \"age_group\": \"age_6to11\", \"num_patients\": 0}, {\"siteid\": \"FWN\", \"sex\": \"Male\", \"age_group\": \"age_6to11\", \"num_patients\": 23}, {\"siteid\": \"FWN\", \"sex\": \"Female\", \"age_group\": \"age_6to11\", \"num_patients\": 22}, {\"siteid\": \"FWN\", \"sex\": \"Other\", \"age_group\": \"age_6to11\", \"num_patients\": 0}, {\"siteid\": \"FKQ\", \"sex\": \"Male\", \"age_group\": \"age_6to11\", \"num_patients\": 1}, {\"siteid\": \"FKQ\", \"sex\": \"Female\", \"age_group\": \"age_6to11\", \"num_patients\": 2}, {\"siteid\": \"FKQ\", \"sex\": \"Other\", \"age_group\": \"age_6to11\", \"num_patients\": 0}, {\"siteid\": \"FFG\", \"sex\": \"Male\", \"age_group\": \"age_6to11\", \"num_patients\": 26}, {\"siteid\": \"FFG\", \"sex\": \"Female\", \"age_group\": \"age_6to11\", \"num_patients\": 70}, {\"siteid\": \"FFG\", \"sex\": \"Other\", \"age_group\": \"age_6to11\", \"num_patients\": 1}, {\"siteid\": \"FKN\", \"sex\": \"Male\", \"age_group\": \"age_12to17\", \"num_patients\": 11}, {\"siteid\": \"FKN\", \"sex\": \"Female\", \"age_group\": \"age_12to17\", \"num_patients\": 26}, {\"siteid\": \"FKN\", \"sex\": \"Other\", \"age_group\": \"age_12to17\", \"num_patients\": 0}, {\"siteid\": \"FEQ\", \"sex\": \"Male\", \"age_group\": \"age_12to17\", \"num_patients\": 113}, {\"siteid\": \"FEQ\", \"sex\": \"Female\", \"age_group\": \"age_12to17\", \"num_patients\": 106}, {\"siteid\": \"FEQ\", \"sex\": \"Other\", \"age_group\": \"age_12to17\", \"num_patients\": 0}, {\"siteid\": \"FKL\", \"sex\": \"Male\", \"age_group\": \"age_12to17\", \"num_patients\": 11}, {\"siteid\": \"FKL\", \"sex\": \"Female\", \"age_group\": \"age_12to17\", \"num_patients\": 18}, {\"siteid\": \"FKL\", \"sex\": \"Other\", \"age_group\": \"age_12to17\", \"num_patients\": 0}, {\"siteid\": \"FDQ\", \"sex\": \"Male\", \"age_group\": \"age_12to17\", \"num_patients\": 65}, {\"siteid\": \"FDQ\", \"sex\": \"Female\", \"age_group\": \"age_12to17\", \"num_patients\": 37}, {\"siteid\": \"FDQ\", \"sex\": \"Other\", \"age_group\": \"age_12to17\", \"num_patients\": 0}, {\"siteid\": \"FSZ\", \"sex\": \"Male\", \"age_group\": \"age_12to17\", \"num_patients\": 95}, {\"siteid\": \"FSZ\", \"sex\": \"Female\", \"age_group\": \"age_12to17\", \"num_patients\": 37}, {\"siteid\": \"FSZ\", \"sex\": \"Other\", \"age_group\": \"age_12to17\", \"num_patients\": 1}, {\"siteid\": \"FXL\", \"sex\": \"Male\", \"age_group\": \"age_12to17\", \"num_patients\": 98}, {\"siteid\": \"FXL\", \"sex\": \"Female\", \"age_group\": \"age_12to17\", \"num_patients\": 111}, {\"siteid\": \"FXL\", \"sex\": \"Other\", \"age_group\": \"age_12to17\", \"num_patients\": 1}, {\"siteid\": \"FBD\", \"sex\": \"Male\", \"age_group\": \"age_12to17\", \"num_patients\": 117}, {\"siteid\": \"FBD\", \"sex\": \"Female\", \"age_group\": \"age_12to17\", \"num_patients\": 106}, {\"siteid\": \"FBD\", \"sex\": \"Other\", \"age_group\": \"age_12to17\", \"num_patients\": 0}, {\"siteid\": \"FZU\", \"sex\": \"Male\", \"age_group\": \"age_12to17\", \"num_patients\": 76}, {\"siteid\": \"FZU\", \"sex\": \"Female\", \"age_group\": \"age_12to17\", \"num_patients\": 20}, {\"siteid\": \"FZU\", \"sex\": \"Other\", \"age_group\": \"age_12to17\", \"num_patients\": 0}, {\"siteid\": \"FZT\", \"sex\": \"Male\", \"age_group\": \"age_12to17\", \"num_patients\": 3}, {\"siteid\": \"FZT\", \"sex\": \"Female\", \"age_group\": \"age_12to17\", \"num_patients\": 12}, {\"siteid\": \"FZT\", \"sex\": \"Other\", \"age_group\": \"age_12to17\", \"num_patients\": 0}, {\"siteid\": \"FOW\", \"sex\": \"Male\", \"age_group\": \"age_12to17\", \"num_patients\": 47}, {\"siteid\": \"FOW\", \"sex\": \"Female\", \"age_group\": \"age_12to17\", \"num_patients\": 15}, {\"siteid\": \"FOW\", \"sex\": \"Other\", \"age_group\": \"age_12to17\", \"num_patients\": 0}, {\"siteid\": \"FUN\", \"sex\": \"Male\", \"age_group\": \"age_12to17\", \"num_patients\": 2}, {\"siteid\": \"FUN\", \"sex\": \"Female\", \"age_group\": \"age_12to17\", \"num_patients\": 16}, {\"siteid\": \"FUN\", \"sex\": \"Other\", \"age_group\": \"age_12to17\", \"num_patients\": 0}, {\"siteid\": \"FUU\", \"sex\": \"Male\", \"age_group\": \"age_12to17\", \"num_patients\": 104}, {\"siteid\": \"FUU\", \"sex\": \"Female\", \"age_group\": \"age_12to17\", \"num_patients\": 78}, {\"siteid\": \"FUU\", \"sex\": \"Other\", \"age_group\": \"age_12to17\", \"num_patients\": 1}, {\"siteid\": \"FZM\", \"sex\": \"Male\", \"age_group\": \"age_12to17\", \"num_patients\": 5}, {\"siteid\": \"FZM\", \"sex\": \"Female\", \"age_group\": \"age_12to17\", \"num_patients\": 6}, {\"siteid\": \"FZM\", \"sex\": \"Other\", \"age_group\": \"age_12to17\", \"num_patients\": 0}, {\"siteid\": \"FVX\", \"sex\": \"Male\", \"age_group\": \"age_12to17\", \"num_patients\": 74}, {\"siteid\": \"FVX\", \"sex\": \"Female\", \"age_group\": \"age_12to17\", \"num_patients\": 81}, {\"siteid\": \"FVX\", \"sex\": \"Other\", \"age_group\": \"age_12to17\", \"num_patients\": 0}, {\"siteid\": \"FBL\", \"sex\": \"Male\", \"age_group\": \"age_12to17\", \"num_patients\": 77}, {\"siteid\": \"FBL\", \"sex\": \"Female\", \"age_group\": \"age_12to17\", \"num_patients\": 49}, {\"siteid\": \"FBL\", \"sex\": \"Other\", \"age_group\": \"age_12to17\", \"num_patients\": 1}, {\"siteid\": \"FMT\", \"sex\": \"Male\", \"age_group\": \"age_12to17\", \"num_patients\": 14}, {\"siteid\": \"FMT\", \"sex\": \"Female\", \"age_group\": \"age_12to17\", \"num_patients\": 25}, {\"siteid\": \"FMT\", \"sex\": \"Other\", \"age_group\": \"age_12to17\", \"num_patients\": 0}, {\"siteid\": \"FMA\", \"sex\": \"Male\", \"age_group\": \"age_12to17\", \"num_patients\": 9}, {\"siteid\": \"FMA\", \"sex\": \"Female\", \"age_group\": \"age_12to17\", \"num_patients\": 122}, {\"siteid\": \"FMA\", \"sex\": \"Other\", \"age_group\": \"age_12to17\", \"num_patients\": 1}, {\"siteid\": \"FWN\", \"sex\": \"Male\", \"age_group\": \"age_12to17\", \"num_patients\": 41}, {\"siteid\": \"FWN\", \"sex\": \"Female\", \"age_group\": \"age_12to17\", \"num_patients\": 27}, {\"siteid\": \"FWN\", \"sex\": \"Other\", \"age_group\": \"age_12to17\", \"num_patients\": 0}, {\"siteid\": \"FKQ\", \"sex\": \"Male\", \"age_group\": \"age_12to17\", \"num_patients\": 11}, {\"siteid\": \"FKQ\", \"sex\": \"Female\", \"age_group\": \"age_12to17\", \"num_patients\": 16}, {\"siteid\": \"FKQ\", \"sex\": \"Other\", \"age_group\": \"age_12to17\", \"num_patients\": 0}, {\"siteid\": \"FFG\", \"sex\": \"Male\", \"age_group\": \"age_12to17\", \"num_patients\": 55}, {\"siteid\": \"FFG\", \"sex\": \"Female\", \"age_group\": \"age_12to17\", \"num_patients\": 39}, {\"siteid\": \"FFG\", \"sex\": \"Other\", \"age_group\": \"age_12to17\", \"num_patients\": 1}, {\"siteid\": \"FKN\", \"sex\": \"Male\", \"age_group\": \"age_18to25\", \"num_patients\": 40}, {\"siteid\": \"FKN\", \"sex\": \"Female\", \"age_group\": \"age_18to25\", \"num_patients\": 7}, {\"siteid\": \"FKN\", \"sex\": \"Other\", \"age_group\": \"age_18to25\", \"num_patients\": 0}, {\"siteid\": \"FEQ\", \"sex\": \"Male\", \"age_group\": \"age_18to25\", \"num_patients\": 22}, {\"siteid\": \"FEQ\", \"sex\": \"Female\", \"age_group\": \"age_18to25\", \"num_patients\": 65}, {\"siteid\": \"FEQ\", \"sex\": \"Other\", \"age_group\": \"age_18to25\", \"num_patients\": 1}, {\"siteid\": \"FKL\", \"sex\": \"Male\", \"age_group\": \"age_18to25\", \"num_patients\": 12}, {\"siteid\": \"FKL\", \"sex\": \"Female\", \"age_group\": \"age_18to25\", \"num_patients\": 2}, {\"siteid\": \"FKL\", \"sex\": \"Other\", \"age_group\": \"age_18to25\", \"num_patients\": 0}, {\"siteid\": \"FDQ\", \"sex\": \"Male\", \"age_group\": \"age_18to25\", \"num_patients\": 122}, {\"siteid\": \"FDQ\", \"sex\": \"Female\", \"age_group\": \"age_18to25\", \"num_patients\": 17}, {\"siteid\": \"FDQ\", \"sex\": \"Other\", \"age_group\": \"age_18to25\", \"num_patients\": 0}, {\"siteid\": \"FSZ\", \"sex\": \"Male\", \"age_group\": \"age_18to25\", \"num_patients\": 6}, {\"siteid\": \"FSZ\", \"sex\": \"Female\", \"age_group\": \"age_18to25\", \"num_patients\": 124}, {\"siteid\": \"FSZ\", \"sex\": \"Other\", \"age_group\": \"age_18to25\", \"num_patients\": 0}, {\"siteid\": \"FXL\", \"sex\": \"Male\", \"age_group\": \"age_18to25\", \"num_patients\": 153}, {\"siteid\": \"FXL\", \"sex\": \"Female\", \"age_group\": \"age_18to25\", \"num_patients\": 22}, {\"siteid\": \"FXL\", \"sex\": \"Other\", \"age_group\": \"age_18to25\", \"num_patients\": 1}, {\"siteid\": \"FBD\", \"sex\": \"Male\", \"age_group\": \"age_18to25\", \"num_patients\": 46}, {\"siteid\": \"FBD\", \"sex\": \"Female\", \"age_group\": \"age_18to25\", \"num_patients\": 20}, {\"siteid\": \"FBD\", \"sex\": \"Other\", \"age_group\": \"age_18to25\", \"num_patients\": 0}, {\"siteid\": \"FZU\", \"sex\": \"Male\", \"age_group\": \"age_18to25\", \"num_patients\": 32}, {\"siteid\": \"FZU\", \"sex\": \"Female\", \"age_group\": \"age_18to25\", \"num_patients\": 58}, {\"siteid\": \"FZU\", \"sex\": \"Other\", \"age_group\": \"age_18to25\", \"num_patients\": 0}, {\"siteid\": \"FZT\", \"sex\": \"Male\", \"age_group\": \"age_18to25\", \"num_patients\": 10}, {\"siteid\": \"FZT\", \"sex\": \"Female\", \"age_group\": \"age_18to25\", \"num_patients\": 37}, {\"siteid\": \"FZT\", \"sex\": \"Other\", \"age_group\": \"age_18to25\", \"num_patients\": 0}, {\"siteid\": \"FOW\", \"sex\": \"Male\", \"age_group\": \"age_18to25\", \"num_patients\": 57}, {\"siteid\": \"FOW\", \"sex\": \"Female\", \"age_group\": \"age_18to25\", \"num_patients\": 81}, {\"siteid\": \"FOW\", \"sex\": \"Other\", \"age_group\": \"age_18to25\", \"num_patients\": 0}, {\"siteid\": \"FUN\", \"sex\": \"Male\", \"age_group\": \"age_18to25\", \"num_patients\": 8}, {\"siteid\": \"FUN\", \"sex\": \"Female\", \"age_group\": \"age_18to25\", \"num_patients\": 3}, {\"siteid\": \"FUN\", \"sex\": \"Other\", \"age_group\": \"age_18to25\", \"num_patients\": 0}, {\"siteid\": \"FUU\", \"sex\": \"Male\", \"age_group\": \"age_18to25\", \"num_patients\": 190}, {\"siteid\": \"FUU\", \"sex\": \"Female\", \"age_group\": \"age_18to25\", \"num_patients\": 49}, {\"siteid\": \"FUU\", \"sex\": \"Other\", \"age_group\": \"age_18to25\", \"num_patients\": 1}, {\"siteid\": \"FZM\", \"sex\": \"Male\", \"age_group\": \"age_18to25\", \"num_patients\": 27}, {\"siteid\": \"FZM\", \"sex\": \"Female\", \"age_group\": \"age_18to25\", \"num_patients\": 26}, {\"siteid\": \"FZM\", \"sex\": \"Other\", \"age_group\": \"age_18to25\", \"num_patients\": 0}, {\"siteid\": \"FVX\", \"sex\": \"Male\", \"age_group\": \"age_18to25\", \"num_patients\": 98}, {\"siteid\": \"FVX\", \"sex\": \"Female\", \"age_group\": \"age_18to25\", \"num_patients\": 78}, {\"siteid\": \"FVX\", \"sex\": \"Other\", \"age_group\": \"age_18to25\", \"num_patients\": 0}, {\"siteid\": \"FBL\", \"sex\": \"Male\", \"age_group\": \"age_18to25\", \"num_patients\": 107}, {\"siteid\": \"FBL\", \"sex\": \"Female\", \"age_group\": \"age_18to25\", \"num_patients\": 31}, {\"siteid\": \"FBL\", \"sex\": \"Other\", \"age_group\": \"age_18to25\", \"num_patients\": 0}, {\"siteid\": \"FMT\", \"sex\": \"Male\", \"age_group\": \"age_18to25\", \"num_patients\": 1}, {\"siteid\": \"FMT\", \"sex\": \"Female\", \"age_group\": \"age_18to25\", \"num_patients\": 41}, {\"siteid\": \"FMT\", \"sex\": \"Other\", \"age_group\": \"age_18to25\", \"num_patients\": 1}, {\"siteid\": \"FMA\", \"sex\": \"Male\", \"age_group\": \"age_18to25\", \"num_patients\": 11}, {\"siteid\": \"FMA\", \"sex\": \"Female\", \"age_group\": \"age_18to25\", \"num_patients\": 96}, {\"siteid\": \"FMA\", \"sex\": \"Other\", \"age_group\": \"age_18to25\", \"num_patients\": 0}, {\"siteid\": \"FWN\", \"sex\": \"Male\", \"age_group\": \"age_18to25\", \"num_patients\": 13}, {\"siteid\": \"FWN\", \"sex\": \"Female\", \"age_group\": \"age_18to25\", \"num_patients\": 26}, {\"siteid\": \"FWN\", \"sex\": \"Other\", \"age_group\": \"age_18to25\", \"num_patients\": 0}, {\"siteid\": \"FKQ\", \"sex\": \"Male\", \"age_group\": \"age_18to25\", \"num_patients\": 0}, {\"siteid\": \"FKQ\", \"sex\": \"Female\", \"age_group\": \"age_18to25\", \"num_patients\": 3}, {\"siteid\": \"FKQ\", \"sex\": \"Other\", \"age_group\": \"age_18to25\", \"num_patients\": 0}, {\"siteid\": \"FFG\", \"sex\": \"Male\", \"age_group\": \"age_18to25\", \"num_patients\": 108}, {\"siteid\": \"FFG\", \"sex\": \"Female\", \"age_group\": \"age_18to25\", \"num_patients\": 2}, {\"siteid\": \"FFG\", \"sex\": \"Other\", \"age_group\": \"age_18to25\", \"num_patients\": 0}, {\"siteid\": \"FKN\", \"sex\": \"Male\", \"age_group\": \"age_26to49\", \"num_patients\": 10}, {\"siteid\": \"FKN\", \"sex\": \"Female\", \"age_group\": \"age_26to49\", \"num_patients\": 15}, {\"siteid\": \"FKN\", \"sex\": \"Other\", \"age_group\": \"age_26to49\", \"num_patients\": 0}, {\"siteid\": \"FEQ\", \"sex\": \"Male\", \"age_group\": \"age_26to49\", \"num_patients\": 130}, {\"siteid\": \"FEQ\", \"sex\": \"Female\", \"age_group\": \"age_26to49\", \"num_patients\": 106}, {\"siteid\": \"FEQ\", \"sex\": \"Other\", \"age_group\": \"age_26to49\", \"num_patients\": 0}, {\"siteid\": \"FKL\", \"sex\": \"Male\", \"age_group\": \"age_26to49\", \"num_patients\": 24}, {\"siteid\": \"FKL\", \"sex\": \"Female\", \"age_group\": \"age_26to49\", \"num_patients\": 11}, {\"siteid\": \"FKL\", \"sex\": \"Other\", \"age_group\": \"age_26to49\", \"num_patients\": 0}, {\"siteid\": \"FDQ\", \"sex\": \"Male\", \"age_group\": \"age_26to49\", \"num_patients\": 7}, {\"siteid\": \"FDQ\", \"sex\": \"Female\", \"age_group\": \"age_26to49\", \"num_patients\": 49}, {\"siteid\": \"FDQ\", \"sex\": \"Other\", \"age_group\": \"age_26to49\", \"num_patients\": 0}, {\"siteid\": \"FSZ\", \"sex\": \"Male\", \"age_group\": \"age_26to49\", \"num_patients\": 32}, {\"siteid\": \"FSZ\", \"sex\": \"Female\", \"age_group\": \"age_26to49\", \"num_patients\": 74}, {\"siteid\": \"FSZ\", \"sex\": \"Other\", \"age_group\": \"age_26to49\", \"num_patients\": 0}, {\"siteid\": \"FXL\", \"sex\": \"Male\", \"age_group\": \"age_26to49\", \"num_patients\": 29}, {\"siteid\": \"FXL\", \"sex\": \"Female\", \"age_group\": \"age_26to49\", \"num_patients\": 184}, {\"siteid\": \"FXL\", \"sex\": \"Other\", \"age_group\": \"age_26to49\", \"num_patients\": 0}, {\"siteid\": \"FBD\", \"sex\": \"Male\", \"age_group\": \"age_26to49\", \"num_patients\": 32}, {\"siteid\": \"FBD\", \"sex\": \"Female\", \"age_group\": \"age_26to49\", \"num_patients\": 5}, {\"siteid\": \"FBD\", \"sex\": \"Other\", \"age_group\": \"age_26to49\", \"num_patients\": 0}, {\"siteid\": \"FZU\", \"sex\": \"Male\", \"age_group\": \"age_26to49\", \"num_patients\": 9}, {\"siteid\": \"FZU\", \"sex\": \"Female\", \"age_group\": \"age_26to49\", \"num_patients\": 40}, {\"siteid\": \"FZU\", \"sex\": \"Other\", \"age_group\": \"age_26to49\", \"num_patients\": 0}, {\"siteid\": \"FZT\", \"sex\": \"Male\", \"age_group\": \"age_26to49\", \"num_patients\": 6}, {\"siteid\": \"FZT\", \"sex\": \"Female\", \"age_group\": \"age_26to49\", \"num_patients\": 33}, {\"siteid\": \"FZT\", \"sex\": \"Other\", \"age_group\": \"age_26to49\", \"num_patients\": 0}, {\"siteid\": \"FOW\", \"sex\": \"Male\", \"age_group\": \"age_26to49\", \"num_patients\": 0}, {\"siteid\": \"FOW\", \"sex\": \"Female\", \"age_group\": \"age_26to49\", \"num_patients\": 10}, {\"siteid\": \"FOW\", \"sex\": \"Other\", \"age_group\": \"age_26to49\", \"num_patients\": 0}, {\"siteid\": \"FUN\", \"sex\": \"Male\", \"age_group\": \"age_26to49\", \"num_patients\": 19}, {\"siteid\": \"FUN\", \"sex\": \"Female\", \"age_group\": \"age_26to49\", \"num_patients\": 22}, {\"siteid\": \"FUN\", \"sex\": \"Other\", \"age_group\": \"age_26to49\", \"num_patients\": 1}, {\"siteid\": \"FUU\", \"sex\": \"Male\", \"age_group\": \"age_26to49\", \"num_patients\": 72}, {\"siteid\": \"FUU\", \"sex\": \"Female\", \"age_group\": \"age_26to49\", \"num_patients\": 20}, {\"siteid\": \"FUU\", \"sex\": \"Other\", \"age_group\": \"age_26to49\", \"num_patients\": 1}, {\"siteid\": \"FZM\", \"sex\": \"Male\", \"age_group\": \"age_26to49\", \"num_patients\": 4}, {\"siteid\": \"FZM\", \"sex\": \"Female\", \"age_group\": \"age_26to49\", \"num_patients\": 11}, {\"siteid\": \"FZM\", \"sex\": \"Other\", \"age_group\": \"age_26to49\", \"num_patients\": 0}, {\"siteid\": \"FVX\", \"sex\": \"Male\", \"age_group\": \"age_26to49\", \"num_patients\": 26}, {\"siteid\": \"FVX\", \"sex\": \"Female\", \"age_group\": \"age_26to49\", \"num_patients\": 14}, {\"siteid\": \"FVX\", \"sex\": \"Other\", \"age_group\": \"age_26to49\", \"num_patients\": 1}, {\"siteid\": \"FBL\", \"sex\": \"Male\", \"age_group\": \"age_26to49\", \"num_patients\": 4}, {\"siteid\": \"FBL\", \"sex\": \"Female\", \"age_group\": \"age_26to49\", \"num_patients\": 32}, {\"siteid\": \"FBL\", \"sex\": \"Other\", \"age_group\": \"age_26to49\", \"num_patients\": 0}, {\"siteid\": \"FMT\", \"sex\": \"Male\", \"age_group\": \"age_26to49\", \"num_patients\": 3}, {\"siteid\": \"FMT\", \"sex\": \"Female\", \"age_group\": \"age_26to49\", \"num_patients\": 24}, {\"siteid\": \"FMT\", \"sex\": \"Other\", \"age_group\": \"age_26to49\", \"num_patients\": 0}, {\"siteid\": \"FMA\", \"sex\": \"Male\", \"age_group\": \"age_26to49\", \"num_patients\": 25}, {\"siteid\": \"FMA\", \"sex\": \"Female\", \"age_group\": \"age_26to49\", \"num_patients\": 4}, {\"siteid\": \"FMA\", \"sex\": \"Other\", \"age_group\": \"age_26to49\", \"num_patients\": 0}, {\"siteid\": \"FWN\", \"sex\": \"Male\", \"age_group\": \"age_26to49\", \"num_patients\": 28}, {\"siteid\": \"FWN\", \"sex\": \"Female\", \"age_group\": \"age_26to49\", \"num_patients\": 30}, {\"siteid\": \"FWN\", \"sex\": \"Other\", \"age_group\": \"age_26to49\", \"num_patients\": 0}, {\"siteid\": \"FKQ\", \"sex\": \"Male\", \"age_group\": \"age_26to49\", \"num_patients\": 12}, {\"siteid\": \"FKQ\", \"sex\": \"Female\", \"age_group\": \"age_26to49\", \"num_patients\": 39}, {\"siteid\": \"FKQ\", \"sex\": \"Other\", \"age_group\": \"age_26to49\", \"num_patients\": 0}, {\"siteid\": \"FFG\", \"sex\": \"Male\", \"age_group\": \"age_26to49\", \"num_patients\": 81}, {\"siteid\": \"FFG\", \"sex\": \"Female\", \"age_group\": \"age_26to49\", \"num_patients\": 67}, {\"siteid\": \"FFG\", \"sex\": \"Other\", \"age_group\": \"age_26to49\", \"num_patients\": 1}, {\"siteid\": \"FKN\", \"sex\": \"Male\", \"age_group\": \"age_50to69\", \"num_patients\": 4}, {\"siteid\": \"FKN\", \"sex\": \"Female\", \"age_group\": \"age_50to69\", \"num_patients\": 33}, {\"siteid\": \"FKN\", \"sex\": \"Other\", \"age_group\": \"age_50to69\", \"num_patients\": 0}, {\"siteid\": \"FEQ\", \"sex\": \"Male\", \"age_group\": \"age_50to69\", \"num_patients\": 28}, {\"siteid\": \"FEQ\", \"sex\": \"Female\", \"age_group\": \"age_50to69\", \"num_patients\": 9}, {\"siteid\": \"FEQ\", \"sex\": \"Other\", \"age_group\": \"age_50to69\", \"num_patients\": 1}, {\"siteid\": \"FKL\", \"sex\": \"Male\", \"age_group\": \"age_50to69\", \"num_patients\": 11}, {\"siteid\": \"FKL\", \"sex\": \"Female\", \"age_group\": \"age_50to69\", \"num_patients\": 10}, {\"siteid\": \"FKL\", \"sex\": \"Other\", \"age_group\": \"age_50to69\", \"num_patients\": 0}, {\"siteid\": \"FDQ\", \"sex\": \"Male\", \"age_group\": \"age_50to69\", \"num_patients\": 15}, {\"siteid\": \"FDQ\", \"sex\": \"Female\", \"age_group\": \"age_50to69\", \"num_patients\": 17}, {\"siteid\": \"FDQ\", \"sex\": \"Other\", \"age_group\": \"age_50to69\", \"num_patients\": 0}, {\"siteid\": \"FSZ\", \"sex\": \"Male\", \"age_group\": \"age_50to69\", \"num_patients\": 12}, {\"siteid\": \"FSZ\", \"sex\": \"Female\", \"age_group\": \"age_50to69\", \"num_patients\": 18}, {\"siteid\": \"FSZ\", \"sex\": \"Other\", \"age_group\": \"age_50to69\", \"num_patients\": 0}, {\"siteid\": \"FXL\", \"sex\": \"Male\", \"age_group\": \"age_50to69\", \"num_patients\": 29}, {\"siteid\": \"FXL\", \"sex\": \"Female\", \"age_group\": \"age_50to69\", \"num_patients\": 17}, {\"siteid\": \"FXL\", \"sex\": \"Other\", \"age_group\": \"age_50to69\", \"num_patients\": 0}, {\"siteid\": \"FBD\", \"sex\": \"Male\", \"age_group\": \"age_50to69\", \"num_patients\": 76}, {\"siteid\": \"FBD\", \"sex\": \"Female\", \"age_group\": \"age_50to69\", \"num_patients\": 34}, {\"siteid\": \"FBD\", \"sex\": \"Other\", \"age_group\": \"age_50to69\", \"num_patients\": 0}, {\"siteid\": \"FZU\", \"sex\": \"Male\", \"age_group\": \"age_50to69\", \"num_patients\": 43}, {\"siteid\": \"FZU\", \"sex\": \"Female\", \"age_group\": \"age_50to69\", \"num_patients\": 49}, {\"siteid\": \"FZU\", \"sex\": \"Other\", \"age_group\": \"age_50to69\", \"num_patients\": 0}, {\"siteid\": \"FZT\", \"sex\": \"Male\", \"age_group\": \"age_50to69\", \"num_patients\": 0}, {\"siteid\": \"FZT\", \"sex\": \"Female\", \"age_group\": \"age_50to69\", \"num_patients\": 3}, {\"siteid\": \"FZT\", \"sex\": \"Other\", \"age_group\": \"age_50to69\", \"num_patients\": 1}, {\"siteid\": \"FOW\", \"sex\": \"Male\", \"age_group\": \"age_50to69\", \"num_patients\": 8}, {\"siteid\": \"FOW\", \"sex\": \"Female\", \"age_group\": \"age_50to69\", \"num_patients\": 4}, {\"siteid\": \"FOW\", \"sex\": \"Other\", \"age_group\": \"age_50to69\", \"num_patients\": 1}, {\"siteid\": \"FUN\", \"sex\": \"Male\", \"age_group\": \"age_50to69\", \"num_patients\": 5}, {\"siteid\": \"FUN\", \"sex\": \"Female\", \"age_group\": \"age_50to69\", \"num_patients\": 4}, {\"siteid\": \"FUN\", \"sex\": \"Other\", \"age_group\": \"age_50to69\", \"num_patients\": 0}, {\"siteid\": \"FUU\", \"sex\": \"Male\", \"age_group\": \"age_50to69\", \"num_patients\": 37}, {\"siteid\": \"FUU\", \"sex\": \"Female\", \"age_group\": \"age_50to69\", \"num_patients\": 10}, {\"siteid\": \"FUU\", \"sex\": \"Other\", \"age_group\": \"age_50to69\", \"num_patients\": 0}, {\"siteid\": \"FZM\", \"sex\": \"Male\", \"age_group\": \"age_50to69\", \"num_patients\": 0}, {\"siteid\": \"FZM\", \"sex\": \"Female\", \"age_group\": \"age_50to69\", \"num_patients\": 1}, {\"siteid\": \"FZM\", \"sex\": \"Other\", \"age_group\": \"age_50to69\", \"num_patients\": 0}, {\"siteid\": \"FVX\", \"sex\": \"Male\", \"age_group\": \"age_50to69\", \"num_patients\": 25}, {\"siteid\": \"FVX\", \"sex\": \"Female\", \"age_group\": \"age_50to69\", \"num_patients\": 82}, {\"siteid\": \"FVX\", \"sex\": \"Other\", \"age_group\": \"age_50to69\", \"num_patients\": 0}, {\"siteid\": \"FBL\", \"sex\": \"Male\", \"age_group\": \"age_50to69\", \"num_patients\": 61}, {\"siteid\": \"FBL\", \"sex\": \"Female\", \"age_group\": \"age_50to69\", \"num_patients\": 162}, {\"siteid\": \"FBL\", \"sex\": \"Other\", \"age_group\": \"age_50to69\", \"num_patients\": 0}, {\"siteid\": \"FMT\", \"sex\": \"Male\", \"age_group\": \"age_50to69\", \"num_patients\": 50}, {\"siteid\": \"FMT\", \"sex\": \"Female\", \"age_group\": \"age_50to69\", \"num_patients\": 11}, {\"siteid\": \"FMT\", \"sex\": \"Other\", \"age_group\": \"age_50to69\", \"num_patients\": 0}, {\"siteid\": \"FMA\", \"sex\": \"Male\", \"age_group\": \"age_50to69\", \"num_patients\": 49}, {\"siteid\": \"FMA\", \"sex\": \"Female\", \"age_group\": \"age_50to69\", \"num_patients\": 220}, {\"siteid\": \"FMA\", \"sex\": \"Other\", \"age_group\": \"age_50to69\", \"num_patients\": 0}, {\"siteid\": \"FWN\", \"sex\": \"Male\", \"age_group\": \"age_50to69\", \"num_patients\": 103}, {\"siteid\": \"FWN\", \"sex\": \"Female\", \"age_group\": \"age_50to69\", \"num_patients\": 18}, {\"siteid\": \"FWN\", \"sex\": \"Other\", \"age_group\": \"age_50to69\", \"num_patients\": 1}, {\"siteid\": \"FKQ\", \"sex\": \"Male\", \"age_group\": \"age_50to69\", \"num_patients\": 16}, {\"siteid\": \"FKQ\", \"sex\": \"Female\", \"age_group\": \"age_50to69\", \"num_patients\": 9}, {\"siteid\": \"FKQ\", \"sex\": \"Other\", \"age_group\": \"age_50to69\", \"num_patients\": 1}, {\"siteid\": \"FFG\", \"sex\": \"Male\", \"age_group\": \"age_50to69\", \"num_patients\": 27}, {\"siteid\": \"FFG\", \"sex\": \"Female\", \"age_group\": \"age_50to69\", \"num_patients\": 54}, {\"siteid\": \"FFG\", \"sex\": \"Other\", \"age_group\": \"age_50to69\", \"num_patients\": 0}, {\"siteid\": \"FKN\", \"sex\": \"Male\", \"age_group\": \"age_70to79\", \"num_patients\": 16}, {\"siteid\": \"FKN\", \"sex\": \"Female\", \"age_group\": \"age_70to79\", \"num_patients\": 16}, {\"siteid\": \"FKN\", \"sex\": \"Other\", \"age_group\": \"age_70to79\", \"num_patients\": 0}, {\"siteid\": \"FEQ\", \"sex\": \"Male\", \"age_group\": \"age_70to79\", \"num_patients\": 15}, {\"siteid\": \"FEQ\", \"sex\": \"Female\", \"age_group\": \"age_70to79\", \"num_patients\": 49}, {\"siteid\": \"FEQ\", \"sex\": \"Other\", \"age_group\": \"age_70to79\", \"num_patients\": 0}, {\"siteid\": \"FKL\", \"sex\": \"Male\", \"age_group\": \"age_70to79\", \"num_patients\": 2}, {\"siteid\": \"FKL\", \"sex\": \"Female\", \"age_group\": \"age_70to79\", \"num_patients\": 2}, {\"siteid\": \"FKL\", \"sex\": \"Other\", \"age_group\": \"age_70to79\", \"num_patients\": 0}, {\"siteid\": \"FDQ\", \"sex\": \"Male\", \"age_group\": \"age_70to79\", \"num_patients\": 43}, {\"siteid\": \"FDQ\", \"sex\": \"Female\", \"age_group\": \"age_70to79\", \"num_patients\": 34}, {\"siteid\": \"FDQ\", \"sex\": \"Other\", \"age_group\": \"age_70to79\", \"num_patients\": 0}, {\"siteid\": \"FSZ\", \"sex\": \"Male\", \"age_group\": \"age_70to79\", \"num_patients\": 93}, {\"siteid\": \"FSZ\", \"sex\": \"Female\", \"age_group\": \"age_70to79\", \"num_patients\": 139}, {\"siteid\": \"FSZ\", \"sex\": \"Other\", \"age_group\": \"age_70to79\", \"num_patients\": 0}, {\"siteid\": \"FXL\", \"sex\": \"Male\", \"age_group\": \"age_70to79\", \"num_patients\": 33}, {\"siteid\": \"FXL\", \"sex\": \"Female\", \"age_group\": \"age_70to79\", \"num_patients\": 52}, {\"siteid\": \"FXL\", \"sex\": \"Other\", \"age_group\": \"age_70to79\", \"num_patients\": 0}, {\"siteid\": \"FBD\", \"sex\": \"Male\", \"age_group\": \"age_70to79\", \"num_patients\": 50}, {\"siteid\": \"FBD\", \"sex\": \"Female\", \"age_group\": \"age_70to79\", \"num_patients\": 28}, {\"siteid\": \"FBD\", \"sex\": \"Other\", \"age_group\": \"age_70to79\", \"num_patients\": 0}, {\"siteid\": \"FZU\", \"sex\": \"Male\", \"age_group\": \"age_70to79\", \"num_patients\": 5}, {\"siteid\": \"FZU\", \"sex\": \"Female\", \"age_group\": \"age_70to79\", \"num_patients\": 25}, {\"siteid\": \"FZU\", \"sex\": \"Other\", \"age_group\": \"age_70to79\", \"num_patients\": 0}, {\"siteid\": \"FZT\", \"sex\": \"Male\", \"age_group\": \"age_70to79\", \"num_patients\": 33}, {\"siteid\": \"FZT\", \"sex\": \"Female\", \"age_group\": \"age_70to79\", \"num_patients\": 6}, {\"siteid\": \"FZT\", \"sex\": \"Other\", \"age_group\": \"age_70to79\", \"num_patients\": 0}, {\"siteid\": \"FOW\", \"sex\": \"Male\", \"age_group\": \"age_70to79\", \"num_patients\": 37}, {\"siteid\": \"FOW\", \"sex\": \"Female\", \"age_group\": \"age_70to79\", \"num_patients\": 75}, {\"siteid\": \"FOW\", \"sex\": \"Other\", \"age_group\": \"age_70to79\", \"num_patients\": 0}, {\"siteid\": \"FUN\", \"sex\": \"Male\", \"age_group\": \"age_70to79\", \"num_patients\": 14}, {\"siteid\": \"FUN\", \"sex\": \"Female\", \"age_group\": \"age_70to79\", \"num_patients\": 11}, {\"siteid\": \"FUN\", \"sex\": \"Other\", \"age_group\": \"age_70to79\", \"num_patients\": 0}, {\"siteid\": \"FUU\", \"sex\": \"Male\", \"age_group\": \"age_70to79\", \"num_patients\": 59}, {\"siteid\": \"FUU\", \"sex\": \"Female\", \"age_group\": \"age_70to79\", \"num_patients\": 5}, {\"siteid\": \"FUU\", \"sex\": \"Other\", \"age_group\": \"age_70to79\", \"num_patients\": 0}, {\"siteid\": \"FZM\", \"sex\": \"Male\", \"age_group\": \"age_70to79\", \"num_patients\": 26}, {\"siteid\": \"FZM\", \"sex\": \"Female\", \"age_group\": \"age_70to79\", \"num_patients\": 14}, {\"siteid\": \"FZM\", \"sex\": \"Other\", \"age_group\": \"age_70to79\", \"num_patients\": 0}, {\"siteid\": \"FVX\", \"sex\": \"Male\", \"age_group\": \"age_70to79\", \"num_patients\": 3}, {\"siteid\": \"FVX\", \"sex\": \"Female\", \"age_group\": \"age_70to79\", \"num_patients\": 156}, {\"siteid\": \"FVX\", \"sex\": \"Other\", \"age_group\": \"age_70to79\", \"num_patients\": 0}, {\"siteid\": \"FBL\", \"sex\": \"Male\", \"age_group\": \"age_70to79\", \"num_patients\": 20}, {\"siteid\": \"FBL\", \"sex\": \"Female\", \"age_group\": \"age_70to79\", \"num_patients\": 196}, {\"siteid\": \"FBL\", \"sex\": \"Other\", \"age_group\": \"age_70to79\", \"num_patients\": 1}, {\"siteid\": \"FMT\", \"sex\": \"Male\", \"age_group\": \"age_70to79\", \"num_patients\": 9}, {\"siteid\": \"FMT\", \"sex\": \"Female\", \"age_group\": \"age_70to79\", \"num_patients\": 3}, {\"siteid\": \"FMT\", \"sex\": \"Other\", \"age_group\": \"age_70to79\", \"num_patients\": 0}, {\"siteid\": \"FMA\", \"sex\": \"Male\", \"age_group\": \"age_70to79\", \"num_patients\": 81}, {\"siteid\": \"FMA\", \"sex\": \"Female\", \"age_group\": \"age_70to79\", \"num_patients\": 222}, {\"siteid\": \"FMA\", \"sex\": \"Other\", \"age_group\": \"age_70to79\", \"num_patients\": 1}, {\"siteid\": \"FWN\", \"sex\": \"Male\", \"age_group\": \"age_70to79\", \"num_patients\": 63}, {\"siteid\": \"FWN\", \"sex\": \"Female\", \"age_group\": \"age_70to79\", \"num_patients\": 7}, {\"siteid\": \"FWN\", \"sex\": \"Other\", \"age_group\": \"age_70to79\", \"num_patients\": 0}, {\"siteid\": \"FKQ\", \"sex\": \"Male\", \"age_group\": \"age_70to79\", \"num_patients\": 0}, {\"siteid\": \"FKQ\", \"sex\": \"Female\", \"age_group\": \"age_70to79\", \"num_patients\": 0}, {\"siteid\": \"FKQ\", \"sex\": \"Other\", \"age_group\": \"age_70to79\", \"num_patients\": 0}, {\"siteid\": \"FFG\", \"sex\": \"Male\", \"age_group\": \"age_70to79\", \"num_patients\": 3}, {\"siteid\": \"FFG\", \"sex\": \"Female\", \"age_group\": \"age_70to79\", \"num_patients\": 8}, {\"siteid\": \"FFG\", \"sex\": \"Other\", \"age_group\": \"age_70to79\", \"num_patients\": 0}, {\"siteid\": \"FKN\", \"sex\": \"Male\", \"age_group\": \"age_80plus\", \"num_patients\": 3}, {\"siteid\": \"FKN\", \"sex\": \"Female\", \"age_group\": \"age_80plus\", \"num_patients\": 34}, {\"siteid\": \"FKN\", \"sex\": \"Other\", \"age_group\": \"age_80plus\", \"num_patients\": 0}, {\"siteid\": \"FEQ\", \"sex\": \"Male\", \"age_group\": \"age_80plus\", \"num_patients\": 46}, {\"siteid\": \"FEQ\", \"sex\": \"Female\", \"age_group\": \"age_80plus\", \"num_patients\": 41}, {\"siteid\": \"FEQ\", \"sex\": \"Other\", \"age_group\": \"age_80plus\", \"num_patients\": 0}, {\"siteid\": \"FKL\", \"sex\": \"Male\", \"age_group\": \"age_80plus\", \"num_patients\": 30}, {\"siteid\": \"FKL\", \"sex\": \"Female\", \"age_group\": \"age_80plus\", \"num_patients\": 2}, {\"siteid\": \"FKL\", \"sex\": \"Other\", \"age_group\": \"age_80plus\", \"num_patients\": 0}, {\"siteid\": \"FDQ\", \"sex\": \"Male\", \"age_group\": \"age_80plus\", \"num_patients\": 76}, {\"siteid\": \"FDQ\", \"sex\": \"Female\", \"age_group\": \"age_80plus\", \"num_patients\": 130}, {\"siteid\": \"FDQ\", \"sex\": \"Other\", \"age_group\": \"age_80plus\", \"num_patients\": 0}, {\"siteid\": \"FSZ\", \"sex\": \"Male\", \"age_group\": \"age_80plus\", \"num_patients\": 33}, {\"siteid\": \"FSZ\", \"sex\": \"Female\", \"age_group\": \"age_80plus\", \"num_patients\": 97}, {\"siteid\": \"FSZ\", \"sex\": \"Other\", \"age_group\": \"age_80plus\", \"num_patients\": 1}, {\"siteid\": \"FXL\", \"sex\": \"Male\", \"age_group\": \"age_80plus\", \"num_patients\": 27}, {\"siteid\": \"FXL\", \"sex\": \"Female\", \"age_group\": \"age_80plus\", \"num_patients\": 2}, {\"siteid\": \"FXL\", \"sex\": \"Other\", \"age_group\": \"age_80plus\", \"num_patients\": 0}, {\"siteid\": \"FBD\", \"sex\": \"Male\", \"age_group\": \"age_80plus\", \"num_patients\": 88}, {\"siteid\": \"FBD\", \"sex\": \"Female\", \"age_group\": \"age_80plus\", \"num_patients\": 9}, {\"siteid\": \"FBD\", \"sex\": \"Other\", \"age_group\": \"age_80plus\", \"num_patients\": 0}, {\"siteid\": \"FZU\", \"sex\": \"Male\", \"age_group\": \"age_80plus\", \"num_patients\": 6}, {\"siteid\": \"FZU\", \"sex\": \"Female\", \"age_group\": \"age_80plus\", \"num_patients\": 6}, {\"siteid\": \"FZU\", \"sex\": \"Other\", \"age_group\": \"age_80plus\", \"num_patients\": 1}, {\"siteid\": \"FZT\", \"sex\": \"Male\", \"age_group\": \"age_80plus\", \"num_patients\": 0}, {\"siteid\": \"FZT\", \"sex\": \"Female\", \"age_group\": \"age_80plus\", \"num_patients\": 1}, {\"siteid\": \"FZT\", \"sex\": \"Other\", \"age_group\": \"age_80plus\", \"num_patients\": 0}, {\"siteid\": \"FOW\", \"sex\": \"Male\", \"age_group\": \"age_80plus\", \"num_patients\": 23}, {\"siteid\": \"FOW\", \"sex\": \"Female\", \"age_group\": \"age_80plus\", \"num_patients\": 126}, {\"siteid\": \"FOW\", \"sex\": \"Other\", \"age_group\": \"age_80plus\", \"num_patients\": 0}, {\"siteid\": \"FUN\", \"sex\": \"Male\", \"age_group\": \"age_80plus\", \"num_patients\": 13}, {\"siteid\": \"FUN\", \"sex\": \"Female\", \"age_group\": \"age_80plus\", \"num_patients\": 0}, {\"siteid\": \"FUN\", \"sex\": \"Other\", \"age_group\": \"age_80plus\", \"num_patients\": 0}, {\"siteid\": \"FUU\", \"sex\": \"Male\", \"age_group\": \"age_80plus\", \"num_patients\": 29}, {\"siteid\": \"FUU\", \"sex\": \"Female\", \"age_group\": \"age_80plus\", \"num_patients\": 58}, {\"siteid\": \"FUU\", \"sex\": \"Other\", \"age_group\": \"age_80plus\", \"num_patients\": 0}, {\"siteid\": \"FZM\", \"sex\": \"Male\", \"age_group\": \"age_80plus\", \"num_patients\": 29}, {\"siteid\": \"FZM\", \"sex\": \"Female\", \"age_group\": \"age_80plus\", \"num_patients\": 20}, {\"siteid\": \"FZM\", \"sex\": \"Other\", \"age_group\": \"age_80plus\", \"num_patients\": 0}, {\"siteid\": \"FVX\", \"sex\": \"Male\", \"age_group\": \"age_80plus\", \"num_patients\": 28}, {\"siteid\": \"FVX\", \"sex\": \"Female\", \"age_group\": \"age_80plus\", \"num_patients\": 142}, {\"siteid\": \"FVX\", \"sex\": \"Other\", \"age_group\": \"age_80plus\", \"num_patients\": 0}, {\"siteid\": \"FBL\", \"sex\": \"Male\", \"age_group\": \"age_80plus\", \"num_patients\": 73}, {\"siteid\": \"FBL\", \"sex\": \"Female\", \"age_group\": \"age_80plus\", \"num_patients\": 20}, {\"siteid\": \"FBL\", \"sex\": \"Other\", \"age_group\": \"age_80plus\", \"num_patients\": 0}, {\"siteid\": \"FMT\", \"sex\": \"Male\", \"age_group\": \"age_80plus\", \"num_patients\": 26}, {\"siteid\": \"FMT\", \"sex\": \"Female\", \"age_group\": \"age_80plus\", \"num_patients\": 9}, {\"siteid\": \"FMT\", \"sex\": \"Other\", \"age_group\": \"age_80plus\", \"num_patients\": 0}, {\"siteid\": \"FMA\", \"sex\": \"Male\", \"age_group\": \"age_80plus\", \"num_patients\": 60}, {\"siteid\": \"FMA\", \"sex\": \"Female\", \"age_group\": \"age_80plus\", \"num_patients\": 100}, {\"siteid\": \"FMA\", \"sex\": \"Other\", \"age_group\": \"age_80plus\", \"num_patients\": 0}, {\"siteid\": \"FWN\", \"sex\": \"Male\", \"age_group\": \"age_80plus\", \"num_patients\": 5}, {\"siteid\": \"FWN\", \"sex\": \"Female\", \"age_group\": \"age_80plus\", \"num_patients\": 108}, {\"siteid\": \"FWN\", \"sex\": \"Other\", \"age_group\": \"age_80plus\", \"num_patients\": 0}, {\"siteid\": \"FKQ\", \"sex\": \"Male\", \"age_group\": \"age_80plus\", \"num_patients\": 23}, {\"siteid\": \"FKQ\", \"sex\": \"Female\", \"age_group\": \"age_80plus\", \"num_patients\": 0}, {\"siteid\": \"FKQ\", \"sex\": \"Other\", \"age_group\": \"age_80plus\", \"num_patients\": 0}, {\"siteid\": \"FFG\", \"sex\": \"Male\", \"age_group\": \"age_80plus\", \"num_patients\": 64}, {\"siteid\": \"FFG\", \"sex\": \"Female\", \"age_group\": \"age_80plus\", \"num_patients\": 31}, {\"siteid\": \"FFG\", \"sex\": \"Other\", \"age_group\": \"age_80plus\", \"num_patients\": 0}]}}, {\"mode\": \"vega-lite\"});\n",
       "</script>"
      ],
      "text/plain": [
       "alt.HConcatChart(...)"
      ]
     },
     "execution_count": 97,
     "metadata": {},
     "output_type": "execute_result"
    }
   ],
   "source": [
    "click = alt.selection_multi(encodings=['color'])\n",
    "\n",
    "def apply_theme(base):\n",
    "    return base.configure_axis(\n",
    "        labelFontSize=14,\n",
    "        labelFontWeight=300,\n",
    "        titleFontSize=18,\n",
    "        titleFontWeight=300\n",
    "    ).configure_title(fontSize=18, fontWeight=400, anchor=\"start\")\n",
    "    \n",
    "def demographics_chart():     \n",
    "    base = alt.Chart(df).mark_bar().encode(\n",
    "        x=alt.X('siteid:N', title=\"Site\",sort=\"x\", axis=None),\n",
    "        y=alt.Y(f\"sum(num_patients):Q\", title=\"Number of Patients\", axis=alt.Axis(tickCount=5)),\n",
    "        column=alt.Column('age_group:O', title=\"\", sort=['age_0to2', \n",
    "                                                         'age_3to5',\n",
    "                                                         'age_6to11',\n",
    "                                                         'age_12to17', \n",
    "                                                         'age_18to25',\n",
    "                                                         'age_26to49',\n",
    "                                                         'age_50to69',\n",
    "                                                         'age_70to79',\n",
    "                                                         'age_80plus']),\n",
    "        \n",
    "        color=alt.Color(\"siteid:N\", title=\"Site\", scale=alt.Scale(scheme=\"category20\"), legend=None),\n",
    "        tooltip=[siteid, f\"sum(num_patients)\"]\n",
    "    ).properties(\n",
    "        width=70,\n",
    "        height=300\n",
    "    ).transform_filter(\n",
    "        click\n",
    "    )\n",
    "        \n",
    "    return base.interactive()\n",
    "\n",
    "def site_chart():     \n",
    "    base = alt.Chart(df).mark_circle(size=100).encode(\n",
    "        y=alt.Y('siteid:N', title=\"Site\",sort=\"y\"),\n",
    "        color=alt.condition( click, alt.Color(\"siteid:N\", title=\"Site\", scale=alt.Scale(scheme=\"category20\"), legend=None), alt.value('gray') ),\n",
    "    ).properties(\n",
    "        selection=click        \n",
    "    ).properties(\n",
    "        title=\"\",\n",
    "        height=300\n",
    "    )\n",
    "                \n",
    "    return base.interactive()\n",
    "\n",
    "\n",
    "\n",
    "apply_theme( site_chart() | demographics_chart()\n",
    "    ).properties(\n",
    "        title=\"COVID-19 Patients by Age Group and Site\"\n",
    "    )"
   ]
  },
  {
   "cell_type": "code",
   "execution_count": null,
   "metadata": {},
   "outputs": [],
   "source": []
  }
 ],
 "metadata": {
  "kernelspec": {
   "display_name": "Python [conda env:c19i2b2-py] *",
   "language": "python",
   "name": "conda-env-c19i2b2-py-py"
  },
  "language_info": {
   "codemirror_mode": {
    "name": "ipython",
    "version": 3
   },
   "file_extension": ".py",
   "mimetype": "text/x-python",
   "name": "python",
   "nbconvert_exporter": "python",
   "pygments_lexer": "ipython3",
   "version": "3.8.2"
  }
 },
 "nbformat": 4,
 "nbformat_minor": 4
}
