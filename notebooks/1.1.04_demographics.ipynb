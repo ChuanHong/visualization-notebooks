{
 "cells": [
  {
   "cell_type": "code",
   "execution_count": null,
   "metadata": {},
   "outputs": [],
   "source": [
    "%load_ext autoreload\n",
    "%autoreload 2\n",
    "%aimport utils_1_1\n",
    "\n",
    "import pandas as pd\n",
    "import numpy as np\n",
    "import altair as alt\n",
    "from altair_saver import save\n",
    "\n",
    "from constants_1_1 import SITE_FILE_TYPES\n",
    "from utils_1_1 import (\n",
    "    read_loinc_df,\n",
    "    get_site_file_paths,\n",
    "    get_site_file_info,\n",
    "    get_site_ids,\n",
    "    read_full_demographics_df,\n",
    "    get_visualization_subtitle,\n",
    "    apply_theme,\n",
    ")\n",
    "from web import for_website\n",
    "\n",
    "alt.data_transformers.disable_max_rows() # Allow using rows more than 5000"
   ]
  },
  {
   "cell_type": "code",
   "execution_count": null,
   "metadata": {},
   "outputs": [],
   "source": [
    "df = read_full_demographics_df()"
   ]
  },
  {
   "cell_type": "code",
   "execution_count": null,
   "metadata": {},
   "outputs": [],
   "source": [
    "df"
   ]
  },
  {
   "cell_type": "code",
   "execution_count": null,
   "metadata": {},
   "outputs": [],
   "source": [
    "df = df.loc[df[\"num_patients_all\"] >= 0]\n",
    "df = df.loc[df[\"num_patients_ever_severe\"] >= 0]"
   ]
  },
  {
   "cell_type": "code",
   "execution_count": null,
   "metadata": {},
   "outputs": [],
   "source": [
    "# Compute percentage of male / female by age group and severity\n",
    "age_sex_df = pd.DataFrame(columns=[\"siteid\", \"sex\", \"age_group\", \"severity\", \"percentage\"])\n",
    "\n",
    "for (site_id, age_group), site_df in df.loc[df[\"race\"] == \"all\"].groupby(['siteid', 'age_group']):\n",
    "    try:\n",
    "        male_all = site_df.loc[site_df[\"sex\"] == \"male\"].reset_index().loc[0][\"num_patients_all\"]\n",
    "    except:\n",
    "        male_all = np.nan\n",
    "    try:\n",
    "        male_severe = site_df.loc[site_df[\"sex\"] == \"male\"].reset_index().loc[0][\"num_patients_ever_severe\"]\n",
    "    except:\n",
    "        male_severe = np.nan\n",
    "    try:\n",
    "        female_all = site_df.loc[site_df[\"sex\"] == \"female\"].reset_index().loc[0][\"num_patients_all\"]\n",
    "    except:\n",
    "        female_all = np.nan\n",
    "    try:\n",
    "        female_severe = site_df.loc[site_df[\"sex\"] == \"female\"].reset_index().loc[0][\"num_patients_ever_severe\"]\n",
    "    except:\n",
    "        female_severe = np.nan\n",
    "        \n",
    "    total_all = male_all + female_all\n",
    "    total_severe = male_severe + female_severe\n",
    "        \n",
    "    age_sex_df = age_sex_df.append({\n",
    "        \"siteid\": site_id,\n",
    "        \"age_group\": age_group,\n",
    "        \"sex\": \"male\",\n",
    "        \"percentage\": 100 * male_all / total_all,\n",
    "        \"severity\": \"all\"\n",
    "    }, ignore_index=True)\n",
    "    age_sex_df = age_sex_df.append({\n",
    "        \"siteid\": site_id,\n",
    "        \"age_group\": age_group,\n",
    "        \"sex\": \"female\",\n",
    "        \"percentage\": 100 * female_all / total_all,\n",
    "        \"severity\": \"all\"\n",
    "    }, ignore_index=True)\n",
    "\n",
    "    age_sex_df = age_sex_df.append({\n",
    "        \"siteid\": site_id,\n",
    "        \"age_group\": age_group,\n",
    "        \"sex\": \"male\",\n",
    "        \"percentage\": 100 * male_severe / total_severe,\n",
    "        \"severity\": \"severe\"\n",
    "    }, ignore_index=True)\n",
    "    age_sex_df = age_sex_df.append({\n",
    "        \"siteid\": site_id,\n",
    "        \"age_group\": age_group,\n",
    "        \"sex\": \"female\",\n",
    "        \"percentage\": 100 * female_severe / total_severe,\n",
    "        \"severity\": \"severe\"\n",
    "    }, ignore_index=True)\n",
    "\n",
    "\n",
    "age_sex_df = age_sex_df.loc[age_sex_df[\"percentage\"] > 0]\n",
    "age_sex_df = age_sex_df.loc[age_sex_df[\"age_group\"] != \"all\"]"
   ]
  },
  {
   "cell_type": "code",
   "execution_count": null,
   "metadata": {},
   "outputs": [],
   "source": [
    "SITES = age_sex_df[\"siteid\"].unique().tolist()\n",
    "\n",
    "site_dropdown = alt.binding_select(options=SITES)\n",
    "site_selection = alt.selection_single(fields=[\"siteid\"], bind=site_dropdown, name=\"siteid\", init={\"siteid\": \"APHP\"})\n",
    "\n",
    "alt.Chart(age_sex_df).add_selection(\n",
    "    site_selection\n",
    ").transform_filter(\n",
    "    site_selection\n",
    ").mark_bar().encode(\n",
    "    y=\"percentage:Q\",\n",
    "    color=\"sex:N\",\n",
    "    x=\"sex:N\",\n",
    "    column=alt.Column(\n",
    "        \"age_group:O\",\n",
    "        sort=[\"0to2\",\"3to5\",\"6to11\",\"12to17\",\"18to25\",\"26to49\",\"50to69\",\"70to79\", \"80plus\"],\n",
    "        header=alt.Header(labelOrient=\"bottom\", title=\"Age group\", titleOrient=\"bottom\")\n",
    "    ),\n",
    "    row=alt.Row(\"severity:N\", sort=[\"severe\", \"all\"])\n",
    ")"
   ]
  },
  {
   "cell_type": "code",
   "execution_count": null,
   "metadata": {},
   "outputs": [],
   "source": []
  }
 ],
 "metadata": {
  "kernelspec": {
   "display_name": "Python [conda env:4ce] *",
   "language": "python",
   "name": "conda-env-4ce-py"
  },
  "language_info": {
   "codemirror_mode": {
    "name": "ipython",
    "version": 3
   },
   "file_extension": ".py",
   "mimetype": "text/x-python",
   "name": "python",
   "nbconvert_exporter": "python",
   "pygments_lexer": "ipython3",
   "version": "3.8.2"
  }
 },
 "nbformat": 4,
 "nbformat_minor": 4
}
