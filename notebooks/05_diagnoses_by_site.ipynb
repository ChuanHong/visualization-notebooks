{
 "cells": [
  {
   "cell_type": "code",
   "execution_count": 2,
   "metadata": {},
   "outputs": [],
   "source": [
    "import pandas as pd\n",
    "import numpy as np\n",
    "import altair as alt\n",
    "from ipywidgets import interact\n",
    "from os.path import join\n",
    "\n",
    "from constants import COLUMNS\n",
    "from utils import read_full_diagnoses_df"
   ]
  },
  {
   "cell_type": "code",
   "execution_count": 9,
   "metadata": {},
   "outputs": [],
   "source": [
    "SITE_IDS = ['FWN','FXL','FZT','FMT','FFG','FOW','FSZ','FMA','FEQ','FVX','FKQ','FBL','FDQ','FKN','FBD','FKL','FUU','FZU','FZM','FUN']"
   ]
  },
  {
   "cell_type": "code",
   "execution_count": 12,
   "metadata": {},
   "outputs": [
    {
     "data": {
      "text/html": [
       "<div>\n",
       "<style scoped>\n",
       "    .dataframe tbody tr th:only-of-type {\n",
       "        vertical-align: middle;\n",
       "    }\n",
       "\n",
       "    .dataframe tbody tr th {\n",
       "        vertical-align: top;\n",
       "    }\n",
       "\n",
       "    .dataframe thead th {\n",
       "        text-align: right;\n",
       "    }\n",
       "</style>\n",
       "<table border=\"1\" class=\"dataframe\">\n",
       "  <thead>\n",
       "    <tr style=\"text-align: right;\">\n",
       "      <th></th>\n",
       "      <th>siteid</th>\n",
       "      <th>icd_code</th>\n",
       "      <th>icd_version</th>\n",
       "      <th>num_patients</th>\n",
       "    </tr>\n",
       "  </thead>\n",
       "  <tbody>\n",
       "    <tr>\n",
       "      <th>0</th>\n",
       "      <td>FWN</td>\n",
       "      <td>54</td>\n",
       "      <td>9</td>\n",
       "      <td>3</td>\n",
       "    </tr>\n",
       "    <tr>\n",
       "      <th>1</th>\n",
       "      <td>FWN</td>\n",
       "      <td>103</td>\n",
       "      <td>9</td>\n",
       "      <td>9</td>\n",
       "    </tr>\n",
       "    <tr>\n",
       "      <th>2</th>\n",
       "      <td>FWN</td>\n",
       "      <td>37</td>\n",
       "      <td>9</td>\n",
       "      <td>11</td>\n",
       "    </tr>\n",
       "    <tr>\n",
       "      <th>3</th>\n",
       "      <td>FWN</td>\n",
       "      <td>J40</td>\n",
       "      <td>10</td>\n",
       "      <td>4</td>\n",
       "    </tr>\n",
       "    <tr>\n",
       "      <th>4</th>\n",
       "      <td>FWN</td>\n",
       "      <td>J22</td>\n",
       "      <td>10</td>\n",
       "      <td>8</td>\n",
       "    </tr>\n",
       "  </tbody>\n",
       "</table>\n",
       "</div>"
      ],
      "text/plain": [
       "  siteid icd_code  icd_version  num_patients\n",
       "0    FWN       54            9             3\n",
       "1    FWN      103            9             9\n",
       "2    FWN       37            9            11\n",
       "3    FWN      J40           10             4\n",
       "4    FWN      J22           10             8"
      ]
     },
     "execution_count": 12,
     "metadata": {},
     "output_type": "execute_result"
    }
   ],
   "source": [
    "df = read_full_diagnoses_df(SITE_IDS)\n",
    "\n",
    "# Columns\n",
    "siteid = COLUMNS.SITE_ID\n",
    "icd_code = COLUMNS.ICD_CODE\n",
    "icd_version = COLUMNS.ICD_VERSION\n",
    "num_patients = COLUMNS.NUM_PATIENTS\n",
    "\n",
    "df.head()"
   ]
  },
  {
   "cell_type": "code",
   "execution_count": 26,
   "metadata": {},
   "outputs": [
    {
     "data": {
      "application/vnd.jupyter.widget-view+json": {
       "model_id": "78a9e333c150493d8f8c577bdec94aeb",
       "version_major": 2,
       "version_minor": 0
      },
      "text/plain": [
       "interactive(children=(Dropdown(description='SiteID', options=('FWN', 'FXL', 'FZT', 'FMT', 'FFG', 'FOW', 'FSZ',…"
      ]
     },
     "metadata": {},
     "output_type": "display_data"
    },
    {
     "data": {
      "text/plain": [
       "<function __main__.daily_counts_chart(SiteID)>"
      ]
     },
     "execution_count": 26,
     "metadata": {},
     "output_type": "execute_result"
    }
   ],
   "source": [
    "def daily_counts_chart(SiteID):\n",
    "    base = alt.Chart(df).mark_bar().encode(\n",
    "        x=icd_code + \":N\",\n",
    "        y=num_patients + \":Q\",\n",
    "        color=alt.Color(icd_version + \":N\", scale=alt.Scale(range=[\"steelblue\", \"salmon\"]))\n",
    "    ).transform_filter(\n",
    "        alt.FieldEqualPredicate(field=siteid, equal=SiteID)\n",
    "    ).properties(\n",
    "        width=300,\n",
    "        title=\"Diagnoses of \" + SiteID\n",
    "    )\n",
    "    \n",
    "    return base.interactive()\n",
    "\n",
    "interact(daily_counts_chart, SiteID=SITE_IDS, )"
   ]
  },
  {
   "cell_type": "code",
   "execution_count": null,
   "metadata": {},
   "outputs": [],
   "source": []
  }
 ],
 "metadata": {
  "kernelspec": {
   "display_name": "Python [conda env:c19i2b2-py] *",
   "language": "python",
   "name": "conda-env-c19i2b2-py-py"
  },
  "language_info": {
   "codemirror_mode": {
    "name": "ipython",
    "version": 3
   },
   "file_extension": ".py",
   "mimetype": "text/x-python",
   "name": "python",
   "nbconvert_exporter": "python",
   "pygments_lexer": "ipython3",
   "version": "3.8.2"
  }
 },
 "nbformat": 4,
 "nbformat_minor": 4
}
