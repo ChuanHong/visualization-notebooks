{
 "cells": [
  {
   "cell_type": "code",
   "execution_count": 2,
   "metadata": {},
   "outputs": [],
   "source": [
    "import pandas as pd\n",
    "import numpy as np\n",
    "import altair as alt\n",
    "from ipywidgets import interact\n",
    "from os.path import join\n",
    "\n",
    "from constants import COLUMNS, SITE_IDS_IN_DIR\n",
    "from utils import read_full_diagnoses_df"
   ]
  },
  {
   "cell_type": "code",
   "execution_count": 5,
   "metadata": {},
   "outputs": [
    {
     "data": {
      "text/plain": [
       "['FKN',\n",
       " 'FEQ',\n",
       " 'FKL',\n",
       " 'FDQ',\n",
       " 'FSZ',\n",
       " 'FXL',\n",
       " 'FBD',\n",
       " 'FZU',\n",
       " 'FZT',\n",
       " 'FOW',\n",
       " 'FUN',\n",
       " 'FUU',\n",
       " 'FZM',\n",
       " 'FVX',\n",
       " 'FBL',\n",
       " 'FMT',\n",
       " 'FMA',\n",
       " 'FWN',\n",
       " 'FKQ',\n",
       " 'FFG']"
      ]
     },
     "execution_count": 5,
     "metadata": {},
     "output_type": "execute_result"
    }
   ],
   "source": [
    "# SITE_IDS = ['FWN','FXL','FZT','FMT','FFG','FOW','FSZ','FMA','FEQ','FVX','FKQ','FBL','FDQ','FKN','FBD','FKL','FUU','FZU','FZM','FUN']\n",
    "SITE_IDS = SITE_IDS_IN_DIR.DIAGNOSES"
   ]
  },
  {
   "cell_type": "code",
   "execution_count": 65,
   "metadata": {},
   "outputs": [
    {
     "data": {
      "text/html": [
       "<div>\n",
       "<style scoped>\n",
       "    .dataframe tbody tr th:only-of-type {\n",
       "        vertical-align: middle;\n",
       "    }\n",
       "\n",
       "    .dataframe tbody tr th {\n",
       "        vertical-align: top;\n",
       "    }\n",
       "\n",
       "    .dataframe thead th {\n",
       "        text-align: right;\n",
       "    }\n",
       "</style>\n",
       "<table border=\"1\" class=\"dataframe\">\n",
       "  <thead>\n",
       "    <tr style=\"text-align: right;\">\n",
       "      <th></th>\n",
       "      <th>siteid</th>\n",
       "      <th>icd_code</th>\n",
       "      <th>icd_version</th>\n",
       "      <th>num_patients</th>\n",
       "    </tr>\n",
       "  </thead>\n",
       "  <tbody>\n",
       "    <tr>\n",
       "      <th>0</th>\n",
       "      <td>FWN</td>\n",
       "      <td>54</td>\n",
       "      <td>9</td>\n",
       "      <td>3</td>\n",
       "    </tr>\n",
       "    <tr>\n",
       "      <th>1</th>\n",
       "      <td>FWN</td>\n",
       "      <td>103</td>\n",
       "      <td>9</td>\n",
       "      <td>9</td>\n",
       "    </tr>\n",
       "    <tr>\n",
       "      <th>2</th>\n",
       "      <td>FWN</td>\n",
       "      <td>37</td>\n",
       "      <td>9</td>\n",
       "      <td>11</td>\n",
       "    </tr>\n",
       "    <tr>\n",
       "      <th>3</th>\n",
       "      <td>FWN</td>\n",
       "      <td>J40</td>\n",
       "      <td>10</td>\n",
       "      <td>4</td>\n",
       "    </tr>\n",
       "    <tr>\n",
       "      <th>4</th>\n",
       "      <td>FWN</td>\n",
       "      <td>J22</td>\n",
       "      <td>10</td>\n",
       "      <td>8</td>\n",
       "    </tr>\n",
       "  </tbody>\n",
       "</table>\n",
       "</div>"
      ],
      "text/plain": [
       "  siteid icd_code  icd_version  num_patients\n",
       "0    FWN       54            9             3\n",
       "1    FWN      103            9             9\n",
       "2    FWN       37            9            11\n",
       "3    FWN      J40           10             4\n",
       "4    FWN      J22           10             8"
      ]
     },
     "execution_count": 65,
     "metadata": {},
     "output_type": "execute_result"
    }
   ],
   "source": [
    "df = read_full_diagnoses_df(SITE_IDS)\n",
    "\n",
    "# Columns\n",
    "siteid = COLUMNS.SITE_ID\n",
    "icd_code = COLUMNS.ICD_CODE\n",
    "icd_version = COLUMNS.ICD_VERSION\n",
    "num_patients = COLUMNS.NUM_PATIENTS\n",
    "\n",
    "df.head()"
   ]
  },
  {
   "cell_type": "markdown",
   "metadata": {},
   "source": [
    "## Summarization Chart\n",
    "##### Select Site ID to see data by a specific site ID"
   ]
  },
  {
   "cell_type": "code",
   "execution_count": 287,
   "metadata": {},
   "outputs": [
    {
     "data": {
      "application/vnd.jupyter.widget-view+json": {
       "model_id": "6e08447eec5c415f812450712f30e9cf",
       "version_major": 2,
       "version_minor": 0
      },
      "text/plain": [
       "interactive(children=(Dropdown(description='SiteID', options=('All Sites', 'FWN', 'FXL', 'FZT', 'FMT', 'FFG', …"
      ]
     },
     "metadata": {},
     "output_type": "display_data"
    },
    {
     "data": {
      "text/plain": [
       "<function __main__.diagnoses_chart(SiteID)>"
      ]
     },
     "execution_count": 287,
     "metadata": {},
     "output_type": "execute_result"
    }
   ],
   "source": [
    "icd_color_scale = alt.Scale(domain=[\"9\", \"10\"], range=[\"#69A6CE\", \"#EB6F63\"])\n",
    "\n",
    "def apply_theme(base):\n",
    "    return base.configure_axis(\n",
    "        labelFontSize=14,\n",
    "        labelFontWeight=300,\n",
    "        titleFontSize=18,\n",
    "        titleFontWeight=300\n",
    "    ).configure_title(fontSize=18, fontWeight=400, anchor=\"middle\")\n",
    "    \n",
    "def diagnoses_chart(SiteID): \n",
    "    \n",
    "    # Mouseover effect\n",
    "    mouseover = alt.selection(type='single', on='mouseover', fields=[icd_code], nearest=False)\n",
    "    \n",
    "    # Base bar chart\n",
    "    base = alt.Chart(df).mark_bar().encode(\n",
    "        x=alt.X(f\"sum({num_patients}):Q\", title=\"Total Number of Patients\", axis=alt.Axis(tickCount=5)),\n",
    "        y=alt.Y(f\"{icd_code}:N\", title=\"ICD Code\", sort=\"-x\"),\n",
    "        color=alt.Color(icd_version + \":N\", scale=icd_color_scale, title=\"ICD Version\"),\n",
    "        # mouse hover visual effect\n",
    "        opacity=alt.condition(~mouseover, alt.value(1), alt.value(0.8)),\n",
    "        tooltip=[icd_code, f\"sum({num_patients})\"]\n",
    "    ).transform_filter(\n",
    "        # Do not show uncertain data\n",
    "        alt.FieldGTEPredicate(field=num_patients, gte=0)\n",
    "    ).properties(\n",
    "        title=\"All Diagnoses Patients Have Starting 7 Days Before Positive Test (\" + SiteID + \")\",\n",
    "        width=500,\n",
    "        height=300\n",
    "    )\n",
    "    \n",
    "    if SiteID != \"All Sites\":\n",
    "        base = base.transform_filter(\n",
    "            alt.FieldEqualPredicate(field=siteid, equal=SiteID)\n",
    "        )\n",
    "    \n",
    "    # Text label\n",
    "    text = base.mark_text(align='right', baseline='middle', dx=-4, fontWeight=\"bold\").encode(\n",
    "        text=f\"sum({num_patients}):Q\",\n",
    "        color=alt.value(\"white\")\n",
    "    )\n",
    "    \n",
    "    chart = apply_theme((base + text)).add_selection(mouseover)\n",
    "        \n",
    "    return chart.interactive()\n",
    "\n",
    "interact(diagnoses_chart, SiteID=[\"All Sites\"] + SITE_IDS, )"
   ]
  },
  {
   "cell_type": "markdown",
   "metadata": {},
   "source": [
    "## One-to-N Comparison Chart\n",
    "##### Select site ID using dropdown menu to highlight"
   ]
  },
  {
   "cell_type": "code",
   "execution_count": 280,
   "metadata": {},
   "outputs": [
    {
     "data": {
      "application/vnd.jupyter.widget-view+json": {
       "model_id": "b707f11fd3344433977a2d0d9b5b9169",
       "version_major": 2,
       "version_minor": 0
      },
      "text/plain": [
       "interactive(children=(Dropdown(description='HighlightBy', options=('FWN', 'FXL', 'FZT', 'FMT', 'FFG', 'FOW', '…"
      ]
     },
     "metadata": {},
     "output_type": "display_data"
    },
    {
     "data": {
      "text/plain": [
       "<function __main__.diagnoses_chart_hl(HighlightBy)>"
      ]
     },
     "execution_count": 280,
     "metadata": {},
     "output_type": "execute_result"
    }
   ],
   "source": [
    "def diagnoses_chart_hl(HighlightBy): \n",
    "    \n",
    "    # Base bar chart\n",
    "    base = alt.Chart(df).mark_bar().encode(\n",
    "        x=alt.X(f\"sum({num_patients}):Q\", title=\"Total Number of Patients\", axis=alt.Axis(tickCount=5)),\n",
    "        y=alt.Y(f\"{icd_code}:N\", title=\"ICD Code\", sort=\"-x\"),\n",
    "        color=alt.value(\"lightgray\")\n",
    "    ).transform_filter(\n",
    "        # Do not show uncertain data\n",
    "        alt.FieldGTEPredicate(field=num_patients, gte=0)\n",
    "    ).properties(\n",
    "        title=\"All Diagnoses Patients Have Starting 7 Days Before Positive Test (\" + HighlightBy + \")\",\n",
    "        width=500,\n",
    "        height=300\n",
    "    )\n",
    "    \n",
    "    # Selected bars\n",
    "    hl = base.encode(\n",
    "        color=alt.Color(icd_version + \":N\", scale=icd_color_scale, title=\"ICD Version\")\n",
    "    ).transform_filter(\n",
    "        alt.FieldEqualPredicate(field=siteid, equal=HighlightBy)\n",
    "    )\n",
    "    \n",
    "    # Text label\n",
    "    text = base.mark_text(align='right', baseline='middle', dx=-4, fontWeight=\"bold\").encode(\n",
    "        text=f\"sum({num_patients}):Q\",\n",
    "        color=alt.value(\"white\")\n",
    "    )\n",
    "    \n",
    "    text_hl = hl.mark_text(align='left', baseline='middle', dx=4, fontWeight=\"bold\").encode(\n",
    "        text=f\"sum({num_patients}):Q\"\n",
    "    )\n",
    "    \n",
    "    chart = apply_theme((base + text + hl + text_hl))\n",
    "        \n",
    "    return chart.interactive()\n",
    "\n",
    "interact(diagnoses_chart_hl, HighlightBy=SITE_IDS, )"
   ]
  },
  {
   "cell_type": "code",
   "execution_count": 315,
   "metadata": {},
   "outputs": [
    {
     "data": {
      "text/html": [
       "\n",
       "<div id=\"altair-viz-24a7836d08b2429d9f2d7116394c70f3\"></div>\n",
       "<script type=\"text/javascript\">\n",
       "  (function(spec, embedOpt){\n",
       "    const outputDiv = document.getElementById(\"altair-viz-24a7836d08b2429d9f2d7116394c70f3\");\n",
       "    const paths = {\n",
       "      \"vega\": \"https://cdn.jsdelivr.net/npm//vega@5?noext\",\n",
       "      \"vega-lib\": \"https://cdn.jsdelivr.net/npm//vega-lib?noext\",\n",
       "      \"vega-lite\": \"https://cdn.jsdelivr.net/npm//vega-lite@4.0.2?noext\",\n",
       "      \"vega-embed\": \"https://cdn.jsdelivr.net/npm//vega-embed@6?noext\",\n",
       "    };\n",
       "\n",
       "    function loadScript(lib) {\n",
       "      return new Promise(function(resolve, reject) {\n",
       "        var s = document.createElement('script');\n",
       "        s.src = paths[lib];\n",
       "        s.async = true;\n",
       "        s.onload = () => resolve(paths[lib]);\n",
       "        s.onerror = () => reject(`Error loading script: ${paths[lib]}`);\n",
       "        document.getElementsByTagName(\"head\")[0].appendChild(s);\n",
       "      });\n",
       "    }\n",
       "\n",
       "    function showError(err) {\n",
       "      outputDiv.innerHTML = `<div class=\"error\" style=\"color:red;\">${err}</div>`;\n",
       "      throw err;\n",
       "    }\n",
       "\n",
       "    function displayChart(vegaEmbed) {\n",
       "      vegaEmbed(outputDiv, spec, embedOpt)\n",
       "        .catch(err => showError(`Javascript Error: ${err.message}<br>This usually means there's a typo in your chart specification. See the javascript console for the full traceback.`));\n",
       "    }\n",
       "\n",
       "    if(typeof define === \"function\" && define.amd) {\n",
       "      requirejs.config({paths});\n",
       "      require([\"vega-embed\"], displayChart, err => showError(`Error loading script: ${err.message}`));\n",
       "    } else if (typeof vegaEmbed === \"function\") {\n",
       "      displayChart(vegaEmbed);\n",
       "    } else {\n",
       "      loadScript(\"vega\")\n",
       "        .then(() => loadScript(\"vega-lite\"))\n",
       "        .then(() => loadScript(\"vega-embed\"))\n",
       "        .catch(showError)\n",
       "        .then(() => displayChart(vegaEmbed));\n",
       "    }\n",
       "  })({\"config\": {\"view\": {\"continuousWidth\": 400, \"continuousHeight\": 300}, \"axis\": {\"labelFontSize\": 14, \"labelFontWeight\": 300, \"titleFontSize\": 18, \"titleFontWeight\": 300}, \"title\": {\"anchor\": \"middle\", \"fontSize\": 18, \"fontWeight\": 400}}, \"hconcat\": [{\"layer\": [{\"mark\": \"bar\", \"encoding\": {\"color\": {\"value\": \"lightgray\"}, \"x\": {\"type\": \"quantitative\", \"aggregate\": \"sum\", \"axis\": {\"tickCount\": 5}, \"field\": \"num_patients\", \"title\": \"Total Number of Patients\"}, \"y\": {\"type\": \"nominal\", \"field\": \"icd_code\", \"title\": \"ICD Code\"}}, \"height\": 300, \"title\": \"Diagnoses Patients Have Starting 7 Days Before Positive Test\", \"transform\": [{\"filter\": {\"field\": \"num_patients\", \"gte\": 0}}], \"width\": 350}, {\"mark\": {\"type\": \"text\", \"align\": \"right\", \"baseline\": \"middle\", \"dx\": -4, \"fontWeight\": \"bold\"}, \"encoding\": {\"color\": {\"value\": \"white\"}, \"text\": {\"type\": \"quantitative\", \"aggregate\": \"sum\", \"field\": \"num_patients\"}, \"x\": {\"type\": \"quantitative\", \"aggregate\": \"sum\", \"axis\": {\"tickCount\": 5}, \"field\": \"num_patients\", \"title\": \"Total Number of Patients\"}, \"y\": {\"type\": \"nominal\", \"field\": \"icd_code\", \"title\": \"ICD Code\"}}, \"height\": 300, \"title\": \"Diagnoses Patients Have Starting 7 Days Before Positive Test\", \"transform\": [{\"filter\": {\"field\": \"num_patients\", \"gte\": 0}}], \"width\": 350}, {\"mark\": \"bar\", \"encoding\": {\"color\": {\"type\": \"nominal\", \"field\": \"icd_version\", \"scale\": {\"domain\": [\"9\", \"10\"], \"range\": [\"#69A6CE\", \"#EB6F63\"]}, \"title\": \"ICD Version\"}, \"x\": {\"type\": \"quantitative\", \"aggregate\": \"sum\", \"axis\": {\"tickCount\": 5}, \"field\": \"num_patients\", \"title\": \"Total Number of Patients\"}, \"y\": {\"type\": \"nominal\", \"field\": \"icd_code\", \"title\": \"ICD Code\"}}, \"height\": 300, \"title\": \"Diagnoses Patients Have Starting 7 Days Before Positive Test\", \"transform\": [{\"filter\": {\"field\": \"num_patients\", \"gte\": 0}}, {\"filter\": {\"selection\": \"selector469\"}}], \"width\": 350}, {\"mark\": {\"type\": \"text\", \"align\": \"left\", \"baseline\": \"middle\", \"dx\": 4, \"fontWeight\": \"bold\"}, \"encoding\": {\"color\": {\"type\": \"nominal\", \"field\": \"icd_version\", \"scale\": {\"domain\": [\"9\", \"10\"], \"range\": [\"#69A6CE\", \"#EB6F63\"]}, \"title\": \"ICD Version\"}, \"text\": {\"type\": \"quantitative\", \"aggregate\": \"sum\", \"field\": \"num_patients\"}, \"x\": {\"type\": \"quantitative\", \"aggregate\": \"sum\", \"axis\": {\"tickCount\": 5}, \"field\": \"num_patients\", \"title\": \"Total Number of Patients\"}, \"y\": {\"type\": \"nominal\", \"field\": \"icd_code\", \"title\": \"ICD Code\"}}, \"height\": 300, \"title\": \"Diagnoses Patients Have Starting 7 Days Before Positive Test\", \"transform\": [{\"filter\": {\"field\": \"num_patients\", \"gte\": 0}}, {\"filter\": {\"selection\": \"selector469\"}}], \"width\": 350}]}, {\"mark\": \"bar\", \"encoding\": {\"color\": {\"condition\": {\"value\": \"rgb(244, 208, 75)\", \"selection\": {\"not\": \"selector469\"}}, \"value\": \"#E48236\"}, \"x\": {\"type\": \"nominal\", \"field\": \"siteid\", \"sort\": \"-y\", \"title\": \"Site\"}, \"y\": {\"type\": \"quantitative\", \"aggregate\": \"sum\", \"axis\": {\"tickCount\": 5}, \"field\": \"num_patients\", \"title\": \"Total Number of Patients\"}}, \"height\": 300, \"selection\": {\"selector469\": {\"type\": \"single\", \"on\": \"mouseover\", \"fields\": [\"siteid\"], \"nearest\": false}}, \"title\": \"Diagnoses By Site\", \"transform\": [{\"filter\": {\"field\": \"num_patients\", \"gte\": 0}}], \"width\": 350}], \"data\": {\"name\": \"data-eeece5fd57f8cb1bdccf106b73d13ef5\"}, \"resolve\": {\"scale\": {\"color\": \"independent\"}}, \"$schema\": \"https://vega.github.io/schema/vega-lite/v4.0.2.json\", \"datasets\": {\"data-eeece5fd57f8cb1bdccf106b73d13ef5\": [{\"siteid\": \"FWN\", \"icd_code\": \"54\", \"icd_version\": 9, \"num_patients\": 3}, {\"siteid\": \"FWN\", \"icd_code\": \"103\", \"icd_version\": 9, \"num_patients\": 9}, {\"siteid\": \"FWN\", \"icd_code\": \"37\", \"icd_version\": 9, \"num_patients\": 11}, {\"siteid\": \"FWN\", \"icd_code\": \"J40\", \"icd_version\": 10, \"num_patients\": 4}, {\"siteid\": \"FWN\", \"icd_code\": \"J22\", \"icd_version\": 10, \"num_patients\": 8}, {\"siteid\": \"FWN\", \"icd_code\": \"Z03.818\", \"icd_version\": 10, \"num_patients\": -1}, {\"siteid\": \"FXL\", \"icd_code\": \"122\", \"icd_version\": 9, \"num_patients\": 4}, {\"siteid\": \"FXL\", \"icd_code\": \"91\", \"icd_version\": 9, \"num_patients\": 7}, {\"siteid\": \"FXL\", \"icd_code\": \"37\", \"icd_version\": 9, \"num_patients\": -1}, {\"siteid\": \"FXL\", \"icd_code\": \"55\", \"icd_version\": 9, \"num_patients\": -1}, {\"siteid\": \"FXL\", \"icd_code\": \"70\", \"icd_version\": 9, \"num_patients\": -1}, {\"siteid\": \"FXL\", \"icd_code\": \"J80\", \"icd_version\": 10, \"num_patients\": 11}, {\"siteid\": \"FXL\", \"icd_code\": \"Z03.818\", \"icd_version\": 10, \"num_patients\": 4}, {\"siteid\": \"FXL\", \"icd_code\": \"Z20.828\", \"icd_version\": 10, \"num_patients\": -1}, {\"siteid\": \"FZT\", \"icd_code\": \"122\", \"icd_version\": 9, \"num_patients\": 45}, {\"siteid\": \"FZT\", \"icd_code\": \"103\", \"icd_version\": 9, \"num_patients\": 1}, {\"siteid\": \"FZT\", \"icd_code\": \"134\", \"icd_version\": 9, \"num_patients\": 28}, {\"siteid\": \"FZT\", \"icd_code\": \"J12.89\", \"icd_version\": 10, \"num_patients\": -1}, {\"siteid\": \"FZT\", \"icd_code\": \"B97.29\", \"icd_version\": 10, \"num_patients\": -1}, {\"siteid\": \"FZT\", \"icd_code\": \"J20.8\", \"icd_version\": 10, \"num_patients\": -1}, {\"siteid\": \"FZT\", \"icd_code\": \"J40\", \"icd_version\": 10, \"num_patients\": 10}, {\"siteid\": \"FZT\", \"icd_code\": \"Z03.818\", \"icd_version\": 10, \"num_patients\": 13}, {\"siteid\": \"FMT\", \"icd_code\": \"91\", \"icd_version\": 9, \"num_patients\": -1}, {\"siteid\": \"FMT\", \"icd_code\": \"37\", \"icd_version\": 9, \"num_patients\": 36}, {\"siteid\": \"FMT\", \"icd_code\": \"70\", \"icd_version\": 9, \"num_patients\": -1}, {\"siteid\": \"FMT\", \"icd_code\": \"112\", \"icd_version\": 9, \"num_patients\": 61}, {\"siteid\": \"FMT\", \"icd_code\": \"J12.89\", \"icd_version\": 10, \"num_patients\": -1}, {\"siteid\": \"FMT\", \"icd_code\": \"J20.8\", \"icd_version\": 10, \"num_patients\": 42}, {\"siteid\": \"FMT\", \"icd_code\": \"J22\", \"icd_version\": 10, \"num_patients\": 37}, {\"siteid\": \"FMT\", \"icd_code\": \"J98.8\", \"icd_version\": 10, \"num_patients\": -1}, {\"siteid\": \"FMT\", \"icd_code\": \"J80\", \"icd_version\": 10, \"num_patients\": 7}, {\"siteid\": \"FMT\", \"icd_code\": \"Z20.828\", \"icd_version\": 10, \"num_patients\": -1}, {\"siteid\": \"FFG\", \"icd_code\": \"91\", \"icd_version\": 9, \"num_patients\": -1}, {\"siteid\": \"FFG\", \"icd_code\": \"55\", \"icd_version\": 9, \"num_patients\": -1}, {\"siteid\": \"FFG\", \"icd_code\": \"Z20.828\", \"icd_version\": 10, \"num_patients\": 8}, {\"siteid\": \"FOW\", \"icd_code\": \"54\", \"icd_version\": 9, \"num_patients\": 1}, {\"siteid\": \"FOW\", \"icd_code\": \"122\", \"icd_version\": 9, \"num_patients\": -1}, {\"siteid\": \"FOW\", \"icd_code\": \"91\", \"icd_version\": 9, \"num_patients\": 11}, {\"siteid\": \"FOW\", \"icd_code\": \"37\", \"icd_version\": 9, \"num_patients\": 10}, {\"siteid\": \"FOW\", \"icd_code\": \"55\", \"icd_version\": 9, \"num_patients\": 4}, {\"siteid\": \"FOW\", \"icd_code\": \"112\", \"icd_version\": 9, \"num_patients\": -1}, {\"siteid\": \"FOW\", \"icd_code\": \"134\", \"icd_version\": 9, \"num_patients\": 7}, {\"siteid\": \"FOW\", \"icd_code\": \"J12.89\", \"icd_version\": 10, \"num_patients\": 1}, {\"siteid\": \"FOW\", \"icd_code\": \"B97.29\", \"icd_version\": 10, \"num_patients\": -1}, {\"siteid\": \"FOW\", \"icd_code\": \"J22\", \"icd_version\": 10, \"num_patients\": -1}, {\"siteid\": \"FOW\", \"icd_code\": \"J98.8\", \"icd_version\": 10, \"num_patients\": -1}, {\"siteid\": \"FOW\", \"icd_code\": \"Z20.828\", \"icd_version\": 10, \"num_patients\": -1}, {\"siteid\": \"FSZ\", \"icd_code\": \"54\", \"icd_version\": 9, \"num_patients\": 1}, {\"siteid\": \"FSZ\", \"icd_code\": \"122\", \"icd_version\": 9, \"num_patients\": 5}, {\"siteid\": \"FSZ\", \"icd_code\": \"91\", \"icd_version\": 9, \"num_patients\": 10}, {\"siteid\": \"FSZ\", \"icd_code\": \"103\", \"icd_version\": 9, \"num_patients\": 10}, {\"siteid\": \"FSZ\", \"icd_code\": \"37\", \"icd_version\": 9, \"num_patients\": 5}, {\"siteid\": \"FSZ\", \"icd_code\": \"70\", \"icd_version\": 9, \"num_patients\": -1}, {\"siteid\": \"FSZ\", \"icd_code\": \"134\", \"icd_version\": 9, \"num_patients\": -1}, {\"siteid\": \"FSZ\", \"icd_code\": \"J12.89\", \"icd_version\": 10, \"num_patients\": 6}, {\"siteid\": \"FSZ\", \"icd_code\": \"J20.8\", \"icd_version\": 10, \"num_patients\": -1}, {\"siteid\": \"FSZ\", \"icd_code\": \"J80\", \"icd_version\": 10, \"num_patients\": 1}, {\"siteid\": \"FSZ\", \"icd_code\": \"Z03.818\", \"icd_version\": 10, \"num_patients\": -1}, {\"siteid\": \"FSZ\", \"icd_code\": \"Z20.828\", \"icd_version\": 10, \"num_patients\": -1}, {\"siteid\": \"FMA\", \"icd_code\": \"37\", \"icd_version\": 9, \"num_patients\": 5}, {\"siteid\": \"FMA\", \"icd_code\": \"55\", \"icd_version\": 9, \"num_patients\": -1}, {\"siteid\": \"FMA\", \"icd_code\": \"112\", \"icd_version\": 9, \"num_patients\": 2}, {\"siteid\": \"FMA\", \"icd_code\": \"134\", \"icd_version\": 9, \"num_patients\": -1}, {\"siteid\": \"FMA\", \"icd_code\": \"J12.89\", \"icd_version\": 10, \"num_patients\": 3}, {\"siteid\": \"FMA\", \"icd_code\": \"J40\", \"icd_version\": 10, \"num_patients\": 9}, {\"siteid\": \"FMA\", \"icd_code\": \"Z20.828\", \"icd_version\": 10, \"num_patients\": 3}, {\"siteid\": \"FEQ\", \"icd_code\": \"54\", \"icd_version\": 9, \"num_patients\": -1}, {\"siteid\": \"FEQ\", \"icd_code\": \"91\", \"icd_version\": 9, \"num_patients\": -1}, {\"siteid\": \"FEQ\", \"icd_code\": \"103\", \"icd_version\": 9, \"num_patients\": 11}, {\"siteid\": \"FEQ\", \"icd_code\": \"37\", \"icd_version\": 9, \"num_patients\": 13}, {\"siteid\": \"FEQ\", \"icd_code\": \"70\", \"icd_version\": 9, \"num_patients\": 8}, {\"siteid\": \"FEQ\", \"icd_code\": \"112\", \"icd_version\": 9, \"num_patients\": -1}, {\"siteid\": \"FEQ\", \"icd_code\": \"134\", \"icd_version\": 9, \"num_patients\": -1}, {\"siteid\": \"FEQ\", \"icd_code\": \"B97.29\", \"icd_version\": 10, \"num_patients\": -1}, {\"siteid\": \"FEQ\", \"icd_code\": \"J40\", \"icd_version\": 10, \"num_patients\": 18}, {\"siteid\": \"FEQ\", \"icd_code\": \"J98.8\", \"icd_version\": 10, \"num_patients\": -1}, {\"siteid\": \"FEQ\", \"icd_code\": \"J80\", \"icd_version\": 10, \"num_patients\": 20}, {\"siteid\": \"FEQ\", \"icd_code\": \"Z03.818\", \"icd_version\": 10, \"num_patients\": -1}, {\"siteid\": \"FVX\", \"icd_code\": \"54\", \"icd_version\": 9, \"num_patients\": -1}, {\"siteid\": \"FVX\", \"icd_code\": \"122\", \"icd_version\": 9, \"num_patients\": 15}, {\"siteid\": \"FVX\", \"icd_code\": \"103\", \"icd_version\": 9, \"num_patients\": -1}, {\"siteid\": \"FVX\", \"icd_code\": \"37\", \"icd_version\": 9, \"num_patients\": -1}, {\"siteid\": \"FVX\", \"icd_code\": \"55\", \"icd_version\": 9, \"num_patients\": 37}, {\"siteid\": \"FVX\", \"icd_code\": \"134\", \"icd_version\": 9, \"num_patients\": -1}, {\"siteid\": \"FVX\", \"icd_code\": \"J12.89\", \"icd_version\": 10, \"num_patients\": 67}, {\"siteid\": \"FVX\", \"icd_code\": \"B97.29\", \"icd_version\": 10, \"num_patients\": 1}, {\"siteid\": \"FVX\", \"icd_code\": \"J20.8\", \"icd_version\": 10, \"num_patients\": -1}, {\"siteid\": \"FVX\", \"icd_code\": \"J98.8\", \"icd_version\": 10, \"num_patients\": -1}, {\"siteid\": \"FVX\", \"icd_code\": \"Z20.828\", \"icd_version\": 10, \"num_patients\": -1}, {\"siteid\": \"FKQ\", \"icd_code\": \"122\", \"icd_version\": 9, \"num_patients\": -1}, {\"siteid\": \"FKQ\", \"icd_code\": \"91\", \"icd_version\": 9, \"num_patients\": 94}, {\"siteid\": \"FKQ\", \"icd_code\": \"37\", \"icd_version\": 9, \"num_patients\": -1}, {\"siteid\": \"FKQ\", \"icd_code\": \"55\", \"icd_version\": 9, \"num_patients\": -1}, {\"siteid\": \"FKQ\", \"icd_code\": \"112\", \"icd_version\": 9, \"num_patients\": -1}, {\"siteid\": \"FKQ\", \"icd_code\": \"134\", \"icd_version\": 9, \"num_patients\": -1}, {\"siteid\": \"FKQ\", \"icd_code\": \"J12.89\", \"icd_version\": 10, \"num_patients\": 21}, {\"siteid\": \"FKQ\", \"icd_code\": \"B97.29\", \"icd_version\": 10, \"num_patients\": 48}, {\"siteid\": \"FKQ\", \"icd_code\": \"J20.8\", \"icd_version\": 10, \"num_patients\": -1}, {\"siteid\": \"FKQ\", \"icd_code\": \"J22\", \"icd_version\": 10, \"num_patients\": -1}, {\"siteid\": \"FKQ\", \"icd_code\": \"J80\", \"icd_version\": 10, \"num_patients\": 17}, {\"siteid\": \"FKQ\", \"icd_code\": \"Z03.818\", \"icd_version\": 10, \"num_patients\": 85}, {\"siteid\": \"FBL\", \"icd_code\": \"54\", \"icd_version\": 9, \"num_patients\": -1}, {\"siteid\": \"FBL\", \"icd_code\": \"91\", \"icd_version\": 9, \"num_patients\": -1}, {\"siteid\": \"FBL\", \"icd_code\": \"37\", \"icd_version\": 9, \"num_patients\": -1}, {\"siteid\": \"FBL\", \"icd_code\": \"112\", \"icd_version\": 9, \"num_patients\": 7}, {\"siteid\": \"FBL\", \"icd_code\": \"J12.89\", \"icd_version\": 10, \"num_patients\": -1}, {\"siteid\": \"FBL\", \"icd_code\": \"B97.29\", \"icd_version\": 10, \"num_patients\": -1}, {\"siteid\": \"FBL\", \"icd_code\": \"J20.8\", \"icd_version\": 10, \"num_patients\": -1}, {\"siteid\": \"FBL\", \"icd_code\": \"J22\", \"icd_version\": 10, \"num_patients\": -1}, {\"siteid\": \"FBL\", \"icd_code\": \"J80\", \"icd_version\": 10, \"num_patients\": 10}, {\"siteid\": \"FDQ\", \"icd_code\": \"54\", \"icd_version\": 9, \"num_patients\": 3}, {\"siteid\": \"FDQ\", \"icd_code\": \"55\", \"icd_version\": 9, \"num_patients\": -1}, {\"siteid\": \"FDQ\", \"icd_code\": \"112\", \"icd_version\": 9, \"num_patients\": 11}, {\"siteid\": \"FDQ\", \"icd_code\": \"134\", \"icd_version\": 9, \"num_patients\": 6}, {\"siteid\": \"FDQ\", \"icd_code\": \"J20.8\", \"icd_version\": 10, \"num_patients\": 7}, {\"siteid\": \"FDQ\", \"icd_code\": \"J80\", \"icd_version\": 10, \"num_patients\": 1}, {\"siteid\": \"FDQ\", \"icd_code\": \"Z03.818\", \"icd_version\": 10, \"num_patients\": -1}, {\"siteid\": \"FKN\", \"icd_code\": \"54\", \"icd_version\": 9, \"num_patients\": 6}, {\"siteid\": \"FKN\", \"icd_code\": \"103\", \"icd_version\": 9, \"num_patients\": 6}, {\"siteid\": \"FKN\", \"icd_code\": \"37\", \"icd_version\": 9, \"num_patients\": -1}, {\"siteid\": \"FKN\", \"icd_code\": \"70\", \"icd_version\": 9, \"num_patients\": -1}, {\"siteid\": \"FKN\", \"icd_code\": \"112\", \"icd_version\": 9, \"num_patients\": -1}, {\"siteid\": \"FKN\", \"icd_code\": \"B97.29\", \"icd_version\": 10, \"num_patients\": -1}, {\"siteid\": \"FKN\", \"icd_code\": \"J20.8\", \"icd_version\": 10, \"num_patients\": -1}, {\"siteid\": \"FKN\", \"icd_code\": \"J40\", \"icd_version\": 10, \"num_patients\": 4}, {\"siteid\": \"FKN\", \"icd_code\": \"J22\", \"icd_version\": 10, \"num_patients\": 9}, {\"siteid\": \"FKN\", \"icd_code\": \"J98.8\", \"icd_version\": 10, \"num_patients\": -1}, {\"siteid\": \"FKN\", \"icd_code\": \"Z03.818\", \"icd_version\": 10, \"num_patients\": 7}, {\"siteid\": \"FKN\", \"icd_code\": \"Z20.828\", \"icd_version\": 10, \"num_patients\": -1}, {\"siteid\": \"FBD\", \"icd_code\": \"54\", \"icd_version\": 9, \"num_patients\": -1}, {\"siteid\": \"FBD\", \"icd_code\": \"122\", \"icd_version\": 9, \"num_patients\": -1}, {\"siteid\": \"FBD\", \"icd_code\": \"103\", \"icd_version\": 9, \"num_patients\": 69}, {\"siteid\": \"FBD\", \"icd_code\": \"37\", \"icd_version\": 9, \"num_patients\": 9}, {\"siteid\": \"FBD\", \"icd_code\": \"J20.8\", \"icd_version\": 10, \"num_patients\": -1}, {\"siteid\": \"FBD\", \"icd_code\": \"J98.8\", \"icd_version\": 10, \"num_patients\": -1}, {\"siteid\": \"FBD\", \"icd_code\": \"J80\", \"icd_version\": 10, \"num_patients\": -1}, {\"siteid\": \"FBD\", \"icd_code\": \"Z20.828\", \"icd_version\": 10, \"num_patients\": -1}, {\"siteid\": \"FKL\", \"icd_code\": \"54\", \"icd_version\": 9, \"num_patients\": 47}, {\"siteid\": \"FKL\", \"icd_code\": \"103\", \"icd_version\": 9, \"num_patients\": 22}, {\"siteid\": \"FKL\", \"icd_code\": \"37\", \"icd_version\": 9, \"num_patients\": 75}, {\"siteid\": \"FKL\", \"icd_code\": \"112\", \"icd_version\": 9, \"num_patients\": -1}, {\"siteid\": \"FKL\", \"icd_code\": \"134\", \"icd_version\": 9, \"num_patients\": 87}, {\"siteid\": \"FKL\", \"icd_code\": \"B97.29\", \"icd_version\": 10, \"num_patients\": 30}, {\"siteid\": \"FKL\", \"icd_code\": \"J22\", \"icd_version\": 10, \"num_patients\": -1}, {\"siteid\": \"FUU\", \"icd_code\": \"54\", \"icd_version\": 9, \"num_patients\": -1}, {\"siteid\": \"FUU\", \"icd_code\": \"122\", \"icd_version\": 9, \"num_patients\": 76}, {\"siteid\": \"FUU\", \"icd_code\": \"91\", \"icd_version\": 9, \"num_patients\": -1}, {\"siteid\": \"FUU\", \"icd_code\": \"37\", \"icd_version\": 9, \"num_patients\": 5}, {\"siteid\": \"FUU\", \"icd_code\": \"55\", \"icd_version\": 9, \"num_patients\": 61}, {\"siteid\": \"FUU\", \"icd_code\": \"112\", \"icd_version\": 9, \"num_patients\": -1}, {\"siteid\": \"FUU\", \"icd_code\": \"134\", \"icd_version\": 9, \"num_patients\": -1}, {\"siteid\": \"FUU\", \"icd_code\": \"B97.29\", \"icd_version\": 10, \"num_patients\": 12}, {\"siteid\": \"FUU\", \"icd_code\": \"J20.8\", \"icd_version\": 10, \"num_patients\": 22}, {\"siteid\": \"FUU\", \"icd_code\": \"Z20.828\", \"icd_version\": 10, \"num_patients\": -1}, {\"siteid\": \"FZU\", \"icd_code\": \"122\", \"icd_version\": 9, \"num_patients\": -1}, {\"siteid\": \"FZU\", \"icd_code\": \"103\", \"icd_version\": 9, \"num_patients\": -1}, {\"siteid\": \"FZU\", \"icd_code\": \"37\", \"icd_version\": 9, \"num_patients\": -1}, {\"siteid\": \"FZU\", \"icd_code\": \"55\", \"icd_version\": 9, \"num_patients\": -1}, {\"siteid\": \"FZU\", \"icd_code\": \"112\", \"icd_version\": 9, \"num_patients\": 38}, {\"siteid\": \"FZU\", \"icd_code\": \"J22\", \"icd_version\": 10, \"num_patients\": 10}, {\"siteid\": \"FZU\", \"icd_code\": \"J80\", \"icd_version\": 10, \"num_patients\": 43}, {\"siteid\": \"FZM\", \"icd_code\": \"54\", \"icd_version\": 9, \"num_patients\": -1}, {\"siteid\": \"FZM\", \"icd_code\": \"122\", \"icd_version\": 9, \"num_patients\": 46}, {\"siteid\": \"FZM\", \"icd_code\": \"91\", \"icd_version\": 9, \"num_patients\": 24}, {\"siteid\": \"FZM\", \"icd_code\": \"103\", \"icd_version\": 9, \"num_patients\": 11}, {\"siteid\": \"FZM\", \"icd_code\": \"37\", \"icd_version\": 9, \"num_patients\": 94}, {\"siteid\": \"FZM\", \"icd_code\": \"55\", \"icd_version\": 9, \"num_patients\": -1}, {\"siteid\": \"FZM\", \"icd_code\": \"70\", \"icd_version\": 9, \"num_patients\": 43}, {\"siteid\": \"FZM\", \"icd_code\": \"112\", \"icd_version\": 9, \"num_patients\": 83}, {\"siteid\": \"FZM\", \"icd_code\": \"J40\", \"icd_version\": 10, \"num_patients\": 55}, {\"siteid\": \"FZM\", \"icd_code\": \"J22\", \"icd_version\": 10, \"num_patients\": -1}, {\"siteid\": \"FZM\", \"icd_code\": \"J98.8\", \"icd_version\": 10, \"num_patients\": -1}, {\"siteid\": \"FZM\", \"icd_code\": \"Z03.818\", \"icd_version\": 10, \"num_patients\": -1}, {\"siteid\": \"FUN\", \"icd_code\": \"54\", \"icd_version\": 9, \"num_patients\": -1}, {\"siteid\": \"FUN\", \"icd_code\": \"91\", \"icd_version\": 9, \"num_patients\": -1}, {\"siteid\": \"FUN\", \"icd_code\": \"55\", \"icd_version\": 9, \"num_patients\": -1}, {\"siteid\": \"FUN\", \"icd_code\": \"134\", \"icd_version\": 9, \"num_patients\": -1}, {\"siteid\": \"FUN\", \"icd_code\": \"J12.89\", \"icd_version\": 10, \"num_patients\": -1}, {\"siteid\": \"FUN\", \"icd_code\": \"B97.29\", \"icd_version\": 10, \"num_patients\": 4}, {\"siteid\": \"FUN\", \"icd_code\": \"J20.8\", \"icd_version\": 10, \"num_patients\": 37}, {\"siteid\": \"FUN\", \"icd_code\": \"J22\", \"icd_version\": 10, \"num_patients\": -1}, {\"siteid\": \"FUN\", \"icd_code\": \"J98.8\", \"icd_version\": 10, \"num_patients\": 19}]}}, {\"mode\": \"vega-lite\"});\n",
       "</script>"
      ],
      "text/plain": [
       "alt.HConcatChart(...)"
      ]
     },
     "execution_count": 315,
     "metadata": {},
     "output_type": "execute_result"
    }
   ],
   "source": [
    "# Mouseover effect\n",
    "mouseover = alt.selection(type='single', on='mouseover', fields=[siteid], nearest=False)\n",
    "\n",
    "# Base bar chart\n",
    "base = alt.Chart(df).mark_bar().encode(\n",
    "    x=alt.X(f\"sum({num_patients}):Q\", title=\"Total Number of Patients\", axis=alt.Axis(tickCount=5)),\n",
    "    y=alt.Y(f\"{icd_code}:N\", title=\"ICD Code\"),\n",
    "    color=alt.value(\"lightgray\")\n",
    ").transform_filter(\n",
    "    # Do not show uncertain data\n",
    "    alt.FieldGTEPredicate(field=num_patients, gte=0)\n",
    ").properties(\n",
    "    title=\"Diagnoses Patients Have Starting 7 Days Before Positive Test\",\n",
    "    width=350,\n",
    "    height=300\n",
    ")\n",
    "\n",
    "# Text label\n",
    "text = base.mark_text(align='right', baseline='middle', dx=-4, fontWeight=\"bold\").encode(\n",
    "    text=f\"sum({num_patients}):Q\",\n",
    "    color=alt.value(\"white\")\n",
    ")\n",
    "\n",
    "# Highlight selected site id\n",
    "hl = base.encode(\n",
    "    color=alt.Color(icd_version + \":N\", scale=icd_color_scale, title=\"ICD Version\")\n",
    ").transform_filter(mouseover)\n",
    "\n",
    "text_hl = hl.mark_text(align='left', baseline='middle', dx=4, fontWeight=\"bold\").encode(\n",
    "    text=f\"sum({num_patients}):Q\"\n",
    ")\n",
    "\n",
    "# Chart for total by site ID\n",
    "chart_by_siteid = alt.Chart(df).mark_bar().encode(\n",
    "    y=alt.Y(f\"sum({num_patients}):Q\", title=\"Total Number of Patients\", axis=alt.Axis(tickCount=5)),\n",
    "    x=alt.X(f\"{siteid}:N\", title=\"Site\", sort=\"-y\"),\n",
    "    color=alt.condition(~mouseover, alt.value(\"rgb(244, 208, 75)\"), alt.value(\"#E48236\"))\n",
    ").transform_filter(\n",
    "    # Do not show uncertain data\n",
    "    alt.FieldGTEPredicate(field=num_patients, gte=0)\n",
    ").properties(\n",
    "    title=\"Diagnoses By Site\",\n",
    "    width=350,\n",
    "    height=300\n",
    ").add_selection(\n",
    "    mouseover\n",
    ")\n",
    "\n",
    "chart = apply_theme(\n",
    "    ((base + text + hl + text_hl) | chart_by_siteid)\n",
    ").resolve_scale(\"independent\")\n",
    "        \n",
    "chart"
   ]
  },
  {
   "cell_type": "code",
   "execution_count": 298,
   "metadata": {},
   "outputs": [
    {
     "data": {
      "text/html": [
       "\n",
       "<div id=\"altair-viz-2a2fb4e31a214d02a668ca76e97febe1\"></div>\n",
       "<script type=\"text/javascript\">\n",
       "  (function(spec, embedOpt){\n",
       "    const outputDiv = document.getElementById(\"altair-viz-2a2fb4e31a214d02a668ca76e97febe1\");\n",
       "    const paths = {\n",
       "      \"vega\": \"https://cdn.jsdelivr.net/npm//vega@5?noext\",\n",
       "      \"vega-lib\": \"https://cdn.jsdelivr.net/npm//vega-lib?noext\",\n",
       "      \"vega-lite\": \"https://cdn.jsdelivr.net/npm//vega-lite@4.0.2?noext\",\n",
       "      \"vega-embed\": \"https://cdn.jsdelivr.net/npm//vega-embed@6?noext\",\n",
       "    };\n",
       "\n",
       "    function loadScript(lib) {\n",
       "      return new Promise(function(resolve, reject) {\n",
       "        var s = document.createElement('script');\n",
       "        s.src = paths[lib];\n",
       "        s.async = true;\n",
       "        s.onload = () => resolve(paths[lib]);\n",
       "        s.onerror = () => reject(`Error loading script: ${paths[lib]}`);\n",
       "        document.getElementsByTagName(\"head\")[0].appendChild(s);\n",
       "      });\n",
       "    }\n",
       "\n",
       "    function showError(err) {\n",
       "      outputDiv.innerHTML = `<div class=\"error\" style=\"color:red;\">${err}</div>`;\n",
       "      throw err;\n",
       "    }\n",
       "\n",
       "    function displayChart(vegaEmbed) {\n",
       "      vegaEmbed(outputDiv, spec, embedOpt)\n",
       "        .catch(err => showError(`Javascript Error: ${err.message}<br>This usually means there's a typo in your chart specification. See the javascript console for the full traceback.`));\n",
       "    }\n",
       "\n",
       "    if(typeof define === \"function\" && define.amd) {\n",
       "      requirejs.config({paths});\n",
       "      require([\"vega-embed\"], displayChart, err => showError(`Error loading script: ${err.message}`));\n",
       "    } else if (typeof vegaEmbed === \"function\") {\n",
       "      displayChart(vegaEmbed);\n",
       "    } else {\n",
       "      loadScript(\"vega\")\n",
       "        .then(() => loadScript(\"vega-lite\"))\n",
       "        .then(() => loadScript(\"vega-embed\"))\n",
       "        .catch(showError)\n",
       "        .then(() => displayChart(vegaEmbed));\n",
       "    }\n",
       "  })({\"config\": {\"view\": {\"continuousWidth\": 400, \"continuousHeight\": 300}, \"axis\": {\"labelFontSize\": 10, \"labelFontWeight\": 300, \"titleFontSize\": 14, \"titleFontWeight\": 300}, \"title\": {\"anchor\": \"middle\", \"fontSize\": 20, \"fontWeight\": 400}}, \"data\": {\"name\": \"data-eeece5fd57f8cb1bdccf106b73d13ef5\"}, \"mark\": \"bar\", \"encoding\": {\"color\": {\"type\": \"nominal\", \"field\": \"icd_version\", \"scale\": {\"domain\": [\"9\", \"10\"], \"range\": [\"#69A6CE\", \"#EB6F63\"]}, \"title\": \"ICD Version\"}, \"facet\": {\"type\": \"nominal\", \"columns\": 5, \"field\": \"siteid\", \"title\": \"\"}, \"tooltip\": [{\"type\": \"nominal\", \"field\": \"icd_code\"}, {\"type\": \"quantitative\", \"aggregate\": \"sum\", \"field\": \"num_patients\"}], \"x\": {\"type\": \"nominal\", \"field\": \"icd_code\", \"title\": \"ICD Code\"}, \"y\": {\"type\": \"quantitative\", \"aggregate\": \"sum\", \"field\": \"num_patients\", \"title\": \"Total Number of Patients\"}}, \"height\": 150, \"selection\": {\"selector450\": {\"type\": \"interval\", \"bind\": \"scales\", \"encodings\": [\"x\", \"y\"]}}, \"title\": \"All Diagnoses Patients Have Starting 7 Days Before Positive Test\", \"transform\": [{\"filter\": {\"field\": \"num_patients\", \"gte\": 0}}], \"width\": 150, \"$schema\": \"https://vega.github.io/schema/vega-lite/v4.0.2.json\", \"datasets\": {\"data-eeece5fd57f8cb1bdccf106b73d13ef5\": [{\"siteid\": \"FWN\", \"icd_code\": \"54\", \"icd_version\": 9, \"num_patients\": 3}, {\"siteid\": \"FWN\", \"icd_code\": \"103\", \"icd_version\": 9, \"num_patients\": 9}, {\"siteid\": \"FWN\", \"icd_code\": \"37\", \"icd_version\": 9, \"num_patients\": 11}, {\"siteid\": \"FWN\", \"icd_code\": \"J40\", \"icd_version\": 10, \"num_patients\": 4}, {\"siteid\": \"FWN\", \"icd_code\": \"J22\", \"icd_version\": 10, \"num_patients\": 8}, {\"siteid\": \"FWN\", \"icd_code\": \"Z03.818\", \"icd_version\": 10, \"num_patients\": -1}, {\"siteid\": \"FXL\", \"icd_code\": \"122\", \"icd_version\": 9, \"num_patients\": 4}, {\"siteid\": \"FXL\", \"icd_code\": \"91\", \"icd_version\": 9, \"num_patients\": 7}, {\"siteid\": \"FXL\", \"icd_code\": \"37\", \"icd_version\": 9, \"num_patients\": -1}, {\"siteid\": \"FXL\", \"icd_code\": \"55\", \"icd_version\": 9, \"num_patients\": -1}, {\"siteid\": \"FXL\", \"icd_code\": \"70\", \"icd_version\": 9, \"num_patients\": -1}, {\"siteid\": \"FXL\", \"icd_code\": \"J80\", \"icd_version\": 10, \"num_patients\": 11}, {\"siteid\": \"FXL\", \"icd_code\": \"Z03.818\", \"icd_version\": 10, \"num_patients\": 4}, {\"siteid\": \"FXL\", \"icd_code\": \"Z20.828\", \"icd_version\": 10, \"num_patients\": -1}, {\"siteid\": \"FZT\", \"icd_code\": \"122\", \"icd_version\": 9, \"num_patients\": 45}, {\"siteid\": \"FZT\", \"icd_code\": \"103\", \"icd_version\": 9, \"num_patients\": 1}, {\"siteid\": \"FZT\", \"icd_code\": \"134\", \"icd_version\": 9, \"num_patients\": 28}, {\"siteid\": \"FZT\", \"icd_code\": \"J12.89\", \"icd_version\": 10, \"num_patients\": -1}, {\"siteid\": \"FZT\", \"icd_code\": \"B97.29\", \"icd_version\": 10, \"num_patients\": -1}, {\"siteid\": \"FZT\", \"icd_code\": \"J20.8\", \"icd_version\": 10, \"num_patients\": -1}, {\"siteid\": \"FZT\", \"icd_code\": \"J40\", \"icd_version\": 10, \"num_patients\": 10}, {\"siteid\": \"FZT\", \"icd_code\": \"Z03.818\", \"icd_version\": 10, \"num_patients\": 13}, {\"siteid\": \"FMT\", \"icd_code\": \"91\", \"icd_version\": 9, \"num_patients\": -1}, {\"siteid\": \"FMT\", \"icd_code\": \"37\", \"icd_version\": 9, \"num_patients\": 36}, {\"siteid\": \"FMT\", \"icd_code\": \"70\", \"icd_version\": 9, \"num_patients\": -1}, {\"siteid\": \"FMT\", \"icd_code\": \"112\", \"icd_version\": 9, \"num_patients\": 61}, {\"siteid\": \"FMT\", \"icd_code\": \"J12.89\", \"icd_version\": 10, \"num_patients\": -1}, {\"siteid\": \"FMT\", \"icd_code\": \"J20.8\", \"icd_version\": 10, \"num_patients\": 42}, {\"siteid\": \"FMT\", \"icd_code\": \"J22\", \"icd_version\": 10, \"num_patients\": 37}, {\"siteid\": \"FMT\", \"icd_code\": \"J98.8\", \"icd_version\": 10, \"num_patients\": -1}, {\"siteid\": \"FMT\", \"icd_code\": \"J80\", \"icd_version\": 10, \"num_patients\": 7}, {\"siteid\": \"FMT\", \"icd_code\": \"Z20.828\", \"icd_version\": 10, \"num_patients\": -1}, {\"siteid\": \"FFG\", \"icd_code\": \"91\", \"icd_version\": 9, \"num_patients\": -1}, {\"siteid\": \"FFG\", \"icd_code\": \"55\", \"icd_version\": 9, \"num_patients\": -1}, {\"siteid\": \"FFG\", \"icd_code\": \"Z20.828\", \"icd_version\": 10, \"num_patients\": 8}, {\"siteid\": \"FOW\", \"icd_code\": \"54\", \"icd_version\": 9, \"num_patients\": 1}, {\"siteid\": \"FOW\", \"icd_code\": \"122\", \"icd_version\": 9, \"num_patients\": -1}, {\"siteid\": \"FOW\", \"icd_code\": \"91\", \"icd_version\": 9, \"num_patients\": 11}, {\"siteid\": \"FOW\", \"icd_code\": \"37\", \"icd_version\": 9, \"num_patients\": 10}, {\"siteid\": \"FOW\", \"icd_code\": \"55\", \"icd_version\": 9, \"num_patients\": 4}, {\"siteid\": \"FOW\", \"icd_code\": \"112\", \"icd_version\": 9, \"num_patients\": -1}, {\"siteid\": \"FOW\", \"icd_code\": \"134\", \"icd_version\": 9, \"num_patients\": 7}, {\"siteid\": \"FOW\", \"icd_code\": \"J12.89\", \"icd_version\": 10, \"num_patients\": 1}, {\"siteid\": \"FOW\", \"icd_code\": \"B97.29\", \"icd_version\": 10, \"num_patients\": -1}, {\"siteid\": \"FOW\", \"icd_code\": \"J22\", \"icd_version\": 10, \"num_patients\": -1}, {\"siteid\": \"FOW\", \"icd_code\": \"J98.8\", \"icd_version\": 10, \"num_patients\": -1}, {\"siteid\": \"FOW\", \"icd_code\": \"Z20.828\", \"icd_version\": 10, \"num_patients\": -1}, {\"siteid\": \"FSZ\", \"icd_code\": \"54\", \"icd_version\": 9, \"num_patients\": 1}, {\"siteid\": \"FSZ\", \"icd_code\": \"122\", \"icd_version\": 9, \"num_patients\": 5}, {\"siteid\": \"FSZ\", \"icd_code\": \"91\", \"icd_version\": 9, \"num_patients\": 10}, {\"siteid\": \"FSZ\", \"icd_code\": \"103\", \"icd_version\": 9, \"num_patients\": 10}, {\"siteid\": \"FSZ\", \"icd_code\": \"37\", \"icd_version\": 9, \"num_patients\": 5}, {\"siteid\": \"FSZ\", \"icd_code\": \"70\", \"icd_version\": 9, \"num_patients\": -1}, {\"siteid\": \"FSZ\", \"icd_code\": \"134\", \"icd_version\": 9, \"num_patients\": -1}, {\"siteid\": \"FSZ\", \"icd_code\": \"J12.89\", \"icd_version\": 10, \"num_patients\": 6}, {\"siteid\": \"FSZ\", \"icd_code\": \"J20.8\", \"icd_version\": 10, \"num_patients\": -1}, {\"siteid\": \"FSZ\", \"icd_code\": \"J80\", \"icd_version\": 10, \"num_patients\": 1}, {\"siteid\": \"FSZ\", \"icd_code\": \"Z03.818\", \"icd_version\": 10, \"num_patients\": -1}, {\"siteid\": \"FSZ\", \"icd_code\": \"Z20.828\", \"icd_version\": 10, \"num_patients\": -1}, {\"siteid\": \"FMA\", \"icd_code\": \"37\", \"icd_version\": 9, \"num_patients\": 5}, {\"siteid\": \"FMA\", \"icd_code\": \"55\", \"icd_version\": 9, \"num_patients\": -1}, {\"siteid\": \"FMA\", \"icd_code\": \"112\", \"icd_version\": 9, \"num_patients\": 2}, {\"siteid\": \"FMA\", \"icd_code\": \"134\", \"icd_version\": 9, \"num_patients\": -1}, {\"siteid\": \"FMA\", \"icd_code\": \"J12.89\", \"icd_version\": 10, \"num_patients\": 3}, {\"siteid\": \"FMA\", \"icd_code\": \"J40\", \"icd_version\": 10, \"num_patients\": 9}, {\"siteid\": \"FMA\", \"icd_code\": \"Z20.828\", \"icd_version\": 10, \"num_patients\": 3}, {\"siteid\": \"FEQ\", \"icd_code\": \"54\", \"icd_version\": 9, \"num_patients\": -1}, {\"siteid\": \"FEQ\", \"icd_code\": \"91\", \"icd_version\": 9, \"num_patients\": -1}, {\"siteid\": \"FEQ\", \"icd_code\": \"103\", \"icd_version\": 9, \"num_patients\": 11}, {\"siteid\": \"FEQ\", \"icd_code\": \"37\", \"icd_version\": 9, \"num_patients\": 13}, {\"siteid\": \"FEQ\", \"icd_code\": \"70\", \"icd_version\": 9, \"num_patients\": 8}, {\"siteid\": \"FEQ\", \"icd_code\": \"112\", \"icd_version\": 9, \"num_patients\": -1}, {\"siteid\": \"FEQ\", \"icd_code\": \"134\", \"icd_version\": 9, \"num_patients\": -1}, {\"siteid\": \"FEQ\", \"icd_code\": \"B97.29\", \"icd_version\": 10, \"num_patients\": -1}, {\"siteid\": \"FEQ\", \"icd_code\": \"J40\", \"icd_version\": 10, \"num_patients\": 18}, {\"siteid\": \"FEQ\", \"icd_code\": \"J98.8\", \"icd_version\": 10, \"num_patients\": -1}, {\"siteid\": \"FEQ\", \"icd_code\": \"J80\", \"icd_version\": 10, \"num_patients\": 20}, {\"siteid\": \"FEQ\", \"icd_code\": \"Z03.818\", \"icd_version\": 10, \"num_patients\": -1}, {\"siteid\": \"FVX\", \"icd_code\": \"54\", \"icd_version\": 9, \"num_patients\": -1}, {\"siteid\": \"FVX\", \"icd_code\": \"122\", \"icd_version\": 9, \"num_patients\": 15}, {\"siteid\": \"FVX\", \"icd_code\": \"103\", \"icd_version\": 9, \"num_patients\": -1}, {\"siteid\": \"FVX\", \"icd_code\": \"37\", \"icd_version\": 9, \"num_patients\": -1}, {\"siteid\": \"FVX\", \"icd_code\": \"55\", \"icd_version\": 9, \"num_patients\": 37}, {\"siteid\": \"FVX\", \"icd_code\": \"134\", \"icd_version\": 9, \"num_patients\": -1}, {\"siteid\": \"FVX\", \"icd_code\": \"J12.89\", \"icd_version\": 10, \"num_patients\": 67}, {\"siteid\": \"FVX\", \"icd_code\": \"B97.29\", \"icd_version\": 10, \"num_patients\": 1}, {\"siteid\": \"FVX\", \"icd_code\": \"J20.8\", \"icd_version\": 10, \"num_patients\": -1}, {\"siteid\": \"FVX\", \"icd_code\": \"J98.8\", \"icd_version\": 10, \"num_patients\": -1}, {\"siteid\": \"FVX\", \"icd_code\": \"Z20.828\", \"icd_version\": 10, \"num_patients\": -1}, {\"siteid\": \"FKQ\", \"icd_code\": \"122\", \"icd_version\": 9, \"num_patients\": -1}, {\"siteid\": \"FKQ\", \"icd_code\": \"91\", \"icd_version\": 9, \"num_patients\": 94}, {\"siteid\": \"FKQ\", \"icd_code\": \"37\", \"icd_version\": 9, \"num_patients\": -1}, {\"siteid\": \"FKQ\", \"icd_code\": \"55\", \"icd_version\": 9, \"num_patients\": -1}, {\"siteid\": \"FKQ\", \"icd_code\": \"112\", \"icd_version\": 9, \"num_patients\": -1}, {\"siteid\": \"FKQ\", \"icd_code\": \"134\", \"icd_version\": 9, \"num_patients\": -1}, {\"siteid\": \"FKQ\", \"icd_code\": \"J12.89\", \"icd_version\": 10, \"num_patients\": 21}, {\"siteid\": \"FKQ\", \"icd_code\": \"B97.29\", \"icd_version\": 10, \"num_patients\": 48}, {\"siteid\": \"FKQ\", \"icd_code\": \"J20.8\", \"icd_version\": 10, \"num_patients\": -1}, {\"siteid\": \"FKQ\", \"icd_code\": \"J22\", \"icd_version\": 10, \"num_patients\": -1}, {\"siteid\": \"FKQ\", \"icd_code\": \"J80\", \"icd_version\": 10, \"num_patients\": 17}, {\"siteid\": \"FKQ\", \"icd_code\": \"Z03.818\", \"icd_version\": 10, \"num_patients\": 85}, {\"siteid\": \"FBL\", \"icd_code\": \"54\", \"icd_version\": 9, \"num_patients\": -1}, {\"siteid\": \"FBL\", \"icd_code\": \"91\", \"icd_version\": 9, \"num_patients\": -1}, {\"siteid\": \"FBL\", \"icd_code\": \"37\", \"icd_version\": 9, \"num_patients\": -1}, {\"siteid\": \"FBL\", \"icd_code\": \"112\", \"icd_version\": 9, \"num_patients\": 7}, {\"siteid\": \"FBL\", \"icd_code\": \"J12.89\", \"icd_version\": 10, \"num_patients\": -1}, {\"siteid\": \"FBL\", \"icd_code\": \"B97.29\", \"icd_version\": 10, \"num_patients\": -1}, {\"siteid\": \"FBL\", \"icd_code\": \"J20.8\", \"icd_version\": 10, \"num_patients\": -1}, {\"siteid\": \"FBL\", \"icd_code\": \"J22\", \"icd_version\": 10, \"num_patients\": -1}, {\"siteid\": \"FBL\", \"icd_code\": \"J80\", \"icd_version\": 10, \"num_patients\": 10}, {\"siteid\": \"FDQ\", \"icd_code\": \"54\", \"icd_version\": 9, \"num_patients\": 3}, {\"siteid\": \"FDQ\", \"icd_code\": \"55\", \"icd_version\": 9, \"num_patients\": -1}, {\"siteid\": \"FDQ\", \"icd_code\": \"112\", \"icd_version\": 9, \"num_patients\": 11}, {\"siteid\": \"FDQ\", \"icd_code\": \"134\", \"icd_version\": 9, \"num_patients\": 6}, {\"siteid\": \"FDQ\", \"icd_code\": \"J20.8\", \"icd_version\": 10, \"num_patients\": 7}, {\"siteid\": \"FDQ\", \"icd_code\": \"J80\", \"icd_version\": 10, \"num_patients\": 1}, {\"siteid\": \"FDQ\", \"icd_code\": \"Z03.818\", \"icd_version\": 10, \"num_patients\": -1}, {\"siteid\": \"FKN\", \"icd_code\": \"54\", \"icd_version\": 9, \"num_patients\": 6}, {\"siteid\": \"FKN\", \"icd_code\": \"103\", \"icd_version\": 9, \"num_patients\": 6}, {\"siteid\": \"FKN\", \"icd_code\": \"37\", \"icd_version\": 9, \"num_patients\": -1}, {\"siteid\": \"FKN\", \"icd_code\": \"70\", \"icd_version\": 9, \"num_patients\": -1}, {\"siteid\": \"FKN\", \"icd_code\": \"112\", \"icd_version\": 9, \"num_patients\": -1}, {\"siteid\": \"FKN\", \"icd_code\": \"B97.29\", \"icd_version\": 10, \"num_patients\": -1}, {\"siteid\": \"FKN\", \"icd_code\": \"J20.8\", \"icd_version\": 10, \"num_patients\": -1}, {\"siteid\": \"FKN\", \"icd_code\": \"J40\", \"icd_version\": 10, \"num_patients\": 4}, {\"siteid\": \"FKN\", \"icd_code\": \"J22\", \"icd_version\": 10, \"num_patients\": 9}, {\"siteid\": \"FKN\", \"icd_code\": \"J98.8\", \"icd_version\": 10, \"num_patients\": -1}, {\"siteid\": \"FKN\", \"icd_code\": \"Z03.818\", \"icd_version\": 10, \"num_patients\": 7}, {\"siteid\": \"FKN\", \"icd_code\": \"Z20.828\", \"icd_version\": 10, \"num_patients\": -1}, {\"siteid\": \"FBD\", \"icd_code\": \"54\", \"icd_version\": 9, \"num_patients\": -1}, {\"siteid\": \"FBD\", \"icd_code\": \"122\", \"icd_version\": 9, \"num_patients\": -1}, {\"siteid\": \"FBD\", \"icd_code\": \"103\", \"icd_version\": 9, \"num_patients\": 69}, {\"siteid\": \"FBD\", \"icd_code\": \"37\", \"icd_version\": 9, \"num_patients\": 9}, {\"siteid\": \"FBD\", \"icd_code\": \"J20.8\", \"icd_version\": 10, \"num_patients\": -1}, {\"siteid\": \"FBD\", \"icd_code\": \"J98.8\", \"icd_version\": 10, \"num_patients\": -1}, {\"siteid\": \"FBD\", \"icd_code\": \"J80\", \"icd_version\": 10, \"num_patients\": -1}, {\"siteid\": \"FBD\", \"icd_code\": \"Z20.828\", \"icd_version\": 10, \"num_patients\": -1}, {\"siteid\": \"FKL\", \"icd_code\": \"54\", \"icd_version\": 9, \"num_patients\": 47}, {\"siteid\": \"FKL\", \"icd_code\": \"103\", \"icd_version\": 9, \"num_patients\": 22}, {\"siteid\": \"FKL\", \"icd_code\": \"37\", \"icd_version\": 9, \"num_patients\": 75}, {\"siteid\": \"FKL\", \"icd_code\": \"112\", \"icd_version\": 9, \"num_patients\": -1}, {\"siteid\": \"FKL\", \"icd_code\": \"134\", \"icd_version\": 9, \"num_patients\": 87}, {\"siteid\": \"FKL\", \"icd_code\": \"B97.29\", \"icd_version\": 10, \"num_patients\": 30}, {\"siteid\": \"FKL\", \"icd_code\": \"J22\", \"icd_version\": 10, \"num_patients\": -1}, {\"siteid\": \"FUU\", \"icd_code\": \"54\", \"icd_version\": 9, \"num_patients\": -1}, {\"siteid\": \"FUU\", \"icd_code\": \"122\", \"icd_version\": 9, \"num_patients\": 76}, {\"siteid\": \"FUU\", \"icd_code\": \"91\", \"icd_version\": 9, \"num_patients\": -1}, {\"siteid\": \"FUU\", \"icd_code\": \"37\", \"icd_version\": 9, \"num_patients\": 5}, {\"siteid\": \"FUU\", \"icd_code\": \"55\", \"icd_version\": 9, \"num_patients\": 61}, {\"siteid\": \"FUU\", \"icd_code\": \"112\", \"icd_version\": 9, \"num_patients\": -1}, {\"siteid\": \"FUU\", \"icd_code\": \"134\", \"icd_version\": 9, \"num_patients\": -1}, {\"siteid\": \"FUU\", \"icd_code\": \"B97.29\", \"icd_version\": 10, \"num_patients\": 12}, {\"siteid\": \"FUU\", \"icd_code\": \"J20.8\", \"icd_version\": 10, \"num_patients\": 22}, {\"siteid\": \"FUU\", \"icd_code\": \"Z20.828\", \"icd_version\": 10, \"num_patients\": -1}, {\"siteid\": \"FZU\", \"icd_code\": \"122\", \"icd_version\": 9, \"num_patients\": -1}, {\"siteid\": \"FZU\", \"icd_code\": \"103\", \"icd_version\": 9, \"num_patients\": -1}, {\"siteid\": \"FZU\", \"icd_code\": \"37\", \"icd_version\": 9, \"num_patients\": -1}, {\"siteid\": \"FZU\", \"icd_code\": \"55\", \"icd_version\": 9, \"num_patients\": -1}, {\"siteid\": \"FZU\", \"icd_code\": \"112\", \"icd_version\": 9, \"num_patients\": 38}, {\"siteid\": \"FZU\", \"icd_code\": \"J22\", \"icd_version\": 10, \"num_patients\": 10}, {\"siteid\": \"FZU\", \"icd_code\": \"J80\", \"icd_version\": 10, \"num_patients\": 43}, {\"siteid\": \"FZM\", \"icd_code\": \"54\", \"icd_version\": 9, \"num_patients\": -1}, {\"siteid\": \"FZM\", \"icd_code\": \"122\", \"icd_version\": 9, \"num_patients\": 46}, {\"siteid\": \"FZM\", \"icd_code\": \"91\", \"icd_version\": 9, \"num_patients\": 24}, {\"siteid\": \"FZM\", \"icd_code\": \"103\", \"icd_version\": 9, \"num_patients\": 11}, {\"siteid\": \"FZM\", \"icd_code\": \"37\", \"icd_version\": 9, \"num_patients\": 94}, {\"siteid\": \"FZM\", \"icd_code\": \"55\", \"icd_version\": 9, \"num_patients\": -1}, {\"siteid\": \"FZM\", \"icd_code\": \"70\", \"icd_version\": 9, \"num_patients\": 43}, {\"siteid\": \"FZM\", \"icd_code\": \"112\", \"icd_version\": 9, \"num_patients\": 83}, {\"siteid\": \"FZM\", \"icd_code\": \"J40\", \"icd_version\": 10, \"num_patients\": 55}, {\"siteid\": \"FZM\", \"icd_code\": \"J22\", \"icd_version\": 10, \"num_patients\": -1}, {\"siteid\": \"FZM\", \"icd_code\": \"J98.8\", \"icd_version\": 10, \"num_patients\": -1}, {\"siteid\": \"FZM\", \"icd_code\": \"Z03.818\", \"icd_version\": 10, \"num_patients\": -1}, {\"siteid\": \"FUN\", \"icd_code\": \"54\", \"icd_version\": 9, \"num_patients\": -1}, {\"siteid\": \"FUN\", \"icd_code\": \"91\", \"icd_version\": 9, \"num_patients\": -1}, {\"siteid\": \"FUN\", \"icd_code\": \"55\", \"icd_version\": 9, \"num_patients\": -1}, {\"siteid\": \"FUN\", \"icd_code\": \"134\", \"icd_version\": 9, \"num_patients\": -1}, {\"siteid\": \"FUN\", \"icd_code\": \"J12.89\", \"icd_version\": 10, \"num_patients\": -1}, {\"siteid\": \"FUN\", \"icd_code\": \"B97.29\", \"icd_version\": 10, \"num_patients\": 4}, {\"siteid\": \"FUN\", \"icd_code\": \"J20.8\", \"icd_version\": 10, \"num_patients\": 37}, {\"siteid\": \"FUN\", \"icd_code\": \"J22\", \"icd_version\": 10, \"num_patients\": -1}, {\"siteid\": \"FUN\", \"icd_code\": \"J98.8\", \"icd_version\": 10, \"num_patients\": 19}]}}, {\"mode\": \"vega-lite\"});\n",
       "</script>"
      ],
      "text/plain": [
       "alt.Chart(...)"
      ]
     },
     "execution_count": 298,
     "metadata": {},
     "output_type": "execute_result"
    }
   ],
   "source": [
    "def apply_theme_sm(base):\n",
    "    return base.configure_axis(\n",
    "        labelFontSize=10,\n",
    "        labelFontWeight=300,\n",
    "        titleFontSize=14,\n",
    "        titleFontWeight=300\n",
    "    ).configure_title(fontSize=20, fontWeight=400, anchor=\"middle\")\n",
    "\n",
    "# Mouseover effect\n",
    "mouseover = alt.selection(type='single', on='mouseover', fields=[icd_code], nearest=False)\n",
    "    \n",
    "base = alt.Chart(df).mark_bar().encode(\n",
    "    x=alt.X(f\"{icd_code}:N\", title=\"ICD Code\"),\n",
    "    y=alt.Y(f\"sum({num_patients}):Q\", title=\"Total Number of Patients\"),\n",
    "    color=alt.Color(icd_version + \":N\", scale=icd_color_scale, title=\"ICD Version\"),\n",
    "    facet=alt.Facet(f\"{siteid}:N\", columns=5, title=\"\"),\n",
    "    tooltip=[icd_code, f\"sum({num_patients})\"]\n",
    ").transform_filter(\n",
    "    # Do not show uncertain data\n",
    "    alt.FieldGTEPredicate(field=num_patients, gte=0)\n",
    ").properties(\n",
    "    width=150,\n",
    "    height=150\n",
    ")\n",
    "\n",
    "chart = apply_theme_sm(base).properties(\n",
    "    title=\"All Diagnoses Patients Have Starting 7 Days Before Positive Test\"\n",
    ")\n",
    "\n",
    "chart.interactive()"
   ]
  },
  {
   "cell_type": "code",
   "execution_count": null,
   "metadata": {},
   "outputs": [],
   "source": []
  }
 ],
 "metadata": {
  "kernelspec": {
   "display_name": "Python [conda env:c19i2b2-py] *",
   "language": "python",
   "name": "conda-env-c19i2b2-py-py"
  },
  "language_info": {
   "codemirror_mode": {
    "name": "ipython",
    "version": 3
   },
   "file_extension": ".py",
   "mimetype": "text/x-python",
   "name": "python",
   "nbconvert_exporter": "python",
   "pygments_lexer": "ipython3",
   "version": "3.8.2"
  }
 },
 "nbformat": 4,
 "nbformat_minor": 4
}
