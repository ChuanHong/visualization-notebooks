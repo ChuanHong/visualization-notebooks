{
 "cells": [
  {
   "cell_type": "code",
   "execution_count": 4,
   "metadata": {},
   "outputs": [],
   "source": [
    "import pandas as pd\n",
    "import numpy as np\n",
    "import altair as alt\n",
    "from ipywidgets import interact\n",
    "from os.path import join\n",
    "\n",
    "from constants import COLUMNS\n",
    "from utils import read_latest_diagnoses_df, read_icd_df"
   ]
  },
  {
   "cell_type": "code",
   "execution_count": 22,
   "metadata": {},
   "outputs": [],
   "source": [
    "df = read_latest_diagnoses_df()\n",
    "SITE_IDS = df[COLUMNS.SITE_ID].unique().tolist()\n",
    "\n",
    "# Columns\n",
    "siteid = COLUMNS.SITE_ID\n",
    "icd_code = COLUMNS.ICD_CODE\n",
    "icd_version = COLUMNS.ICD_VERSION\n",
    "num_patients = COLUMNS.NUM_PATIENTS\n",
    "\n",
    "# df # Comment this line not to include data preview in GitHub repo"
   ]
  },
  {
   "cell_type": "code",
   "execution_count": 21,
   "metadata": {},
   "outputs": [],
   "source": [
    "icd_df = read_icd_df()\n",
    "df = df.merge(icd_df, how=\"left\", left_on='icd_code', right_on='ICDcode')\n",
    "# df.head() # Comment this line not to include data preview in GitHub repo"
   ]
  },
  {
   "cell_type": "markdown",
   "metadata": {},
   "source": [
    "## Summarization Chart\n",
    "##### Select Site ID to see data by a specific site ID"
   ]
  },
  {
   "cell_type": "code",
   "execution_count": 11,
   "metadata": {
    "scrolled": true
   },
   "outputs": [
    {
     "data": {
      "application/vnd.jupyter.widget-view+json": {
       "model_id": "c461979852524f5fa2964a99370cbfa0",
       "version_major": 2,
       "version_minor": 0
      },
      "text/plain": [
       "interactive(children=(Dropdown(description='SiteID', options=('All Sites', 'UPenn', 'BCH'), value='All Sites')…"
      ]
     },
     "metadata": {},
     "output_type": "display_data"
    },
    {
     "data": {
      "text/plain": [
       "<function __main__.diagnoses_chart(SiteID)>"
      ]
     },
     "execution_count": 11,
     "metadata": {},
     "output_type": "execute_result"
    }
   ],
   "source": [
    "icd_color_scale = alt.Scale(domain=[\"9\", \"10\"], range=[\"#69A6CE\", \"#EB6F63\"])\n",
    "\n",
    "def apply_theme(base):\n",
    "    return base.configure_axis(\n",
    "        labelFontSize=14,\n",
    "        labelFontWeight=300,\n",
    "        titleFontSize=18,\n",
    "        titleFontWeight=300\n",
    "    ).configure_title(fontSize=18, fontWeight=400, anchor=\"middle\")\n",
    "    \n",
    "def diagnoses_chart(SiteID): \n",
    "    \n",
    "    # Mouseover effect\n",
    "    mouseover = alt.selection(type='single', on='mouseover', fields=[icd_code], nearest=False)\n",
    "    \n",
    "    # Base bar chart\n",
    "    base = alt.Chart(df).mark_bar().encode(\n",
    "        x=alt.X(f\"sum({num_patients}):Q\", title=\"Total Number of Patients\", axis=alt.Axis(tickCount=5)),\n",
    "        y=alt.Y(f\"{icd_code}:N\", title=\"ICD Code\", sort=\"-x\"),\n",
    "        color=alt.Color(icd_version + \":N\", scale=icd_color_scale, title=\"ICD Version\"),\n",
    "        # mouse hover visual effect\n",
    "        opacity=alt.condition(~mouseover, alt.value(1), alt.value(0.8)),\n",
    "        tooltip=[icd_code, f\"sum({num_patients})\"]\n",
    "    ).transform_filter(\n",
    "        # Do not show uncertain data\n",
    "        alt.FieldGTEPredicate(field=num_patients, gte=0)\n",
    "    ).properties(\n",
    "        title=\"All Diagnoses Patients Have Starting 7 Days Before Positive Test (\" + SiteID + \")\",\n",
    "        width=500,\n",
    "        height=300\n",
    "    )\n",
    "    \n",
    "    if SiteID != \"All Sites\":\n",
    "        base = base.transform_filter(\n",
    "            alt.FieldEqualPredicate(field=siteid, equal=SiteID)\n",
    "        )\n",
    "    \n",
    "    # Text label\n",
    "    text = base.mark_text(align='right', baseline='middle', dx=-4, fontWeight=\"bold\").encode(\n",
    "        text=f\"sum({num_patients}):Q\",\n",
    "        color=alt.value(\"white\")\n",
    "    )\n",
    "    \n",
    "    chart = apply_theme((base + text)).add_selection(mouseover)\n",
    "        \n",
    "    return chart.interactive()\n",
    "\n",
    "interact(diagnoses_chart, SiteID=[\"All Sites\"] + SITE_IDS, )"
   ]
  },
  {
   "cell_type": "code",
   "execution_count": 14,
   "metadata": {},
   "outputs": [
    {
     "data": {
      "application/vnd.jupyter.widget-view+json": {
       "model_id": "2f809067c0d6497d9e1d70a6c1643a63",
       "version_major": 2,
       "version_minor": 0
      },
      "text/plain": [
       "interactive(children=(Dropdown(description='SiteID', options=('All Sites', 'UPenn', 'BCH'), value='All Sites')…"
      ]
     },
     "metadata": {},
     "output_type": "display_data"
    },
    {
     "data": {
      "text/plain": [
       "<function __main__.diagnoses_chart(SiteID, Normalize)>"
      ]
     },
     "execution_count": 14,
     "metadata": {},
     "output_type": "execute_result"
    }
   ],
   "source": [
    "def apply_theme(base):\n",
    "    return base.configure_axis(\n",
    "        labelFontSize=14,\n",
    "        labelFontWeight=300,\n",
    "        titleFontSize=18,\n",
    "        titleFontWeight=300\n",
    "    ).configure_title(fontSize=18, fontWeight=400, anchor=\"start\")\n",
    "    \n",
    "def diagnoses_chart(SiteID, Normalize): \n",
    "    \n",
    "    # Mouseover effect\n",
    "    mouseover = alt.selection(type='single', on='mouseover', fields=[icd_code], nearest=False)\n",
    "    \n",
    "    # Base bar chart\n",
    "    base = alt.Chart(df).mark_bar().encode(\n",
    "        x=alt.X(f\"sum({num_patients}):Q\", title=\"Number of Patients\", axis=alt.Axis(tickCount=5)),\n",
    "        y=alt.Y(\"icd_code:N\", title=\"ICD Code\", sort=\"-x\"),\n",
    "        color=alt.Color(siteid + \":N\", scale=alt.Scale(scheme=\"category10\"), title=\"Site\"),\n",
    "        # mouse hover visual effect\n",
    "        opacity=alt.condition(mouseover, alt.value(1), alt.value(0.5)),\n",
    "        tooltip=[icd_code, \"ICDdescription\", f\"sum({num_patients})\", siteid],\n",
    "        order=alt.Order(\n",
    "          # sort segments by number of patients\n",
    "          'num_patients:Q',\n",
    "          sort='descending'\n",
    "        )\n",
    "    ).transform_filter(\n",
    "        # Do not show uncertain data\n",
    "        alt.FieldGTEPredicate(field=num_patients, gte=0)\n",
    "    ).properties(\n",
    "        title=\"Diagnoses Starting 7 Days Before Positive Test (\" + SiteID + \")\",\n",
    "        width=500,\n",
    "        height=500\n",
    "    )\n",
    "        \n",
    "    if SiteID != \"All Sites\":\n",
    "        base = base.transform_filter(\n",
    "            alt.FieldEqualPredicate(field=siteid, equal=SiteID)\n",
    "        )\n",
    "\n",
    "    if Normalize != \"no\":\n",
    "        base = base.encode(\n",
    "            x=alt.X(f\"sum({num_patients}):Q\", title=\"Fraction of Patients\", axis=alt.Axis(tickCount=5), stack=\"normalize\"),\n",
    "        )\n",
    "        \n",
    "    chart = apply_theme(base).add_selection(mouseover)\n",
    "        \n",
    "    return chart.interactive()\n",
    "\n",
    "interact(diagnoses_chart, SiteID=[\"All Sites\"] + SITE_IDS, Normalize=[\"yes\", \"no\"] )"
   ]
  },
  {
   "cell_type": "code",
   "execution_count": 15,
   "metadata": {},
   "outputs": [
    {
     "data": {
      "application/vnd.jupyter.widget-view+json": {
       "model_id": "ee40aff3dbae43f98e55078af40df3b0",
       "version_major": 2,
       "version_minor": 0
      },
      "text/plain": [
       "interactive(children=(Dropdown(description='SiteID', options=('All Sites', 'UPenn', 'BCH'), value='All Sites')…"
      ]
     },
     "metadata": {},
     "output_type": "display_data"
    },
    {
     "data": {
      "text/plain": [
       "<function __main__.diagnoses_chart(SiteID, Normalize)>"
      ]
     },
     "execution_count": 15,
     "metadata": {},
     "output_type": "execute_result"
    }
   ],
   "source": [
    "def apply_theme(base):\n",
    "    return base.configure_axis(\n",
    "        labelFontSize=14,\n",
    "        labelFontWeight=300,\n",
    "        titleFontSize=18,\n",
    "        titleFontWeight=300\n",
    "    ).configure_title(fontSize=18, fontWeight=400, anchor=\"start\")\n",
    "    \n",
    "def diagnoses_chart(SiteID, Normalize): \n",
    "    \n",
    "    # Mouseover effect\n",
    "    mouseover = alt.selection(type='single', on='mouseover', fields=[icd_code], nearest=False)\n",
    "    \n",
    "    # Base bar chart\n",
    "    base = alt.Chart(df).mark_bar().encode(\n",
    "        x=alt.X(f\"sum({num_patients}):Q\", title=\"Number of Patients\", axis=alt.Axis(tickCount=5)),\n",
    "        y=alt.Y(\"siteid:N\", title=\"Site\", sort=\"-x\"),\n",
    "        color=alt.Color(icd_code + \":N\", scale=alt.Scale(scheme=\"category20\"), title=\"ICD Code\"),\n",
    "        # mouse hover visual effect\n",
    "        opacity=alt.condition(mouseover, alt.value(1), alt.value(0.5)),\n",
    "        tooltip=[icd_code, \"ICDdescription\", f\"sum({num_patients})\", siteid],\n",
    "        order=alt.Order(\n",
    "          # sort segments by number of patients\n",
    "          'num_patients:Q',\n",
    "          sort='descending'\n",
    "        )\n",
    "    ).transform_filter(\n",
    "        # Do not show uncertain data\n",
    "        alt.FieldGTEPredicate(field=num_patients, gte=0)\n",
    "    ).properties(\n",
    "        title=\"Diagnoses Starting 7 Days Before Positive Test (\" + SiteID + \")\",\n",
    "        width=500,\n",
    "        height=300\n",
    "    )\n",
    "        \n",
    "    if SiteID != \"All Sites\":\n",
    "        base = base.transform_filter(\n",
    "            alt.FieldEqualPredicate(field=siteid, equal=SiteID)\n",
    "        )\n",
    "\n",
    "    if Normalize != \"no\":\n",
    "        base = base.encode(\n",
    "            x=alt.X(f\"sum({num_patients}):Q\", title=\"Fraction of Patients\", axis=alt.Axis(tickCount=5), stack=\"normalize\"),\n",
    "        )\n",
    "        \n",
    "    chart = apply_theme(base).add_selection(mouseover)\n",
    "        \n",
    "    return chart.interactive()\n",
    "\n",
    "interact(diagnoses_chart, SiteID=[\"All Sites\"] + SITE_IDS, Normalize=[\"yes\", \"no\"] )"
   ]
  },
  {
   "cell_type": "markdown",
   "metadata": {},
   "source": [
    "## One-to-N Comparison Chart\n",
    "##### Select site ID using dropdown menu to highlight"
   ]
  },
  {
   "cell_type": "code",
   "execution_count": 16,
   "metadata": {
    "scrolled": true
   },
   "outputs": [
    {
     "data": {
      "application/vnd.jupyter.widget-view+json": {
       "model_id": "03b52695aa034ad9b367028896ba1bb2",
       "version_major": 2,
       "version_minor": 0
      },
      "text/plain": [
       "interactive(children=(Dropdown(description='HighlightBy', options=('UPenn', 'BCH'), value='UPenn'), Output()),…"
      ]
     },
     "metadata": {},
     "output_type": "display_data"
    },
    {
     "data": {
      "text/plain": [
       "<function __main__.diagnoses_chart_hl(HighlightBy)>"
      ]
     },
     "execution_count": 16,
     "metadata": {},
     "output_type": "execute_result"
    }
   ],
   "source": [
    "def diagnoses_chart_hl(HighlightBy): \n",
    "    \n",
    "    # Base bar chart\n",
    "    base = alt.Chart(df).mark_bar().encode(\n",
    "        x=alt.X(f\"sum({num_patients}):Q\", title=\"Total Number of Patients\", axis=alt.Axis(tickCount=5)),\n",
    "        y=alt.Y(f\"{icd_code}:N\", title=\"ICD Code\", sort=\"-x\"),\n",
    "        color=alt.value(\"lightgray\")\n",
    "    ).transform_filter(\n",
    "        # Do not show uncertain data\n",
    "        alt.FieldGTEPredicate(field=num_patients, gte=0)\n",
    "    ).properties(\n",
    "        title=\"All Diagnoses Patients Have Starting 7 Days Before Positive Test (\" + HighlightBy + \")\",\n",
    "        width=500,\n",
    "        height=300\n",
    "    )\n",
    "    \n",
    "    # Selected bars\n",
    "    hl = base.encode(\n",
    "        color=alt.Color(icd_version + \":N\", scale=icd_color_scale, title=\"ICD Version\")\n",
    "    ).transform_filter(\n",
    "        alt.FieldEqualPredicate(field=siteid, equal=HighlightBy)\n",
    "    )\n",
    "    \n",
    "    # Text label\n",
    "    text = base.mark_text(align='right', baseline='middle', dx=-4, fontWeight=\"bold\").encode(\n",
    "        text=f\"sum({num_patients}):Q\",\n",
    "        color=alt.value(\"white\")\n",
    "    )\n",
    "    \n",
    "    text_hl = hl.mark_text(align='left', baseline='middle', dx=4, fontWeight=\"bold\").encode(\n",
    "        text=f\"sum({num_patients}):Q\"\n",
    "    )\n",
    "    \n",
    "    chart = apply_theme((base + text + hl + text_hl))\n",
    "        \n",
    "    return chart.interactive()\n",
    "\n",
    "interact(diagnoses_chart_hl, HighlightBy=SITE_IDS, )"
   ]
  },
  {
   "cell_type": "code",
   "execution_count": 17,
   "metadata": {},
   "outputs": [
    {
     "data": {
      "text/html": [
       "\n",
       "<div id=\"altair-viz-78547ddd12754c01a9961b8a1c6570dc\"></div>\n",
       "<script type=\"text/javascript\">\n",
       "  (function(spec, embedOpt){\n",
       "    const outputDiv = document.getElementById(\"altair-viz-78547ddd12754c01a9961b8a1c6570dc\");\n",
       "    const paths = {\n",
       "      \"vega\": \"https://cdn.jsdelivr.net/npm//vega@5?noext\",\n",
       "      \"vega-lib\": \"https://cdn.jsdelivr.net/npm//vega-lib?noext\",\n",
       "      \"vega-lite\": \"https://cdn.jsdelivr.net/npm//vega-lite@4.0.2?noext\",\n",
       "      \"vega-embed\": \"https://cdn.jsdelivr.net/npm//vega-embed@6?noext\",\n",
       "    };\n",
       "\n",
       "    function loadScript(lib) {\n",
       "      return new Promise(function(resolve, reject) {\n",
       "        var s = document.createElement('script');\n",
       "        s.src = paths[lib];\n",
       "        s.async = true;\n",
       "        s.onload = () => resolve(paths[lib]);\n",
       "        s.onerror = () => reject(`Error loading script: ${paths[lib]}`);\n",
       "        document.getElementsByTagName(\"head\")[0].appendChild(s);\n",
       "      });\n",
       "    }\n",
       "\n",
       "    function showError(err) {\n",
       "      outputDiv.innerHTML = `<div class=\"error\" style=\"color:red;\">${err}</div>`;\n",
       "      throw err;\n",
       "    }\n",
       "\n",
       "    function displayChart(vegaEmbed) {\n",
       "      vegaEmbed(outputDiv, spec, embedOpt)\n",
       "        .catch(err => showError(`Javascript Error: ${err.message}<br>This usually means there's a typo in your chart specification. See the javascript console for the full traceback.`));\n",
       "    }\n",
       "\n",
       "    if(typeof define === \"function\" && define.amd) {\n",
       "      requirejs.config({paths});\n",
       "      require([\"vega-embed\"], displayChart, err => showError(`Error loading script: ${err.message}`));\n",
       "    } else if (typeof vegaEmbed === \"function\") {\n",
       "      displayChart(vegaEmbed);\n",
       "    } else {\n",
       "      loadScript(\"vega\")\n",
       "        .then(() => loadScript(\"vega-lite\"))\n",
       "        .then(() => loadScript(\"vega-embed\"))\n",
       "        .catch(showError)\n",
       "        .then(() => displayChart(vegaEmbed));\n",
       "    }\n",
       "  })({\"config\": {\"view\": {\"continuousWidth\": 400, \"continuousHeight\": 300}, \"axis\": {\"labelFontSize\": 14, \"labelFontWeight\": 300, \"titleFontSize\": 18, \"titleFontWeight\": 300}, \"title\": {\"anchor\": \"start\", \"fontSize\": 18, \"fontWeight\": 400}}, \"hconcat\": [{\"layer\": [{\"mark\": \"bar\", \"encoding\": {\"color\": {\"value\": \"lightgray\"}, \"x\": {\"type\": \"quantitative\", \"aggregate\": \"sum\", \"axis\": {\"tickCount\": 5}, \"field\": \"num_patients\", \"title\": \"Total Number of Patients\"}, \"y\": {\"type\": \"nominal\", \"field\": \"icd_code\", \"title\": \"ICD Code\"}}, \"height\": 300, \"title\": \"Diagnoses Patients Have Starting 7 Days Before Positive Test\", \"transform\": [{\"filter\": {\"field\": \"num_patients\", \"gte\": 0}}], \"width\": 350}, {\"mark\": {\"type\": \"text\", \"align\": \"right\", \"baseline\": \"middle\", \"dx\": -4, \"fontWeight\": \"bold\"}, \"encoding\": {\"color\": {\"value\": \"white\"}, \"text\": {\"type\": \"quantitative\", \"aggregate\": \"sum\", \"field\": \"num_patients\"}, \"x\": {\"type\": \"quantitative\", \"aggregate\": \"sum\", \"axis\": {\"tickCount\": 5}, \"field\": \"num_patients\", \"title\": \"Total Number of Patients\"}, \"y\": {\"type\": \"nominal\", \"field\": \"icd_code\", \"title\": \"ICD Code\"}}, \"height\": 300, \"title\": \"Diagnoses Patients Have Starting 7 Days Before Positive Test\", \"transform\": [{\"filter\": {\"field\": \"num_patients\", \"gte\": 0}}], \"width\": 350}, {\"mark\": \"bar\", \"encoding\": {\"color\": {\"type\": \"nominal\", \"field\": \"icd_version\", \"scale\": {\"domain\": [\"9\", \"10\"], \"range\": [\"#69A6CE\", \"#EB6F63\"]}, \"title\": \"ICD Version\"}, \"x\": {\"type\": \"quantitative\", \"aggregate\": \"sum\", \"axis\": {\"tickCount\": 5}, \"field\": \"num_patients\", \"title\": \"Total Number of Patients\"}, \"y\": {\"type\": \"nominal\", \"field\": \"icd_code\", \"title\": \"ICD Code\"}}, \"height\": 300, \"title\": \"Diagnoses Patients Have Starting 7 Days Before Positive Test\", \"transform\": [{\"filter\": {\"field\": \"num_patients\", \"gte\": 0}}, {\"filter\": {\"selection\": \"selector025\"}}], \"width\": 350}, {\"mark\": {\"type\": \"text\", \"align\": \"left\", \"baseline\": \"middle\", \"dx\": 4, \"fontWeight\": \"bold\"}, \"encoding\": {\"color\": {\"type\": \"nominal\", \"field\": \"icd_version\", \"scale\": {\"domain\": [\"9\", \"10\"], \"range\": [\"#69A6CE\", \"#EB6F63\"]}, \"title\": \"ICD Version\"}, \"text\": {\"type\": \"quantitative\", \"aggregate\": \"sum\", \"field\": \"num_patients\"}, \"x\": {\"type\": \"quantitative\", \"aggregate\": \"sum\", \"axis\": {\"tickCount\": 5}, \"field\": \"num_patients\", \"title\": \"Total Number of Patients\"}, \"y\": {\"type\": \"nominal\", \"field\": \"icd_code\", \"title\": \"ICD Code\"}}, \"height\": 300, \"title\": \"Diagnoses Patients Have Starting 7 Days Before Positive Test\", \"transform\": [{\"filter\": {\"field\": \"num_patients\", \"gte\": 0}}, {\"filter\": {\"selection\": \"selector025\"}}], \"width\": 350}]}, {\"mark\": \"bar\", \"encoding\": {\"color\": {\"condition\": {\"value\": \"rgb(244, 208, 75)\", \"selection\": {\"not\": \"selector025\"}}, \"value\": \"#E48236\"}, \"x\": {\"type\": \"nominal\", \"field\": \"siteid\", \"sort\": \"-y\", \"title\": \"Site\"}, \"y\": {\"type\": \"quantitative\", \"aggregate\": \"sum\", \"axis\": {\"tickCount\": 5}, \"field\": \"num_patients\", \"title\": \"Total Number of Patients\"}}, \"height\": 300, \"selection\": {\"selector025\": {\"type\": \"single\", \"on\": \"mouseover\", \"fields\": [\"siteid\"], \"nearest\": false}}, \"title\": \"Diagnoses By Site\", \"transform\": [{\"filter\": {\"field\": \"num_patients\", \"gte\": 0}}], \"width\": 350}], \"data\": {\"name\": \"data-5eb2a19a9384fb1c4d9bfdf2e55863e8\"}, \"resolve\": {\"scale\": {\"color\": \"independent\"}}, \"$schema\": \"https://vega.github.io/schema/vega-lite/v4.0.2.json\", \"datasets\": {\"data-5eb2a19a9384fb1c4d9bfdf2e55863e8\": [{\"siteid\": \"UPenn\", \"icd_code\": \"A38.9\", \"icd_version\": 10, \"num_patients\": -1, \"ICDcode\": null, \"ICDdescription\": null, \"PheCode\": null, \"Phenotype\": null, \"ICDversion\": null}, {\"siteid\": \"UPenn\", \"icd_code\": \"A41.9\", \"icd_version\": 10, \"num_patients\": -1, \"ICDcode\": \"A41.9\", \"ICDdescription\": \"Sepsis, unspecified\", \"PheCode\": 994.2, \"Phenotype\": \"Sepsis\", \"ICDversion\": 10.0}, {\"siteid\": \"UPenn\", \"icd_code\": \"A41.9\", \"icd_version\": 10, \"num_patients\": -1, \"ICDcode\": \"A41.9\", \"ICDdescription\": \"Sepsis, unspecified\", \"PheCode\": 38.0, \"Phenotype\": \"Septicemia\", \"ICDversion\": 10.0}, {\"siteid\": \"UPenn\", \"icd_code\": \"B18.2\", \"icd_version\": 10, \"num_patients\": -1, \"ICDcode\": \"B18.2\", \"ICDdescription\": \"Chronic viral hepatitis C\", \"PheCode\": 70.3, \"Phenotype\": \"Viral hepatitis C\", \"ICDversion\": 10.0}, {\"siteid\": \"UPenn\", \"icd_code\": \"B34.2\", \"icd_version\": 10, \"num_patients\": -1, \"ICDcode\": \"B34.2\", \"ICDdescription\": \"Coronavirus infection, unspecified site\", \"PheCode\": 79.0, \"Phenotype\": \"Viral infection\", \"ICDversion\": 10.0}, {\"siteid\": \"UPenn\", \"icd_code\": \"B34.9\", \"icd_version\": 10, \"num_patients\": 15, \"ICDcode\": \"B34.9\", \"ICDdescription\": \"Viral infection, unspecified\", \"PheCode\": 79.0, \"Phenotype\": \"Viral infection\", \"ICDversion\": 10.0}, {\"siteid\": \"UPenn\", \"icd_code\": \"B97.29\", \"icd_version\": 10, \"num_patients\": -1, \"ICDcode\": null, \"ICDdescription\": null, \"PheCode\": null, \"Phenotype\": null, \"ICDversion\": null}, {\"siteid\": \"UPenn\", \"icd_code\": \"B97.89\", \"icd_version\": 10, \"num_patients\": 36, \"ICDcode\": null, \"ICDdescription\": null, \"PheCode\": null, \"Phenotype\": null, \"ICDversion\": null}, {\"siteid\": \"UPenn\", \"icd_code\": \"D57.00\", \"icd_version\": 10, \"num_patients\": -1, \"ICDcode\": null, \"ICDdescription\": null, \"PheCode\": null, \"Phenotype\": null, \"ICDversion\": null}, {\"siteid\": \"UPenn\", \"icd_code\": \"E11.10\", \"icd_version\": 10, \"num_patients\": -1, \"ICDcode\": null, \"ICDdescription\": null, \"PheCode\": null, \"Phenotype\": null, \"ICDversion\": null}, {\"siteid\": \"UPenn\", \"icd_code\": \"E11.39\", \"icd_version\": 10, \"num_patients\": -1, \"ICDcode\": null, \"ICDdescription\": null, \"PheCode\": null, \"Phenotype\": null, \"ICDversion\": null}, {\"siteid\": \"UPenn\", \"icd_code\": \"E11.65\", \"icd_version\": 10, \"num_patients\": -1, \"ICDcode\": null, \"ICDdescription\": null, \"PheCode\": null, \"Phenotype\": null, \"ICDversion\": null}, {\"siteid\": \"UPenn\", \"icd_code\": \"E83.42\", \"icd_version\": 10, \"num_patients\": -1, \"ICDcode\": null, \"ICDdescription\": null, \"PheCode\": null, \"Phenotype\": null, \"ICDversion\": null}, {\"siteid\": \"UPenn\", \"icd_code\": \"E86.0\", \"icd_version\": 10, \"num_patients\": -1, \"ICDcode\": null, \"ICDdescription\": null, \"PheCode\": null, \"Phenotype\": null, \"ICDversion\": null}, {\"siteid\": \"UPenn\", \"icd_code\": \"E87.0\", \"icd_version\": 10, \"num_patients\": -1, \"ICDcode\": \"E87.0\", \"ICDdescription\": \"Hyperosmolality and hypernatraemia\", \"PheCode\": 276.11, \"Phenotype\": \"Hyperosmolality and/or hypernatremia\", \"ICDversion\": 10.0}, {\"siteid\": \"UPenn\", \"icd_code\": \"E87.1\", \"icd_version\": 10, \"num_patients\": -1, \"ICDcode\": \"E87.1\", \"ICDdescription\": \"Hypo-osmolality and hyponatraemia\", \"PheCode\": 276.12, \"Phenotype\": \"Hyposmolality and/or hyponatremia\", \"ICDversion\": 10.0}, {\"siteid\": \"UPenn\", \"icd_code\": \"E87.6\", \"icd_version\": 10, \"num_patients\": -1, \"ICDcode\": \"E87.6\", \"ICDdescription\": \"Hypokalaemia\", \"PheCode\": 276.14, \"Phenotype\": \"Hypopotassemia\", \"ICDversion\": 10.0}, {\"siteid\": \"UPenn\", \"icd_code\": \"E87.8\", \"icd_version\": 10, \"num_patients\": -1, \"ICDcode\": \"E87.8\", \"ICDdescription\": \"Other disorders of electrolyte and fluid balance, not elsewhere classified\", \"PheCode\": 276.1, \"Phenotype\": \"Electrolyte imbalance\", \"ICDversion\": 10.0}, {\"siteid\": \"UPenn\", \"icd_code\": \"G35\", \"icd_version\": 10, \"num_patients\": -1, \"ICDcode\": \"G35\", \"ICDdescription\": \"Multiple sclerosis\", \"PheCode\": 335.0, \"Phenotype\": \"Multiple sclerosis\", \"ICDversion\": 10.0}, {\"siteid\": \"UPenn\", \"icd_code\": \"G43.909\", \"icd_version\": 10, \"num_patients\": -1, \"ICDcode\": null, \"ICDdescription\": null, \"PheCode\": null, \"Phenotype\": null, \"ICDversion\": null}, {\"siteid\": \"UPenn\", \"icd_code\": \"I10\", \"icd_version\": 10, \"num_patients\": -1, \"ICDcode\": \"I10\", \"ICDdescription\": \"Essential (primary) hypertension\", \"PheCode\": 401.1, \"Phenotype\": \"Essential hypertension\", \"ICDversion\": 10.0}, {\"siteid\": \"UPenn\", \"icd_code\": \"I11.0\", \"icd_version\": 10, \"num_patients\": -1, \"ICDcode\": \"I11.0\", \"ICDdescription\": \"Hypertensive heart disease with (congestive) heart failure\", \"PheCode\": 401.21, \"Phenotype\": \"Hypertensive heart disease\", \"ICDversion\": 10.0}, {\"siteid\": \"UPenn\", \"icd_code\": \"I12.9\", \"icd_version\": 10, \"num_patients\": -1, \"ICDcode\": \"I12.9\", \"ICDdescription\": \"Hypertensive renal disease without renal failure\", \"PheCode\": 401.22, \"Phenotype\": \"Hypertensive chronic kidney disease\", \"ICDversion\": 10.0}, {\"siteid\": \"UPenn\", \"icd_code\": \"I21.3\", \"icd_version\": 10, \"num_patients\": -1, \"ICDcode\": \"I21.3\", \"ICDdescription\": \"Acute transmural myocardial infarction of unspecified site\", \"PheCode\": 411.2, \"Phenotype\": \"Myocardial infarction\", \"ICDversion\": 10.0}, {\"siteid\": \"UPenn\", \"icd_code\": \"I26.99\", \"icd_version\": 10, \"num_patients\": -1, \"ICDcode\": null, \"ICDdescription\": null, \"PheCode\": null, \"Phenotype\": null, \"ICDversion\": null}, {\"siteid\": \"UPenn\", \"icd_code\": \"I27.20\", \"icd_version\": 10, \"num_patients\": -1, \"ICDcode\": null, \"ICDdescription\": null, \"PheCode\": null, \"Phenotype\": null, \"ICDversion\": null}, {\"siteid\": \"UPenn\", \"icd_code\": \"I42.8\", \"icd_version\": 10, \"num_patients\": -1, \"ICDcode\": \"I42.8\", \"ICDdescription\": \"Other cardiomyopathies\", \"PheCode\": 425.1, \"Phenotype\": \"Primary/intrinsic cardiomyopathies\", \"ICDversion\": 10.0}, {\"siteid\": \"UPenn\", \"icd_code\": \"I44.30\", \"icd_version\": 10, \"num_patients\": -1, \"ICDcode\": null, \"ICDdescription\": null, \"PheCode\": null, \"Phenotype\": null, \"ICDversion\": null}, {\"siteid\": \"UPenn\", \"icd_code\": \"I48.0\", \"icd_version\": 10, \"num_patients\": -1, \"ICDcode\": null, \"ICDdescription\": null, \"PheCode\": null, \"Phenotype\": null, \"ICDversion\": null}, {\"siteid\": \"UPenn\", \"icd_code\": \"I48.91\", \"icd_version\": 10, \"num_patients\": -1, \"ICDcode\": null, \"ICDdescription\": null, \"PheCode\": null, \"Phenotype\": null, \"ICDversion\": null}, {\"siteid\": \"UPenn\", \"icd_code\": \"I49.9\", \"icd_version\": 10, \"num_patients\": -1, \"ICDcode\": \"I49.9\", \"ICDdescription\": \"Cardiac arrhythmia, unspecified\", \"PheCode\": 427.5, \"Phenotype\": \"Arrhythmia (cardiac) NOS\", \"ICDversion\": 10.0}, {\"siteid\": \"UPenn\", \"icd_code\": \"I50.43\", \"icd_version\": 10, \"num_patients\": -1, \"ICDcode\": null, \"ICDdescription\": null, \"PheCode\": null, \"Phenotype\": null, \"ICDversion\": null}, {\"siteid\": \"UPenn\", \"icd_code\": \"I50.810\", \"icd_version\": 10, \"num_patients\": -1, \"ICDcode\": null, \"ICDdescription\": null, \"PheCode\": null, \"Phenotype\": null, \"ICDversion\": null}, {\"siteid\": \"UPenn\", \"icd_code\": \"I50.9\", \"icd_version\": 10, \"num_patients\": -1, \"ICDcode\": \"I50.9\", \"ICDdescription\": \"Heart failure, unspecified\", \"PheCode\": 428.2, \"Phenotype\": \"Heart failure NOS\", \"ICDversion\": 10.0}, {\"siteid\": \"UPenn\", \"icd_code\": \"I63.9\", \"icd_version\": 10, \"num_patients\": -1, \"ICDcode\": \"I63.9\", \"ICDdescription\": \"Cerebral infarction, unspecified\", \"PheCode\": 433.2, \"Phenotype\": \"Occlusion of cerebral arteries\", \"ICDversion\": 10.0}, {\"siteid\": \"UPenn\", \"icd_code\": \"I71.4\", \"icd_version\": 10, \"num_patients\": -1, \"ICDcode\": \"I71.4\", \"ICDdescription\": \"Abdominal aortic aneurysm, without mention of rupture\", \"PheCode\": 442.11, \"Phenotype\": \"Abdominal aortic aneurysm\", \"ICDversion\": 10.0}, {\"siteid\": \"UPenn\", \"icd_code\": \"I73.9\", \"icd_version\": 10, \"num_patients\": -1, \"ICDcode\": \"I73.9\", \"ICDdescription\": \"Peripheral vascular disease, unspecified\", \"PheCode\": 443.9, \"Phenotype\": \"Peripheral vascular disease, unspecified\", \"ICDversion\": 10.0}, {\"siteid\": \"UPenn\", \"icd_code\": \"I95.9\", \"icd_version\": 10, \"num_patients\": -1, \"ICDcode\": \"I95.9\", \"ICDdescription\": \"Hypotension, unspecified\", \"PheCode\": 458.9, \"Phenotype\": \"Hypotension NOS\", \"ICDversion\": 10.0}, {\"siteid\": \"UPenn\", \"icd_code\": \"J02.9\", \"icd_version\": 10, \"num_patients\": -1, \"ICDcode\": \"J02.9\", \"ICDdescription\": \"Acute pharyngitis, unspecified\", \"PheCode\": 465.2, \"Phenotype\": \"Acute pharyngitis\", \"ICDversion\": 10.0}, {\"siteid\": \"UPenn\", \"icd_code\": \"J06.9\", \"icd_version\": 10, \"num_patients\": 248, \"ICDcode\": \"J06.9\", \"ICDdescription\": \"Acute upper respiratory infection, unspecified\", \"PheCode\": 465.0, \"Phenotype\": \"Acute upper respiratory infections of multiple or unspecified sites\", \"ICDversion\": 10.0}, {\"siteid\": \"UPenn\", \"icd_code\": \"J11.1\", \"icd_version\": 10, \"num_patients\": -1, \"ICDcode\": \"J11.1\", \"ICDdescription\": \"Influenza with other respiratory manifestations, virus not identified\", \"PheCode\": 481.0, \"Phenotype\": \"Influenza\", \"ICDversion\": 10.0}, {\"siteid\": \"UPenn\", \"icd_code\": \"J12.89\", \"icd_version\": 10, \"num_patients\": -1, \"ICDcode\": null, \"ICDdescription\": null, \"PheCode\": null, \"Phenotype\": null, \"ICDversion\": null}, {\"siteid\": \"UPenn\", \"icd_code\": \"J12.9\", \"icd_version\": 10, \"num_patients\": -1, \"ICDcode\": \"J12.9\", \"ICDdescription\": \"Viral pneumonia, unspecified\", \"PheCode\": 480.2, \"Phenotype\": \"Viral pneumonia\", \"ICDversion\": 10.0}, {\"siteid\": \"UPenn\", \"icd_code\": \"J18.1\", \"icd_version\": 10, \"num_patients\": -1, \"ICDcode\": \"J18.1\", \"ICDdescription\": \"Lobar pneumonia, unspecified\", \"PheCode\": 480.11, \"Phenotype\": \"Pneumococcal pneumonia\", \"ICDversion\": 10.0}, {\"siteid\": \"UPenn\", \"icd_code\": \"J18.9\", \"icd_version\": 10, \"num_patients\": 35, \"ICDcode\": \"J18.9\", \"ICDdescription\": \"Pneumonia, unspecified\", \"PheCode\": 480.0, \"Phenotype\": \"Pneumonia\", \"ICDversion\": 10.0}, {\"siteid\": \"UPenn\", \"icd_code\": \"J22\", \"icd_version\": 10, \"num_patients\": -1, \"ICDcode\": \"J22\", \"ICDdescription\": \"Unspecified acute lower respiratory infection\", \"PheCode\": 519.8, \"Phenotype\": \"Other diseases of respiratory system, NEC\", \"ICDversion\": 10.0}, {\"siteid\": \"UPenn\", \"icd_code\": \"J44.1\", \"icd_version\": 10, \"num_patients\": -1, \"ICDcode\": \"J44.1\", \"ICDdescription\": \"Chronic obstructive pulmonary disease with acute exacerbation, unspecified\", \"PheCode\": 496.21, \"Phenotype\": \"Obstructive chronic bronchitis\", \"ICDversion\": 10.0}, {\"siteid\": \"UPenn\", \"icd_code\": \"J45.30\", \"icd_version\": 10, \"num_patients\": -1, \"ICDcode\": null, \"ICDdescription\": null, \"PheCode\": null, \"Phenotype\": null, \"ICDversion\": null}, {\"siteid\": \"UPenn\", \"icd_code\": \"J45.909\", \"icd_version\": 10, \"num_patients\": -1, \"ICDcode\": null, \"ICDdescription\": null, \"PheCode\": null, \"Phenotype\": null, \"ICDversion\": null}, {\"siteid\": \"UPenn\", \"icd_code\": \"J80\", \"icd_version\": 10, \"num_patients\": -1, \"ICDcode\": \"J80\", \"ICDdescription\": \"Adult respiratory distress syndrome\", \"PheCode\": 509.2, \"Phenotype\": \"Respiratory insufficiency\", \"ICDversion\": 10.0}, {\"siteid\": \"UPenn\", \"icd_code\": \"J96.01\", \"icd_version\": 10, \"num_patients\": 10, \"ICDcode\": null, \"ICDdescription\": null, \"PheCode\": null, \"Phenotype\": null, \"ICDversion\": null}, {\"siteid\": \"UPenn\", \"icd_code\": \"J96.02\", \"icd_version\": 10, \"num_patients\": -1, \"ICDcode\": null, \"ICDdescription\": null, \"PheCode\": null, \"Phenotype\": null, \"ICDversion\": null}, {\"siteid\": \"UPenn\", \"icd_code\": \"J96.90\", \"icd_version\": 10, \"num_patients\": -1, \"ICDcode\": null, \"ICDdescription\": null, \"PheCode\": null, \"Phenotype\": null, \"ICDversion\": null}, {\"siteid\": \"UPenn\", \"icd_code\": \"J98.8\", \"icd_version\": 10, \"num_patients\": 36, \"ICDcode\": \"J98.8\", \"ICDdescription\": \"Other specified respiratory disorders\", \"PheCode\": 519.8, \"Phenotype\": \"Other diseases of respiratory system, NEC\", \"ICDversion\": 10.0}, {\"siteid\": \"UPenn\", \"icd_code\": \"K08.89\", \"icd_version\": 10, \"num_patients\": -1, \"ICDcode\": null, \"ICDdescription\": null, \"PheCode\": null, \"Phenotype\": null, \"ICDversion\": null}, {\"siteid\": \"UPenn\", \"icd_code\": \"K59.00\", \"icd_version\": 10, \"num_patients\": -1, \"ICDcode\": null, \"ICDdescription\": null, \"PheCode\": null, \"Phenotype\": null, \"ICDversion\": null}, {\"siteid\": \"UPenn\", \"icd_code\": \"M06.9\", \"icd_version\": 10, \"num_patients\": -1, \"ICDcode\": \"M06.9\", \"ICDdescription\": \"Rheumatoid arthritis, unspecified\", \"PheCode\": 714.1, \"Phenotype\": \"Rheumatoid arthritis\", \"ICDversion\": 10.0}, {\"siteid\": \"UPenn\", \"icd_code\": \"M79.0\", \"icd_version\": 10, \"num_patients\": -1, \"ICDcode\": \"M79.0\", \"ICDdescription\": \"Rheumatism, unspecified\", \"PheCode\": 729.1, \"Phenotype\": \"Rheumatism, unspecified and fibrositis\", \"ICDversion\": 10.0}, {\"siteid\": \"UPenn\", \"icd_code\": \"M79.10\", \"icd_version\": 10, \"num_patients\": 11, \"ICDcode\": null, \"ICDdescription\": null, \"PheCode\": null, \"Phenotype\": null, \"ICDversion\": null}, {\"siteid\": \"UPenn\", \"icd_code\": \"M79.89\", \"icd_version\": 10, \"num_patients\": -1, \"ICDcode\": null, \"ICDdescription\": null, \"PheCode\": null, \"Phenotype\": null, \"ICDversion\": null}, {\"siteid\": \"UPenn\", \"icd_code\": \"N12\", \"icd_version\": 10, \"num_patients\": -1, \"ICDcode\": \"N12\", \"ICDdescription\": \"Tubulo-interstitial nephritis, not specified as acute or chronic\", \"PheCode\": 590.0, \"Phenotype\": \"Pyelonephritis\", \"ICDversion\": 10.0}, {\"siteid\": \"UPenn\", \"icd_code\": \"N17.9\", \"icd_version\": 10, \"num_patients\": -1, \"ICDcode\": \"N17.9\", \"ICDdescription\": \"Acute renal failure, unspecified\", \"PheCode\": 585.1, \"Phenotype\": \"Acute renal failure\", \"ICDversion\": 10.0}, {\"siteid\": \"UPenn\", \"icd_code\": \"N18.3\", \"icd_version\": 10, \"num_patients\": -1, \"ICDcode\": null, \"ICDdescription\": null, \"PheCode\": null, \"Phenotype\": null, \"ICDversion\": null}, {\"siteid\": \"UPenn\", \"icd_code\": \"N18.6\", \"icd_version\": 10, \"num_patients\": -1, \"ICDcode\": null, \"ICDdescription\": null, \"PheCode\": null, \"Phenotype\": null, \"ICDversion\": null}, {\"siteid\": \"UPenn\", \"icd_code\": \"N30.90\", \"icd_version\": 10, \"num_patients\": -1, \"ICDcode\": null, \"ICDdescription\": null, \"PheCode\": null, \"Phenotype\": null, \"ICDversion\": null}, {\"siteid\": \"UPenn\", \"icd_code\": \"N39.0\", \"icd_version\": 10, \"num_patients\": -1, \"ICDcode\": \"N39.0\", \"ICDdescription\": \"Urinary tract infection, site not specified\", \"PheCode\": 591.0, \"Phenotype\": \"Urinary tract infection\", \"ICDversion\": 10.0}, {\"siteid\": \"UPenn\", \"icd_code\": \"N41.9\", \"icd_version\": 10, \"num_patients\": -1, \"ICDcode\": \"N41.9\", \"ICDdescription\": \"Inflammatory disease of prostate, unspecified\", \"PheCode\": 601.1, \"Phenotype\": \"Prostatitis\", \"ICDversion\": 10.0}, {\"siteid\": \"UPenn\", \"icd_code\": \"N50.811\", \"icd_version\": 10, \"num_patients\": -1, \"ICDcode\": null, \"ICDdescription\": null, \"PheCode\": null, \"Phenotype\": null, \"ICDversion\": null}, {\"siteid\": \"UPenn\", \"icd_code\": \"N94.6\", \"icd_version\": 10, \"num_patients\": -1, \"ICDcode\": \"N94.6\", \"ICDdescription\": \"Dysmenorrhoea, unspecified\", \"PheCode\": 626.2, \"Phenotype\": \"Dysmenorrhea\", \"ICDversion\": 10.0}, {\"siteid\": \"UPenn\", \"icd_code\": \"Q24.9\", \"icd_version\": 10, \"num_patients\": -1, \"ICDcode\": \"Q24.9\", \"ICDdescription\": \"Congenital malformation of heart, unspecified\", \"PheCode\": 747.1, \"Phenotype\": \"Cardiac congenital anomalies\", \"ICDversion\": 10.0}, {\"siteid\": \"UPenn\", \"icd_code\": \"R00.0\", \"icd_version\": 10, \"num_patients\": -1, \"ICDcode\": \"R00.0\", \"ICDdescription\": \"Tachycardia, unspecified\", \"PheCode\": 427.7, \"Phenotype\": \"Tachycardia NOS\", \"ICDversion\": 10.0}, {\"siteid\": \"UPenn\", \"icd_code\": \"R05\", \"icd_version\": 10, \"num_patients\": 49, \"ICDcode\": \"R05\", \"ICDdescription\": \"Cough\", \"PheCode\": 512.8, \"Phenotype\": \"Cough\", \"ICDversion\": 10.0}, {\"siteid\": \"UPenn\", \"icd_code\": \"R06.00\", \"icd_version\": 10, \"num_patients\": -1, \"ICDcode\": null, \"ICDdescription\": null, \"PheCode\": null, \"Phenotype\": null, \"ICDversion\": null}, {\"siteid\": \"UPenn\", \"icd_code\": \"R06.02\", \"icd_version\": 10, \"num_patients\": 17, \"ICDcode\": null, \"ICDdescription\": null, \"PheCode\": null, \"Phenotype\": null, \"ICDversion\": null}, {\"siteid\": \"UPenn\", \"icd_code\": \"R06.6\", \"icd_version\": 10, \"num_patients\": -1, \"ICDcode\": \"R06.6\", \"ICDdescription\": \"Hiccough\", \"PheCode\": 513.8, \"Phenotype\": \"Disorders of diaphragm\", \"ICDversion\": 10.0}, {\"siteid\": \"UPenn\", \"icd_code\": \"R07.89\", \"icd_version\": 10, \"num_patients\": -1, \"ICDcode\": null, \"ICDdescription\": null, \"PheCode\": null, \"Phenotype\": null, \"ICDversion\": null}, {\"siteid\": \"UPenn\", \"icd_code\": \"R07.9\", \"icd_version\": 10, \"num_patients\": -1, \"ICDcode\": null, \"ICDdescription\": null, \"PheCode\": null, \"Phenotype\": null, \"ICDversion\": null}, {\"siteid\": \"UPenn\", \"icd_code\": \"R09.02\", \"icd_version\": 10, \"num_patients\": -1, \"ICDcode\": null, \"ICDdescription\": null, \"PheCode\": null, \"Phenotype\": null, \"ICDversion\": null}, {\"siteid\": \"UPenn\", \"icd_code\": \"R09.89\", \"icd_version\": 10, \"num_patients\": -1, \"ICDcode\": null, \"ICDdescription\": null, \"PheCode\": null, \"Phenotype\": null, \"ICDversion\": null}, {\"siteid\": \"UPenn\", \"icd_code\": \"R10.13\", \"icd_version\": 10, \"num_patients\": -1, \"ICDcode\": null, \"ICDdescription\": null, \"PheCode\": null, \"Phenotype\": null, \"ICDversion\": null}, {\"siteid\": \"UPenn\", \"icd_code\": \"R10.32\", \"icd_version\": 10, \"num_patients\": -1, \"ICDcode\": null, \"ICDdescription\": null, \"PheCode\": null, \"Phenotype\": null, \"ICDversion\": null}, {\"siteid\": \"UPenn\", \"icd_code\": \"R10.9\", \"icd_version\": 10, \"num_patients\": -1, \"ICDcode\": null, \"ICDdescription\": null, \"PheCode\": null, \"Phenotype\": null, \"ICDversion\": null}, {\"siteid\": \"UPenn\", \"icd_code\": \"R11.0\", \"icd_version\": 10, \"num_patients\": -1, \"ICDcode\": null, \"ICDdescription\": null, \"PheCode\": null, \"Phenotype\": null, \"ICDversion\": null}, {\"siteid\": \"UPenn\", \"icd_code\": \"R11.2\", \"icd_version\": 10, \"num_patients\": -1, \"ICDcode\": null, \"ICDdescription\": null, \"PheCode\": null, \"Phenotype\": null, \"ICDversion\": null}, {\"siteid\": \"UPenn\", \"icd_code\": \"R19.7\", \"icd_version\": 10, \"num_patients\": 10, \"ICDcode\": null, \"ICDdescription\": null, \"PheCode\": null, \"Phenotype\": null, \"ICDversion\": null}, {\"siteid\": \"UPenn\", \"icd_code\": \"R26.81\", \"icd_version\": 10, \"num_patients\": -1, \"ICDcode\": null, \"ICDdescription\": null, \"PheCode\": null, \"Phenotype\": null, \"ICDversion\": null}, {\"siteid\": \"UPenn\", \"icd_code\": \"R39.11\", \"icd_version\": 10, \"num_patients\": -1, \"ICDcode\": null, \"ICDdescription\": null, \"PheCode\": null, \"Phenotype\": null, \"ICDversion\": null}, {\"siteid\": \"UPenn\", \"icd_code\": \"R41.82\", \"icd_version\": 10, \"num_patients\": -1, \"ICDcode\": null, \"ICDdescription\": null, \"PheCode\": null, \"Phenotype\": null, \"ICDversion\": null}, {\"siteid\": \"UPenn\", \"icd_code\": \"R42\", \"icd_version\": 10, \"num_patients\": -1, \"ICDcode\": \"R42\", \"ICDdescription\": \"Dizziness and giddiness\", \"PheCode\": 386.9, \"Phenotype\": \"Dizziness and giddiness (Light-headedness and vertigo)\", \"ICDversion\": 10.0}, {\"siteid\": \"UPenn\", \"icd_code\": \"R43.0\", \"icd_version\": 10, \"num_patients\": -1, \"ICDcode\": \"R43.0\", \"ICDdescription\": \"Anosmia\", \"PheCode\": 350.6, \"Phenotype\": \"Disturbances of sensation of smell and taste\", \"ICDversion\": 10.0}, {\"siteid\": \"UPenn\", \"icd_code\": \"R43.2\", \"icd_version\": 10, \"num_patients\": -1, \"ICDcode\": \"R43.2\", \"ICDdescription\": \"Parageusia\", \"PheCode\": 350.6, \"Phenotype\": \"Disturbances of sensation of smell and taste\", \"ICDversion\": 10.0}, {\"siteid\": \"UPenn\", \"icd_code\": \"R50.81\", \"icd_version\": 10, \"num_patients\": -1, \"ICDcode\": null, \"ICDdescription\": null, \"PheCode\": null, \"Phenotype\": null, \"ICDversion\": null}, {\"siteid\": \"UPenn\", \"icd_code\": \"R50.9\", \"icd_version\": 10, \"num_patients\": 43, \"ICDcode\": \"R50.9\", \"ICDdescription\": \"Fever, unspecified\", \"PheCode\": 783.0, \"Phenotype\": \"Fever of unknown origin\", \"ICDversion\": 10.0}, {\"siteid\": \"UPenn\", \"icd_code\": \"R51\", \"icd_version\": 10, \"num_patients\": -1, \"ICDcode\": \"R51\", \"ICDdescription\": \"Headache\", \"PheCode\": 339.0, \"Phenotype\": \"Other headache syndromes\", \"ICDversion\": 10.0}, {\"siteid\": \"UPenn\", \"icd_code\": \"R52\", \"icd_version\": 10, \"num_patients\": -1, \"ICDcode\": null, \"ICDdescription\": null, \"PheCode\": null, \"Phenotype\": null, \"ICDversion\": null}, {\"siteid\": \"UPenn\", \"icd_code\": \"R53.1\", \"icd_version\": 10, \"num_patients\": -1, \"ICDcode\": null, \"ICDdescription\": null, \"PheCode\": null, \"Phenotype\": null, \"ICDversion\": null}, {\"siteid\": \"UPenn\", \"icd_code\": \"R53.81\", \"icd_version\": 10, \"num_patients\": -1, \"ICDcode\": null, \"ICDdescription\": null, \"PheCode\": null, \"Phenotype\": null, \"ICDversion\": null}, {\"siteid\": \"UPenn\", \"icd_code\": \"R53.83\", \"icd_version\": 10, \"num_patients\": -1, \"ICDcode\": null, \"ICDdescription\": null, \"PheCode\": null, \"Phenotype\": null, \"ICDversion\": null}, {\"siteid\": \"UPenn\", \"icd_code\": \"R55\", \"icd_version\": 10, \"num_patients\": -1, \"ICDcode\": \"R55\", \"ICDdescription\": \"Syncope and collapse\", \"PheCode\": 788.0, \"Phenotype\": \"Syncope and collapse\", \"ICDversion\": 10.0}, {\"siteid\": \"UPenn\", \"icd_code\": \"R57.9\", \"icd_version\": 10, \"num_patients\": -1, \"ICDcode\": \"R57.9\", \"ICDdescription\": \"Shock, unspecified\", \"PheCode\": 797.0, \"Phenotype\": \"Shock\", \"ICDversion\": 10.0}, {\"siteid\": \"UPenn\", \"icd_code\": \"R60.0\", \"icd_version\": 10, \"num_patients\": -1, \"ICDcode\": \"R60.0\", \"ICDdescription\": \"Localized oedema\", \"PheCode\": 782.3, \"Phenotype\": \"Edema\", \"ICDversion\": 10.0}, {\"siteid\": \"UPenn\", \"icd_code\": \"R60.9\", \"icd_version\": 10, \"num_patients\": -1, \"ICDcode\": \"R60.9\", \"ICDdescription\": \"Oedema, unspecified\", \"PheCode\": 782.3, \"Phenotype\": \"Edema\", \"ICDversion\": 10.0}, {\"siteid\": \"UPenn\", \"icd_code\": \"R61\", \"icd_version\": 10, \"num_patients\": -1, \"ICDcode\": \"R61\", \"ICDdescription\": \"Hyperhidrosis\", \"PheCode\": 705.8, \"Phenotype\": \"Hyperhidrosis\", \"ICDversion\": 10.0}, {\"siteid\": \"UPenn\", \"icd_code\": \"R63.0\", \"icd_version\": 10, \"num_patients\": -1, \"ICDcode\": \"R63.0\", \"ICDdescription\": \"Anorexia\", \"PheCode\": 260.6, \"Phenotype\": \"Anorexia\", \"ICDversion\": 10.0}, {\"siteid\": \"UPenn\", \"icd_code\": \"R68.83\", \"icd_version\": 10, \"num_patients\": -1, \"ICDcode\": null, \"ICDdescription\": null, \"PheCode\": null, \"Phenotype\": null, \"ICDversion\": null}, {\"siteid\": \"UPenn\", \"icd_code\": \"R68.89\", \"icd_version\": 10, \"num_patients\": 15, \"ICDcode\": null, \"ICDdescription\": null, \"PheCode\": null, \"Phenotype\": null, \"ICDversion\": null}, {\"siteid\": \"UPenn\", \"icd_code\": \"R69\", \"icd_version\": 10, \"num_patients\": -1, \"ICDcode\": \"R69\", \"ICDdescription\": \"Unknown and unspecified causes of morbidity\", \"PheCode\": 1019.0, \"Phenotype\": \"Other ill-defined and unknown causes of morbidity and mortality\", \"ICDversion\": 10.0}, {\"siteid\": \"UPenn\", \"icd_code\": \"R73.9\", \"icd_version\": 10, \"num_patients\": -1, \"ICDcode\": \"R73.9\", \"ICDdescription\": \"Hyperglycaemia, unspecified\", \"PheCode\": 250.42, \"Phenotype\": \"Other abnormal glucose\", \"ICDversion\": 10.0}, {\"siteid\": \"UPenn\", \"icd_code\": \"R74.8\", \"icd_version\": 10, \"num_patients\": -1, \"ICDcode\": \"R74.8\", \"ICDdescription\": \"Abnormal levels of other serum enzymes\", \"PheCode\": 573.9, \"Phenotype\": \"Abnormal serum enzyme levels\", \"ICDversion\": 10.0}, {\"siteid\": \"UPenn\", \"icd_code\": \"R79.89\", \"icd_version\": 10, \"num_patients\": -1, \"ICDcode\": null, \"ICDdescription\": null, \"PheCode\": null, \"Phenotype\": null, \"ICDversion\": null}, {\"siteid\": \"UPenn\", \"icd_code\": \"R91.1\", \"icd_version\": 10, \"num_patients\": -1, \"ICDcode\": null, \"ICDdescription\": null, \"PheCode\": null, \"Phenotype\": null, \"ICDversion\": null}, {\"siteid\": \"UPenn\", \"icd_code\": \"R94.31\", \"icd_version\": 10, \"num_patients\": -1, \"ICDcode\": null, \"ICDdescription\": null, \"PheCode\": null, \"Phenotype\": null, \"ICDversion\": null}, {\"siteid\": \"UPenn\", \"icd_code\": \"S92.901A\", \"icd_version\": 10, \"num_patients\": -1, \"ICDcode\": null, \"ICDdescription\": null, \"PheCode\": null, \"Phenotype\": null, \"ICDversion\": null}, {\"siteid\": \"UPenn\", \"icd_code\": \"T50.905A\", \"icd_version\": 10, \"num_patients\": -1, \"ICDcode\": null, \"ICDdescription\": null, \"PheCode\": null, \"Phenotype\": null, \"ICDversion\": null}, {\"siteid\": \"UPenn\", \"icd_code\": \"W19.XXXA\", \"icd_version\": 10, \"num_patients\": -1, \"ICDcode\": null, \"ICDdescription\": null, \"PheCode\": null, \"Phenotype\": null, \"ICDversion\": null}, {\"siteid\": \"UPenn\", \"icd_code\": \"Z00.00\", \"icd_version\": 10, \"num_patients\": -1, \"ICDcode\": null, \"ICDdescription\": null, \"PheCode\": null, \"Phenotype\": null, \"ICDversion\": null}, {\"siteid\": \"UPenn\", \"icd_code\": \"Z01.810\", \"icd_version\": 10, \"num_patients\": -1, \"ICDcode\": null, \"ICDdescription\": null, \"PheCode\": null, \"Phenotype\": null, \"ICDversion\": null}, {\"siteid\": \"UPenn\", \"icd_code\": \"Z03.818\", \"icd_version\": 10, \"num_patients\": 54, \"ICDcode\": null, \"ICDdescription\": null, \"PheCode\": null, \"Phenotype\": null, \"ICDversion\": null}, {\"siteid\": \"UPenn\", \"icd_code\": \"Z11.59\", \"icd_version\": 10, \"num_patients\": -1, \"ICDcode\": null, \"ICDdescription\": null, \"PheCode\": null, \"Phenotype\": null, \"ICDversion\": null}, {\"siteid\": \"UPenn\", \"icd_code\": \"Z20.828\", \"icd_version\": 10, \"num_patients\": 13, \"ICDcode\": null, \"ICDdescription\": null, \"PheCode\": null, \"Phenotype\": null, \"ICDversion\": null}, {\"siteid\": \"UPenn\", \"icd_code\": \"Z20.9\", \"icd_version\": 10, \"num_patients\": -1, \"ICDcode\": null, \"ICDdescription\": null, \"PheCode\": null, \"Phenotype\": null, \"ICDversion\": null}, {\"siteid\": \"UPenn\", \"icd_code\": \"Z34.90\", \"icd_version\": 10, \"num_patients\": -1, \"ICDcode\": null, \"ICDdescription\": null, \"PheCode\": null, \"Phenotype\": null, \"ICDversion\": null}, {\"siteid\": \"UPenn\", \"icd_code\": \"Z71.89\", \"icd_version\": 10, \"num_patients\": -1, \"ICDcode\": null, \"ICDdescription\": null, \"PheCode\": null, \"Phenotype\": null, \"ICDversion\": null}, {\"siteid\": \"UPenn\", \"icd_code\": \"Z78.9\", \"icd_version\": 10, \"num_patients\": -1, \"ICDcode\": null, \"ICDdescription\": null, \"PheCode\": null, \"Phenotype\": null, \"ICDversion\": null}, {\"siteid\": \"UPenn\", \"icd_code\": \"Z79.4\", \"icd_version\": 10, \"num_patients\": -1, \"ICDcode\": null, \"ICDdescription\": null, \"PheCode\": null, \"Phenotype\": null, \"ICDversion\": null}, {\"siteid\": \"UPenn\", \"icd_code\": \"Z91.89\", \"icd_version\": 10, \"num_patients\": -1, \"ICDcode\": null, \"ICDdescription\": null, \"PheCode\": null, \"Phenotype\": null, \"ICDversion\": null}, {\"siteid\": \"UPenn\", \"icd_code\": \"Z95.0\", \"icd_version\": 10, \"num_patients\": -1, \"ICDcode\": \"Z95.0\", \"ICDdescription\": \"Presence of electronic cardiac devices\", \"PheCode\": 426.91, \"Phenotype\": \"Cardiac pacemaker in situ\", \"ICDversion\": 10.0}, {\"siteid\": \"UPenn\", \"icd_code\": \"Z95.810\", \"icd_version\": 10, \"num_patients\": -1, \"ICDcode\": null, \"ICDdescription\": null, \"PheCode\": null, \"Phenotype\": null, \"ICDversion\": null}, {\"siteid\": \"BCH\", \"icd_code\": \"7301\", \"icd_version\": 9, \"num_patients\": 1, \"ICDcode\": null, \"ICDdescription\": null, \"PheCode\": null, \"Phenotype\": null, \"ICDversion\": null}, {\"siteid\": \"BCH\", \"icd_code\": \"R50.81\", \"icd_version\": 10, \"num_patients\": 1, \"ICDcode\": null, \"ICDdescription\": null, \"PheCode\": null, \"Phenotype\": null, \"ICDversion\": null}, {\"siteid\": \"BCH\", \"icd_code\": \"I95.9\", \"icd_version\": 10, \"num_patients\": 1, \"ICDcode\": \"I95.9\", \"ICDdescription\": \"Hypotension, unspecified\", \"PheCode\": 458.9, \"Phenotype\": \"Hypotension NOS\", \"ICDversion\": 10.0}, {\"siteid\": \"BCH\", \"icd_code\": \"E87.1\", \"icd_version\": 10, \"num_patients\": 1, \"ICDcode\": \"E87.1\", \"ICDdescription\": \"Hypo-osmolality and hyponatraemia\", \"PheCode\": 276.12, \"Phenotype\": \"Hyposmolality and/or hyponatremia\", \"ICDversion\": 10.0}, {\"siteid\": \"BCH\", \"icd_code\": \"G40.909\", \"icd_version\": 10, \"num_patients\": 1, \"ICDcode\": null, \"ICDdescription\": null, \"PheCode\": null, \"Phenotype\": null, \"ICDversion\": null}, {\"siteid\": \"BCH\", \"icd_code\": \"F84.0\", \"icd_version\": 10, \"num_patients\": 1, \"ICDcode\": \"F84.0\", \"ICDdescription\": \"Childhood autism\", \"PheCode\": 313.3, \"Phenotype\": \"Autism\", \"ICDversion\": 10.0}, {\"siteid\": \"BCH\", \"icd_code\": \"D70.9\", \"icd_version\": 10, \"num_patients\": 1, \"ICDcode\": null, \"ICDdescription\": null, \"PheCode\": null, \"Phenotype\": null, \"ICDversion\": null}, {\"siteid\": \"BCH\", \"icd_code\": \"S92.302D\", \"icd_version\": 10, \"num_patients\": 1, \"ICDcode\": null, \"ICDdescription\": null, \"PheCode\": null, \"Phenotype\": null, \"ICDversion\": null}, {\"siteid\": \"BCH\", \"icd_code\": \"J45.901\", \"icd_version\": 10, \"num_patients\": 1, \"ICDcode\": null, \"ICDdescription\": null, \"PheCode\": null, \"Phenotype\": null, \"ICDversion\": null}, {\"siteid\": \"BCH\", \"icd_code\": \"H92.09\", \"icd_version\": 10, \"num_patients\": 1, \"ICDcode\": null, \"ICDdescription\": null, \"PheCode\": null, \"Phenotype\": null, \"ICDversion\": null}, {\"siteid\": \"BCH\", \"icd_code\": \"R45.84\", \"icd_version\": 10, \"num_patients\": 1, \"ICDcode\": null, \"ICDdescription\": null, \"PheCode\": null, \"Phenotype\": null, \"ICDversion\": null}, {\"siteid\": \"BCH\", \"icd_code\": \"309158009\", \"icd_version\": 9, \"num_patients\": 1, \"ICDcode\": null, \"ICDdescription\": null, \"PheCode\": null, \"Phenotype\": null, \"ICDversion\": null}, {\"siteid\": \"BCH\", \"icd_code\": \"R50.9\", \"icd_version\": 10, \"num_patients\": 1, \"ICDcode\": \"R50.9\", \"ICDdescription\": \"Fever, unspecified\", \"PheCode\": 783.0, \"Phenotype\": \"Fever of unknown origin\", \"ICDversion\": 10.0}, {\"siteid\": \"BCH\", \"icd_code\": \"D69.3\", \"icd_version\": 10, \"num_patients\": 1, \"ICDcode\": \"D69.3\", \"ICDdescription\": \"Idiopathic thrombocytopenic purpura\", \"PheCode\": 287.31, \"Phenotype\": \"Primary thrombocytopenia\", \"ICDversion\": 10.0}, {\"siteid\": \"BCH\", \"icd_code\": \"Z20.828\", \"icd_version\": 10, \"num_patients\": 1, \"ICDcode\": null, \"ICDdescription\": null, \"PheCode\": null, \"Phenotype\": null, \"ICDversion\": null}, {\"siteid\": \"BCH\", \"icd_code\": \"R05\", \"icd_version\": 10, \"num_patients\": 1, \"ICDcode\": \"R05\", \"ICDdescription\": \"Cough\", \"PheCode\": 512.8, \"Phenotype\": \"Cough\", \"ICDversion\": 10.0}, {\"siteid\": \"BCH\", \"icd_code\": \"B97.29\", \"icd_version\": 10, \"num_patients\": 1, \"ICDcode\": null, \"ICDdescription\": null, \"PheCode\": null, \"Phenotype\": null, \"ICDversion\": null}, {\"siteid\": \"BCH\", \"icd_code\": \"D64.9\", \"icd_version\": 10, \"num_patients\": 1, \"ICDcode\": \"D64.9\", \"ICDdescription\": \"Anaemia, unspecified\", \"PheCode\": 285.0, \"Phenotype\": \"Other anemias\", \"ICDversion\": 10.0}, {\"siteid\": \"BCH\", \"icd_code\": \"R00.0\", \"icd_version\": 10, \"num_patients\": 1, \"ICDcode\": \"R00.0\", \"ICDdescription\": \"Tachycardia, unspecified\", \"PheCode\": 427.7, \"Phenotype\": \"Tachycardia NOS\", \"ICDversion\": 10.0}, {\"siteid\": \"BCH\", \"icd_code\": \"Z95.828\", \"icd_version\": 10, \"num_patients\": 1, \"ICDcode\": null, \"ICDdescription\": null, \"PheCode\": null, \"Phenotype\": null, \"ICDversion\": null}, {\"siteid\": \"BCH\", \"icd_code\": \"E86.0\", \"icd_version\": 10, \"num_patients\": 1, \"ICDcode\": null, \"ICDdescription\": null, \"PheCode\": null, \"Phenotype\": null, \"ICDversion\": null}, {\"siteid\": \"BCH\", \"icd_code\": \"M08.3\", \"icd_version\": 10, \"num_patients\": 1, \"ICDcode\": \"M08.3\", \"ICDdescription\": \"Juvenile polyarthritis (seronegative)\", \"PheCode\": 714.2, \"Phenotype\": \"Juvenile rheumatoid arthritis\", \"ICDversion\": 10.0}, {\"siteid\": \"BCH\", \"icd_code\": \"D58.9\", \"icd_version\": 10, \"num_patients\": 1, \"ICDcode\": \"D58.9\", \"ICDdescription\": \"Hereditary haemolytic anaemia, unspecified\", \"PheCode\": 282.9, \"Phenotype\": \"Other hereditary hemolytic anemias\", \"ICDversion\": 10.0}, {\"siteid\": \"BCH\", \"icd_code\": \"R09.02\", \"icd_version\": 10, \"num_patients\": 1, \"ICDcode\": null, \"ICDdescription\": null, \"PheCode\": null, \"Phenotype\": null, \"ICDversion\": null}, {\"siteid\": \"BCH\", \"icd_code\": \"7000\", \"icd_version\": 9, \"num_patients\": 1, \"ICDcode\": null, \"ICDdescription\": null, \"PheCode\": null, \"Phenotype\": null, \"ICDversion\": null}, {\"siteid\": \"BCH\", \"icd_code\": \"K12.30\", \"icd_version\": 10, \"num_patients\": 1, \"ICDcode\": null, \"ICDdescription\": null, \"PheCode\": null, \"Phenotype\": null, \"ICDversion\": null}, {\"siteid\": \"BCH\", \"icd_code\": \"R11.2\", \"icd_version\": 10, \"num_patients\": 1, \"ICDcode\": null, \"ICDdescription\": null, \"PheCode\": null, \"Phenotype\": null, \"ICDversion\": null}, {\"siteid\": \"BCH\", \"icd_code\": \"C83.35\", \"icd_version\": 10, \"num_patients\": 1, \"ICDcode\": null, \"ICDdescription\": null, \"PheCode\": null, \"Phenotype\": null, \"ICDversion\": null}, {\"siteid\": \"BCH\", \"icd_code\": \"C85.10\", \"icd_version\": 10, \"num_patients\": 1, \"ICDcode\": null, \"ICDdescription\": null, \"PheCode\": null, \"Phenotype\": null, \"ICDversion\": null}, {\"siteid\": \"BCH\", \"icd_code\": \"Q85.1\", \"icd_version\": 10, \"num_patients\": 1, \"ICDcode\": \"Q85.1\", \"ICDdescription\": \"Tuberous sclerosis\", \"PheCode\": 759.0, \"Phenotype\": \"Other and unspecified congenital anomalies\", \"ICDversion\": 10.0}, {\"siteid\": \"BCH\", \"icd_code\": \"D70.8\", \"icd_version\": 10, \"num_patients\": 1, \"ICDcode\": null, \"ICDdescription\": null, \"PheCode\": null, \"Phenotype\": null, \"ICDversion\": null}, {\"siteid\": \"BCH\", \"icd_code\": \"M08.90\", \"icd_version\": 10, \"num_patients\": 1, \"ICDcode\": null, \"ICDdescription\": null, \"PheCode\": null, \"Phenotype\": null, \"ICDversion\": null}, {\"siteid\": \"BCH\", \"icd_code\": \"J18.9\", \"icd_version\": 10, \"num_patients\": 2, \"ICDcode\": \"J18.9\", \"ICDdescription\": \"Pneumonia, unspecified\", \"PheCode\": 480.0, \"Phenotype\": \"Pneumonia\", \"ICDversion\": 10.0}]}}, {\"mode\": \"vega-lite\"});\n",
       "</script>"
      ],
      "text/plain": [
       "alt.HConcatChart(...)"
      ]
     },
     "execution_count": 17,
     "metadata": {},
     "output_type": "execute_result"
    }
   ],
   "source": [
    "# Mouseover effect\n",
    "mouseover = alt.selection(type='single', on='mouseover', fields=[siteid], nearest=False)\n",
    "\n",
    "# Base bar chart\n",
    "base = alt.Chart(df).mark_bar().encode(\n",
    "    x=alt.X(f\"sum({num_patients}):Q\", title=\"Total Number of Patients\", axis=alt.Axis(tickCount=5)),\n",
    "    y=alt.Y(f\"{icd_code}:N\", title=\"ICD Code\"),\n",
    "    color=alt.value(\"lightgray\")\n",
    ").transform_filter(\n",
    "    # Do not show uncertain data\n",
    "    alt.FieldGTEPredicate(field=num_patients, gte=0)\n",
    ").properties(\n",
    "    title=\"Diagnoses Patients Have Starting 7 Days Before Positive Test\",\n",
    "    width=350,\n",
    "    height=300\n",
    ")\n",
    "\n",
    "# Text label\n",
    "text = base.mark_text(align='right', baseline='middle', dx=-4, fontWeight=\"bold\").encode(\n",
    "    text=f\"sum({num_patients}):Q\",\n",
    "    color=alt.value(\"white\")\n",
    ")\n",
    "\n",
    "# Highlight selected site id\n",
    "hl = base.encode(\n",
    "    color=alt.Color(icd_version + \":N\", scale=icd_color_scale, title=\"ICD Version\")\n",
    ").transform_filter(mouseover)\n",
    "\n",
    "text_hl = hl.mark_text(align='left', baseline='middle', dx=4, fontWeight=\"bold\").encode(\n",
    "    text=f\"sum({num_patients}):Q\"\n",
    ")\n",
    "\n",
    "# Chart for total by site ID\n",
    "chart_by_siteid = alt.Chart(df).mark_bar().encode(\n",
    "    y=alt.Y(f\"sum({num_patients}):Q\", title=\"Total Number of Patients\", axis=alt.Axis(tickCount=5)),\n",
    "    x=alt.X(f\"{siteid}:N\", title=\"Site\", sort=\"-y\"),\n",
    "    color=alt.condition(~mouseover, alt.value(\"rgb(244, 208, 75)\"), alt.value(\"#E48236\"))\n",
    ").transform_filter(\n",
    "    # Do not show uncertain data\n",
    "    alt.FieldGTEPredicate(field=num_patients, gte=0)\n",
    ").properties(\n",
    "    title=\"Diagnoses By Site\",\n",
    "    width=350,\n",
    "    height=300\n",
    ").add_selection(\n",
    "    mouseover\n",
    ")\n",
    "\n",
    "chart = apply_theme(\n",
    "    ((base + text + hl + text_hl) | chart_by_siteid)\n",
    ").resolve_scale(\"independent\")\n",
    "        \n",
    "chart"
   ]
  },
  {
   "cell_type": "code",
   "execution_count": 18,
   "metadata": {},
   "outputs": [
    {
     "data": {
      "text/html": [
       "\n",
       "<div id=\"altair-viz-3e1e66340b1a4c97aa2fed84b147742e\"></div>\n",
       "<script type=\"text/javascript\">\n",
       "  (function(spec, embedOpt){\n",
       "    const outputDiv = document.getElementById(\"altair-viz-3e1e66340b1a4c97aa2fed84b147742e\");\n",
       "    const paths = {\n",
       "      \"vega\": \"https://cdn.jsdelivr.net/npm//vega@5?noext\",\n",
       "      \"vega-lib\": \"https://cdn.jsdelivr.net/npm//vega-lib?noext\",\n",
       "      \"vega-lite\": \"https://cdn.jsdelivr.net/npm//vega-lite@4.0.2?noext\",\n",
       "      \"vega-embed\": \"https://cdn.jsdelivr.net/npm//vega-embed@6?noext\",\n",
       "    };\n",
       "\n",
       "    function loadScript(lib) {\n",
       "      return new Promise(function(resolve, reject) {\n",
       "        var s = document.createElement('script');\n",
       "        s.src = paths[lib];\n",
       "        s.async = true;\n",
       "        s.onload = () => resolve(paths[lib]);\n",
       "        s.onerror = () => reject(`Error loading script: ${paths[lib]}`);\n",
       "        document.getElementsByTagName(\"head\")[0].appendChild(s);\n",
       "      });\n",
       "    }\n",
       "\n",
       "    function showError(err) {\n",
       "      outputDiv.innerHTML = `<div class=\"error\" style=\"color:red;\">${err}</div>`;\n",
       "      throw err;\n",
       "    }\n",
       "\n",
       "    function displayChart(vegaEmbed) {\n",
       "      vegaEmbed(outputDiv, spec, embedOpt)\n",
       "        .catch(err => showError(`Javascript Error: ${err.message}<br>This usually means there's a typo in your chart specification. See the javascript console for the full traceback.`));\n",
       "    }\n",
       "\n",
       "    if(typeof define === \"function\" && define.amd) {\n",
       "      requirejs.config({paths});\n",
       "      require([\"vega-embed\"], displayChart, err => showError(`Error loading script: ${err.message}`));\n",
       "    } else if (typeof vegaEmbed === \"function\") {\n",
       "      displayChart(vegaEmbed);\n",
       "    } else {\n",
       "      loadScript(\"vega\")\n",
       "        .then(() => loadScript(\"vega-lite\"))\n",
       "        .then(() => loadScript(\"vega-embed\"))\n",
       "        .catch(showError)\n",
       "        .then(() => displayChart(vegaEmbed));\n",
       "    }\n",
       "  })({\"config\": {\"view\": {\"continuousWidth\": 400, \"continuousHeight\": 300}, \"axis\": {\"labelFontSize\": 10, \"labelFontWeight\": 300, \"titleFontSize\": 14, \"titleFontWeight\": 300}, \"title\": {\"anchor\": \"middle\", \"fontSize\": 20, \"fontWeight\": 400}}, \"data\": {\"name\": \"data-5eb2a19a9384fb1c4d9bfdf2e55863e8\"}, \"mark\": \"bar\", \"encoding\": {\"color\": {\"type\": \"nominal\", \"field\": \"icd_version\", \"scale\": {\"domain\": [\"9\", \"10\"], \"range\": [\"#69A6CE\", \"#EB6F63\"]}, \"title\": \"ICD Version\"}, \"facet\": {\"type\": \"nominal\", \"columns\": 5, \"field\": \"siteid\", \"title\": \"\"}, \"tooltip\": [{\"type\": \"nominal\", \"field\": \"icd_code\"}, {\"type\": \"quantitative\", \"aggregate\": \"sum\", \"field\": \"num_patients\"}], \"x\": {\"type\": \"nominal\", \"field\": \"icd_code\", \"title\": \"ICD Code\"}, \"y\": {\"type\": \"quantitative\", \"aggregate\": \"sum\", \"field\": \"num_patients\", \"title\": \"Total Number of Patients\"}}, \"height\": 150, \"selection\": {\"selector027\": {\"type\": \"interval\", \"bind\": \"scales\", \"encodings\": [\"x\", \"y\"]}}, \"title\": \"All Diagnoses Patients Have Starting 7 Days Before Positive Test\", \"transform\": [{\"filter\": {\"field\": \"num_patients\", \"gte\": 0}}], \"width\": 150, \"$schema\": \"https://vega.github.io/schema/vega-lite/v4.0.2.json\", \"datasets\": {\"data-5eb2a19a9384fb1c4d9bfdf2e55863e8\": [{\"siteid\": \"UPenn\", \"icd_code\": \"A38.9\", \"icd_version\": 10, \"num_patients\": -1, \"ICDcode\": null, \"ICDdescription\": null, \"PheCode\": null, \"Phenotype\": null, \"ICDversion\": null}, {\"siteid\": \"UPenn\", \"icd_code\": \"A41.9\", \"icd_version\": 10, \"num_patients\": -1, \"ICDcode\": \"A41.9\", \"ICDdescription\": \"Sepsis, unspecified\", \"PheCode\": 994.2, \"Phenotype\": \"Sepsis\", \"ICDversion\": 10.0}, {\"siteid\": \"UPenn\", \"icd_code\": \"A41.9\", \"icd_version\": 10, \"num_patients\": -1, \"ICDcode\": \"A41.9\", \"ICDdescription\": \"Sepsis, unspecified\", \"PheCode\": 38.0, \"Phenotype\": \"Septicemia\", \"ICDversion\": 10.0}, {\"siteid\": \"UPenn\", \"icd_code\": \"B18.2\", \"icd_version\": 10, \"num_patients\": -1, \"ICDcode\": \"B18.2\", \"ICDdescription\": \"Chronic viral hepatitis C\", \"PheCode\": 70.3, \"Phenotype\": \"Viral hepatitis C\", \"ICDversion\": 10.0}, {\"siteid\": \"UPenn\", \"icd_code\": \"B34.2\", \"icd_version\": 10, \"num_patients\": -1, \"ICDcode\": \"B34.2\", \"ICDdescription\": \"Coronavirus infection, unspecified site\", \"PheCode\": 79.0, \"Phenotype\": \"Viral infection\", \"ICDversion\": 10.0}, {\"siteid\": \"UPenn\", \"icd_code\": \"B34.9\", \"icd_version\": 10, \"num_patients\": 15, \"ICDcode\": \"B34.9\", \"ICDdescription\": \"Viral infection, unspecified\", \"PheCode\": 79.0, \"Phenotype\": \"Viral infection\", \"ICDversion\": 10.0}, {\"siteid\": \"UPenn\", \"icd_code\": \"B97.29\", \"icd_version\": 10, \"num_patients\": -1, \"ICDcode\": null, \"ICDdescription\": null, \"PheCode\": null, \"Phenotype\": null, \"ICDversion\": null}, {\"siteid\": \"UPenn\", \"icd_code\": \"B97.89\", \"icd_version\": 10, \"num_patients\": 36, \"ICDcode\": null, \"ICDdescription\": null, \"PheCode\": null, \"Phenotype\": null, \"ICDversion\": null}, {\"siteid\": \"UPenn\", \"icd_code\": \"D57.00\", \"icd_version\": 10, \"num_patients\": -1, \"ICDcode\": null, \"ICDdescription\": null, \"PheCode\": null, \"Phenotype\": null, \"ICDversion\": null}, {\"siteid\": \"UPenn\", \"icd_code\": \"E11.10\", \"icd_version\": 10, \"num_patients\": -1, \"ICDcode\": null, \"ICDdescription\": null, \"PheCode\": null, \"Phenotype\": null, \"ICDversion\": null}, {\"siteid\": \"UPenn\", \"icd_code\": \"E11.39\", \"icd_version\": 10, \"num_patients\": -1, \"ICDcode\": null, \"ICDdescription\": null, \"PheCode\": null, \"Phenotype\": null, \"ICDversion\": null}, {\"siteid\": \"UPenn\", \"icd_code\": \"E11.65\", \"icd_version\": 10, \"num_patients\": -1, \"ICDcode\": null, \"ICDdescription\": null, \"PheCode\": null, \"Phenotype\": null, \"ICDversion\": null}, {\"siteid\": \"UPenn\", \"icd_code\": \"E83.42\", \"icd_version\": 10, \"num_patients\": -1, \"ICDcode\": null, \"ICDdescription\": null, \"PheCode\": null, \"Phenotype\": null, \"ICDversion\": null}, {\"siteid\": \"UPenn\", \"icd_code\": \"E86.0\", \"icd_version\": 10, \"num_patients\": -1, \"ICDcode\": null, \"ICDdescription\": null, \"PheCode\": null, \"Phenotype\": null, \"ICDversion\": null}, {\"siteid\": \"UPenn\", \"icd_code\": \"E87.0\", \"icd_version\": 10, \"num_patients\": -1, \"ICDcode\": \"E87.0\", \"ICDdescription\": \"Hyperosmolality and hypernatraemia\", \"PheCode\": 276.11, \"Phenotype\": \"Hyperosmolality and/or hypernatremia\", \"ICDversion\": 10.0}, {\"siteid\": \"UPenn\", \"icd_code\": \"E87.1\", \"icd_version\": 10, \"num_patients\": -1, \"ICDcode\": \"E87.1\", \"ICDdescription\": \"Hypo-osmolality and hyponatraemia\", \"PheCode\": 276.12, \"Phenotype\": \"Hyposmolality and/or hyponatremia\", \"ICDversion\": 10.0}, {\"siteid\": \"UPenn\", \"icd_code\": \"E87.6\", \"icd_version\": 10, \"num_patients\": -1, \"ICDcode\": \"E87.6\", \"ICDdescription\": \"Hypokalaemia\", \"PheCode\": 276.14, \"Phenotype\": \"Hypopotassemia\", \"ICDversion\": 10.0}, {\"siteid\": \"UPenn\", \"icd_code\": \"E87.8\", \"icd_version\": 10, \"num_patients\": -1, \"ICDcode\": \"E87.8\", \"ICDdescription\": \"Other disorders of electrolyte and fluid balance, not elsewhere classified\", \"PheCode\": 276.1, \"Phenotype\": \"Electrolyte imbalance\", \"ICDversion\": 10.0}, {\"siteid\": \"UPenn\", \"icd_code\": \"G35\", \"icd_version\": 10, \"num_patients\": -1, \"ICDcode\": \"G35\", \"ICDdescription\": \"Multiple sclerosis\", \"PheCode\": 335.0, \"Phenotype\": \"Multiple sclerosis\", \"ICDversion\": 10.0}, {\"siteid\": \"UPenn\", \"icd_code\": \"G43.909\", \"icd_version\": 10, \"num_patients\": -1, \"ICDcode\": null, \"ICDdescription\": null, \"PheCode\": null, \"Phenotype\": null, \"ICDversion\": null}, {\"siteid\": \"UPenn\", \"icd_code\": \"I10\", \"icd_version\": 10, \"num_patients\": -1, \"ICDcode\": \"I10\", \"ICDdescription\": \"Essential (primary) hypertension\", \"PheCode\": 401.1, \"Phenotype\": \"Essential hypertension\", \"ICDversion\": 10.0}, {\"siteid\": \"UPenn\", \"icd_code\": \"I11.0\", \"icd_version\": 10, \"num_patients\": -1, \"ICDcode\": \"I11.0\", \"ICDdescription\": \"Hypertensive heart disease with (congestive) heart failure\", \"PheCode\": 401.21, \"Phenotype\": \"Hypertensive heart disease\", \"ICDversion\": 10.0}, {\"siteid\": \"UPenn\", \"icd_code\": \"I12.9\", \"icd_version\": 10, \"num_patients\": -1, \"ICDcode\": \"I12.9\", \"ICDdescription\": \"Hypertensive renal disease without renal failure\", \"PheCode\": 401.22, \"Phenotype\": \"Hypertensive chronic kidney disease\", \"ICDversion\": 10.0}, {\"siteid\": \"UPenn\", \"icd_code\": \"I21.3\", \"icd_version\": 10, \"num_patients\": -1, \"ICDcode\": \"I21.3\", \"ICDdescription\": \"Acute transmural myocardial infarction of unspecified site\", \"PheCode\": 411.2, \"Phenotype\": \"Myocardial infarction\", \"ICDversion\": 10.0}, {\"siteid\": \"UPenn\", \"icd_code\": \"I26.99\", \"icd_version\": 10, \"num_patients\": -1, \"ICDcode\": null, \"ICDdescription\": null, \"PheCode\": null, \"Phenotype\": null, \"ICDversion\": null}, {\"siteid\": \"UPenn\", \"icd_code\": \"I27.20\", \"icd_version\": 10, \"num_patients\": -1, \"ICDcode\": null, \"ICDdescription\": null, \"PheCode\": null, \"Phenotype\": null, \"ICDversion\": null}, {\"siteid\": \"UPenn\", \"icd_code\": \"I42.8\", \"icd_version\": 10, \"num_patients\": -1, \"ICDcode\": \"I42.8\", \"ICDdescription\": \"Other cardiomyopathies\", \"PheCode\": 425.1, \"Phenotype\": \"Primary/intrinsic cardiomyopathies\", \"ICDversion\": 10.0}, {\"siteid\": \"UPenn\", \"icd_code\": \"I44.30\", \"icd_version\": 10, \"num_patients\": -1, \"ICDcode\": null, \"ICDdescription\": null, \"PheCode\": null, \"Phenotype\": null, \"ICDversion\": null}, {\"siteid\": \"UPenn\", \"icd_code\": \"I48.0\", \"icd_version\": 10, \"num_patients\": -1, \"ICDcode\": null, \"ICDdescription\": null, \"PheCode\": null, \"Phenotype\": null, \"ICDversion\": null}, {\"siteid\": \"UPenn\", \"icd_code\": \"I48.91\", \"icd_version\": 10, \"num_patients\": -1, \"ICDcode\": null, \"ICDdescription\": null, \"PheCode\": null, \"Phenotype\": null, \"ICDversion\": null}, {\"siteid\": \"UPenn\", \"icd_code\": \"I49.9\", \"icd_version\": 10, \"num_patients\": -1, \"ICDcode\": \"I49.9\", \"ICDdescription\": \"Cardiac arrhythmia, unspecified\", \"PheCode\": 427.5, \"Phenotype\": \"Arrhythmia (cardiac) NOS\", \"ICDversion\": 10.0}, {\"siteid\": \"UPenn\", \"icd_code\": \"I50.43\", \"icd_version\": 10, \"num_patients\": -1, \"ICDcode\": null, \"ICDdescription\": null, \"PheCode\": null, \"Phenotype\": null, \"ICDversion\": null}, {\"siteid\": \"UPenn\", \"icd_code\": \"I50.810\", \"icd_version\": 10, \"num_patients\": -1, \"ICDcode\": null, \"ICDdescription\": null, \"PheCode\": null, \"Phenotype\": null, \"ICDversion\": null}, {\"siteid\": \"UPenn\", \"icd_code\": \"I50.9\", \"icd_version\": 10, \"num_patients\": -1, \"ICDcode\": \"I50.9\", \"ICDdescription\": \"Heart failure, unspecified\", \"PheCode\": 428.2, \"Phenotype\": \"Heart failure NOS\", \"ICDversion\": 10.0}, {\"siteid\": \"UPenn\", \"icd_code\": \"I63.9\", \"icd_version\": 10, \"num_patients\": -1, \"ICDcode\": \"I63.9\", \"ICDdescription\": \"Cerebral infarction, unspecified\", \"PheCode\": 433.2, \"Phenotype\": \"Occlusion of cerebral arteries\", \"ICDversion\": 10.0}, {\"siteid\": \"UPenn\", \"icd_code\": \"I71.4\", \"icd_version\": 10, \"num_patients\": -1, \"ICDcode\": \"I71.4\", \"ICDdescription\": \"Abdominal aortic aneurysm, without mention of rupture\", \"PheCode\": 442.11, \"Phenotype\": \"Abdominal aortic aneurysm\", \"ICDversion\": 10.0}, {\"siteid\": \"UPenn\", \"icd_code\": \"I73.9\", \"icd_version\": 10, \"num_patients\": -1, \"ICDcode\": \"I73.9\", \"ICDdescription\": \"Peripheral vascular disease, unspecified\", \"PheCode\": 443.9, \"Phenotype\": \"Peripheral vascular disease, unspecified\", \"ICDversion\": 10.0}, {\"siteid\": \"UPenn\", \"icd_code\": \"I95.9\", \"icd_version\": 10, \"num_patients\": -1, \"ICDcode\": \"I95.9\", \"ICDdescription\": \"Hypotension, unspecified\", \"PheCode\": 458.9, \"Phenotype\": \"Hypotension NOS\", \"ICDversion\": 10.0}, {\"siteid\": \"UPenn\", \"icd_code\": \"J02.9\", \"icd_version\": 10, \"num_patients\": -1, \"ICDcode\": \"J02.9\", \"ICDdescription\": \"Acute pharyngitis, unspecified\", \"PheCode\": 465.2, \"Phenotype\": \"Acute pharyngitis\", \"ICDversion\": 10.0}, {\"siteid\": \"UPenn\", \"icd_code\": \"J06.9\", \"icd_version\": 10, \"num_patients\": 248, \"ICDcode\": \"J06.9\", \"ICDdescription\": \"Acute upper respiratory infection, unspecified\", \"PheCode\": 465.0, \"Phenotype\": \"Acute upper respiratory infections of multiple or unspecified sites\", \"ICDversion\": 10.0}, {\"siteid\": \"UPenn\", \"icd_code\": \"J11.1\", \"icd_version\": 10, \"num_patients\": -1, \"ICDcode\": \"J11.1\", \"ICDdescription\": \"Influenza with other respiratory manifestations, virus not identified\", \"PheCode\": 481.0, \"Phenotype\": \"Influenza\", \"ICDversion\": 10.0}, {\"siteid\": \"UPenn\", \"icd_code\": \"J12.89\", \"icd_version\": 10, \"num_patients\": -1, \"ICDcode\": null, \"ICDdescription\": null, \"PheCode\": null, \"Phenotype\": null, \"ICDversion\": null}, {\"siteid\": \"UPenn\", \"icd_code\": \"J12.9\", \"icd_version\": 10, \"num_patients\": -1, \"ICDcode\": \"J12.9\", \"ICDdescription\": \"Viral pneumonia, unspecified\", \"PheCode\": 480.2, \"Phenotype\": \"Viral pneumonia\", \"ICDversion\": 10.0}, {\"siteid\": \"UPenn\", \"icd_code\": \"J18.1\", \"icd_version\": 10, \"num_patients\": -1, \"ICDcode\": \"J18.1\", \"ICDdescription\": \"Lobar pneumonia, unspecified\", \"PheCode\": 480.11, \"Phenotype\": \"Pneumococcal pneumonia\", \"ICDversion\": 10.0}, {\"siteid\": \"UPenn\", \"icd_code\": \"J18.9\", \"icd_version\": 10, \"num_patients\": 35, \"ICDcode\": \"J18.9\", \"ICDdescription\": \"Pneumonia, unspecified\", \"PheCode\": 480.0, \"Phenotype\": \"Pneumonia\", \"ICDversion\": 10.0}, {\"siteid\": \"UPenn\", \"icd_code\": \"J22\", \"icd_version\": 10, \"num_patients\": -1, \"ICDcode\": \"J22\", \"ICDdescription\": \"Unspecified acute lower respiratory infection\", \"PheCode\": 519.8, \"Phenotype\": \"Other diseases of respiratory system, NEC\", \"ICDversion\": 10.0}, {\"siteid\": \"UPenn\", \"icd_code\": \"J44.1\", \"icd_version\": 10, \"num_patients\": -1, \"ICDcode\": \"J44.1\", \"ICDdescription\": \"Chronic obstructive pulmonary disease with acute exacerbation, unspecified\", \"PheCode\": 496.21, \"Phenotype\": \"Obstructive chronic bronchitis\", \"ICDversion\": 10.0}, {\"siteid\": \"UPenn\", \"icd_code\": \"J45.30\", \"icd_version\": 10, \"num_patients\": -1, \"ICDcode\": null, \"ICDdescription\": null, \"PheCode\": null, \"Phenotype\": null, \"ICDversion\": null}, {\"siteid\": \"UPenn\", \"icd_code\": \"J45.909\", \"icd_version\": 10, \"num_patients\": -1, \"ICDcode\": null, \"ICDdescription\": null, \"PheCode\": null, \"Phenotype\": null, \"ICDversion\": null}, {\"siteid\": \"UPenn\", \"icd_code\": \"J80\", \"icd_version\": 10, \"num_patients\": -1, \"ICDcode\": \"J80\", \"ICDdescription\": \"Adult respiratory distress syndrome\", \"PheCode\": 509.2, \"Phenotype\": \"Respiratory insufficiency\", \"ICDversion\": 10.0}, {\"siteid\": \"UPenn\", \"icd_code\": \"J96.01\", \"icd_version\": 10, \"num_patients\": 10, \"ICDcode\": null, \"ICDdescription\": null, \"PheCode\": null, \"Phenotype\": null, \"ICDversion\": null}, {\"siteid\": \"UPenn\", \"icd_code\": \"J96.02\", \"icd_version\": 10, \"num_patients\": -1, \"ICDcode\": null, \"ICDdescription\": null, \"PheCode\": null, \"Phenotype\": null, \"ICDversion\": null}, {\"siteid\": \"UPenn\", \"icd_code\": \"J96.90\", \"icd_version\": 10, \"num_patients\": -1, \"ICDcode\": null, \"ICDdescription\": null, \"PheCode\": null, \"Phenotype\": null, \"ICDversion\": null}, {\"siteid\": \"UPenn\", \"icd_code\": \"J98.8\", \"icd_version\": 10, \"num_patients\": 36, \"ICDcode\": \"J98.8\", \"ICDdescription\": \"Other specified respiratory disorders\", \"PheCode\": 519.8, \"Phenotype\": \"Other diseases of respiratory system, NEC\", \"ICDversion\": 10.0}, {\"siteid\": \"UPenn\", \"icd_code\": \"K08.89\", \"icd_version\": 10, \"num_patients\": -1, \"ICDcode\": null, \"ICDdescription\": null, \"PheCode\": null, \"Phenotype\": null, \"ICDversion\": null}, {\"siteid\": \"UPenn\", \"icd_code\": \"K59.00\", \"icd_version\": 10, \"num_patients\": -1, \"ICDcode\": null, \"ICDdescription\": null, \"PheCode\": null, \"Phenotype\": null, \"ICDversion\": null}, {\"siteid\": \"UPenn\", \"icd_code\": \"M06.9\", \"icd_version\": 10, \"num_patients\": -1, \"ICDcode\": \"M06.9\", \"ICDdescription\": \"Rheumatoid arthritis, unspecified\", \"PheCode\": 714.1, \"Phenotype\": \"Rheumatoid arthritis\", \"ICDversion\": 10.0}, {\"siteid\": \"UPenn\", \"icd_code\": \"M79.0\", \"icd_version\": 10, \"num_patients\": -1, \"ICDcode\": \"M79.0\", \"ICDdescription\": \"Rheumatism, unspecified\", \"PheCode\": 729.1, \"Phenotype\": \"Rheumatism, unspecified and fibrositis\", \"ICDversion\": 10.0}, {\"siteid\": \"UPenn\", \"icd_code\": \"M79.10\", \"icd_version\": 10, \"num_patients\": 11, \"ICDcode\": null, \"ICDdescription\": null, \"PheCode\": null, \"Phenotype\": null, \"ICDversion\": null}, {\"siteid\": \"UPenn\", \"icd_code\": \"M79.89\", \"icd_version\": 10, \"num_patients\": -1, \"ICDcode\": null, \"ICDdescription\": null, \"PheCode\": null, \"Phenotype\": null, \"ICDversion\": null}, {\"siteid\": \"UPenn\", \"icd_code\": \"N12\", \"icd_version\": 10, \"num_patients\": -1, \"ICDcode\": \"N12\", \"ICDdescription\": \"Tubulo-interstitial nephritis, not specified as acute or chronic\", \"PheCode\": 590.0, \"Phenotype\": \"Pyelonephritis\", \"ICDversion\": 10.0}, {\"siteid\": \"UPenn\", \"icd_code\": \"N17.9\", \"icd_version\": 10, \"num_patients\": -1, \"ICDcode\": \"N17.9\", \"ICDdescription\": \"Acute renal failure, unspecified\", \"PheCode\": 585.1, \"Phenotype\": \"Acute renal failure\", \"ICDversion\": 10.0}, {\"siteid\": \"UPenn\", \"icd_code\": \"N18.3\", \"icd_version\": 10, \"num_patients\": -1, \"ICDcode\": null, \"ICDdescription\": null, \"PheCode\": null, \"Phenotype\": null, \"ICDversion\": null}, {\"siteid\": \"UPenn\", \"icd_code\": \"N18.6\", \"icd_version\": 10, \"num_patients\": -1, \"ICDcode\": null, \"ICDdescription\": null, \"PheCode\": null, \"Phenotype\": null, \"ICDversion\": null}, {\"siteid\": \"UPenn\", \"icd_code\": \"N30.90\", \"icd_version\": 10, \"num_patients\": -1, \"ICDcode\": null, \"ICDdescription\": null, \"PheCode\": null, \"Phenotype\": null, \"ICDversion\": null}, {\"siteid\": \"UPenn\", \"icd_code\": \"N39.0\", \"icd_version\": 10, \"num_patients\": -1, \"ICDcode\": \"N39.0\", \"ICDdescription\": \"Urinary tract infection, site not specified\", \"PheCode\": 591.0, \"Phenotype\": \"Urinary tract infection\", \"ICDversion\": 10.0}, {\"siteid\": \"UPenn\", \"icd_code\": \"N41.9\", \"icd_version\": 10, \"num_patients\": -1, \"ICDcode\": \"N41.9\", \"ICDdescription\": \"Inflammatory disease of prostate, unspecified\", \"PheCode\": 601.1, \"Phenotype\": \"Prostatitis\", \"ICDversion\": 10.0}, {\"siteid\": \"UPenn\", \"icd_code\": \"N50.811\", \"icd_version\": 10, \"num_patients\": -1, \"ICDcode\": null, \"ICDdescription\": null, \"PheCode\": null, \"Phenotype\": null, \"ICDversion\": null}, {\"siteid\": \"UPenn\", \"icd_code\": \"N94.6\", \"icd_version\": 10, \"num_patients\": -1, \"ICDcode\": \"N94.6\", \"ICDdescription\": \"Dysmenorrhoea, unspecified\", \"PheCode\": 626.2, \"Phenotype\": \"Dysmenorrhea\", \"ICDversion\": 10.0}, {\"siteid\": \"UPenn\", \"icd_code\": \"Q24.9\", \"icd_version\": 10, \"num_patients\": -1, \"ICDcode\": \"Q24.9\", \"ICDdescription\": \"Congenital malformation of heart, unspecified\", \"PheCode\": 747.1, \"Phenotype\": \"Cardiac congenital anomalies\", \"ICDversion\": 10.0}, {\"siteid\": \"UPenn\", \"icd_code\": \"R00.0\", \"icd_version\": 10, \"num_patients\": -1, \"ICDcode\": \"R00.0\", \"ICDdescription\": \"Tachycardia, unspecified\", \"PheCode\": 427.7, \"Phenotype\": \"Tachycardia NOS\", \"ICDversion\": 10.0}, {\"siteid\": \"UPenn\", \"icd_code\": \"R05\", \"icd_version\": 10, \"num_patients\": 49, \"ICDcode\": \"R05\", \"ICDdescription\": \"Cough\", \"PheCode\": 512.8, \"Phenotype\": \"Cough\", \"ICDversion\": 10.0}, {\"siteid\": \"UPenn\", \"icd_code\": \"R06.00\", \"icd_version\": 10, \"num_patients\": -1, \"ICDcode\": null, \"ICDdescription\": null, \"PheCode\": null, \"Phenotype\": null, \"ICDversion\": null}, {\"siteid\": \"UPenn\", \"icd_code\": \"R06.02\", \"icd_version\": 10, \"num_patients\": 17, \"ICDcode\": null, \"ICDdescription\": null, \"PheCode\": null, \"Phenotype\": null, \"ICDversion\": null}, {\"siteid\": \"UPenn\", \"icd_code\": \"R06.6\", \"icd_version\": 10, \"num_patients\": -1, \"ICDcode\": \"R06.6\", \"ICDdescription\": \"Hiccough\", \"PheCode\": 513.8, \"Phenotype\": \"Disorders of diaphragm\", \"ICDversion\": 10.0}, {\"siteid\": \"UPenn\", \"icd_code\": \"R07.89\", \"icd_version\": 10, \"num_patients\": -1, \"ICDcode\": null, \"ICDdescription\": null, \"PheCode\": null, \"Phenotype\": null, \"ICDversion\": null}, {\"siteid\": \"UPenn\", \"icd_code\": \"R07.9\", \"icd_version\": 10, \"num_patients\": -1, \"ICDcode\": null, \"ICDdescription\": null, \"PheCode\": null, \"Phenotype\": null, \"ICDversion\": null}, {\"siteid\": \"UPenn\", \"icd_code\": \"R09.02\", \"icd_version\": 10, \"num_patients\": -1, \"ICDcode\": null, \"ICDdescription\": null, \"PheCode\": null, \"Phenotype\": null, \"ICDversion\": null}, {\"siteid\": \"UPenn\", \"icd_code\": \"R09.89\", \"icd_version\": 10, \"num_patients\": -1, \"ICDcode\": null, \"ICDdescription\": null, \"PheCode\": null, \"Phenotype\": null, \"ICDversion\": null}, {\"siteid\": \"UPenn\", \"icd_code\": \"R10.13\", \"icd_version\": 10, \"num_patients\": -1, \"ICDcode\": null, \"ICDdescription\": null, \"PheCode\": null, \"Phenotype\": null, \"ICDversion\": null}, {\"siteid\": \"UPenn\", \"icd_code\": \"R10.32\", \"icd_version\": 10, \"num_patients\": -1, \"ICDcode\": null, \"ICDdescription\": null, \"PheCode\": null, \"Phenotype\": null, \"ICDversion\": null}, {\"siteid\": \"UPenn\", \"icd_code\": \"R10.9\", \"icd_version\": 10, \"num_patients\": -1, \"ICDcode\": null, \"ICDdescription\": null, \"PheCode\": null, \"Phenotype\": null, \"ICDversion\": null}, {\"siteid\": \"UPenn\", \"icd_code\": \"R11.0\", \"icd_version\": 10, \"num_patients\": -1, \"ICDcode\": null, \"ICDdescription\": null, \"PheCode\": null, \"Phenotype\": null, \"ICDversion\": null}, {\"siteid\": \"UPenn\", \"icd_code\": \"R11.2\", \"icd_version\": 10, \"num_patients\": -1, \"ICDcode\": null, \"ICDdescription\": null, \"PheCode\": null, \"Phenotype\": null, \"ICDversion\": null}, {\"siteid\": \"UPenn\", \"icd_code\": \"R19.7\", \"icd_version\": 10, \"num_patients\": 10, \"ICDcode\": null, \"ICDdescription\": null, \"PheCode\": null, \"Phenotype\": null, \"ICDversion\": null}, {\"siteid\": \"UPenn\", \"icd_code\": \"R26.81\", \"icd_version\": 10, \"num_patients\": -1, \"ICDcode\": null, \"ICDdescription\": null, \"PheCode\": null, \"Phenotype\": null, \"ICDversion\": null}, {\"siteid\": \"UPenn\", \"icd_code\": \"R39.11\", \"icd_version\": 10, \"num_patients\": -1, \"ICDcode\": null, \"ICDdescription\": null, \"PheCode\": null, \"Phenotype\": null, \"ICDversion\": null}, {\"siteid\": \"UPenn\", \"icd_code\": \"R41.82\", \"icd_version\": 10, \"num_patients\": -1, \"ICDcode\": null, \"ICDdescription\": null, \"PheCode\": null, \"Phenotype\": null, \"ICDversion\": null}, {\"siteid\": \"UPenn\", \"icd_code\": \"R42\", \"icd_version\": 10, \"num_patients\": -1, \"ICDcode\": \"R42\", \"ICDdescription\": \"Dizziness and giddiness\", \"PheCode\": 386.9, \"Phenotype\": \"Dizziness and giddiness (Light-headedness and vertigo)\", \"ICDversion\": 10.0}, {\"siteid\": \"UPenn\", \"icd_code\": \"R43.0\", \"icd_version\": 10, \"num_patients\": -1, \"ICDcode\": \"R43.0\", \"ICDdescription\": \"Anosmia\", \"PheCode\": 350.6, \"Phenotype\": \"Disturbances of sensation of smell and taste\", \"ICDversion\": 10.0}, {\"siteid\": \"UPenn\", \"icd_code\": \"R43.2\", \"icd_version\": 10, \"num_patients\": -1, \"ICDcode\": \"R43.2\", \"ICDdescription\": \"Parageusia\", \"PheCode\": 350.6, \"Phenotype\": \"Disturbances of sensation of smell and taste\", \"ICDversion\": 10.0}, {\"siteid\": \"UPenn\", \"icd_code\": \"R50.81\", \"icd_version\": 10, \"num_patients\": -1, \"ICDcode\": null, \"ICDdescription\": null, \"PheCode\": null, \"Phenotype\": null, \"ICDversion\": null}, {\"siteid\": \"UPenn\", \"icd_code\": \"R50.9\", \"icd_version\": 10, \"num_patients\": 43, \"ICDcode\": \"R50.9\", \"ICDdescription\": \"Fever, unspecified\", \"PheCode\": 783.0, \"Phenotype\": \"Fever of unknown origin\", \"ICDversion\": 10.0}, {\"siteid\": \"UPenn\", \"icd_code\": \"R51\", \"icd_version\": 10, \"num_patients\": -1, \"ICDcode\": \"R51\", \"ICDdescription\": \"Headache\", \"PheCode\": 339.0, \"Phenotype\": \"Other headache syndromes\", \"ICDversion\": 10.0}, {\"siteid\": \"UPenn\", \"icd_code\": \"R52\", \"icd_version\": 10, \"num_patients\": -1, \"ICDcode\": null, \"ICDdescription\": null, \"PheCode\": null, \"Phenotype\": null, \"ICDversion\": null}, {\"siteid\": \"UPenn\", \"icd_code\": \"R53.1\", \"icd_version\": 10, \"num_patients\": -1, \"ICDcode\": null, \"ICDdescription\": null, \"PheCode\": null, \"Phenotype\": null, \"ICDversion\": null}, {\"siteid\": \"UPenn\", \"icd_code\": \"R53.81\", \"icd_version\": 10, \"num_patients\": -1, \"ICDcode\": null, \"ICDdescription\": null, \"PheCode\": null, \"Phenotype\": null, \"ICDversion\": null}, {\"siteid\": \"UPenn\", \"icd_code\": \"R53.83\", \"icd_version\": 10, \"num_patients\": -1, \"ICDcode\": null, \"ICDdescription\": null, \"PheCode\": null, \"Phenotype\": null, \"ICDversion\": null}, {\"siteid\": \"UPenn\", \"icd_code\": \"R55\", \"icd_version\": 10, \"num_patients\": -1, \"ICDcode\": \"R55\", \"ICDdescription\": \"Syncope and collapse\", \"PheCode\": 788.0, \"Phenotype\": \"Syncope and collapse\", \"ICDversion\": 10.0}, {\"siteid\": \"UPenn\", \"icd_code\": \"R57.9\", \"icd_version\": 10, \"num_patients\": -1, \"ICDcode\": \"R57.9\", \"ICDdescription\": \"Shock, unspecified\", \"PheCode\": 797.0, \"Phenotype\": \"Shock\", \"ICDversion\": 10.0}, {\"siteid\": \"UPenn\", \"icd_code\": \"R60.0\", \"icd_version\": 10, \"num_patients\": -1, \"ICDcode\": \"R60.0\", \"ICDdescription\": \"Localized oedema\", \"PheCode\": 782.3, \"Phenotype\": \"Edema\", \"ICDversion\": 10.0}, {\"siteid\": \"UPenn\", \"icd_code\": \"R60.9\", \"icd_version\": 10, \"num_patients\": -1, \"ICDcode\": \"R60.9\", \"ICDdescription\": \"Oedema, unspecified\", \"PheCode\": 782.3, \"Phenotype\": \"Edema\", \"ICDversion\": 10.0}, {\"siteid\": \"UPenn\", \"icd_code\": \"R61\", \"icd_version\": 10, \"num_patients\": -1, \"ICDcode\": \"R61\", \"ICDdescription\": \"Hyperhidrosis\", \"PheCode\": 705.8, \"Phenotype\": \"Hyperhidrosis\", \"ICDversion\": 10.0}, {\"siteid\": \"UPenn\", \"icd_code\": \"R63.0\", \"icd_version\": 10, \"num_patients\": -1, \"ICDcode\": \"R63.0\", \"ICDdescription\": \"Anorexia\", \"PheCode\": 260.6, \"Phenotype\": \"Anorexia\", \"ICDversion\": 10.0}, {\"siteid\": \"UPenn\", \"icd_code\": \"R68.83\", \"icd_version\": 10, \"num_patients\": -1, \"ICDcode\": null, \"ICDdescription\": null, \"PheCode\": null, \"Phenotype\": null, \"ICDversion\": null}, {\"siteid\": \"UPenn\", \"icd_code\": \"R68.89\", \"icd_version\": 10, \"num_patients\": 15, \"ICDcode\": null, \"ICDdescription\": null, \"PheCode\": null, \"Phenotype\": null, \"ICDversion\": null}, {\"siteid\": \"UPenn\", \"icd_code\": \"R69\", \"icd_version\": 10, \"num_patients\": -1, \"ICDcode\": \"R69\", \"ICDdescription\": \"Unknown and unspecified causes of morbidity\", \"PheCode\": 1019.0, \"Phenotype\": \"Other ill-defined and unknown causes of morbidity and mortality\", \"ICDversion\": 10.0}, {\"siteid\": \"UPenn\", \"icd_code\": \"R73.9\", \"icd_version\": 10, \"num_patients\": -1, \"ICDcode\": \"R73.9\", \"ICDdescription\": \"Hyperglycaemia, unspecified\", \"PheCode\": 250.42, \"Phenotype\": \"Other abnormal glucose\", \"ICDversion\": 10.0}, {\"siteid\": \"UPenn\", \"icd_code\": \"R74.8\", \"icd_version\": 10, \"num_patients\": -1, \"ICDcode\": \"R74.8\", \"ICDdescription\": \"Abnormal levels of other serum enzymes\", \"PheCode\": 573.9, \"Phenotype\": \"Abnormal serum enzyme levels\", \"ICDversion\": 10.0}, {\"siteid\": \"UPenn\", \"icd_code\": \"R79.89\", \"icd_version\": 10, \"num_patients\": -1, \"ICDcode\": null, \"ICDdescription\": null, \"PheCode\": null, \"Phenotype\": null, \"ICDversion\": null}, {\"siteid\": \"UPenn\", \"icd_code\": \"R91.1\", \"icd_version\": 10, \"num_patients\": -1, \"ICDcode\": null, \"ICDdescription\": null, \"PheCode\": null, \"Phenotype\": null, \"ICDversion\": null}, {\"siteid\": \"UPenn\", \"icd_code\": \"R94.31\", \"icd_version\": 10, \"num_patients\": -1, \"ICDcode\": null, \"ICDdescription\": null, \"PheCode\": null, \"Phenotype\": null, \"ICDversion\": null}, {\"siteid\": \"UPenn\", \"icd_code\": \"S92.901A\", \"icd_version\": 10, \"num_patients\": -1, \"ICDcode\": null, \"ICDdescription\": null, \"PheCode\": null, \"Phenotype\": null, \"ICDversion\": null}, {\"siteid\": \"UPenn\", \"icd_code\": \"T50.905A\", \"icd_version\": 10, \"num_patients\": -1, \"ICDcode\": null, \"ICDdescription\": null, \"PheCode\": null, \"Phenotype\": null, \"ICDversion\": null}, {\"siteid\": \"UPenn\", \"icd_code\": \"W19.XXXA\", \"icd_version\": 10, \"num_patients\": -1, \"ICDcode\": null, \"ICDdescription\": null, \"PheCode\": null, \"Phenotype\": null, \"ICDversion\": null}, {\"siteid\": \"UPenn\", \"icd_code\": \"Z00.00\", \"icd_version\": 10, \"num_patients\": -1, \"ICDcode\": null, \"ICDdescription\": null, \"PheCode\": null, \"Phenotype\": null, \"ICDversion\": null}, {\"siteid\": \"UPenn\", \"icd_code\": \"Z01.810\", \"icd_version\": 10, \"num_patients\": -1, \"ICDcode\": null, \"ICDdescription\": null, \"PheCode\": null, \"Phenotype\": null, \"ICDversion\": null}, {\"siteid\": \"UPenn\", \"icd_code\": \"Z03.818\", \"icd_version\": 10, \"num_patients\": 54, \"ICDcode\": null, \"ICDdescription\": null, \"PheCode\": null, \"Phenotype\": null, \"ICDversion\": null}, {\"siteid\": \"UPenn\", \"icd_code\": \"Z11.59\", \"icd_version\": 10, \"num_patients\": -1, \"ICDcode\": null, \"ICDdescription\": null, \"PheCode\": null, \"Phenotype\": null, \"ICDversion\": null}, {\"siteid\": \"UPenn\", \"icd_code\": \"Z20.828\", \"icd_version\": 10, \"num_patients\": 13, \"ICDcode\": null, \"ICDdescription\": null, \"PheCode\": null, \"Phenotype\": null, \"ICDversion\": null}, {\"siteid\": \"UPenn\", \"icd_code\": \"Z20.9\", \"icd_version\": 10, \"num_patients\": -1, \"ICDcode\": null, \"ICDdescription\": null, \"PheCode\": null, \"Phenotype\": null, \"ICDversion\": null}, {\"siteid\": \"UPenn\", \"icd_code\": \"Z34.90\", \"icd_version\": 10, \"num_patients\": -1, \"ICDcode\": null, \"ICDdescription\": null, \"PheCode\": null, \"Phenotype\": null, \"ICDversion\": null}, {\"siteid\": \"UPenn\", \"icd_code\": \"Z71.89\", \"icd_version\": 10, \"num_patients\": -1, \"ICDcode\": null, \"ICDdescription\": null, \"PheCode\": null, \"Phenotype\": null, \"ICDversion\": null}, {\"siteid\": \"UPenn\", \"icd_code\": \"Z78.9\", \"icd_version\": 10, \"num_patients\": -1, \"ICDcode\": null, \"ICDdescription\": null, \"PheCode\": null, \"Phenotype\": null, \"ICDversion\": null}, {\"siteid\": \"UPenn\", \"icd_code\": \"Z79.4\", \"icd_version\": 10, \"num_patients\": -1, \"ICDcode\": null, \"ICDdescription\": null, \"PheCode\": null, \"Phenotype\": null, \"ICDversion\": null}, {\"siteid\": \"UPenn\", \"icd_code\": \"Z91.89\", \"icd_version\": 10, \"num_patients\": -1, \"ICDcode\": null, \"ICDdescription\": null, \"PheCode\": null, \"Phenotype\": null, \"ICDversion\": null}, {\"siteid\": \"UPenn\", \"icd_code\": \"Z95.0\", \"icd_version\": 10, \"num_patients\": -1, \"ICDcode\": \"Z95.0\", \"ICDdescription\": \"Presence of electronic cardiac devices\", \"PheCode\": 426.91, \"Phenotype\": \"Cardiac pacemaker in situ\", \"ICDversion\": 10.0}, {\"siteid\": \"UPenn\", \"icd_code\": \"Z95.810\", \"icd_version\": 10, \"num_patients\": -1, \"ICDcode\": null, \"ICDdescription\": null, \"PheCode\": null, \"Phenotype\": null, \"ICDversion\": null}, {\"siteid\": \"BCH\", \"icd_code\": \"7301\", \"icd_version\": 9, \"num_patients\": 1, \"ICDcode\": null, \"ICDdescription\": null, \"PheCode\": null, \"Phenotype\": null, \"ICDversion\": null}, {\"siteid\": \"BCH\", \"icd_code\": \"R50.81\", \"icd_version\": 10, \"num_patients\": 1, \"ICDcode\": null, \"ICDdescription\": null, \"PheCode\": null, \"Phenotype\": null, \"ICDversion\": null}, {\"siteid\": \"BCH\", \"icd_code\": \"I95.9\", \"icd_version\": 10, \"num_patients\": 1, \"ICDcode\": \"I95.9\", \"ICDdescription\": \"Hypotension, unspecified\", \"PheCode\": 458.9, \"Phenotype\": \"Hypotension NOS\", \"ICDversion\": 10.0}, {\"siteid\": \"BCH\", \"icd_code\": \"E87.1\", \"icd_version\": 10, \"num_patients\": 1, \"ICDcode\": \"E87.1\", \"ICDdescription\": \"Hypo-osmolality and hyponatraemia\", \"PheCode\": 276.12, \"Phenotype\": \"Hyposmolality and/or hyponatremia\", \"ICDversion\": 10.0}, {\"siteid\": \"BCH\", \"icd_code\": \"G40.909\", \"icd_version\": 10, \"num_patients\": 1, \"ICDcode\": null, \"ICDdescription\": null, \"PheCode\": null, \"Phenotype\": null, \"ICDversion\": null}, {\"siteid\": \"BCH\", \"icd_code\": \"F84.0\", \"icd_version\": 10, \"num_patients\": 1, \"ICDcode\": \"F84.0\", \"ICDdescription\": \"Childhood autism\", \"PheCode\": 313.3, \"Phenotype\": \"Autism\", \"ICDversion\": 10.0}, {\"siteid\": \"BCH\", \"icd_code\": \"D70.9\", \"icd_version\": 10, \"num_patients\": 1, \"ICDcode\": null, \"ICDdescription\": null, \"PheCode\": null, \"Phenotype\": null, \"ICDversion\": null}, {\"siteid\": \"BCH\", \"icd_code\": \"S92.302D\", \"icd_version\": 10, \"num_patients\": 1, \"ICDcode\": null, \"ICDdescription\": null, \"PheCode\": null, \"Phenotype\": null, \"ICDversion\": null}, {\"siteid\": \"BCH\", \"icd_code\": \"J45.901\", \"icd_version\": 10, \"num_patients\": 1, \"ICDcode\": null, \"ICDdescription\": null, \"PheCode\": null, \"Phenotype\": null, \"ICDversion\": null}, {\"siteid\": \"BCH\", \"icd_code\": \"H92.09\", \"icd_version\": 10, \"num_patients\": 1, \"ICDcode\": null, \"ICDdescription\": null, \"PheCode\": null, \"Phenotype\": null, \"ICDversion\": null}, {\"siteid\": \"BCH\", \"icd_code\": \"R45.84\", \"icd_version\": 10, \"num_patients\": 1, \"ICDcode\": null, \"ICDdescription\": null, \"PheCode\": null, \"Phenotype\": null, \"ICDversion\": null}, {\"siteid\": \"BCH\", \"icd_code\": \"309158009\", \"icd_version\": 9, \"num_patients\": 1, \"ICDcode\": null, \"ICDdescription\": null, \"PheCode\": null, \"Phenotype\": null, \"ICDversion\": null}, {\"siteid\": \"BCH\", \"icd_code\": \"R50.9\", \"icd_version\": 10, \"num_patients\": 1, \"ICDcode\": \"R50.9\", \"ICDdescription\": \"Fever, unspecified\", \"PheCode\": 783.0, \"Phenotype\": \"Fever of unknown origin\", \"ICDversion\": 10.0}, {\"siteid\": \"BCH\", \"icd_code\": \"D69.3\", \"icd_version\": 10, \"num_patients\": 1, \"ICDcode\": \"D69.3\", \"ICDdescription\": \"Idiopathic thrombocytopenic purpura\", \"PheCode\": 287.31, \"Phenotype\": \"Primary thrombocytopenia\", \"ICDversion\": 10.0}, {\"siteid\": \"BCH\", \"icd_code\": \"Z20.828\", \"icd_version\": 10, \"num_patients\": 1, \"ICDcode\": null, \"ICDdescription\": null, \"PheCode\": null, \"Phenotype\": null, \"ICDversion\": null}, {\"siteid\": \"BCH\", \"icd_code\": \"R05\", \"icd_version\": 10, \"num_patients\": 1, \"ICDcode\": \"R05\", \"ICDdescription\": \"Cough\", \"PheCode\": 512.8, \"Phenotype\": \"Cough\", \"ICDversion\": 10.0}, {\"siteid\": \"BCH\", \"icd_code\": \"B97.29\", \"icd_version\": 10, \"num_patients\": 1, \"ICDcode\": null, \"ICDdescription\": null, \"PheCode\": null, \"Phenotype\": null, \"ICDversion\": null}, {\"siteid\": \"BCH\", \"icd_code\": \"D64.9\", \"icd_version\": 10, \"num_patients\": 1, \"ICDcode\": \"D64.9\", \"ICDdescription\": \"Anaemia, unspecified\", \"PheCode\": 285.0, \"Phenotype\": \"Other anemias\", \"ICDversion\": 10.0}, {\"siteid\": \"BCH\", \"icd_code\": \"R00.0\", \"icd_version\": 10, \"num_patients\": 1, \"ICDcode\": \"R00.0\", \"ICDdescription\": \"Tachycardia, unspecified\", \"PheCode\": 427.7, \"Phenotype\": \"Tachycardia NOS\", \"ICDversion\": 10.0}, {\"siteid\": \"BCH\", \"icd_code\": \"Z95.828\", \"icd_version\": 10, \"num_patients\": 1, \"ICDcode\": null, \"ICDdescription\": null, \"PheCode\": null, \"Phenotype\": null, \"ICDversion\": null}, {\"siteid\": \"BCH\", \"icd_code\": \"E86.0\", \"icd_version\": 10, \"num_patients\": 1, \"ICDcode\": null, \"ICDdescription\": null, \"PheCode\": null, \"Phenotype\": null, \"ICDversion\": null}, {\"siteid\": \"BCH\", \"icd_code\": \"M08.3\", \"icd_version\": 10, \"num_patients\": 1, \"ICDcode\": \"M08.3\", \"ICDdescription\": \"Juvenile polyarthritis (seronegative)\", \"PheCode\": 714.2, \"Phenotype\": \"Juvenile rheumatoid arthritis\", \"ICDversion\": 10.0}, {\"siteid\": \"BCH\", \"icd_code\": \"D58.9\", \"icd_version\": 10, \"num_patients\": 1, \"ICDcode\": \"D58.9\", \"ICDdescription\": \"Hereditary haemolytic anaemia, unspecified\", \"PheCode\": 282.9, \"Phenotype\": \"Other hereditary hemolytic anemias\", \"ICDversion\": 10.0}, {\"siteid\": \"BCH\", \"icd_code\": \"R09.02\", \"icd_version\": 10, \"num_patients\": 1, \"ICDcode\": null, \"ICDdescription\": null, \"PheCode\": null, \"Phenotype\": null, \"ICDversion\": null}, {\"siteid\": \"BCH\", \"icd_code\": \"7000\", \"icd_version\": 9, \"num_patients\": 1, \"ICDcode\": null, \"ICDdescription\": null, \"PheCode\": null, \"Phenotype\": null, \"ICDversion\": null}, {\"siteid\": \"BCH\", \"icd_code\": \"K12.30\", \"icd_version\": 10, \"num_patients\": 1, \"ICDcode\": null, \"ICDdescription\": null, \"PheCode\": null, \"Phenotype\": null, \"ICDversion\": null}, {\"siteid\": \"BCH\", \"icd_code\": \"R11.2\", \"icd_version\": 10, \"num_patients\": 1, \"ICDcode\": null, \"ICDdescription\": null, \"PheCode\": null, \"Phenotype\": null, \"ICDversion\": null}, {\"siteid\": \"BCH\", \"icd_code\": \"C83.35\", \"icd_version\": 10, \"num_patients\": 1, \"ICDcode\": null, \"ICDdescription\": null, \"PheCode\": null, \"Phenotype\": null, \"ICDversion\": null}, {\"siteid\": \"BCH\", \"icd_code\": \"C85.10\", \"icd_version\": 10, \"num_patients\": 1, \"ICDcode\": null, \"ICDdescription\": null, \"PheCode\": null, \"Phenotype\": null, \"ICDversion\": null}, {\"siteid\": \"BCH\", \"icd_code\": \"Q85.1\", \"icd_version\": 10, \"num_patients\": 1, \"ICDcode\": \"Q85.1\", \"ICDdescription\": \"Tuberous sclerosis\", \"PheCode\": 759.0, \"Phenotype\": \"Other and unspecified congenital anomalies\", \"ICDversion\": 10.0}, {\"siteid\": \"BCH\", \"icd_code\": \"D70.8\", \"icd_version\": 10, \"num_patients\": 1, \"ICDcode\": null, \"ICDdescription\": null, \"PheCode\": null, \"Phenotype\": null, \"ICDversion\": null}, {\"siteid\": \"BCH\", \"icd_code\": \"M08.90\", \"icd_version\": 10, \"num_patients\": 1, \"ICDcode\": null, \"ICDdescription\": null, \"PheCode\": null, \"Phenotype\": null, \"ICDversion\": null}, {\"siteid\": \"BCH\", \"icd_code\": \"J18.9\", \"icd_version\": 10, \"num_patients\": 2, \"ICDcode\": \"J18.9\", \"ICDdescription\": \"Pneumonia, unspecified\", \"PheCode\": 480.0, \"Phenotype\": \"Pneumonia\", \"ICDversion\": 10.0}]}}, {\"mode\": \"vega-lite\"});\n",
       "</script>"
      ],
      "text/plain": [
       "alt.Chart(...)"
      ]
     },
     "execution_count": 18,
     "metadata": {},
     "output_type": "execute_result"
    }
   ],
   "source": [
    "def apply_theme_sm(base):\n",
    "    return base.configure_axis(\n",
    "        labelFontSize=10,\n",
    "        labelFontWeight=300,\n",
    "        titleFontSize=14,\n",
    "        titleFontWeight=300\n",
    "    ).configure_title(fontSize=20, fontWeight=400, anchor=\"middle\")\n",
    "\n",
    "# Mouseover effect\n",
    "mouseover = alt.selection(type='single', on='mouseover', fields=[icd_code], nearest=False)\n",
    "    \n",
    "base = alt.Chart(df).mark_bar().encode(\n",
    "    x=alt.X(f\"{icd_code}:N\", title=\"ICD Code\"),\n",
    "    y=alt.Y(f\"sum({num_patients}):Q\", title=\"Total Number of Patients\"),\n",
    "    color=alt.Color(icd_version + \":N\", scale=icd_color_scale, title=\"ICD Version\"),\n",
    "    facet=alt.Facet(f\"{siteid}:N\", columns=5, title=\"\"),\n",
    "    tooltip=[icd_code, f\"sum({num_patients})\"]\n",
    ").transform_filter(\n",
    "    # Do not show uncertain data\n",
    "    alt.FieldGTEPredicate(field=num_patients, gte=0)\n",
    ").properties(\n",
    "    width=150,\n",
    "    height=150\n",
    ")\n",
    "\n",
    "chart = apply_theme_sm(base).properties(\n",
    "    title=\"All Diagnoses Patients Have Starting 7 Days Before Positive Test\"\n",
    ")\n",
    "\n",
    "chart.interactive()"
   ]
  },
  {
   "cell_type": "code",
   "execution_count": null,
   "metadata": {},
   "outputs": [],
   "source": []
  }
 ],
 "metadata": {
  "kernelspec": {
   "display_name": "Python [conda env:c19i2b2-py] *",
   "language": "python",
   "name": "conda-env-c19i2b2-py-py"
  },
  "language_info": {
   "codemirror_mode": {
    "name": "ipython",
    "version": 3
   },
   "file_extension": ".py",
   "mimetype": "text/x-python",
   "name": "python",
   "nbconvert_exporter": "python",
   "pygments_lexer": "ipython3",
   "version": "3.8.2"
  }
 },
 "nbformat": 4,
 "nbformat_minor": 4
}
