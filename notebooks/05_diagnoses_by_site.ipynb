{
 "cells": [
  {
   "cell_type": "code",
   "execution_count": 1,
   "metadata": {},
   "outputs": [],
   "source": [
    "import pandas as pd\n",
    "import numpy as np\n",
    "import altair as alt\n",
    "from ipywidgets import interact\n",
    "from os.path import join\n",
    "\n",
    "from constants import COLUMNS, SITE_IDS_IN_DIR\n",
    "from utils import read_full_diagnoses_df, read_icd_df"
   ]
  },
  {
   "cell_type": "code",
   "execution_count": 2,
   "metadata": {},
   "outputs": [],
   "source": [
    "# SITE_IDS = ['FWN','FXL','FZT','FMT','FFG','FOW','FSZ','FMA','FEQ','FVX','FKQ','FBL','FDQ','FKN','FBD','FKL','FUU','FZU','FZM','FUN']\n",
    "SITE_IDS = SITE_IDS_IN_DIR.DIAGNOSES"
   ]
  },
  {
   "cell_type": "code",
   "execution_count": 3,
   "metadata": {},
   "outputs": [
    {
     "data": {
      "text/html": [
       "<div>\n",
       "<style scoped>\n",
       "    .dataframe tbody tr th:only-of-type {\n",
       "        vertical-align: middle;\n",
       "    }\n",
       "\n",
       "    .dataframe tbody tr th {\n",
       "        vertical-align: top;\n",
       "    }\n",
       "\n",
       "    .dataframe thead th {\n",
       "        text-align: right;\n",
       "    }\n",
       "</style>\n",
       "<table border=\"1\" class=\"dataframe\">\n",
       "  <thead>\n",
       "    <tr style=\"text-align: right;\">\n",
       "      <th></th>\n",
       "      <th>siteid</th>\n",
       "      <th>icd_code</th>\n",
       "      <th>icd_version</th>\n",
       "      <th>num_patients</th>\n",
       "    </tr>\n",
       "  </thead>\n",
       "  <tbody>\n",
       "    <tr>\n",
       "      <th>0</th>\n",
       "      <td>FKN</td>\n",
       "      <td>082</td>\n",
       "      <td>9</td>\n",
       "      <td>-1</td>\n",
       "    </tr>\n",
       "    <tr>\n",
       "      <th>1</th>\n",
       "      <td>FKN</td>\n",
       "      <td>009</td>\n",
       "      <td>9</td>\n",
       "      <td>5</td>\n",
       "    </tr>\n",
       "    <tr>\n",
       "      <th>2</th>\n",
       "      <td>FKN</td>\n",
       "      <td>087</td>\n",
       "      <td>9</td>\n",
       "      <td>-1</td>\n",
       "    </tr>\n",
       "    <tr>\n",
       "      <th>3</th>\n",
       "      <td>FKN</td>\n",
       "      <td>059</td>\n",
       "      <td>9</td>\n",
       "      <td>-1</td>\n",
       "    </tr>\n",
       "    <tr>\n",
       "      <th>4</th>\n",
       "      <td>FKN</td>\n",
       "      <td>J22</td>\n",
       "      <td>10</td>\n",
       "      <td>-1</td>\n",
       "    </tr>\n",
       "  </tbody>\n",
       "</table>\n",
       "</div>"
      ],
      "text/plain": [
       "  siteid icd_code  icd_version  num_patients\n",
       "0    FKN      082            9            -1\n",
       "1    FKN      009            9             5\n",
       "2    FKN      087            9            -1\n",
       "3    FKN      059            9            -1\n",
       "4    FKN      J22           10            -1"
      ]
     },
     "execution_count": 3,
     "metadata": {},
     "output_type": "execute_result"
    }
   ],
   "source": [
    "df = read_full_diagnoses_df(SITE_IDS)\n",
    "\n",
    "# Columns\n",
    "siteid = COLUMNS.SITE_ID\n",
    "icd_code = COLUMNS.ICD_CODE\n",
    "icd_version = COLUMNS.ICD_VERSION\n",
    "num_patients = COLUMNS.NUM_PATIENTS\n",
    "\n",
    "df.head()"
   ]
  },
  {
   "cell_type": "code",
   "execution_count": 4,
   "metadata": {},
   "outputs": [
    {
     "data": {
      "text/html": [
       "<div>\n",
       "<style scoped>\n",
       "    .dataframe tbody tr th:only-of-type {\n",
       "        vertical-align: middle;\n",
       "    }\n",
       "\n",
       "    .dataframe tbody tr th {\n",
       "        vertical-align: top;\n",
       "    }\n",
       "\n",
       "    .dataframe thead th {\n",
       "        text-align: right;\n",
       "    }\n",
       "</style>\n",
       "<table border=\"1\" class=\"dataframe\">\n",
       "  <thead>\n",
       "    <tr style=\"text-align: right;\">\n",
       "      <th></th>\n",
       "      <th>siteid</th>\n",
       "      <th>icd_code</th>\n",
       "      <th>icd_version</th>\n",
       "      <th>num_patients</th>\n",
       "      <th>ICDcode</th>\n",
       "      <th>ICDdescription</th>\n",
       "      <th>PheCode</th>\n",
       "      <th>Phenotype</th>\n",
       "      <th>ICDversion</th>\n",
       "    </tr>\n",
       "  </thead>\n",
       "  <tbody>\n",
       "    <tr>\n",
       "      <th>0</th>\n",
       "      <td>FKN</td>\n",
       "      <td>082</td>\n",
       "      <td>9</td>\n",
       "      <td>-1</td>\n",
       "      <td>082</td>\n",
       "      <td>Tick-borne rickettsioses</td>\n",
       "      <td>136.0</td>\n",
       "      <td>Other infectious and parasitic diseases</td>\n",
       "      <td>9.0</td>\n",
       "    </tr>\n",
       "    <tr>\n",
       "      <th>1</th>\n",
       "      <td>FKN</td>\n",
       "      <td>009</td>\n",
       "      <td>9</td>\n",
       "      <td>5</td>\n",
       "      <td>009</td>\n",
       "      <td>Ill-defined intestinal infections</td>\n",
       "      <td>8.0</td>\n",
       "      <td>Intestinal infection</td>\n",
       "      <td>9.0</td>\n",
       "    </tr>\n",
       "    <tr>\n",
       "      <th>2</th>\n",
       "      <td>FKN</td>\n",
       "      <td>087</td>\n",
       "      <td>9</td>\n",
       "      <td>-1</td>\n",
       "      <td>087</td>\n",
       "      <td>Relapsing fever</td>\n",
       "      <td>130.0</td>\n",
       "      <td>Spirochetal infection</td>\n",
       "      <td>9.0</td>\n",
       "    </tr>\n",
       "    <tr>\n",
       "      <th>3</th>\n",
       "      <td>FKN</td>\n",
       "      <td>059</td>\n",
       "      <td>9</td>\n",
       "      <td>-1</td>\n",
       "      <td>059</td>\n",
       "      <td>Other poxvirus infections</td>\n",
       "      <td>79.0</td>\n",
       "      <td>Viral infection</td>\n",
       "      <td>9.0</td>\n",
       "    </tr>\n",
       "    <tr>\n",
       "      <th>4</th>\n",
       "      <td>FKN</td>\n",
       "      <td>J22</td>\n",
       "      <td>10</td>\n",
       "      <td>-1</td>\n",
       "      <td>J22</td>\n",
       "      <td>Unspecified acute lower respiratory infection</td>\n",
       "      <td>519.8</td>\n",
       "      <td>Other diseases of respiratory system, NEC</td>\n",
       "      <td>10.0</td>\n",
       "    </tr>\n",
       "  </tbody>\n",
       "</table>\n",
       "</div>"
      ],
      "text/plain": [
       "  siteid icd_code  icd_version  num_patients ICDcode  \\\n",
       "0    FKN      082            9            -1     082   \n",
       "1    FKN      009            9             5     009   \n",
       "2    FKN      087            9            -1     087   \n",
       "3    FKN      059            9            -1     059   \n",
       "4    FKN      J22           10            -1     J22   \n",
       "\n",
       "                                  ICDdescription  PheCode  \\\n",
       "0                       Tick-borne rickettsioses    136.0   \n",
       "1              Ill-defined intestinal infections      8.0   \n",
       "2                                Relapsing fever    130.0   \n",
       "3                      Other poxvirus infections     79.0   \n",
       "4  Unspecified acute lower respiratory infection    519.8   \n",
       "\n",
       "                                   Phenotype  ICDversion  \n",
       "0    Other infectious and parasitic diseases         9.0  \n",
       "1                       Intestinal infection         9.0  \n",
       "2                      Spirochetal infection         9.0  \n",
       "3                            Viral infection         9.0  \n",
       "4  Other diseases of respiratory system, NEC        10.0  "
      ]
     },
     "execution_count": 4,
     "metadata": {},
     "output_type": "execute_result"
    }
   ],
   "source": [
    "icd_df = read_icd_df()\n",
    "df = df.merge(icd_df, how=\"left\", left_on='icd_code', right_on='ICDcode')\n",
    "df.head()"
   ]
  },
  {
   "cell_type": "markdown",
   "metadata": {},
   "source": [
    "## Summarization Chart\n",
    "##### Select Site ID to see data by a specific site ID"
   ]
  },
  {
   "cell_type": "code",
   "execution_count": 5,
   "metadata": {
    "scrolled": true
   },
   "outputs": [
    {
     "data": {
      "application/vnd.jupyter.widget-view+json": {
       "model_id": "4fec81f20cd74811988621aa13b5f599",
       "version_major": 2,
       "version_minor": 0
      },
      "text/plain": [
       "interactive(children=(Dropdown(description='SiteID', options=('All Sites', 'FKN', 'FEQ', 'FKL', 'FDQ', 'FSZ', …"
      ]
     },
     "metadata": {},
     "output_type": "display_data"
    },
    {
     "data": {
      "text/plain": [
       "<function __main__.diagnoses_chart(SiteID)>"
      ]
     },
     "execution_count": 5,
     "metadata": {},
     "output_type": "execute_result"
    }
   ],
   "source": [
    "icd_color_scale = alt.Scale(domain=[\"9\", \"10\"], range=[\"#69A6CE\", \"#EB6F63\"])\n",
    "\n",
    "def apply_theme(base):\n",
    "    return base.configure_axis(\n",
    "        labelFontSize=14,\n",
    "        labelFontWeight=300,\n",
    "        titleFontSize=18,\n",
    "        titleFontWeight=300\n",
    "    ).configure_title(fontSize=18, fontWeight=400, anchor=\"middle\")\n",
    "    \n",
    "def diagnoses_chart(SiteID): \n",
    "    \n",
    "    # Mouseover effect\n",
    "    mouseover = alt.selection(type='single', on='mouseover', fields=[icd_code], nearest=False)\n",
    "    \n",
    "    # Base bar chart\n",
    "    base = alt.Chart(df).mark_bar().encode(\n",
    "        x=alt.X(f\"sum({num_patients}):Q\", title=\"Total Number of Patients\", axis=alt.Axis(tickCount=5)),\n",
    "        y=alt.Y(f\"{icd_code}:N\", title=\"ICD Code\", sort=\"-x\"),\n",
    "        color=alt.Color(icd_version + \":N\", scale=icd_color_scale, title=\"ICD Version\"),\n",
    "        # mouse hover visual effect\n",
    "        opacity=alt.condition(~mouseover, alt.value(1), alt.value(0.8)),\n",
    "        tooltip=[icd_code, f\"sum({num_patients})\"]\n",
    "    ).transform_filter(\n",
    "        # Do not show uncertain data\n",
    "        alt.FieldGTEPredicate(field=num_patients, gte=0)\n",
    "    ).properties(\n",
    "        title=\"All Diagnoses Patients Have Starting 7 Days Before Positive Test (\" + SiteID + \")\",\n",
    "        width=500,\n",
    "        height=300\n",
    "    )\n",
    "    \n",
    "    if SiteID != \"All Sites\":\n",
    "        base = base.transform_filter(\n",
    "            alt.FieldEqualPredicate(field=siteid, equal=SiteID)\n",
    "        )\n",
    "    \n",
    "    # Text label\n",
    "    text = base.mark_text(align='right', baseline='middle', dx=-4, fontWeight=\"bold\").encode(\n",
    "        text=f\"sum({num_patients}):Q\",\n",
    "        color=alt.value(\"white\")\n",
    "    )\n",
    "    \n",
    "    chart = apply_theme((base + text)).add_selection(mouseover)\n",
    "        \n",
    "    return chart.interactive()\n",
    "\n",
    "interact(diagnoses_chart, SiteID=[\"All Sites\"] + SITE_IDS, )"
   ]
  },
  {
   "cell_type": "code",
   "execution_count": 6,
   "metadata": {},
   "outputs": [
    {
     "data": {
      "application/vnd.jupyter.widget-view+json": {
       "model_id": "0fa81e3261f64cf6a7f4b4e91fbb6721",
       "version_major": 2,
       "version_minor": 0
      },
      "text/plain": [
       "interactive(children=(Dropdown(description='SiteID', options=('All Sites', 'FKN', 'FEQ', 'FKL', 'FDQ', 'FSZ', …"
      ]
     },
     "metadata": {},
     "output_type": "display_data"
    },
    {
     "data": {
      "text/plain": [
       "<function __main__.diagnoses_chart(SiteID, Normalize)>"
      ]
     },
     "execution_count": 6,
     "metadata": {},
     "output_type": "execute_result"
    }
   ],
   "source": [
    "def apply_theme(base):\n",
    "    return base.configure_axis(\n",
    "        labelFontSize=14,\n",
    "        labelFontWeight=300,\n",
    "        titleFontSize=18,\n",
    "        titleFontWeight=300\n",
    "    ).configure_title(fontSize=18, fontWeight=400, anchor=\"start\")\n",
    "    \n",
    "def diagnoses_chart(SiteID, Normalize): \n",
    "    \n",
    "    # Mouseover effect\n",
    "    mouseover = alt.selection(type='single', on='mouseover', fields=[icd_code], nearest=False)\n",
    "    \n",
    "    # Base bar chart\n",
    "    base = alt.Chart(df).mark_bar().encode(\n",
    "        x=alt.X(f\"sum({num_patients}):Q\", title=\"Number of Patients\", axis=alt.Axis(tickCount=5)),\n",
    "        y=alt.Y(\"icd_code:N\", title=\"ICD Code\", sort=\"-x\"),\n",
    "        color=alt.Color(siteid + \":N\", scale=alt.Scale(scheme=\"category20\"), title=\"Site\"),\n",
    "        # mouse hover visual effect\n",
    "        opacity=alt.condition(mouseover, alt.value(1), alt.value(0.5)),\n",
    "        tooltip=[icd_code, \"ICDdescription\", f\"sum({num_patients})\", siteid],\n",
    "        order=alt.Order(\n",
    "          # sort segments by number of patients\n",
    "          'num_patients:Q',\n",
    "          sort='descending'\n",
    "        )\n",
    "    ).transform_filter(\n",
    "        # Do not show uncertain data\n",
    "        alt.FieldGTEPredicate(field=num_patients, gte=0)\n",
    "    ).properties(\n",
    "        title=\"Diagnoses Starting 7 Days Before Positive Test (\" + SiteID + \")\",\n",
    "        width=500,\n",
    "        height=300\n",
    "    )\n",
    "        \n",
    "    if SiteID != \"All Sites\":\n",
    "        base = base.transform_filter(\n",
    "            alt.FieldEqualPredicate(field=siteid, equal=SiteID)\n",
    "        )\n",
    "\n",
    "    if Normalize != \"no\":\n",
    "        base = base.encode(\n",
    "            x=alt.X(f\"sum({num_patients}):Q\", title=\"Fraction of Patients\", axis=alt.Axis(tickCount=5), stack=\"normalize\"),\n",
    "        )\n",
    "        \n",
    "    chart = apply_theme(base).add_selection(mouseover)\n",
    "        \n",
    "    return chart.interactive()\n",
    "\n",
    "interact(diagnoses_chart, SiteID=[\"All Sites\"] + SITE_IDS, Normalize=[\"yes\", \"no\"] )"
   ]
  },
  {
   "cell_type": "code",
   "execution_count": 12,
   "metadata": {},
   "outputs": [
    {
     "data": {
      "application/vnd.jupyter.widget-view+json": {
       "model_id": "8110d765856e4b49a7aa3234a42b3666",
       "version_major": 2,
       "version_minor": 0
      },
      "text/plain": [
       "interactive(children=(Dropdown(description='SiteID', options=('All Sites', 'FKN', 'FEQ', 'FKL', 'FDQ', 'FSZ', …"
      ]
     },
     "metadata": {},
     "output_type": "display_data"
    },
    {
     "data": {
      "text/plain": [
       "<function __main__.diagnoses_chart(SiteID, Normalize)>"
      ]
     },
     "execution_count": 12,
     "metadata": {},
     "output_type": "execute_result"
    }
   ],
   "source": [
    "def apply_theme(base):\n",
    "    return base.configure_axis(\n",
    "        labelFontSize=14,\n",
    "        labelFontWeight=300,\n",
    "        titleFontSize=18,\n",
    "        titleFontWeight=300\n",
    "    ).configure_title(fontSize=18, fontWeight=400, anchor=\"start\")\n",
    "    \n",
    "def diagnoses_chart(SiteID, Normalize): \n",
    "    \n",
    "    # Mouseover effect\n",
    "    mouseover = alt.selection(type='single', on='mouseover', fields=[icd_code], nearest=False)\n",
    "    \n",
    "    # Base bar chart\n",
    "    base = alt.Chart(df).mark_bar().encode(\n",
    "        x=alt.X(f\"sum({num_patients}):Q\", title=\"Number of Patients\", axis=alt.Axis(tickCount=5)),\n",
    "        y=alt.Y(\"siteid:N\", title=\"Site\", sort=\"-x\"),\n",
    "        color=alt.Color(icd_code + \":N\", scale=alt.Scale(scheme=\"category20\"), title=\"ICD Code\"),\n",
    "        # mouse hover visual effect\n",
    "        opacity=alt.condition(mouseover, alt.value(1), alt.value(0.5)),\n",
    "        tooltip=[icd_code, \"ICDdescription\", f\"sum({num_patients})\", siteid],\n",
    "        order=alt.Order(\n",
    "          # sort segments by number of patients\n",
    "          'num_patients:Q',\n",
    "          sort='descending'\n",
    "        )\n",
    "    ).transform_filter(\n",
    "        # Do not show uncertain data\n",
    "        alt.FieldGTEPredicate(field=num_patients, gte=0)\n",
    "    ).properties(\n",
    "        title=\"Diagnoses Starting 7 Days Before Positive Test (\" + SiteID + \")\",\n",
    "        width=500,\n",
    "        height=300\n",
    "    )\n",
    "        \n",
    "    if SiteID != \"All Sites\":\n",
    "        base = base.transform_filter(\n",
    "            alt.FieldEqualPredicate(field=siteid, equal=SiteID)\n",
    "        )\n",
    "\n",
    "    if Normalize != \"no\":\n",
    "        base = base.encode(\n",
    "            x=alt.X(f\"sum({num_patients}):Q\", title=\"Fraction of Patients\", axis=alt.Axis(tickCount=5), stack=\"normalize\"),\n",
    "        )\n",
    "        \n",
    "    chart = apply_theme(base).add_selection(mouseover)\n",
    "        \n",
    "    return chart.interactive()\n",
    "\n",
    "interact(diagnoses_chart, SiteID=[\"All Sites\"] + SITE_IDS, Normalize=[\"yes\", \"no\"] )"
   ]
  },
  {
   "cell_type": "markdown",
   "metadata": {},
   "source": [
    "## One-to-N Comparison Chart\n",
    "##### Select site ID using dropdown menu to highlight"
   ]
  },
  {
   "cell_type": "code",
   "execution_count": 7,
   "metadata": {
    "scrolled": true
   },
   "outputs": [
    {
     "data": {
      "application/vnd.jupyter.widget-view+json": {
       "model_id": "9e464e9d989e4770b3af3d4c9f6c5145",
       "version_major": 2,
       "version_minor": 0
      },
      "text/plain": [
       "interactive(children=(Dropdown(description='HighlightBy', options=('FKN', 'FEQ', 'FKL', 'FDQ', 'FSZ', 'FXL', '…"
      ]
     },
     "metadata": {},
     "output_type": "display_data"
    },
    {
     "data": {
      "text/plain": [
       "<function __main__.diagnoses_chart_hl(HighlightBy)>"
      ]
     },
     "execution_count": 7,
     "metadata": {},
     "output_type": "execute_result"
    }
   ],
   "source": [
    "def diagnoses_chart_hl(HighlightBy): \n",
    "    \n",
    "    # Base bar chart\n",
    "    base = alt.Chart(df).mark_bar().encode(\n",
    "        x=alt.X(f\"sum({num_patients}):Q\", title=\"Total Number of Patients\", axis=alt.Axis(tickCount=5)),\n",
    "        y=alt.Y(f\"{icd_code}:N\", title=\"ICD Code\", sort=\"-x\"),\n",
    "        color=alt.value(\"lightgray\")\n",
    "    ).transform_filter(\n",
    "        # Do not show uncertain data\n",
    "        alt.FieldGTEPredicate(field=num_patients, gte=0)\n",
    "    ).properties(\n",
    "        title=\"All Diagnoses Patients Have Starting 7 Days Before Positive Test (\" + HighlightBy + \")\",\n",
    "        width=500,\n",
    "        height=300\n",
    "    )\n",
    "    \n",
    "    # Selected bars\n",
    "    hl = base.encode(\n",
    "        color=alt.Color(icd_version + \":N\", scale=icd_color_scale, title=\"ICD Version\")\n",
    "    ).transform_filter(\n",
    "        alt.FieldEqualPredicate(field=siteid, equal=HighlightBy)\n",
    "    )\n",
    "    \n",
    "    # Text label\n",
    "    text = base.mark_text(align='right', baseline='middle', dx=-4, fontWeight=\"bold\").encode(\n",
    "        text=f\"sum({num_patients}):Q\",\n",
    "        color=alt.value(\"white\")\n",
    "    )\n",
    "    \n",
    "    text_hl = hl.mark_text(align='left', baseline='middle', dx=4, fontWeight=\"bold\").encode(\n",
    "        text=f\"sum({num_patients}):Q\"\n",
    "    )\n",
    "    \n",
    "    chart = apply_theme((base + text + hl + text_hl))\n",
    "        \n",
    "    return chart.interactive()\n",
    "\n",
    "interact(diagnoses_chart_hl, HighlightBy=SITE_IDS, )"
   ]
  },
  {
   "cell_type": "code",
   "execution_count": 8,
   "metadata": {},
   "outputs": [
    {
     "data": {
      "text/html": [
       "\n",
       "<div id=\"altair-viz-13255086a07a4c359e625d9a84dd53a3\"></div>\n",
       "<script type=\"text/javascript\">\n",
       "  (function(spec, embedOpt){\n",
       "    const outputDiv = document.getElementById(\"altair-viz-13255086a07a4c359e625d9a84dd53a3\");\n",
       "    const paths = {\n",
       "      \"vega\": \"https://cdn.jsdelivr.net/npm//vega@5?noext\",\n",
       "      \"vega-lib\": \"https://cdn.jsdelivr.net/npm//vega-lib?noext\",\n",
       "      \"vega-lite\": \"https://cdn.jsdelivr.net/npm//vega-lite@4.0.2?noext\",\n",
       "      \"vega-embed\": \"https://cdn.jsdelivr.net/npm//vega-embed@6?noext\",\n",
       "    };\n",
       "\n",
       "    function loadScript(lib) {\n",
       "      return new Promise(function(resolve, reject) {\n",
       "        var s = document.createElement('script');\n",
       "        s.src = paths[lib];\n",
       "        s.async = true;\n",
       "        s.onload = () => resolve(paths[lib]);\n",
       "        s.onerror = () => reject(`Error loading script: ${paths[lib]}`);\n",
       "        document.getElementsByTagName(\"head\")[0].appendChild(s);\n",
       "      });\n",
       "    }\n",
       "\n",
       "    function showError(err) {\n",
       "      outputDiv.innerHTML = `<div class=\"error\" style=\"color:red;\">${err}</div>`;\n",
       "      throw err;\n",
       "    }\n",
       "\n",
       "    function displayChart(vegaEmbed) {\n",
       "      vegaEmbed(outputDiv, spec, embedOpt)\n",
       "        .catch(err => showError(`Javascript Error: ${err.message}<br>This usually means there's a typo in your chart specification. See the javascript console for the full traceback.`));\n",
       "    }\n",
       "\n",
       "    if(typeof define === \"function\" && define.amd) {\n",
       "      requirejs.config({paths});\n",
       "      require([\"vega-embed\"], displayChart, err => showError(`Error loading script: ${err.message}`));\n",
       "    } else if (typeof vegaEmbed === \"function\") {\n",
       "      displayChart(vegaEmbed);\n",
       "    } else {\n",
       "      loadScript(\"vega\")\n",
       "        .then(() => loadScript(\"vega-lite\"))\n",
       "        .then(() => loadScript(\"vega-embed\"))\n",
       "        .catch(showError)\n",
       "        .then(() => displayChart(vegaEmbed));\n",
       "    }\n",
       "  })({\"config\": {\"view\": {\"continuousWidth\": 400, \"continuousHeight\": 300}, \"axis\": {\"labelFontSize\": 14, \"labelFontWeight\": 300, \"titleFontSize\": 18, \"titleFontWeight\": 300}, \"title\": {\"anchor\": \"start\", \"fontSize\": 18, \"fontWeight\": 400}}, \"hconcat\": [{\"layer\": [{\"mark\": \"bar\", \"encoding\": {\"color\": {\"value\": \"lightgray\"}, \"x\": {\"type\": \"quantitative\", \"aggregate\": \"sum\", \"axis\": {\"tickCount\": 5}, \"field\": \"num_patients\", \"title\": \"Total Number of Patients\"}, \"y\": {\"type\": \"nominal\", \"field\": \"icd_code\", \"title\": \"ICD Code\"}}, \"height\": 300, \"title\": \"Diagnoses Patients Have Starting 7 Days Before Positive Test\", \"transform\": [{\"filter\": {\"field\": \"num_patients\", \"gte\": 0}}], \"width\": 350}, {\"mark\": {\"type\": \"text\", \"align\": \"right\", \"baseline\": \"middle\", \"dx\": -4, \"fontWeight\": \"bold\"}, \"encoding\": {\"color\": {\"value\": \"white\"}, \"text\": {\"type\": \"quantitative\", \"aggregate\": \"sum\", \"field\": \"num_patients\"}, \"x\": {\"type\": \"quantitative\", \"aggregate\": \"sum\", \"axis\": {\"tickCount\": 5}, \"field\": \"num_patients\", \"title\": \"Total Number of Patients\"}, \"y\": {\"type\": \"nominal\", \"field\": \"icd_code\", \"title\": \"ICD Code\"}}, \"height\": 300, \"title\": \"Diagnoses Patients Have Starting 7 Days Before Positive Test\", \"transform\": [{\"filter\": {\"field\": \"num_patients\", \"gte\": 0}}], \"width\": 350}, {\"mark\": \"bar\", \"encoding\": {\"color\": {\"type\": \"nominal\", \"field\": \"icd_version\", \"scale\": {\"domain\": [\"9\", \"10\"], \"range\": [\"#69A6CE\", \"#EB6F63\"]}, \"title\": \"ICD Version\"}, \"x\": {\"type\": \"quantitative\", \"aggregate\": \"sum\", \"axis\": {\"tickCount\": 5}, \"field\": \"num_patients\", \"title\": \"Total Number of Patients\"}, \"y\": {\"type\": \"nominal\", \"field\": \"icd_code\", \"title\": \"ICD Code\"}}, \"height\": 300, \"title\": \"Diagnoses Patients Have Starting 7 Days Before Positive Test\", \"transform\": [{\"filter\": {\"field\": \"num_patients\", \"gte\": 0}}, {\"filter\": {\"selection\": \"selector006\"}}], \"width\": 350}, {\"mark\": {\"type\": \"text\", \"align\": \"left\", \"baseline\": \"middle\", \"dx\": 4, \"fontWeight\": \"bold\"}, \"encoding\": {\"color\": {\"type\": \"nominal\", \"field\": \"icd_version\", \"scale\": {\"domain\": [\"9\", \"10\"], \"range\": [\"#69A6CE\", \"#EB6F63\"]}, \"title\": \"ICD Version\"}, \"text\": {\"type\": \"quantitative\", \"aggregate\": \"sum\", \"field\": \"num_patients\"}, \"x\": {\"type\": \"quantitative\", \"aggregate\": \"sum\", \"axis\": {\"tickCount\": 5}, \"field\": \"num_patients\", \"title\": \"Total Number of Patients\"}, \"y\": {\"type\": \"nominal\", \"field\": \"icd_code\", \"title\": \"ICD Code\"}}, \"height\": 300, \"title\": \"Diagnoses Patients Have Starting 7 Days Before Positive Test\", \"transform\": [{\"filter\": {\"field\": \"num_patients\", \"gte\": 0}}, {\"filter\": {\"selection\": \"selector006\"}}], \"width\": 350}]}, {\"mark\": \"bar\", \"encoding\": {\"color\": {\"condition\": {\"value\": \"rgb(244, 208, 75)\", \"selection\": {\"not\": \"selector006\"}}, \"value\": \"#E48236\"}, \"x\": {\"type\": \"nominal\", \"field\": \"siteid\", \"sort\": \"-y\", \"title\": \"Site\"}, \"y\": {\"type\": \"quantitative\", \"aggregate\": \"sum\", \"axis\": {\"tickCount\": 5}, \"field\": \"num_patients\", \"title\": \"Total Number of Patients\"}}, \"height\": 300, \"selection\": {\"selector006\": {\"type\": \"single\", \"on\": \"mouseover\", \"fields\": [\"siteid\"], \"nearest\": false}}, \"title\": \"Diagnoses By Site\", \"transform\": [{\"filter\": {\"field\": \"num_patients\", \"gte\": 0}}], \"width\": 350}], \"data\": {\"name\": \"data-8b8b507f20b573d8442ec6cd7121ff93\"}, \"resolve\": {\"scale\": {\"color\": \"independent\"}}, \"$schema\": \"https://vega.github.io/schema/vega-lite/v4.0.2.json\", \"datasets\": {\"data-8b8b507f20b573d8442ec6cd7121ff93\": [{\"siteid\": \"FKN\", \"icd_code\": \"082\", \"icd_version\": 9, \"num_patients\": -1, \"ICDcode\": \"082\", \"ICDdescription\": \"Tick-borne rickettsioses\", \"PheCode\": 136.0, \"Phenotype\": \"Other infectious and parasitic diseases\", \"ICDversion\": 9.0}, {\"siteid\": \"FKN\", \"icd_code\": \"009\", \"icd_version\": 9, \"num_patients\": 5, \"ICDcode\": \"009\", \"ICDdescription\": \"Ill-defined intestinal infections\", \"PheCode\": 8.0, \"Phenotype\": \"Intestinal infection\", \"ICDversion\": 9.0}, {\"siteid\": \"FKN\", \"icd_code\": \"087\", \"icd_version\": 9, \"num_patients\": -1, \"ICDcode\": \"087\", \"ICDdescription\": \"Relapsing fever\", \"PheCode\": 130.0, \"Phenotype\": \"Spirochetal infection\", \"ICDversion\": 9.0}, {\"siteid\": \"FKN\", \"icd_code\": \"059\", \"icd_version\": 9, \"num_patients\": -1, \"ICDcode\": \"059\", \"ICDdescription\": \"Other poxvirus infections\", \"PheCode\": 79.0, \"Phenotype\": \"Viral infection\", \"ICDversion\": 9.0}, {\"siteid\": \"FKN\", \"icd_code\": \"J22\", \"icd_version\": 10, \"num_patients\": -1, \"ICDcode\": \"J22\", \"ICDdescription\": \"Unspecified acute lower respiratory infection\", \"PheCode\": 519.8, \"Phenotype\": \"Other diseases of respiratory system, NEC\", \"ICDversion\": 10.0}, {\"siteid\": \"FKN\", \"icd_code\": \"J98.8\", \"icd_version\": 10, \"num_patients\": -1, \"ICDcode\": \"J98.8\", \"ICDdescription\": \"Other specified respiratory disorders\", \"PheCode\": 519.8, \"Phenotype\": \"Other diseases of respiratory system, NEC\", \"ICDversion\": 10.0}, {\"siteid\": \"FKN\", \"icd_code\": \"J80\", \"icd_version\": 10, \"num_patients\": 2, \"ICDcode\": \"J80\", \"ICDdescription\": \"Adult respiratory distress syndrome\", \"PheCode\": 509.2, \"Phenotype\": \"Respiratory insufficiency\", \"ICDversion\": 10.0}, {\"siteid\": \"FKN\", \"icd_code\": \"Z20.828\", \"icd_version\": 10, \"num_patients\": -1, \"ICDcode\": null, \"ICDdescription\": null, \"PheCode\": null, \"Phenotype\": null, \"ICDversion\": null}, {\"siteid\": \"FEQ\", \"icd_code\": \"093\", \"icd_version\": 9, \"num_patients\": -1, \"ICDcode\": \"093\", \"ICDdescription\": \"Cardiovascular syphilis\", \"PheCode\": 90.0, \"Phenotype\": \"Sexually transmitted infections (not HIV or hepatitis)\", \"ICDversion\": 9.0}, {\"siteid\": \"FEQ\", \"icd_code\": \"009\", \"icd_version\": 9, \"num_patients\": 9, \"ICDcode\": \"009\", \"ICDdescription\": \"Ill-defined intestinal infections\", \"PheCode\": 8.0, \"Phenotype\": \"Intestinal infection\", \"ICDversion\": 9.0}, {\"siteid\": \"FEQ\", \"icd_code\": \"103\", \"icd_version\": 9, \"num_patients\": -1, \"ICDcode\": \"103\", \"ICDdescription\": \"Pinta\", \"PheCode\": 130.0, \"Phenotype\": \"Spirochetal infection\", \"ICDversion\": 9.0}, {\"siteid\": \"FEQ\", \"icd_code\": \"022\", \"icd_version\": 9, \"num_patients\": 6, \"ICDcode\": \"022\", \"ICDdescription\": \"Anthrax\", \"PheCode\": 41.0, \"Phenotype\": \"Bacterial infection NOS\", \"ICDversion\": 9.0}, {\"siteid\": \"FEQ\", \"icd_code\": \"087\", \"icd_version\": 9, \"num_patients\": 2, \"ICDcode\": \"087\", \"ICDdescription\": \"Relapsing fever\", \"PheCode\": 130.0, \"Phenotype\": \"Spirochetal infection\", \"ICDversion\": 9.0}, {\"siteid\": \"FEQ\", \"icd_code\": \"059\", \"icd_version\": 9, \"num_patients\": 2, \"ICDcode\": \"059\", \"ICDdescription\": \"Other poxvirus infections\", \"PheCode\": 79.0, \"Phenotype\": \"Viral infection\", \"ICDversion\": 9.0}, {\"siteid\": \"FEQ\", \"icd_code\": \"J12.89\", \"icd_version\": 10, \"num_patients\": -1, \"ICDcode\": null, \"ICDdescription\": null, \"PheCode\": null, \"Phenotype\": null, \"ICDversion\": null}, {\"siteid\": \"FEQ\", \"icd_code\": \"J20.8\", \"icd_version\": 10, \"num_patients\": -1, \"ICDcode\": \"J20.8\", \"ICDdescription\": \"Acute bronchitis due to other specified organisms\", \"PheCode\": 483.0, \"Phenotype\": \"Acute bronchitis and bronchiolitis\", \"ICDversion\": 10.0}, {\"siteid\": \"FEQ\", \"icd_code\": \"J40\", \"icd_version\": 10, \"num_patients\": -1, \"ICDcode\": \"J40\", \"ICDdescription\": \"Bronchitis, not specified as acute or chronic\", \"PheCode\": 497.0, \"Phenotype\": \"Bronchitis\", \"ICDversion\": 10.0}, {\"siteid\": \"FEQ\", \"icd_code\": \"J98.8\", \"icd_version\": 10, \"num_patients\": 7, \"ICDcode\": \"J98.8\", \"ICDdescription\": \"Other specified respiratory disorders\", \"PheCode\": 519.8, \"Phenotype\": \"Other diseases of respiratory system, NEC\", \"ICDversion\": 10.0}, {\"siteid\": \"FEQ\", \"icd_code\": \"Z03.818\", \"icd_version\": 10, \"num_patients\": -1, \"ICDcode\": null, \"ICDdescription\": null, \"PheCode\": null, \"Phenotype\": null, \"ICDversion\": null}, {\"siteid\": \"FEQ\", \"icd_code\": \"Z20.828\", \"icd_version\": 10, \"num_patients\": 3, \"ICDcode\": null, \"ICDdescription\": null, \"PheCode\": null, \"Phenotype\": null, \"ICDversion\": null}, {\"siteid\": \"FKL\", \"icd_code\": \"126\", \"icd_version\": 9, \"num_patients\": 2, \"ICDcode\": \"126\", \"ICDdescription\": \"Ancylostomiasis and necatoriasis\", \"PheCode\": 134.0, \"Phenotype\": \"Helminthiases\", \"ICDversion\": 9.0}, {\"siteid\": \"FKL\", \"icd_code\": \"082\", \"icd_version\": 9, \"num_patients\": 5, \"ICDcode\": \"082\", \"ICDdescription\": \"Tick-borne rickettsioses\", \"PheCode\": 136.0, \"Phenotype\": \"Other infectious and parasitic diseases\", \"ICDversion\": 9.0}, {\"siteid\": \"FKL\", \"icd_code\": \"009\", \"icd_version\": 9, \"num_patients\": -1, \"ICDcode\": \"009\", \"ICDdescription\": \"Ill-defined intestinal infections\", \"PheCode\": 8.0, \"Phenotype\": \"Intestinal infection\", \"ICDversion\": 9.0}, {\"siteid\": \"FKL\", \"icd_code\": \"022\", \"icd_version\": 9, \"num_patients\": 10, \"ICDcode\": \"022\", \"ICDdescription\": \"Anthrax\", \"PheCode\": 41.0, \"Phenotype\": \"Bacterial infection NOS\", \"ICDversion\": 9.0}, {\"siteid\": \"FKL\", \"icd_code\": \"B97.29\", \"icd_version\": 10, \"num_patients\": -1, \"ICDcode\": null, \"ICDdescription\": null, \"PheCode\": null, \"Phenotype\": null, \"ICDversion\": null}, {\"siteid\": \"FKL\", \"icd_code\": \"J20.8\", \"icd_version\": 10, \"num_patients\": 10, \"ICDcode\": \"J20.8\", \"ICDdescription\": \"Acute bronchitis due to other specified organisms\", \"PheCode\": 483.0, \"Phenotype\": \"Acute bronchitis and bronchiolitis\", \"ICDversion\": 10.0}, {\"siteid\": \"FKL\", \"icd_code\": \"J40\", \"icd_version\": 10, \"num_patients\": 6, \"ICDcode\": \"J40\", \"ICDdescription\": \"Bronchitis, not specified as acute or chronic\", \"PheCode\": 497.0, \"Phenotype\": \"Bronchitis\", \"ICDversion\": 10.0}, {\"siteid\": \"FKL\", \"icd_code\": \"J22\", \"icd_version\": 10, \"num_patients\": 6, \"ICDcode\": \"J22\", \"ICDdescription\": \"Unspecified acute lower respiratory infection\", \"PheCode\": 519.8, \"Phenotype\": \"Other diseases of respiratory system, NEC\", \"ICDversion\": 10.0}, {\"siteid\": \"FKL\", \"icd_code\": \"J80\", \"icd_version\": 10, \"num_patients\": 5, \"ICDcode\": \"J80\", \"ICDdescription\": \"Adult respiratory distress syndrome\", \"PheCode\": 509.2, \"Phenotype\": \"Respiratory insufficiency\", \"ICDversion\": 10.0}, {\"siteid\": \"FKL\", \"icd_code\": \"Z03.818\", \"icd_version\": 10, \"num_patients\": -1, \"ICDcode\": null, \"ICDdescription\": null, \"PheCode\": null, \"Phenotype\": null, \"ICDversion\": null}, {\"siteid\": \"FDQ\", \"icd_code\": \"126\", \"icd_version\": 9, \"num_patients\": -1, \"ICDcode\": \"126\", \"ICDdescription\": \"Ancylostomiasis and necatoriasis\", \"PheCode\": 134.0, \"Phenotype\": \"Helminthiases\", \"ICDversion\": 9.0}, {\"siteid\": \"FDQ\", \"icd_code\": \"093\", \"icd_version\": 9, \"num_patients\": 1, \"ICDcode\": \"093\", \"ICDdescription\": \"Cardiovascular syphilis\", \"PheCode\": 90.0, \"Phenotype\": \"Sexually transmitted infections (not HIV or hepatitis)\", \"ICDversion\": 9.0}, {\"siteid\": \"FDQ\", \"icd_code\": \"103\", \"icd_version\": 9, \"num_patients\": 10, \"ICDcode\": \"103\", \"ICDdescription\": \"Pinta\", \"PheCode\": 130.0, \"Phenotype\": \"Spirochetal infection\", \"ICDversion\": 9.0}, {\"siteid\": \"FDQ\", \"icd_code\": \"022\", \"icd_version\": 9, \"num_patients\": 69, \"ICDcode\": \"022\", \"ICDdescription\": \"Anthrax\", \"PheCode\": 41.0, \"Phenotype\": \"Bacterial infection NOS\", \"ICDversion\": 9.0}, {\"siteid\": \"FDQ\", \"icd_code\": \"J12.89\", \"icd_version\": 10, \"num_patients\": 81, \"ICDcode\": null, \"ICDdescription\": null, \"PheCode\": null, \"Phenotype\": null, \"ICDversion\": null}, {\"siteid\": \"FDQ\", \"icd_code\": \"B97.29\", \"icd_version\": 10, \"num_patients\": -1, \"ICDcode\": null, \"ICDdescription\": null, \"PheCode\": null, \"Phenotype\": null, \"ICDversion\": null}, {\"siteid\": \"FDQ\", \"icd_code\": \"J20.8\", \"icd_version\": 10, \"num_patients\": -1, \"ICDcode\": \"J20.8\", \"ICDdescription\": \"Acute bronchitis due to other specified organisms\", \"PheCode\": 483.0, \"Phenotype\": \"Acute bronchitis and bronchiolitis\", \"ICDversion\": 10.0}, {\"siteid\": \"FDQ\", \"icd_code\": \"J40\", \"icd_version\": 10, \"num_patients\": 39, \"ICDcode\": \"J40\", \"ICDdescription\": \"Bronchitis, not specified as acute or chronic\", \"PheCode\": 497.0, \"Phenotype\": \"Bronchitis\", \"ICDversion\": 10.0}, {\"siteid\": \"FDQ\", \"icd_code\": \"J22\", \"icd_version\": 10, \"num_patients\": 44, \"ICDcode\": \"J22\", \"ICDdescription\": \"Unspecified acute lower respiratory infection\", \"PheCode\": 519.8, \"Phenotype\": \"Other diseases of respiratory system, NEC\", \"ICDversion\": 10.0}, {\"siteid\": \"FDQ\", \"icd_code\": \"J98.8\", \"icd_version\": 10, \"num_patients\": 37, \"ICDcode\": \"J98.8\", \"ICDdescription\": \"Other specified respiratory disorders\", \"PheCode\": 519.8, \"Phenotype\": \"Other diseases of respiratory system, NEC\", \"ICDversion\": 10.0}, {\"siteid\": \"FDQ\", \"icd_code\": \"J80\", \"icd_version\": 10, \"num_patients\": 52, \"ICDcode\": \"J80\", \"ICDdescription\": \"Adult respiratory distress syndrome\", \"PheCode\": 509.2, \"Phenotype\": \"Respiratory insufficiency\", \"ICDversion\": 10.0}, {\"siteid\": \"FDQ\", \"icd_code\": \"Z03.818\", \"icd_version\": 10, \"num_patients\": -1, \"ICDcode\": null, \"ICDdescription\": null, \"PheCode\": null, \"Phenotype\": null, \"ICDversion\": null}, {\"siteid\": \"FDQ\", \"icd_code\": \"Z20.828\", \"icd_version\": 10, \"num_patients\": -1, \"ICDcode\": null, \"ICDdescription\": null, \"PheCode\": null, \"Phenotype\": null, \"ICDversion\": null}, {\"siteid\": \"FSZ\", \"icd_code\": \"009\", \"icd_version\": 9, \"num_patients\": -1, \"ICDcode\": \"009\", \"ICDdescription\": \"Ill-defined intestinal infections\", \"PheCode\": 8.0, \"Phenotype\": \"Intestinal infection\", \"ICDversion\": 9.0}, {\"siteid\": \"FSZ\", \"icd_code\": \"103\", \"icd_version\": 9, \"num_patients\": -1, \"ICDcode\": \"103\", \"ICDdescription\": \"Pinta\", \"PheCode\": 130.0, \"Phenotype\": \"Spirochetal infection\", \"ICDversion\": 9.0}, {\"siteid\": \"FSZ\", \"icd_code\": \"022\", \"icd_version\": 9, \"num_patients\": 61, \"ICDcode\": \"022\", \"ICDdescription\": \"Anthrax\", \"PheCode\": 41.0, \"Phenotype\": \"Bacterial infection NOS\", \"ICDversion\": 9.0}, {\"siteid\": \"FSZ\", \"icd_code\": \"087\", \"icd_version\": 9, \"num_patients\": 39, \"ICDcode\": \"087\", \"ICDdescription\": \"Relapsing fever\", \"PheCode\": 130.0, \"Phenotype\": \"Spirochetal infection\", \"ICDversion\": 9.0}, {\"siteid\": \"FSZ\", \"icd_code\": \"059\", \"icd_version\": 9, \"num_patients\": 84, \"ICDcode\": \"059\", \"ICDdescription\": \"Other poxvirus infections\", \"PheCode\": 79.0, \"Phenotype\": \"Viral infection\", \"ICDversion\": 9.0}, {\"siteid\": \"FSZ\", \"icd_code\": \"B97.29\", \"icd_version\": 10, \"num_patients\": -1, \"ICDcode\": null, \"ICDdescription\": null, \"PheCode\": null, \"Phenotype\": null, \"ICDversion\": null}, {\"siteid\": \"FSZ\", \"icd_code\": \"J20.8\", \"icd_version\": 10, \"num_patients\": 35, \"ICDcode\": \"J20.8\", \"ICDdescription\": \"Acute bronchitis due to other specified organisms\", \"PheCode\": 483.0, \"Phenotype\": \"Acute bronchitis and bronchiolitis\", \"ICDversion\": 10.0}, {\"siteid\": \"FSZ\", \"icd_code\": \"J22\", \"icd_version\": 10, \"num_patients\": 59, \"ICDcode\": \"J22\", \"ICDdescription\": \"Unspecified acute lower respiratory infection\", \"PheCode\": 519.8, \"Phenotype\": \"Other diseases of respiratory system, NEC\", \"ICDversion\": 10.0}, {\"siteid\": \"FSZ\", \"icd_code\": \"J98.8\", \"icd_version\": 10, \"num_patients\": 80, \"ICDcode\": \"J98.8\", \"ICDdescription\": \"Other specified respiratory disorders\", \"PheCode\": 519.8, \"Phenotype\": \"Other diseases of respiratory system, NEC\", \"ICDversion\": 10.0}, {\"siteid\": \"FSZ\", \"icd_code\": \"J80\", \"icd_version\": 10, \"num_patients\": 70, \"ICDcode\": \"J80\", \"ICDdescription\": \"Adult respiratory distress syndrome\", \"PheCode\": 509.2, \"Phenotype\": \"Respiratory insufficiency\", \"ICDversion\": 10.0}, {\"siteid\": \"FSZ\", \"icd_code\": \"Z03.818\", \"icd_version\": 10, \"num_patients\": 12, \"ICDcode\": null, \"ICDdescription\": null, \"PheCode\": null, \"Phenotype\": null, \"ICDversion\": null}, {\"siteid\": \"FSZ\", \"icd_code\": \"Z20.828\", \"icd_version\": 10, \"num_patients\": -1, \"ICDcode\": null, \"ICDdescription\": null, \"PheCode\": null, \"Phenotype\": null, \"ICDversion\": null}, {\"siteid\": \"FXL\", \"icd_code\": \"021\", \"icd_version\": 9, \"num_patients\": 44, \"ICDcode\": \"021\", \"ICDdescription\": \"Tularemia\", \"PheCode\": 41.0, \"Phenotype\": \"Bacterial infection NOS\", \"ICDversion\": 9.0}, {\"siteid\": \"FXL\", \"icd_code\": \"126\", \"icd_version\": 9, \"num_patients\": 40, \"ICDcode\": \"126\", \"ICDdescription\": \"Ancylostomiasis and necatoriasis\", \"PheCode\": 134.0, \"Phenotype\": \"Helminthiases\", \"ICDversion\": 9.0}, {\"siteid\": \"FXL\", \"icd_code\": \"082\", \"icd_version\": 9, \"num_patients\": 2, \"ICDcode\": \"082\", \"ICDdescription\": \"Tick-borne rickettsioses\", \"PheCode\": 136.0, \"Phenotype\": \"Other infectious and parasitic diseases\", \"ICDversion\": 9.0}, {\"siteid\": \"FXL\", \"icd_code\": \"093\", \"icd_version\": 9, \"num_patients\": 11, \"ICDcode\": \"093\", \"ICDdescription\": \"Cardiovascular syphilis\", \"PheCode\": 90.0, \"Phenotype\": \"Sexually transmitted infections (not HIV or hepatitis)\", \"ICDversion\": 9.0}, {\"siteid\": \"FXL\", \"icd_code\": \"009\", \"icd_version\": 9, \"num_patients\": -1, \"ICDcode\": \"009\", \"ICDdescription\": \"Ill-defined intestinal infections\", \"PheCode\": 8.0, \"Phenotype\": \"Intestinal infection\", \"ICDversion\": 9.0}, {\"siteid\": \"FXL\", \"icd_code\": \"103\", \"icd_version\": 9, \"num_patients\": -1, \"ICDcode\": \"103\", \"ICDdescription\": \"Pinta\", \"PheCode\": 130.0, \"Phenotype\": \"Spirochetal infection\", \"ICDversion\": 9.0}, {\"siteid\": \"FXL\", \"icd_code\": \"059\", \"icd_version\": 9, \"num_patients\": -1, \"ICDcode\": \"059\", \"ICDdescription\": \"Other poxvirus infections\", \"PheCode\": 79.0, \"Phenotype\": \"Viral infection\", \"ICDversion\": 9.0}, {\"siteid\": \"FXL\", \"icd_code\": \"B97.29\", \"icd_version\": 10, \"num_patients\": 4, \"ICDcode\": null, \"ICDdescription\": null, \"PheCode\": null, \"Phenotype\": null, \"ICDversion\": null}, {\"siteid\": \"FXL\", \"icd_code\": \"J20.8\", \"icd_version\": 10, \"num_patients\": 3, \"ICDcode\": \"J20.8\", \"ICDdescription\": \"Acute bronchitis due to other specified organisms\", \"PheCode\": 483.0, \"Phenotype\": \"Acute bronchitis and bronchiolitis\", \"ICDversion\": 10.0}, {\"siteid\": \"FXL\", \"icd_code\": \"J40\", \"icd_version\": 10, \"num_patients\": -1, \"ICDcode\": \"J40\", \"ICDdescription\": \"Bronchitis, not specified as acute or chronic\", \"PheCode\": 497.0, \"Phenotype\": \"Bronchitis\", \"ICDversion\": 10.0}, {\"siteid\": \"FXL\", \"icd_code\": \"J22\", \"icd_version\": 10, \"num_patients\": -1, \"ICDcode\": \"J22\", \"ICDdescription\": \"Unspecified acute lower respiratory infection\", \"PheCode\": 519.8, \"Phenotype\": \"Other diseases of respiratory system, NEC\", \"ICDversion\": 10.0}, {\"siteid\": \"FXL\", \"icd_code\": \"J80\", \"icd_version\": 10, \"num_patients\": 6, \"ICDcode\": \"J80\", \"ICDdescription\": \"Adult respiratory distress syndrome\", \"PheCode\": 509.2, \"Phenotype\": \"Respiratory insufficiency\", \"ICDversion\": 10.0}, {\"siteid\": \"FBD\", \"icd_code\": \"021\", \"icd_version\": 9, \"num_patients\": 5, \"ICDcode\": \"021\", \"ICDdescription\": \"Tularemia\", \"PheCode\": 41.0, \"Phenotype\": \"Bacterial infection NOS\", \"ICDversion\": 9.0}, {\"siteid\": \"FBD\", \"icd_code\": \"093\", \"icd_version\": 9, \"num_patients\": 9, \"ICDcode\": \"093\", \"ICDdescription\": \"Cardiovascular syphilis\", \"PheCode\": 90.0, \"Phenotype\": \"Sexually transmitted infections (not HIV or hepatitis)\", \"ICDversion\": 9.0}, {\"siteid\": \"FBD\", \"icd_code\": \"J98.8\", \"icd_version\": 10, \"num_patients\": -1, \"ICDcode\": \"J98.8\", \"ICDdescription\": \"Other specified respiratory disorders\", \"PheCode\": 519.8, \"Phenotype\": \"Other diseases of respiratory system, NEC\", \"ICDversion\": 10.0}, {\"siteid\": \"FBD\", \"icd_code\": \"Z20.828\", \"icd_version\": 10, \"num_patients\": -1, \"ICDcode\": null, \"ICDdescription\": null, \"PheCode\": null, \"Phenotype\": null, \"ICDversion\": null}, {\"siteid\": \"FZU\", \"icd_code\": \"126\", \"icd_version\": 9, \"num_patients\": 8, \"ICDcode\": \"126\", \"ICDdescription\": \"Ancylostomiasis and necatoriasis\", \"PheCode\": 134.0, \"Phenotype\": \"Helminthiases\", \"ICDversion\": 9.0}, {\"siteid\": \"FZU\", \"icd_code\": \"093\", \"icd_version\": 9, \"num_patients\": 7, \"ICDcode\": \"093\", \"ICDdescription\": \"Cardiovascular syphilis\", \"PheCode\": 90.0, \"Phenotype\": \"Sexually transmitted infections (not HIV or hepatitis)\", \"ICDversion\": 9.0}, {\"siteid\": \"FZU\", \"icd_code\": \"009\", \"icd_version\": 9, \"num_patients\": -1, \"ICDcode\": \"009\", \"ICDdescription\": \"Ill-defined intestinal infections\", \"PheCode\": 8.0, \"Phenotype\": \"Intestinal infection\", \"ICDversion\": 9.0}, {\"siteid\": \"FZU\", \"icd_code\": \"103\", \"icd_version\": 9, \"num_patients\": -1, \"ICDcode\": \"103\", \"ICDdescription\": \"Pinta\", \"PheCode\": 130.0, \"Phenotype\": \"Spirochetal infection\", \"ICDversion\": 9.0}, {\"siteid\": \"FZU\", \"icd_code\": \"J12.89\", \"icd_version\": 10, \"num_patients\": 6, \"ICDcode\": null, \"ICDdescription\": null, \"PheCode\": null, \"Phenotype\": null, \"ICDversion\": null}, {\"siteid\": \"FZU\", \"icd_code\": \"B97.29\", \"icd_version\": 10, \"num_patients\": -1, \"ICDcode\": null, \"ICDdescription\": null, \"PheCode\": null, \"Phenotype\": null, \"ICDversion\": null}, {\"siteid\": \"FZU\", \"icd_code\": \"J20.8\", \"icd_version\": 10, \"num_patients\": -1, \"ICDcode\": \"J20.8\", \"ICDdescription\": \"Acute bronchitis due to other specified organisms\", \"PheCode\": 483.0, \"Phenotype\": \"Acute bronchitis and bronchiolitis\", \"ICDversion\": 10.0}, {\"siteid\": \"FZU\", \"icd_code\": \"J40\", \"icd_version\": 10, \"num_patients\": 10, \"ICDcode\": \"J40\", \"ICDdescription\": \"Bronchitis, not specified as acute or chronic\", \"PheCode\": 497.0, \"Phenotype\": \"Bronchitis\", \"ICDversion\": 10.0}, {\"siteid\": \"FZU\", \"icd_code\": \"J80\", \"icd_version\": 10, \"num_patients\": 7, \"ICDcode\": \"J80\", \"ICDdescription\": \"Adult respiratory distress syndrome\", \"PheCode\": 509.2, \"Phenotype\": \"Respiratory insufficiency\", \"ICDversion\": 10.0}, {\"siteid\": \"FZU\", \"icd_code\": \"Z20.828\", \"icd_version\": 10, \"num_patients\": -1, \"ICDcode\": null, \"ICDdescription\": null, \"PheCode\": null, \"Phenotype\": null, \"ICDversion\": null}, {\"siteid\": \"FZT\", \"icd_code\": \"082\", \"icd_version\": 9, \"num_patients\": 2, \"ICDcode\": \"082\", \"ICDdescription\": \"Tick-borne rickettsioses\", \"PheCode\": 136.0, \"Phenotype\": \"Other infectious and parasitic diseases\", \"ICDversion\": 9.0}, {\"siteid\": \"FZT\", \"icd_code\": \"009\", \"icd_version\": 9, \"num_patients\": 72, \"ICDcode\": \"009\", \"ICDdescription\": \"Ill-defined intestinal infections\", \"PheCode\": 8.0, \"Phenotype\": \"Intestinal infection\", \"ICDversion\": 9.0}, {\"siteid\": \"FZT\", \"icd_code\": \"103\", \"icd_version\": 9, \"num_patients\": 15, \"ICDcode\": \"103\", \"ICDdescription\": \"Pinta\", \"PheCode\": 130.0, \"Phenotype\": \"Spirochetal infection\", \"ICDversion\": 9.0}, {\"siteid\": \"FZT\", \"icd_code\": \"022\", \"icd_version\": 9, \"num_patients\": 24, \"ICDcode\": \"022\", \"ICDdescription\": \"Anthrax\", \"PheCode\": 41.0, \"Phenotype\": \"Bacterial infection NOS\", \"ICDversion\": 9.0}, {\"siteid\": \"FZT\", \"icd_code\": \"059\", \"icd_version\": 9, \"num_patients\": 88, \"ICDcode\": \"059\", \"ICDdescription\": \"Other poxvirus infections\", \"PheCode\": 79.0, \"Phenotype\": \"Viral infection\", \"ICDversion\": 9.0}, {\"siteid\": \"FZT\", \"icd_code\": \"J12.89\", \"icd_version\": 10, \"num_patients\": 88, \"ICDcode\": null, \"ICDdescription\": null, \"PheCode\": null, \"Phenotype\": null, \"ICDversion\": null}, {\"siteid\": \"FZT\", \"icd_code\": \"B97.29\", \"icd_version\": 10, \"num_patients\": 69, \"ICDcode\": null, \"ICDdescription\": null, \"PheCode\": null, \"Phenotype\": null, \"ICDversion\": null}, {\"siteid\": \"FZT\", \"icd_code\": \"J20.8\", \"icd_version\": 10, \"num_patients\": -1, \"ICDcode\": \"J20.8\", \"ICDdescription\": \"Acute bronchitis due to other specified organisms\", \"PheCode\": 483.0, \"Phenotype\": \"Acute bronchitis and bronchiolitis\", \"ICDversion\": 10.0}, {\"siteid\": \"FZT\", \"icd_code\": \"J98.8\", \"icd_version\": 10, \"num_patients\": 94, \"ICDcode\": \"J98.8\", \"ICDdescription\": \"Other specified respiratory disorders\", \"PheCode\": 519.8, \"Phenotype\": \"Other diseases of respiratory system, NEC\", \"ICDversion\": 10.0}, {\"siteid\": \"FZT\", \"icd_code\": \"J80\", \"icd_version\": 10, \"num_patients\": 53, \"ICDcode\": \"J80\", \"ICDdescription\": \"Adult respiratory distress syndrome\", \"PheCode\": 509.2, \"Phenotype\": \"Respiratory insufficiency\", \"ICDversion\": 10.0}, {\"siteid\": \"FOW\", \"icd_code\": \"021\", \"icd_version\": 9, \"num_patients\": 42, \"ICDcode\": \"021\", \"ICDdescription\": \"Tularemia\", \"PheCode\": 41.0, \"Phenotype\": \"Bacterial infection NOS\", \"ICDversion\": 9.0}, {\"siteid\": \"FOW\", \"icd_code\": \"082\", \"icd_version\": 9, \"num_patients\": 17, \"ICDcode\": \"082\", \"ICDdescription\": \"Tick-borne rickettsioses\", \"PheCode\": 136.0, \"Phenotype\": \"Other infectious and parasitic diseases\", \"ICDversion\": 9.0}, {\"siteid\": \"FOW\", \"icd_code\": \"103\", \"icd_version\": 9, \"num_patients\": 2, \"ICDcode\": \"103\", \"ICDdescription\": \"Pinta\", \"PheCode\": 130.0, \"Phenotype\": \"Spirochetal infection\", \"ICDversion\": 9.0}, {\"siteid\": \"FOW\", \"icd_code\": \"022\", \"icd_version\": 9, \"num_patients\": -1, \"ICDcode\": \"022\", \"ICDdescription\": \"Anthrax\", \"PheCode\": 41.0, \"Phenotype\": \"Bacterial infection NOS\", \"ICDversion\": 9.0}, {\"siteid\": \"FOW\", \"icd_code\": \"059\", \"icd_version\": 9, \"num_patients\": 45, \"ICDcode\": \"059\", \"ICDdescription\": \"Other poxvirus infections\", \"PheCode\": 79.0, \"Phenotype\": \"Viral infection\", \"ICDversion\": 9.0}, {\"siteid\": \"FOW\", \"icd_code\": \"J12.89\", \"icd_version\": 10, \"num_patients\": -1, \"ICDcode\": null, \"ICDdescription\": null, \"PheCode\": null, \"Phenotype\": null, \"ICDversion\": null}, {\"siteid\": \"FOW\", \"icd_code\": \"B97.29\", \"icd_version\": 10, \"num_patients\": -1, \"ICDcode\": null, \"ICDdescription\": null, \"PheCode\": null, \"Phenotype\": null, \"ICDversion\": null}, {\"siteid\": \"FOW\", \"icd_code\": \"J20.8\", \"icd_version\": 10, \"num_patients\": -1, \"ICDcode\": \"J20.8\", \"ICDdescription\": \"Acute bronchitis due to other specified organisms\", \"PheCode\": 483.0, \"Phenotype\": \"Acute bronchitis and bronchiolitis\", \"ICDversion\": 10.0}, {\"siteid\": \"FOW\", \"icd_code\": \"J40\", \"icd_version\": 10, \"num_patients\": -1, \"ICDcode\": \"J40\", \"ICDdescription\": \"Bronchitis, not specified as acute or chronic\", \"PheCode\": 497.0, \"Phenotype\": \"Bronchitis\", \"ICDversion\": 10.0}, {\"siteid\": \"FOW\", \"icd_code\": \"J98.8\", \"icd_version\": 10, \"num_patients\": -1, \"ICDcode\": \"J98.8\", \"ICDdescription\": \"Other specified respiratory disorders\", \"PheCode\": 519.8, \"Phenotype\": \"Other diseases of respiratory system, NEC\", \"ICDversion\": 10.0}, {\"siteid\": \"FOW\", \"icd_code\": \"Z03.818\", \"icd_version\": 10, \"num_patients\": -1, \"ICDcode\": null, \"ICDdescription\": null, \"PheCode\": null, \"Phenotype\": null, \"ICDversion\": null}, {\"siteid\": \"FOW\", \"icd_code\": \"Z20.828\", \"icd_version\": 10, \"num_patients\": -1, \"ICDcode\": null, \"ICDdescription\": null, \"PheCode\": null, \"Phenotype\": null, \"ICDversion\": null}, {\"siteid\": \"FUN\", \"icd_code\": \"093\", \"icd_version\": 9, \"num_patients\": -1, \"ICDcode\": \"093\", \"ICDdescription\": \"Cardiovascular syphilis\", \"PheCode\": 90.0, \"Phenotype\": \"Sexually transmitted infections (not HIV or hepatitis)\", \"ICDversion\": 9.0}, {\"siteid\": \"FUN\", \"icd_code\": \"103\", \"icd_version\": 9, \"num_patients\": -1, \"ICDcode\": \"103\", \"ICDdescription\": \"Pinta\", \"PheCode\": 130.0, \"Phenotype\": \"Spirochetal infection\", \"ICDversion\": 9.0}, {\"siteid\": \"FUN\", \"icd_code\": \"059\", \"icd_version\": 9, \"num_patients\": -1, \"ICDcode\": \"059\", \"ICDdescription\": \"Other poxvirus infections\", \"PheCode\": 79.0, \"Phenotype\": \"Viral infection\", \"ICDversion\": 9.0}, {\"siteid\": \"FUN\", \"icd_code\": \"J20.8\", \"icd_version\": 10, \"num_patients\": 38, \"ICDcode\": \"J20.8\", \"ICDdescription\": \"Acute bronchitis due to other specified organisms\", \"PheCode\": 483.0, \"Phenotype\": \"Acute bronchitis and bronchiolitis\", \"ICDversion\": 10.0}, {\"siteid\": \"FUN\", \"icd_code\": \"J98.8\", \"icd_version\": 10, \"num_patients\": -1, \"ICDcode\": \"J98.8\", \"ICDdescription\": \"Other specified respiratory disorders\", \"PheCode\": 519.8, \"Phenotype\": \"Other diseases of respiratory system, NEC\", \"ICDversion\": 10.0}, {\"siteid\": \"FUN\", \"icd_code\": \"Z03.818\", \"icd_version\": 10, \"num_patients\": 32, \"ICDcode\": null, \"ICDdescription\": null, \"PheCode\": null, \"Phenotype\": null, \"ICDversion\": null}, {\"siteid\": \"FUN\", \"icd_code\": \"Z20.828\", \"icd_version\": 10, \"num_patients\": -1, \"ICDcode\": null, \"ICDdescription\": null, \"PheCode\": null, \"Phenotype\": null, \"ICDversion\": null}, {\"siteid\": \"FUU\", \"icd_code\": \"021\", \"icd_version\": 9, \"num_patients\": 3, \"ICDcode\": \"021\", \"ICDdescription\": \"Tularemia\", \"PheCode\": 41.0, \"Phenotype\": \"Bacterial infection NOS\", \"ICDversion\": 9.0}, {\"siteid\": \"FUU\", \"icd_code\": \"082\", \"icd_version\": 9, \"num_patients\": 58, \"ICDcode\": \"082\", \"ICDdescription\": \"Tick-borne rickettsioses\", \"PheCode\": 136.0, \"Phenotype\": \"Other infectious and parasitic diseases\", \"ICDversion\": 9.0}, {\"siteid\": \"FUU\", \"icd_code\": \"059\", \"icd_version\": 9, \"num_patients\": -1, \"ICDcode\": \"059\", \"ICDdescription\": \"Other poxvirus infections\", \"PheCode\": 79.0, \"Phenotype\": \"Viral infection\", \"ICDversion\": 9.0}, {\"siteid\": \"FUU\", \"icd_code\": \"J12.89\", \"icd_version\": 10, \"num_patients\": 79, \"ICDcode\": null, \"ICDdescription\": null, \"PheCode\": null, \"Phenotype\": null, \"ICDversion\": null}, {\"siteid\": \"FUU\", \"icd_code\": \"B97.29\", \"icd_version\": 10, \"num_patients\": -1, \"ICDcode\": null, \"ICDdescription\": null, \"PheCode\": null, \"Phenotype\": null, \"ICDversion\": null}, {\"siteid\": \"FUU\", \"icd_code\": \"J40\", \"icd_version\": 10, \"num_patients\": -1, \"ICDcode\": \"J40\", \"ICDdescription\": \"Bronchitis, not specified as acute or chronic\", \"PheCode\": 497.0, \"Phenotype\": \"Bronchitis\", \"ICDversion\": 10.0}, {\"siteid\": \"FUU\", \"icd_code\": \"J22\", \"icd_version\": 10, \"num_patients\": -1, \"ICDcode\": \"J22\", \"ICDdescription\": \"Unspecified acute lower respiratory infection\", \"PheCode\": 519.8, \"Phenotype\": \"Other diseases of respiratory system, NEC\", \"ICDversion\": 10.0}, {\"siteid\": \"FUU\", \"icd_code\": \"J98.8\", \"icd_version\": 10, \"num_patients\": -1, \"ICDcode\": \"J98.8\", \"ICDdescription\": \"Other specified respiratory disorders\", \"PheCode\": 519.8, \"Phenotype\": \"Other diseases of respiratory system, NEC\", \"ICDversion\": 10.0}, {\"siteid\": \"FUU\", \"icd_code\": \"Z03.818\", \"icd_version\": 10, \"num_patients\": -1, \"ICDcode\": null, \"ICDdescription\": null, \"PheCode\": null, \"Phenotype\": null, \"ICDversion\": null}, {\"siteid\": \"FZM\", \"icd_code\": \"021\", \"icd_version\": 9, \"num_patients\": -1, \"ICDcode\": \"021\", \"ICDdescription\": \"Tularemia\", \"PheCode\": 41.0, \"Phenotype\": \"Bacterial infection NOS\", \"ICDversion\": 9.0}, {\"siteid\": \"FZM\", \"icd_code\": \"126\", \"icd_version\": 9, \"num_patients\": -1, \"ICDcode\": \"126\", \"ICDdescription\": \"Ancylostomiasis and necatoriasis\", \"PheCode\": 134.0, \"Phenotype\": \"Helminthiases\", \"ICDversion\": 9.0}, {\"siteid\": \"FZM\", \"icd_code\": \"082\", \"icd_version\": 9, \"num_patients\": -1, \"ICDcode\": \"082\", \"ICDdescription\": \"Tick-borne rickettsioses\", \"PheCode\": 136.0, \"Phenotype\": \"Other infectious and parasitic diseases\", \"ICDversion\": 9.0}, {\"siteid\": \"FZM\", \"icd_code\": \"022\", \"icd_version\": 9, \"num_patients\": 3, \"ICDcode\": \"022\", \"ICDdescription\": \"Anthrax\", \"PheCode\": 41.0, \"Phenotype\": \"Bacterial infection NOS\", \"ICDversion\": 9.0}, {\"siteid\": \"FZM\", \"icd_code\": \"087\", \"icd_version\": 9, \"num_patients\": 5, \"ICDcode\": \"087\", \"ICDdescription\": \"Relapsing fever\", \"PheCode\": 130.0, \"Phenotype\": \"Spirochetal infection\", \"ICDversion\": 9.0}, {\"siteid\": \"FZM\", \"icd_code\": \"J12.89\", \"icd_version\": 10, \"num_patients\": 8, \"ICDcode\": null, \"ICDdescription\": null, \"PheCode\": null, \"Phenotype\": null, \"ICDversion\": null}, {\"siteid\": \"FZM\", \"icd_code\": \"B97.29\", \"icd_version\": 10, \"num_patients\": -1, \"ICDcode\": null, \"ICDdescription\": null, \"PheCode\": null, \"Phenotype\": null, \"ICDversion\": null}, {\"siteid\": \"FZM\", \"icd_code\": \"J22\", \"icd_version\": 10, \"num_patients\": -1, \"ICDcode\": \"J22\", \"ICDdescription\": \"Unspecified acute lower respiratory infection\", \"PheCode\": 519.8, \"Phenotype\": \"Other diseases of respiratory system, NEC\", \"ICDversion\": 10.0}, {\"siteid\": \"FZM\", \"icd_code\": \"J98.8\", \"icd_version\": 10, \"num_patients\": -1, \"ICDcode\": \"J98.8\", \"ICDdescription\": \"Other specified respiratory disorders\", \"PheCode\": 519.8, \"Phenotype\": \"Other diseases of respiratory system, NEC\", \"ICDversion\": 10.0}, {\"siteid\": \"FVX\", \"icd_code\": \"126\", \"icd_version\": 9, \"num_patients\": 2, \"ICDcode\": \"126\", \"ICDdescription\": \"Ancylostomiasis and necatoriasis\", \"PheCode\": 134.0, \"Phenotype\": \"Helminthiases\", \"ICDversion\": 9.0}, {\"siteid\": \"FVX\", \"icd_code\": \"J12.89\", \"icd_version\": 10, \"num_patients\": 11, \"ICDcode\": null, \"ICDdescription\": null, \"PheCode\": null, \"Phenotype\": null, \"ICDversion\": null}, {\"siteid\": \"FVX\", \"icd_code\": \"B97.29\", \"icd_version\": 10, \"num_patients\": 9, \"ICDcode\": null, \"ICDdescription\": null, \"PheCode\": null, \"Phenotype\": null, \"ICDversion\": null}, {\"siteid\": \"FVX\", \"icd_code\": \"J22\", \"icd_version\": 10, \"num_patients\": -1, \"ICDcode\": \"J22\", \"ICDdescription\": \"Unspecified acute lower respiratory infection\", \"PheCode\": 519.8, \"Phenotype\": \"Other diseases of respiratory system, NEC\", \"ICDversion\": 10.0}, {\"siteid\": \"FVX\", \"icd_code\": \"J98.8\", \"icd_version\": 10, \"num_patients\": -1, \"ICDcode\": \"J98.8\", \"ICDdescription\": \"Other specified respiratory disorders\", \"PheCode\": 519.8, \"Phenotype\": \"Other diseases of respiratory system, NEC\", \"ICDversion\": 10.0}, {\"siteid\": \"FVX\", \"icd_code\": \"J80\", \"icd_version\": 10, \"num_patients\": 4, \"ICDcode\": \"J80\", \"ICDdescription\": \"Adult respiratory distress syndrome\", \"PheCode\": 509.2, \"Phenotype\": \"Respiratory insufficiency\", \"ICDversion\": 10.0}, {\"siteid\": \"FVX\", \"icd_code\": \"Z03.818\", \"icd_version\": 10, \"num_patients\": 10, \"ICDcode\": null, \"ICDdescription\": null, \"PheCode\": null, \"Phenotype\": null, \"ICDversion\": null}, {\"siteid\": \"FVX\", \"icd_code\": \"Z20.828\", \"icd_version\": 10, \"num_patients\": 10, \"ICDcode\": null, \"ICDdescription\": null, \"PheCode\": null, \"Phenotype\": null, \"ICDversion\": null}, {\"siteid\": \"FBL\", \"icd_code\": \"021\", \"icd_version\": 9, \"num_patients\": -1, \"ICDcode\": \"021\", \"ICDdescription\": \"Tularemia\", \"PheCode\": 41.0, \"Phenotype\": \"Bacterial infection NOS\", \"ICDversion\": 9.0}, {\"siteid\": \"FBL\", \"icd_code\": \"082\", \"icd_version\": 9, \"num_patients\": 40, \"ICDcode\": \"082\", \"ICDdescription\": \"Tick-borne rickettsioses\", \"PheCode\": 136.0, \"Phenotype\": \"Other infectious and parasitic diseases\", \"ICDversion\": 9.0}, {\"siteid\": \"FBL\", \"icd_code\": \"009\", \"icd_version\": 9, \"num_patients\": 26, \"ICDcode\": \"009\", \"ICDdescription\": \"Ill-defined intestinal infections\", \"PheCode\": 8.0, \"Phenotype\": \"Intestinal infection\", \"ICDversion\": 9.0}, {\"siteid\": \"FBL\", \"icd_code\": \"103\", \"icd_version\": 9, \"num_patients\": -1, \"ICDcode\": \"103\", \"ICDdescription\": \"Pinta\", \"PheCode\": 130.0, \"Phenotype\": \"Spirochetal infection\", \"ICDversion\": 9.0}, {\"siteid\": \"FBL\", \"icd_code\": \"022\", \"icd_version\": 9, \"num_patients\": -1, \"ICDcode\": \"022\", \"ICDdescription\": \"Anthrax\", \"PheCode\": 41.0, \"Phenotype\": \"Bacterial infection NOS\", \"ICDversion\": 9.0}, {\"siteid\": \"FBL\", \"icd_code\": \"087\", \"icd_version\": 9, \"num_patients\": -1, \"ICDcode\": \"087\", \"ICDdescription\": \"Relapsing fever\", \"PheCode\": 130.0, \"Phenotype\": \"Spirochetal infection\", \"ICDversion\": 9.0}, {\"siteid\": \"FBL\", \"icd_code\": \"J12.89\", \"icd_version\": 10, \"num_patients\": 20, \"ICDcode\": null, \"ICDdescription\": null, \"PheCode\": null, \"Phenotype\": null, \"ICDversion\": null}, {\"siteid\": \"FBL\", \"icd_code\": \"B97.29\", \"icd_version\": 10, \"num_patients\": -1, \"ICDcode\": null, \"ICDdescription\": null, \"PheCode\": null, \"Phenotype\": null, \"ICDversion\": null}, {\"siteid\": \"FBL\", \"icd_code\": \"J40\", \"icd_version\": 10, \"num_patients\": -1, \"ICDcode\": \"J40\", \"ICDdescription\": \"Bronchitis, not specified as acute or chronic\", \"PheCode\": 497.0, \"Phenotype\": \"Bronchitis\", \"ICDversion\": 10.0}, {\"siteid\": \"FBL\", \"icd_code\": \"J80\", \"icd_version\": 10, \"num_patients\": -1, \"ICDcode\": \"J80\", \"ICDdescription\": \"Adult respiratory distress syndrome\", \"PheCode\": 509.2, \"Phenotype\": \"Respiratory insufficiency\", \"ICDversion\": 10.0}, {\"siteid\": \"FBL\", \"icd_code\": \"Z03.818\", \"icd_version\": 10, \"num_patients\": -1, \"ICDcode\": null, \"ICDdescription\": null, \"PheCode\": null, \"Phenotype\": null, \"ICDversion\": null}, {\"siteid\": \"FBL\", \"icd_code\": \"Z20.828\", \"icd_version\": 10, \"num_patients\": -1, \"ICDcode\": null, \"ICDdescription\": null, \"PheCode\": null, \"Phenotype\": null, \"ICDversion\": null}, {\"siteid\": \"FMT\", \"icd_code\": \"021\", \"icd_version\": 9, \"num_patients\": -1, \"ICDcode\": \"021\", \"ICDdescription\": \"Tularemia\", \"PheCode\": 41.0, \"Phenotype\": \"Bacterial infection NOS\", \"ICDversion\": 9.0}, {\"siteid\": \"FMT\", \"icd_code\": \"126\", \"icd_version\": 9, \"num_patients\": -1, \"ICDcode\": \"126\", \"ICDdescription\": \"Ancylostomiasis and necatoriasis\", \"PheCode\": 134.0, \"Phenotype\": \"Helminthiases\", \"ICDversion\": 9.0}, {\"siteid\": \"FMT\", \"icd_code\": \"082\", \"icd_version\": 9, \"num_patients\": 3, \"ICDcode\": \"082\", \"ICDdescription\": \"Tick-borne rickettsioses\", \"PheCode\": 136.0, \"Phenotype\": \"Other infectious and parasitic diseases\", \"ICDversion\": 9.0}, {\"siteid\": \"FMT\", \"icd_code\": \"093\", \"icd_version\": 9, \"num_patients\": 46, \"ICDcode\": \"093\", \"ICDdescription\": \"Cardiovascular syphilis\", \"PheCode\": 90.0, \"Phenotype\": \"Sexually transmitted infections (not HIV or hepatitis)\", \"ICDversion\": 9.0}, {\"siteid\": \"FMT\", \"icd_code\": \"009\", \"icd_version\": 9, \"num_patients\": -1, \"ICDcode\": \"009\", \"ICDdescription\": \"Ill-defined intestinal infections\", \"PheCode\": 8.0, \"Phenotype\": \"Intestinal infection\", \"ICDversion\": 9.0}, {\"siteid\": \"FMT\", \"icd_code\": \"103\", \"icd_version\": 9, \"num_patients\": 49, \"ICDcode\": \"103\", \"ICDdescription\": \"Pinta\", \"PheCode\": 130.0, \"Phenotype\": \"Spirochetal infection\", \"ICDversion\": 9.0}, {\"siteid\": \"FMT\", \"icd_code\": \"087\", \"icd_version\": 9, \"num_patients\": 9, \"ICDcode\": \"087\", \"ICDdescription\": \"Relapsing fever\", \"PheCode\": 130.0, \"Phenotype\": \"Spirochetal infection\", \"ICDversion\": 9.0}, {\"siteid\": \"FMT\", \"icd_code\": \"J12.89\", \"icd_version\": 10, \"num_patients\": 89, \"ICDcode\": null, \"ICDdescription\": null, \"PheCode\": null, \"Phenotype\": null, \"ICDversion\": null}, {\"siteid\": \"FMT\", \"icd_code\": \"B97.29\", \"icd_version\": 10, \"num_patients\": 60, \"ICDcode\": null, \"ICDdescription\": null, \"PheCode\": null, \"Phenotype\": null, \"ICDversion\": null}, {\"siteid\": \"FMT\", \"icd_code\": \"J20.8\", \"icd_version\": 10, \"num_patients\": 65, \"ICDcode\": \"J20.8\", \"ICDdescription\": \"Acute bronchitis due to other specified organisms\", \"PheCode\": 483.0, \"Phenotype\": \"Acute bronchitis and bronchiolitis\", \"ICDversion\": 10.0}, {\"siteid\": \"FMT\", \"icd_code\": \"J40\", \"icd_version\": 10, \"num_patients\": -1, \"ICDcode\": \"J40\", \"ICDdescription\": \"Bronchitis, not specified as acute or chronic\", \"PheCode\": 497.0, \"Phenotype\": \"Bronchitis\", \"ICDversion\": 10.0}, {\"siteid\": \"FMT\", \"icd_code\": \"Z03.818\", \"icd_version\": 10, \"num_patients\": -1, \"ICDcode\": null, \"ICDdescription\": null, \"PheCode\": null, \"Phenotype\": null, \"ICDversion\": null}, {\"siteid\": \"FMT\", \"icd_code\": \"Z20.828\", \"icd_version\": 10, \"num_patients\": -1, \"ICDcode\": null, \"ICDdescription\": null, \"PheCode\": null, \"Phenotype\": null, \"ICDversion\": null}, {\"siteid\": \"FMA\", \"icd_code\": \"082\", \"icd_version\": 9, \"num_patients\": 11, \"ICDcode\": \"082\", \"ICDdescription\": \"Tick-borne rickettsioses\", \"PheCode\": 136.0, \"Phenotype\": \"Other infectious and parasitic diseases\", \"ICDversion\": 9.0}, {\"siteid\": \"FMA\", \"icd_code\": \"093\", \"icd_version\": 9, \"num_patients\": -1, \"ICDcode\": \"093\", \"ICDdescription\": \"Cardiovascular syphilis\", \"PheCode\": 90.0, \"Phenotype\": \"Sexually transmitted infections (not HIV or hepatitis)\", \"ICDversion\": 9.0}, {\"siteid\": \"FMA\", \"icd_code\": \"009\", \"icd_version\": 9, \"num_patients\": -1, \"ICDcode\": \"009\", \"ICDdescription\": \"Ill-defined intestinal infections\", \"PheCode\": 8.0, \"Phenotype\": \"Intestinal infection\", \"ICDversion\": 9.0}, {\"siteid\": \"FMA\", \"icd_code\": \"022\", \"icd_version\": 9, \"num_patients\": -1, \"ICDcode\": \"022\", \"ICDdescription\": \"Anthrax\", \"PheCode\": 41.0, \"Phenotype\": \"Bacterial infection NOS\", \"ICDversion\": 9.0}, {\"siteid\": \"FMA\", \"icd_code\": \"087\", \"icd_version\": 9, \"num_patients\": 5, \"ICDcode\": \"087\", \"ICDdescription\": \"Relapsing fever\", \"PheCode\": 130.0, \"Phenotype\": \"Spirochetal infection\", \"ICDversion\": 9.0}, {\"siteid\": \"FMA\", \"icd_code\": \"J12.89\", \"icd_version\": 10, \"num_patients\": -1, \"ICDcode\": null, \"ICDdescription\": null, \"PheCode\": null, \"Phenotype\": null, \"ICDversion\": null}, {\"siteid\": \"FMA\", \"icd_code\": \"J20.8\", \"icd_version\": 10, \"num_patients\": 7, \"ICDcode\": \"J20.8\", \"ICDdescription\": \"Acute bronchitis due to other specified organisms\", \"PheCode\": 483.0, \"Phenotype\": \"Acute bronchitis and bronchiolitis\", \"ICDversion\": 10.0}, {\"siteid\": \"FMA\", \"icd_code\": \"J40\", \"icd_version\": 10, \"num_patients\": -1, \"ICDcode\": \"J40\", \"ICDdescription\": \"Bronchitis, not specified as acute or chronic\", \"PheCode\": 497.0, \"Phenotype\": \"Bronchitis\", \"ICDversion\": 10.0}, {\"siteid\": \"FMA\", \"icd_code\": \"J80\", \"icd_version\": 10, \"num_patients\": -1, \"ICDcode\": \"J80\", \"ICDdescription\": \"Adult respiratory distress syndrome\", \"PheCode\": 509.2, \"Phenotype\": \"Respiratory insufficiency\", \"ICDversion\": 10.0}, {\"siteid\": \"FWN\", \"icd_code\": \"021\", \"icd_version\": 9, \"num_patients\": -1, \"ICDcode\": \"021\", \"ICDdescription\": \"Tularemia\", \"PheCode\": 41.0, \"Phenotype\": \"Bacterial infection NOS\", \"ICDversion\": 9.0}, {\"siteid\": \"FWN\", \"icd_code\": \"082\", \"icd_version\": 9, \"num_patients\": -1, \"ICDcode\": \"082\", \"ICDdescription\": \"Tick-borne rickettsioses\", \"PheCode\": 136.0, \"Phenotype\": \"Other infectious and parasitic diseases\", \"ICDversion\": 9.0}, {\"siteid\": \"FWN\", \"icd_code\": \"022\", \"icd_version\": 9, \"num_patients\": -1, \"ICDcode\": \"022\", \"ICDdescription\": \"Anthrax\", \"PheCode\": 41.0, \"Phenotype\": \"Bacterial infection NOS\", \"ICDversion\": 9.0}, {\"siteid\": \"FWN\", \"icd_code\": \"059\", \"icd_version\": 9, \"num_patients\": -1, \"ICDcode\": \"059\", \"ICDdescription\": \"Other poxvirus infections\", \"PheCode\": 79.0, \"Phenotype\": \"Viral infection\", \"ICDversion\": 9.0}, {\"siteid\": \"FWN\", \"icd_code\": \"B97.29\", \"icd_version\": 10, \"num_patients\": 5, \"ICDcode\": null, \"ICDdescription\": null, \"PheCode\": null, \"Phenotype\": null, \"ICDversion\": null}, {\"siteid\": \"FWN\", \"icd_code\": \"J40\", \"icd_version\": 10, \"num_patients\": -1, \"ICDcode\": \"J40\", \"ICDdescription\": \"Bronchitis, not specified as acute or chronic\", \"PheCode\": 497.0, \"Phenotype\": \"Bronchitis\", \"ICDversion\": 10.0}, {\"siteid\": \"FWN\", \"icd_code\": \"J98.8\", \"icd_version\": 10, \"num_patients\": 6, \"ICDcode\": \"J98.8\", \"ICDdescription\": \"Other specified respiratory disorders\", \"PheCode\": 519.8, \"Phenotype\": \"Other diseases of respiratory system, NEC\", \"ICDversion\": 10.0}, {\"siteid\": \"FWN\", \"icd_code\": \"J80\", \"icd_version\": 10, \"num_patients\": -1, \"ICDcode\": \"J80\", \"ICDdescription\": \"Adult respiratory distress syndrome\", \"PheCode\": 509.2, \"Phenotype\": \"Respiratory insufficiency\", \"ICDversion\": 10.0}, {\"siteid\": \"FWN\", \"icd_code\": \"Z03.818\", \"icd_version\": 10, \"num_patients\": 7, \"ICDcode\": null, \"ICDdescription\": null, \"PheCode\": null, \"Phenotype\": null, \"ICDversion\": null}, {\"siteid\": \"FWN\", \"icd_code\": \"Z20.828\", \"icd_version\": 10, \"num_patients\": -1, \"ICDcode\": null, \"ICDdescription\": null, \"PheCode\": null, \"Phenotype\": null, \"ICDversion\": null}, {\"siteid\": \"FKQ\", \"icd_code\": \"021\", \"icd_version\": 9, \"num_patients\": 48, \"ICDcode\": \"021\", \"ICDdescription\": \"Tularemia\", \"PheCode\": 41.0, \"Phenotype\": \"Bacterial infection NOS\", \"ICDversion\": 9.0}, {\"siteid\": \"FKQ\", \"icd_code\": \"126\", \"icd_version\": 9, \"num_patients\": -1, \"ICDcode\": \"126\", \"ICDdescription\": \"Ancylostomiasis and necatoriasis\", \"PheCode\": 134.0, \"Phenotype\": \"Helminthiases\", \"ICDversion\": 9.0}, {\"siteid\": \"FKQ\", \"icd_code\": \"009\", \"icd_version\": 9, \"num_patients\": 5, \"ICDcode\": \"009\", \"ICDdescription\": \"Ill-defined intestinal infections\", \"PheCode\": 8.0, \"Phenotype\": \"Intestinal infection\", \"ICDversion\": 9.0}, {\"siteid\": \"FKQ\", \"icd_code\": \"087\", \"icd_version\": 9, \"num_patients\": 16, \"ICDcode\": \"087\", \"ICDdescription\": \"Relapsing fever\", \"PheCode\": 130.0, \"Phenotype\": \"Spirochetal infection\", \"ICDversion\": 9.0}, {\"siteid\": \"FKQ\", \"icd_code\": \"J12.89\", \"icd_version\": 10, \"num_patients\": -1, \"ICDcode\": null, \"ICDdescription\": null, \"PheCode\": null, \"Phenotype\": null, \"ICDversion\": null}, {\"siteid\": \"FKQ\", \"icd_code\": \"J20.8\", \"icd_version\": 10, \"num_patients\": 42, \"ICDcode\": \"J20.8\", \"ICDdescription\": \"Acute bronchitis due to other specified organisms\", \"PheCode\": 483.0, \"Phenotype\": \"Acute bronchitis and bronchiolitis\", \"ICDversion\": 10.0}, {\"siteid\": \"FKQ\", \"icd_code\": \"J40\", \"icd_version\": 10, \"num_patients\": 16, \"ICDcode\": \"J40\", \"ICDdescription\": \"Bronchitis, not specified as acute or chronic\", \"PheCode\": 497.0, \"Phenotype\": \"Bronchitis\", \"ICDversion\": 10.0}, {\"siteid\": \"FKQ\", \"icd_code\": \"J98.8\", \"icd_version\": 10, \"num_patients\": 3, \"ICDcode\": \"J98.8\", \"ICDdescription\": \"Other specified respiratory disorders\", \"PheCode\": 519.8, \"Phenotype\": \"Other diseases of respiratory system, NEC\", \"ICDversion\": 10.0}, {\"siteid\": \"FKQ\", \"icd_code\": \"J80\", \"icd_version\": 10, \"num_patients\": 13, \"ICDcode\": \"J80\", \"ICDdescription\": \"Adult respiratory distress syndrome\", \"PheCode\": 509.2, \"Phenotype\": \"Respiratory insufficiency\", \"ICDversion\": 10.0}, {\"siteid\": \"FKQ\", \"icd_code\": \"Z03.818\", \"icd_version\": 10, \"num_patients\": 19, \"ICDcode\": null, \"ICDdescription\": null, \"PheCode\": null, \"Phenotype\": null, \"ICDversion\": null}, {\"siteid\": \"FFG\", \"icd_code\": \"021\", \"icd_version\": 9, \"num_patients\": 14, \"ICDcode\": \"021\", \"ICDdescription\": \"Tularemia\", \"PheCode\": 41.0, \"Phenotype\": \"Bacterial infection NOS\", \"ICDversion\": 9.0}, {\"siteid\": \"FFG\", \"icd_code\": \"126\", \"icd_version\": 9, \"num_patients\": 17, \"ICDcode\": \"126\", \"ICDdescription\": \"Ancylostomiasis and necatoriasis\", \"PheCode\": 134.0, \"Phenotype\": \"Helminthiases\", \"ICDversion\": 9.0}, {\"siteid\": \"FFG\", \"icd_code\": \"082\", \"icd_version\": 9, \"num_patients\": -1, \"ICDcode\": \"082\", \"ICDdescription\": \"Tick-borne rickettsioses\", \"PheCode\": 136.0, \"Phenotype\": \"Other infectious and parasitic diseases\", \"ICDversion\": 9.0}, {\"siteid\": \"FFG\", \"icd_code\": \"093\", \"icd_version\": 9, \"num_patients\": -1, \"ICDcode\": \"093\", \"ICDdescription\": \"Cardiovascular syphilis\", \"PheCode\": 90.0, \"Phenotype\": \"Sexually transmitted infections (not HIV or hepatitis)\", \"ICDversion\": 9.0}, {\"siteid\": \"FFG\", \"icd_code\": \"009\", \"icd_version\": 9, \"num_patients\": -1, \"ICDcode\": \"009\", \"ICDdescription\": \"Ill-defined intestinal infections\", \"PheCode\": 8.0, \"Phenotype\": \"Intestinal infection\", \"ICDversion\": 9.0}, {\"siteid\": \"FFG\", \"icd_code\": \"087\", \"icd_version\": 9, \"num_patients\": -1, \"ICDcode\": \"087\", \"ICDdescription\": \"Relapsing fever\", \"PheCode\": 130.0, \"Phenotype\": \"Spirochetal infection\", \"ICDversion\": 9.0}, {\"siteid\": \"FFG\", \"icd_code\": \"B97.29\", \"icd_version\": 10, \"num_patients\": 20, \"ICDcode\": null, \"ICDdescription\": null, \"PheCode\": null, \"Phenotype\": null, \"ICDversion\": null}, {\"siteid\": \"FFG\", \"icd_code\": \"J80\", \"icd_version\": 10, \"num_patients\": 46, \"ICDcode\": \"J80\", \"ICDdescription\": \"Adult respiratory distress syndrome\", \"PheCode\": 509.2, \"Phenotype\": \"Respiratory insufficiency\", \"ICDversion\": 10.0}, {\"siteid\": \"FFG\", \"icd_code\": \"Z03.818\", \"icd_version\": 10, \"num_patients\": 28, \"ICDcode\": null, \"ICDdescription\": null, \"PheCode\": null, \"Phenotype\": null, \"ICDversion\": null}, {\"siteid\": \"FFG\", \"icd_code\": \"Z20.828\", \"icd_version\": 10, \"num_patients\": -1, \"ICDcode\": null, \"ICDdescription\": null, \"PheCode\": null, \"Phenotype\": null, \"ICDversion\": null}]}}, {\"mode\": \"vega-lite\"});\n",
       "</script>"
      ],
      "text/plain": [
       "alt.HConcatChart(...)"
      ]
     },
     "execution_count": 8,
     "metadata": {},
     "output_type": "execute_result"
    }
   ],
   "source": [
    "# Mouseover effect\n",
    "mouseover = alt.selection(type='single', on='mouseover', fields=[siteid], nearest=False)\n",
    "\n",
    "# Base bar chart\n",
    "base = alt.Chart(df).mark_bar().encode(\n",
    "    x=alt.X(f\"sum({num_patients}):Q\", title=\"Total Number of Patients\", axis=alt.Axis(tickCount=5)),\n",
    "    y=alt.Y(f\"{icd_code}:N\", title=\"ICD Code\"),\n",
    "    color=alt.value(\"lightgray\")\n",
    ").transform_filter(\n",
    "    # Do not show uncertain data\n",
    "    alt.FieldGTEPredicate(field=num_patients, gte=0)\n",
    ").properties(\n",
    "    title=\"Diagnoses Patients Have Starting 7 Days Before Positive Test\",\n",
    "    width=350,\n",
    "    height=300\n",
    ")\n",
    "\n",
    "# Text label\n",
    "text = base.mark_text(align='right', baseline='middle', dx=-4, fontWeight=\"bold\").encode(\n",
    "    text=f\"sum({num_patients}):Q\",\n",
    "    color=alt.value(\"white\")\n",
    ")\n",
    "\n",
    "# Highlight selected site id\n",
    "hl = base.encode(\n",
    "    color=alt.Color(icd_version + \":N\", scale=icd_color_scale, title=\"ICD Version\")\n",
    ").transform_filter(mouseover)\n",
    "\n",
    "text_hl = hl.mark_text(align='left', baseline='middle', dx=4, fontWeight=\"bold\").encode(\n",
    "    text=f\"sum({num_patients}):Q\"\n",
    ")\n",
    "\n",
    "# Chart for total by site ID\n",
    "chart_by_siteid = alt.Chart(df).mark_bar().encode(\n",
    "    y=alt.Y(f\"sum({num_patients}):Q\", title=\"Total Number of Patients\", axis=alt.Axis(tickCount=5)),\n",
    "    x=alt.X(f\"{siteid}:N\", title=\"Site\", sort=\"-y\"),\n",
    "    color=alt.condition(~mouseover, alt.value(\"rgb(244, 208, 75)\"), alt.value(\"#E48236\"))\n",
    ").transform_filter(\n",
    "    # Do not show uncertain data\n",
    "    alt.FieldGTEPredicate(field=num_patients, gte=0)\n",
    ").properties(\n",
    "    title=\"Diagnoses By Site\",\n",
    "    width=350,\n",
    "    height=300\n",
    ").add_selection(\n",
    "    mouseover\n",
    ")\n",
    "\n",
    "chart = apply_theme(\n",
    "    ((base + text + hl + text_hl) | chart_by_siteid)\n",
    ").resolve_scale(\"independent\")\n",
    "        \n",
    "chart"
   ]
  },
  {
   "cell_type": "code",
   "execution_count": 9,
   "metadata": {},
   "outputs": [
    {
     "data": {
      "text/html": [
       "\n",
       "<div id=\"altair-viz-eae8df69b79247988a7886d06acee771\"></div>\n",
       "<script type=\"text/javascript\">\n",
       "  (function(spec, embedOpt){\n",
       "    const outputDiv = document.getElementById(\"altair-viz-eae8df69b79247988a7886d06acee771\");\n",
       "    const paths = {\n",
       "      \"vega\": \"https://cdn.jsdelivr.net/npm//vega@5?noext\",\n",
       "      \"vega-lib\": \"https://cdn.jsdelivr.net/npm//vega-lib?noext\",\n",
       "      \"vega-lite\": \"https://cdn.jsdelivr.net/npm//vega-lite@4.0.2?noext\",\n",
       "      \"vega-embed\": \"https://cdn.jsdelivr.net/npm//vega-embed@6?noext\",\n",
       "    };\n",
       "\n",
       "    function loadScript(lib) {\n",
       "      return new Promise(function(resolve, reject) {\n",
       "        var s = document.createElement('script');\n",
       "        s.src = paths[lib];\n",
       "        s.async = true;\n",
       "        s.onload = () => resolve(paths[lib]);\n",
       "        s.onerror = () => reject(`Error loading script: ${paths[lib]}`);\n",
       "        document.getElementsByTagName(\"head\")[0].appendChild(s);\n",
       "      });\n",
       "    }\n",
       "\n",
       "    function showError(err) {\n",
       "      outputDiv.innerHTML = `<div class=\"error\" style=\"color:red;\">${err}</div>`;\n",
       "      throw err;\n",
       "    }\n",
       "\n",
       "    function displayChart(vegaEmbed) {\n",
       "      vegaEmbed(outputDiv, spec, embedOpt)\n",
       "        .catch(err => showError(`Javascript Error: ${err.message}<br>This usually means there's a typo in your chart specification. See the javascript console for the full traceback.`));\n",
       "    }\n",
       "\n",
       "    if(typeof define === \"function\" && define.amd) {\n",
       "      requirejs.config({paths});\n",
       "      require([\"vega-embed\"], displayChart, err => showError(`Error loading script: ${err.message}`));\n",
       "    } else if (typeof vegaEmbed === \"function\") {\n",
       "      displayChart(vegaEmbed);\n",
       "    } else {\n",
       "      loadScript(\"vega\")\n",
       "        .then(() => loadScript(\"vega-lite\"))\n",
       "        .then(() => loadScript(\"vega-embed\"))\n",
       "        .catch(showError)\n",
       "        .then(() => displayChart(vegaEmbed));\n",
       "    }\n",
       "  })({\"config\": {\"view\": {\"continuousWidth\": 400, \"continuousHeight\": 300}, \"axis\": {\"labelFontSize\": 10, \"labelFontWeight\": 300, \"titleFontSize\": 14, \"titleFontWeight\": 300}, \"title\": {\"anchor\": \"middle\", \"fontSize\": 20, \"fontWeight\": 400}}, \"data\": {\"name\": \"data-8b8b507f20b573d8442ec6cd7121ff93\"}, \"mark\": \"bar\", \"encoding\": {\"color\": {\"type\": \"nominal\", \"field\": \"icd_version\", \"scale\": {\"domain\": [\"9\", \"10\"], \"range\": [\"#69A6CE\", \"#EB6F63\"]}, \"title\": \"ICD Version\"}, \"facet\": {\"type\": \"nominal\", \"columns\": 5, \"field\": \"siteid\", \"title\": \"\"}, \"tooltip\": [{\"type\": \"nominal\", \"field\": \"icd_code\"}, {\"type\": \"quantitative\", \"aggregate\": \"sum\", \"field\": \"num_patients\"}], \"x\": {\"type\": \"nominal\", \"field\": \"icd_code\", \"title\": \"ICD Code\"}, \"y\": {\"type\": \"quantitative\", \"aggregate\": \"sum\", \"field\": \"num_patients\", \"title\": \"Total Number of Patients\"}}, \"height\": 150, \"selection\": {\"selector008\": {\"type\": \"interval\", \"bind\": \"scales\", \"encodings\": [\"x\", \"y\"]}}, \"title\": \"All Diagnoses Patients Have Starting 7 Days Before Positive Test\", \"transform\": [{\"filter\": {\"field\": \"num_patients\", \"gte\": 0}}], \"width\": 150, \"$schema\": \"https://vega.github.io/schema/vega-lite/v4.0.2.json\", \"datasets\": {\"data-8b8b507f20b573d8442ec6cd7121ff93\": [{\"siteid\": \"FKN\", \"icd_code\": \"082\", \"icd_version\": 9, \"num_patients\": -1, \"ICDcode\": \"082\", \"ICDdescription\": \"Tick-borne rickettsioses\", \"PheCode\": 136.0, \"Phenotype\": \"Other infectious and parasitic diseases\", \"ICDversion\": 9.0}, {\"siteid\": \"FKN\", \"icd_code\": \"009\", \"icd_version\": 9, \"num_patients\": 5, \"ICDcode\": \"009\", \"ICDdescription\": \"Ill-defined intestinal infections\", \"PheCode\": 8.0, \"Phenotype\": \"Intestinal infection\", \"ICDversion\": 9.0}, {\"siteid\": \"FKN\", \"icd_code\": \"087\", \"icd_version\": 9, \"num_patients\": -1, \"ICDcode\": \"087\", \"ICDdescription\": \"Relapsing fever\", \"PheCode\": 130.0, \"Phenotype\": \"Spirochetal infection\", \"ICDversion\": 9.0}, {\"siteid\": \"FKN\", \"icd_code\": \"059\", \"icd_version\": 9, \"num_patients\": -1, \"ICDcode\": \"059\", \"ICDdescription\": \"Other poxvirus infections\", \"PheCode\": 79.0, \"Phenotype\": \"Viral infection\", \"ICDversion\": 9.0}, {\"siteid\": \"FKN\", \"icd_code\": \"J22\", \"icd_version\": 10, \"num_patients\": -1, \"ICDcode\": \"J22\", \"ICDdescription\": \"Unspecified acute lower respiratory infection\", \"PheCode\": 519.8, \"Phenotype\": \"Other diseases of respiratory system, NEC\", \"ICDversion\": 10.0}, {\"siteid\": \"FKN\", \"icd_code\": \"J98.8\", \"icd_version\": 10, \"num_patients\": -1, \"ICDcode\": \"J98.8\", \"ICDdescription\": \"Other specified respiratory disorders\", \"PheCode\": 519.8, \"Phenotype\": \"Other diseases of respiratory system, NEC\", \"ICDversion\": 10.0}, {\"siteid\": \"FKN\", \"icd_code\": \"J80\", \"icd_version\": 10, \"num_patients\": 2, \"ICDcode\": \"J80\", \"ICDdescription\": \"Adult respiratory distress syndrome\", \"PheCode\": 509.2, \"Phenotype\": \"Respiratory insufficiency\", \"ICDversion\": 10.0}, {\"siteid\": \"FKN\", \"icd_code\": \"Z20.828\", \"icd_version\": 10, \"num_patients\": -1, \"ICDcode\": null, \"ICDdescription\": null, \"PheCode\": null, \"Phenotype\": null, \"ICDversion\": null}, {\"siteid\": \"FEQ\", \"icd_code\": \"093\", \"icd_version\": 9, \"num_patients\": -1, \"ICDcode\": \"093\", \"ICDdescription\": \"Cardiovascular syphilis\", \"PheCode\": 90.0, \"Phenotype\": \"Sexually transmitted infections (not HIV or hepatitis)\", \"ICDversion\": 9.0}, {\"siteid\": \"FEQ\", \"icd_code\": \"009\", \"icd_version\": 9, \"num_patients\": 9, \"ICDcode\": \"009\", \"ICDdescription\": \"Ill-defined intestinal infections\", \"PheCode\": 8.0, \"Phenotype\": \"Intestinal infection\", \"ICDversion\": 9.0}, {\"siteid\": \"FEQ\", \"icd_code\": \"103\", \"icd_version\": 9, \"num_patients\": -1, \"ICDcode\": \"103\", \"ICDdescription\": \"Pinta\", \"PheCode\": 130.0, \"Phenotype\": \"Spirochetal infection\", \"ICDversion\": 9.0}, {\"siteid\": \"FEQ\", \"icd_code\": \"022\", \"icd_version\": 9, \"num_patients\": 6, \"ICDcode\": \"022\", \"ICDdescription\": \"Anthrax\", \"PheCode\": 41.0, \"Phenotype\": \"Bacterial infection NOS\", \"ICDversion\": 9.0}, {\"siteid\": \"FEQ\", \"icd_code\": \"087\", \"icd_version\": 9, \"num_patients\": 2, \"ICDcode\": \"087\", \"ICDdescription\": \"Relapsing fever\", \"PheCode\": 130.0, \"Phenotype\": \"Spirochetal infection\", \"ICDversion\": 9.0}, {\"siteid\": \"FEQ\", \"icd_code\": \"059\", \"icd_version\": 9, \"num_patients\": 2, \"ICDcode\": \"059\", \"ICDdescription\": \"Other poxvirus infections\", \"PheCode\": 79.0, \"Phenotype\": \"Viral infection\", \"ICDversion\": 9.0}, {\"siteid\": \"FEQ\", \"icd_code\": \"J12.89\", \"icd_version\": 10, \"num_patients\": -1, \"ICDcode\": null, \"ICDdescription\": null, \"PheCode\": null, \"Phenotype\": null, \"ICDversion\": null}, {\"siteid\": \"FEQ\", \"icd_code\": \"J20.8\", \"icd_version\": 10, \"num_patients\": -1, \"ICDcode\": \"J20.8\", \"ICDdescription\": \"Acute bronchitis due to other specified organisms\", \"PheCode\": 483.0, \"Phenotype\": \"Acute bronchitis and bronchiolitis\", \"ICDversion\": 10.0}, {\"siteid\": \"FEQ\", \"icd_code\": \"J40\", \"icd_version\": 10, \"num_patients\": -1, \"ICDcode\": \"J40\", \"ICDdescription\": \"Bronchitis, not specified as acute or chronic\", \"PheCode\": 497.0, \"Phenotype\": \"Bronchitis\", \"ICDversion\": 10.0}, {\"siteid\": \"FEQ\", \"icd_code\": \"J98.8\", \"icd_version\": 10, \"num_patients\": 7, \"ICDcode\": \"J98.8\", \"ICDdescription\": \"Other specified respiratory disorders\", \"PheCode\": 519.8, \"Phenotype\": \"Other diseases of respiratory system, NEC\", \"ICDversion\": 10.0}, {\"siteid\": \"FEQ\", \"icd_code\": \"Z03.818\", \"icd_version\": 10, \"num_patients\": -1, \"ICDcode\": null, \"ICDdescription\": null, \"PheCode\": null, \"Phenotype\": null, \"ICDversion\": null}, {\"siteid\": \"FEQ\", \"icd_code\": \"Z20.828\", \"icd_version\": 10, \"num_patients\": 3, \"ICDcode\": null, \"ICDdescription\": null, \"PheCode\": null, \"Phenotype\": null, \"ICDversion\": null}, {\"siteid\": \"FKL\", \"icd_code\": \"126\", \"icd_version\": 9, \"num_patients\": 2, \"ICDcode\": \"126\", \"ICDdescription\": \"Ancylostomiasis and necatoriasis\", \"PheCode\": 134.0, \"Phenotype\": \"Helminthiases\", \"ICDversion\": 9.0}, {\"siteid\": \"FKL\", \"icd_code\": \"082\", \"icd_version\": 9, \"num_patients\": 5, \"ICDcode\": \"082\", \"ICDdescription\": \"Tick-borne rickettsioses\", \"PheCode\": 136.0, \"Phenotype\": \"Other infectious and parasitic diseases\", \"ICDversion\": 9.0}, {\"siteid\": \"FKL\", \"icd_code\": \"009\", \"icd_version\": 9, \"num_patients\": -1, \"ICDcode\": \"009\", \"ICDdescription\": \"Ill-defined intestinal infections\", \"PheCode\": 8.0, \"Phenotype\": \"Intestinal infection\", \"ICDversion\": 9.0}, {\"siteid\": \"FKL\", \"icd_code\": \"022\", \"icd_version\": 9, \"num_patients\": 10, \"ICDcode\": \"022\", \"ICDdescription\": \"Anthrax\", \"PheCode\": 41.0, \"Phenotype\": \"Bacterial infection NOS\", \"ICDversion\": 9.0}, {\"siteid\": \"FKL\", \"icd_code\": \"B97.29\", \"icd_version\": 10, \"num_patients\": -1, \"ICDcode\": null, \"ICDdescription\": null, \"PheCode\": null, \"Phenotype\": null, \"ICDversion\": null}, {\"siteid\": \"FKL\", \"icd_code\": \"J20.8\", \"icd_version\": 10, \"num_patients\": 10, \"ICDcode\": \"J20.8\", \"ICDdescription\": \"Acute bronchitis due to other specified organisms\", \"PheCode\": 483.0, \"Phenotype\": \"Acute bronchitis and bronchiolitis\", \"ICDversion\": 10.0}, {\"siteid\": \"FKL\", \"icd_code\": \"J40\", \"icd_version\": 10, \"num_patients\": 6, \"ICDcode\": \"J40\", \"ICDdescription\": \"Bronchitis, not specified as acute or chronic\", \"PheCode\": 497.0, \"Phenotype\": \"Bronchitis\", \"ICDversion\": 10.0}, {\"siteid\": \"FKL\", \"icd_code\": \"J22\", \"icd_version\": 10, \"num_patients\": 6, \"ICDcode\": \"J22\", \"ICDdescription\": \"Unspecified acute lower respiratory infection\", \"PheCode\": 519.8, \"Phenotype\": \"Other diseases of respiratory system, NEC\", \"ICDversion\": 10.0}, {\"siteid\": \"FKL\", \"icd_code\": \"J80\", \"icd_version\": 10, \"num_patients\": 5, \"ICDcode\": \"J80\", \"ICDdescription\": \"Adult respiratory distress syndrome\", \"PheCode\": 509.2, \"Phenotype\": \"Respiratory insufficiency\", \"ICDversion\": 10.0}, {\"siteid\": \"FKL\", \"icd_code\": \"Z03.818\", \"icd_version\": 10, \"num_patients\": -1, \"ICDcode\": null, \"ICDdescription\": null, \"PheCode\": null, \"Phenotype\": null, \"ICDversion\": null}, {\"siteid\": \"FDQ\", \"icd_code\": \"126\", \"icd_version\": 9, \"num_patients\": -1, \"ICDcode\": \"126\", \"ICDdescription\": \"Ancylostomiasis and necatoriasis\", \"PheCode\": 134.0, \"Phenotype\": \"Helminthiases\", \"ICDversion\": 9.0}, {\"siteid\": \"FDQ\", \"icd_code\": \"093\", \"icd_version\": 9, \"num_patients\": 1, \"ICDcode\": \"093\", \"ICDdescription\": \"Cardiovascular syphilis\", \"PheCode\": 90.0, \"Phenotype\": \"Sexually transmitted infections (not HIV or hepatitis)\", \"ICDversion\": 9.0}, {\"siteid\": \"FDQ\", \"icd_code\": \"103\", \"icd_version\": 9, \"num_patients\": 10, \"ICDcode\": \"103\", \"ICDdescription\": \"Pinta\", \"PheCode\": 130.0, \"Phenotype\": \"Spirochetal infection\", \"ICDversion\": 9.0}, {\"siteid\": \"FDQ\", \"icd_code\": \"022\", \"icd_version\": 9, \"num_patients\": 69, \"ICDcode\": \"022\", \"ICDdescription\": \"Anthrax\", \"PheCode\": 41.0, \"Phenotype\": \"Bacterial infection NOS\", \"ICDversion\": 9.0}, {\"siteid\": \"FDQ\", \"icd_code\": \"J12.89\", \"icd_version\": 10, \"num_patients\": 81, \"ICDcode\": null, \"ICDdescription\": null, \"PheCode\": null, \"Phenotype\": null, \"ICDversion\": null}, {\"siteid\": \"FDQ\", \"icd_code\": \"B97.29\", \"icd_version\": 10, \"num_patients\": -1, \"ICDcode\": null, \"ICDdescription\": null, \"PheCode\": null, \"Phenotype\": null, \"ICDversion\": null}, {\"siteid\": \"FDQ\", \"icd_code\": \"J20.8\", \"icd_version\": 10, \"num_patients\": -1, \"ICDcode\": \"J20.8\", \"ICDdescription\": \"Acute bronchitis due to other specified organisms\", \"PheCode\": 483.0, \"Phenotype\": \"Acute bronchitis and bronchiolitis\", \"ICDversion\": 10.0}, {\"siteid\": \"FDQ\", \"icd_code\": \"J40\", \"icd_version\": 10, \"num_patients\": 39, \"ICDcode\": \"J40\", \"ICDdescription\": \"Bronchitis, not specified as acute or chronic\", \"PheCode\": 497.0, \"Phenotype\": \"Bronchitis\", \"ICDversion\": 10.0}, {\"siteid\": \"FDQ\", \"icd_code\": \"J22\", \"icd_version\": 10, \"num_patients\": 44, \"ICDcode\": \"J22\", \"ICDdescription\": \"Unspecified acute lower respiratory infection\", \"PheCode\": 519.8, \"Phenotype\": \"Other diseases of respiratory system, NEC\", \"ICDversion\": 10.0}, {\"siteid\": \"FDQ\", \"icd_code\": \"J98.8\", \"icd_version\": 10, \"num_patients\": 37, \"ICDcode\": \"J98.8\", \"ICDdescription\": \"Other specified respiratory disorders\", \"PheCode\": 519.8, \"Phenotype\": \"Other diseases of respiratory system, NEC\", \"ICDversion\": 10.0}, {\"siteid\": \"FDQ\", \"icd_code\": \"J80\", \"icd_version\": 10, \"num_patients\": 52, \"ICDcode\": \"J80\", \"ICDdescription\": \"Adult respiratory distress syndrome\", \"PheCode\": 509.2, \"Phenotype\": \"Respiratory insufficiency\", \"ICDversion\": 10.0}, {\"siteid\": \"FDQ\", \"icd_code\": \"Z03.818\", \"icd_version\": 10, \"num_patients\": -1, \"ICDcode\": null, \"ICDdescription\": null, \"PheCode\": null, \"Phenotype\": null, \"ICDversion\": null}, {\"siteid\": \"FDQ\", \"icd_code\": \"Z20.828\", \"icd_version\": 10, \"num_patients\": -1, \"ICDcode\": null, \"ICDdescription\": null, \"PheCode\": null, \"Phenotype\": null, \"ICDversion\": null}, {\"siteid\": \"FSZ\", \"icd_code\": \"009\", \"icd_version\": 9, \"num_patients\": -1, \"ICDcode\": \"009\", \"ICDdescription\": \"Ill-defined intestinal infections\", \"PheCode\": 8.0, \"Phenotype\": \"Intestinal infection\", \"ICDversion\": 9.0}, {\"siteid\": \"FSZ\", \"icd_code\": \"103\", \"icd_version\": 9, \"num_patients\": -1, \"ICDcode\": \"103\", \"ICDdescription\": \"Pinta\", \"PheCode\": 130.0, \"Phenotype\": \"Spirochetal infection\", \"ICDversion\": 9.0}, {\"siteid\": \"FSZ\", \"icd_code\": \"022\", \"icd_version\": 9, \"num_patients\": 61, \"ICDcode\": \"022\", \"ICDdescription\": \"Anthrax\", \"PheCode\": 41.0, \"Phenotype\": \"Bacterial infection NOS\", \"ICDversion\": 9.0}, {\"siteid\": \"FSZ\", \"icd_code\": \"087\", \"icd_version\": 9, \"num_patients\": 39, \"ICDcode\": \"087\", \"ICDdescription\": \"Relapsing fever\", \"PheCode\": 130.0, \"Phenotype\": \"Spirochetal infection\", \"ICDversion\": 9.0}, {\"siteid\": \"FSZ\", \"icd_code\": \"059\", \"icd_version\": 9, \"num_patients\": 84, \"ICDcode\": \"059\", \"ICDdescription\": \"Other poxvirus infections\", \"PheCode\": 79.0, \"Phenotype\": \"Viral infection\", \"ICDversion\": 9.0}, {\"siteid\": \"FSZ\", \"icd_code\": \"B97.29\", \"icd_version\": 10, \"num_patients\": -1, \"ICDcode\": null, \"ICDdescription\": null, \"PheCode\": null, \"Phenotype\": null, \"ICDversion\": null}, {\"siteid\": \"FSZ\", \"icd_code\": \"J20.8\", \"icd_version\": 10, \"num_patients\": 35, \"ICDcode\": \"J20.8\", \"ICDdescription\": \"Acute bronchitis due to other specified organisms\", \"PheCode\": 483.0, \"Phenotype\": \"Acute bronchitis and bronchiolitis\", \"ICDversion\": 10.0}, {\"siteid\": \"FSZ\", \"icd_code\": \"J22\", \"icd_version\": 10, \"num_patients\": 59, \"ICDcode\": \"J22\", \"ICDdescription\": \"Unspecified acute lower respiratory infection\", \"PheCode\": 519.8, \"Phenotype\": \"Other diseases of respiratory system, NEC\", \"ICDversion\": 10.0}, {\"siteid\": \"FSZ\", \"icd_code\": \"J98.8\", \"icd_version\": 10, \"num_patients\": 80, \"ICDcode\": \"J98.8\", \"ICDdescription\": \"Other specified respiratory disorders\", \"PheCode\": 519.8, \"Phenotype\": \"Other diseases of respiratory system, NEC\", \"ICDversion\": 10.0}, {\"siteid\": \"FSZ\", \"icd_code\": \"J80\", \"icd_version\": 10, \"num_patients\": 70, \"ICDcode\": \"J80\", \"ICDdescription\": \"Adult respiratory distress syndrome\", \"PheCode\": 509.2, \"Phenotype\": \"Respiratory insufficiency\", \"ICDversion\": 10.0}, {\"siteid\": \"FSZ\", \"icd_code\": \"Z03.818\", \"icd_version\": 10, \"num_patients\": 12, \"ICDcode\": null, \"ICDdescription\": null, \"PheCode\": null, \"Phenotype\": null, \"ICDversion\": null}, {\"siteid\": \"FSZ\", \"icd_code\": \"Z20.828\", \"icd_version\": 10, \"num_patients\": -1, \"ICDcode\": null, \"ICDdescription\": null, \"PheCode\": null, \"Phenotype\": null, \"ICDversion\": null}, {\"siteid\": \"FXL\", \"icd_code\": \"021\", \"icd_version\": 9, \"num_patients\": 44, \"ICDcode\": \"021\", \"ICDdescription\": \"Tularemia\", \"PheCode\": 41.0, \"Phenotype\": \"Bacterial infection NOS\", \"ICDversion\": 9.0}, {\"siteid\": \"FXL\", \"icd_code\": \"126\", \"icd_version\": 9, \"num_patients\": 40, \"ICDcode\": \"126\", \"ICDdescription\": \"Ancylostomiasis and necatoriasis\", \"PheCode\": 134.0, \"Phenotype\": \"Helminthiases\", \"ICDversion\": 9.0}, {\"siteid\": \"FXL\", \"icd_code\": \"082\", \"icd_version\": 9, \"num_patients\": 2, \"ICDcode\": \"082\", \"ICDdescription\": \"Tick-borne rickettsioses\", \"PheCode\": 136.0, \"Phenotype\": \"Other infectious and parasitic diseases\", \"ICDversion\": 9.0}, {\"siteid\": \"FXL\", \"icd_code\": \"093\", \"icd_version\": 9, \"num_patients\": 11, \"ICDcode\": \"093\", \"ICDdescription\": \"Cardiovascular syphilis\", \"PheCode\": 90.0, \"Phenotype\": \"Sexually transmitted infections (not HIV or hepatitis)\", \"ICDversion\": 9.0}, {\"siteid\": \"FXL\", \"icd_code\": \"009\", \"icd_version\": 9, \"num_patients\": -1, \"ICDcode\": \"009\", \"ICDdescription\": \"Ill-defined intestinal infections\", \"PheCode\": 8.0, \"Phenotype\": \"Intestinal infection\", \"ICDversion\": 9.0}, {\"siteid\": \"FXL\", \"icd_code\": \"103\", \"icd_version\": 9, \"num_patients\": -1, \"ICDcode\": \"103\", \"ICDdescription\": \"Pinta\", \"PheCode\": 130.0, \"Phenotype\": \"Spirochetal infection\", \"ICDversion\": 9.0}, {\"siteid\": \"FXL\", \"icd_code\": \"059\", \"icd_version\": 9, \"num_patients\": -1, \"ICDcode\": \"059\", \"ICDdescription\": \"Other poxvirus infections\", \"PheCode\": 79.0, \"Phenotype\": \"Viral infection\", \"ICDversion\": 9.0}, {\"siteid\": \"FXL\", \"icd_code\": \"B97.29\", \"icd_version\": 10, \"num_patients\": 4, \"ICDcode\": null, \"ICDdescription\": null, \"PheCode\": null, \"Phenotype\": null, \"ICDversion\": null}, {\"siteid\": \"FXL\", \"icd_code\": \"J20.8\", \"icd_version\": 10, \"num_patients\": 3, \"ICDcode\": \"J20.8\", \"ICDdescription\": \"Acute bronchitis due to other specified organisms\", \"PheCode\": 483.0, \"Phenotype\": \"Acute bronchitis and bronchiolitis\", \"ICDversion\": 10.0}, {\"siteid\": \"FXL\", \"icd_code\": \"J40\", \"icd_version\": 10, \"num_patients\": -1, \"ICDcode\": \"J40\", \"ICDdescription\": \"Bronchitis, not specified as acute or chronic\", \"PheCode\": 497.0, \"Phenotype\": \"Bronchitis\", \"ICDversion\": 10.0}, {\"siteid\": \"FXL\", \"icd_code\": \"J22\", \"icd_version\": 10, \"num_patients\": -1, \"ICDcode\": \"J22\", \"ICDdescription\": \"Unspecified acute lower respiratory infection\", \"PheCode\": 519.8, \"Phenotype\": \"Other diseases of respiratory system, NEC\", \"ICDversion\": 10.0}, {\"siteid\": \"FXL\", \"icd_code\": \"J80\", \"icd_version\": 10, \"num_patients\": 6, \"ICDcode\": \"J80\", \"ICDdescription\": \"Adult respiratory distress syndrome\", \"PheCode\": 509.2, \"Phenotype\": \"Respiratory insufficiency\", \"ICDversion\": 10.0}, {\"siteid\": \"FBD\", \"icd_code\": \"021\", \"icd_version\": 9, \"num_patients\": 5, \"ICDcode\": \"021\", \"ICDdescription\": \"Tularemia\", \"PheCode\": 41.0, \"Phenotype\": \"Bacterial infection NOS\", \"ICDversion\": 9.0}, {\"siteid\": \"FBD\", \"icd_code\": \"093\", \"icd_version\": 9, \"num_patients\": 9, \"ICDcode\": \"093\", \"ICDdescription\": \"Cardiovascular syphilis\", \"PheCode\": 90.0, \"Phenotype\": \"Sexually transmitted infections (not HIV or hepatitis)\", \"ICDversion\": 9.0}, {\"siteid\": \"FBD\", \"icd_code\": \"J98.8\", \"icd_version\": 10, \"num_patients\": -1, \"ICDcode\": \"J98.8\", \"ICDdescription\": \"Other specified respiratory disorders\", \"PheCode\": 519.8, \"Phenotype\": \"Other diseases of respiratory system, NEC\", \"ICDversion\": 10.0}, {\"siteid\": \"FBD\", \"icd_code\": \"Z20.828\", \"icd_version\": 10, \"num_patients\": -1, \"ICDcode\": null, \"ICDdescription\": null, \"PheCode\": null, \"Phenotype\": null, \"ICDversion\": null}, {\"siteid\": \"FZU\", \"icd_code\": \"126\", \"icd_version\": 9, \"num_patients\": 8, \"ICDcode\": \"126\", \"ICDdescription\": \"Ancylostomiasis and necatoriasis\", \"PheCode\": 134.0, \"Phenotype\": \"Helminthiases\", \"ICDversion\": 9.0}, {\"siteid\": \"FZU\", \"icd_code\": \"093\", \"icd_version\": 9, \"num_patients\": 7, \"ICDcode\": \"093\", \"ICDdescription\": \"Cardiovascular syphilis\", \"PheCode\": 90.0, \"Phenotype\": \"Sexually transmitted infections (not HIV or hepatitis)\", \"ICDversion\": 9.0}, {\"siteid\": \"FZU\", \"icd_code\": \"009\", \"icd_version\": 9, \"num_patients\": -1, \"ICDcode\": \"009\", \"ICDdescription\": \"Ill-defined intestinal infections\", \"PheCode\": 8.0, \"Phenotype\": \"Intestinal infection\", \"ICDversion\": 9.0}, {\"siteid\": \"FZU\", \"icd_code\": \"103\", \"icd_version\": 9, \"num_patients\": -1, \"ICDcode\": \"103\", \"ICDdescription\": \"Pinta\", \"PheCode\": 130.0, \"Phenotype\": \"Spirochetal infection\", \"ICDversion\": 9.0}, {\"siteid\": \"FZU\", \"icd_code\": \"J12.89\", \"icd_version\": 10, \"num_patients\": 6, \"ICDcode\": null, \"ICDdescription\": null, \"PheCode\": null, \"Phenotype\": null, \"ICDversion\": null}, {\"siteid\": \"FZU\", \"icd_code\": \"B97.29\", \"icd_version\": 10, \"num_patients\": -1, \"ICDcode\": null, \"ICDdescription\": null, \"PheCode\": null, \"Phenotype\": null, \"ICDversion\": null}, {\"siteid\": \"FZU\", \"icd_code\": \"J20.8\", \"icd_version\": 10, \"num_patients\": -1, \"ICDcode\": \"J20.8\", \"ICDdescription\": \"Acute bronchitis due to other specified organisms\", \"PheCode\": 483.0, \"Phenotype\": \"Acute bronchitis and bronchiolitis\", \"ICDversion\": 10.0}, {\"siteid\": \"FZU\", \"icd_code\": \"J40\", \"icd_version\": 10, \"num_patients\": 10, \"ICDcode\": \"J40\", \"ICDdescription\": \"Bronchitis, not specified as acute or chronic\", \"PheCode\": 497.0, \"Phenotype\": \"Bronchitis\", \"ICDversion\": 10.0}, {\"siteid\": \"FZU\", \"icd_code\": \"J80\", \"icd_version\": 10, \"num_patients\": 7, \"ICDcode\": \"J80\", \"ICDdescription\": \"Adult respiratory distress syndrome\", \"PheCode\": 509.2, \"Phenotype\": \"Respiratory insufficiency\", \"ICDversion\": 10.0}, {\"siteid\": \"FZU\", \"icd_code\": \"Z20.828\", \"icd_version\": 10, \"num_patients\": -1, \"ICDcode\": null, \"ICDdescription\": null, \"PheCode\": null, \"Phenotype\": null, \"ICDversion\": null}, {\"siteid\": \"FZT\", \"icd_code\": \"082\", \"icd_version\": 9, \"num_patients\": 2, \"ICDcode\": \"082\", \"ICDdescription\": \"Tick-borne rickettsioses\", \"PheCode\": 136.0, \"Phenotype\": \"Other infectious and parasitic diseases\", \"ICDversion\": 9.0}, {\"siteid\": \"FZT\", \"icd_code\": \"009\", \"icd_version\": 9, \"num_patients\": 72, \"ICDcode\": \"009\", \"ICDdescription\": \"Ill-defined intestinal infections\", \"PheCode\": 8.0, \"Phenotype\": \"Intestinal infection\", \"ICDversion\": 9.0}, {\"siteid\": \"FZT\", \"icd_code\": \"103\", \"icd_version\": 9, \"num_patients\": 15, \"ICDcode\": \"103\", \"ICDdescription\": \"Pinta\", \"PheCode\": 130.0, \"Phenotype\": \"Spirochetal infection\", \"ICDversion\": 9.0}, {\"siteid\": \"FZT\", \"icd_code\": \"022\", \"icd_version\": 9, \"num_patients\": 24, \"ICDcode\": \"022\", \"ICDdescription\": \"Anthrax\", \"PheCode\": 41.0, \"Phenotype\": \"Bacterial infection NOS\", \"ICDversion\": 9.0}, {\"siteid\": \"FZT\", \"icd_code\": \"059\", \"icd_version\": 9, \"num_patients\": 88, \"ICDcode\": \"059\", \"ICDdescription\": \"Other poxvirus infections\", \"PheCode\": 79.0, \"Phenotype\": \"Viral infection\", \"ICDversion\": 9.0}, {\"siteid\": \"FZT\", \"icd_code\": \"J12.89\", \"icd_version\": 10, \"num_patients\": 88, \"ICDcode\": null, \"ICDdescription\": null, \"PheCode\": null, \"Phenotype\": null, \"ICDversion\": null}, {\"siteid\": \"FZT\", \"icd_code\": \"B97.29\", \"icd_version\": 10, \"num_patients\": 69, \"ICDcode\": null, \"ICDdescription\": null, \"PheCode\": null, \"Phenotype\": null, \"ICDversion\": null}, {\"siteid\": \"FZT\", \"icd_code\": \"J20.8\", \"icd_version\": 10, \"num_patients\": -1, \"ICDcode\": \"J20.8\", \"ICDdescription\": \"Acute bronchitis due to other specified organisms\", \"PheCode\": 483.0, \"Phenotype\": \"Acute bronchitis and bronchiolitis\", \"ICDversion\": 10.0}, {\"siteid\": \"FZT\", \"icd_code\": \"J98.8\", \"icd_version\": 10, \"num_patients\": 94, \"ICDcode\": \"J98.8\", \"ICDdescription\": \"Other specified respiratory disorders\", \"PheCode\": 519.8, \"Phenotype\": \"Other diseases of respiratory system, NEC\", \"ICDversion\": 10.0}, {\"siteid\": \"FZT\", \"icd_code\": \"J80\", \"icd_version\": 10, \"num_patients\": 53, \"ICDcode\": \"J80\", \"ICDdescription\": \"Adult respiratory distress syndrome\", \"PheCode\": 509.2, \"Phenotype\": \"Respiratory insufficiency\", \"ICDversion\": 10.0}, {\"siteid\": \"FOW\", \"icd_code\": \"021\", \"icd_version\": 9, \"num_patients\": 42, \"ICDcode\": \"021\", \"ICDdescription\": \"Tularemia\", \"PheCode\": 41.0, \"Phenotype\": \"Bacterial infection NOS\", \"ICDversion\": 9.0}, {\"siteid\": \"FOW\", \"icd_code\": \"082\", \"icd_version\": 9, \"num_patients\": 17, \"ICDcode\": \"082\", \"ICDdescription\": \"Tick-borne rickettsioses\", \"PheCode\": 136.0, \"Phenotype\": \"Other infectious and parasitic diseases\", \"ICDversion\": 9.0}, {\"siteid\": \"FOW\", \"icd_code\": \"103\", \"icd_version\": 9, \"num_patients\": 2, \"ICDcode\": \"103\", \"ICDdescription\": \"Pinta\", \"PheCode\": 130.0, \"Phenotype\": \"Spirochetal infection\", \"ICDversion\": 9.0}, {\"siteid\": \"FOW\", \"icd_code\": \"022\", \"icd_version\": 9, \"num_patients\": -1, \"ICDcode\": \"022\", \"ICDdescription\": \"Anthrax\", \"PheCode\": 41.0, \"Phenotype\": \"Bacterial infection NOS\", \"ICDversion\": 9.0}, {\"siteid\": \"FOW\", \"icd_code\": \"059\", \"icd_version\": 9, \"num_patients\": 45, \"ICDcode\": \"059\", \"ICDdescription\": \"Other poxvirus infections\", \"PheCode\": 79.0, \"Phenotype\": \"Viral infection\", \"ICDversion\": 9.0}, {\"siteid\": \"FOW\", \"icd_code\": \"J12.89\", \"icd_version\": 10, \"num_patients\": -1, \"ICDcode\": null, \"ICDdescription\": null, \"PheCode\": null, \"Phenotype\": null, \"ICDversion\": null}, {\"siteid\": \"FOW\", \"icd_code\": \"B97.29\", \"icd_version\": 10, \"num_patients\": -1, \"ICDcode\": null, \"ICDdescription\": null, \"PheCode\": null, \"Phenotype\": null, \"ICDversion\": null}, {\"siteid\": \"FOW\", \"icd_code\": \"J20.8\", \"icd_version\": 10, \"num_patients\": -1, \"ICDcode\": \"J20.8\", \"ICDdescription\": \"Acute bronchitis due to other specified organisms\", \"PheCode\": 483.0, \"Phenotype\": \"Acute bronchitis and bronchiolitis\", \"ICDversion\": 10.0}, {\"siteid\": \"FOW\", \"icd_code\": \"J40\", \"icd_version\": 10, \"num_patients\": -1, \"ICDcode\": \"J40\", \"ICDdescription\": \"Bronchitis, not specified as acute or chronic\", \"PheCode\": 497.0, \"Phenotype\": \"Bronchitis\", \"ICDversion\": 10.0}, {\"siteid\": \"FOW\", \"icd_code\": \"J98.8\", \"icd_version\": 10, \"num_patients\": -1, \"ICDcode\": \"J98.8\", \"ICDdescription\": \"Other specified respiratory disorders\", \"PheCode\": 519.8, \"Phenotype\": \"Other diseases of respiratory system, NEC\", \"ICDversion\": 10.0}, {\"siteid\": \"FOW\", \"icd_code\": \"Z03.818\", \"icd_version\": 10, \"num_patients\": -1, \"ICDcode\": null, \"ICDdescription\": null, \"PheCode\": null, \"Phenotype\": null, \"ICDversion\": null}, {\"siteid\": \"FOW\", \"icd_code\": \"Z20.828\", \"icd_version\": 10, \"num_patients\": -1, \"ICDcode\": null, \"ICDdescription\": null, \"PheCode\": null, \"Phenotype\": null, \"ICDversion\": null}, {\"siteid\": \"FUN\", \"icd_code\": \"093\", \"icd_version\": 9, \"num_patients\": -1, \"ICDcode\": \"093\", \"ICDdescription\": \"Cardiovascular syphilis\", \"PheCode\": 90.0, \"Phenotype\": \"Sexually transmitted infections (not HIV or hepatitis)\", \"ICDversion\": 9.0}, {\"siteid\": \"FUN\", \"icd_code\": \"103\", \"icd_version\": 9, \"num_patients\": -1, \"ICDcode\": \"103\", \"ICDdescription\": \"Pinta\", \"PheCode\": 130.0, \"Phenotype\": \"Spirochetal infection\", \"ICDversion\": 9.0}, {\"siteid\": \"FUN\", \"icd_code\": \"059\", \"icd_version\": 9, \"num_patients\": -1, \"ICDcode\": \"059\", \"ICDdescription\": \"Other poxvirus infections\", \"PheCode\": 79.0, \"Phenotype\": \"Viral infection\", \"ICDversion\": 9.0}, {\"siteid\": \"FUN\", \"icd_code\": \"J20.8\", \"icd_version\": 10, \"num_patients\": 38, \"ICDcode\": \"J20.8\", \"ICDdescription\": \"Acute bronchitis due to other specified organisms\", \"PheCode\": 483.0, \"Phenotype\": \"Acute bronchitis and bronchiolitis\", \"ICDversion\": 10.0}, {\"siteid\": \"FUN\", \"icd_code\": \"J98.8\", \"icd_version\": 10, \"num_patients\": -1, \"ICDcode\": \"J98.8\", \"ICDdescription\": \"Other specified respiratory disorders\", \"PheCode\": 519.8, \"Phenotype\": \"Other diseases of respiratory system, NEC\", \"ICDversion\": 10.0}, {\"siteid\": \"FUN\", \"icd_code\": \"Z03.818\", \"icd_version\": 10, \"num_patients\": 32, \"ICDcode\": null, \"ICDdescription\": null, \"PheCode\": null, \"Phenotype\": null, \"ICDversion\": null}, {\"siteid\": \"FUN\", \"icd_code\": \"Z20.828\", \"icd_version\": 10, \"num_patients\": -1, \"ICDcode\": null, \"ICDdescription\": null, \"PheCode\": null, \"Phenotype\": null, \"ICDversion\": null}, {\"siteid\": \"FUU\", \"icd_code\": \"021\", \"icd_version\": 9, \"num_patients\": 3, \"ICDcode\": \"021\", \"ICDdescription\": \"Tularemia\", \"PheCode\": 41.0, \"Phenotype\": \"Bacterial infection NOS\", \"ICDversion\": 9.0}, {\"siteid\": \"FUU\", \"icd_code\": \"082\", \"icd_version\": 9, \"num_patients\": 58, \"ICDcode\": \"082\", \"ICDdescription\": \"Tick-borne rickettsioses\", \"PheCode\": 136.0, \"Phenotype\": \"Other infectious and parasitic diseases\", \"ICDversion\": 9.0}, {\"siteid\": \"FUU\", \"icd_code\": \"059\", \"icd_version\": 9, \"num_patients\": -1, \"ICDcode\": \"059\", \"ICDdescription\": \"Other poxvirus infections\", \"PheCode\": 79.0, \"Phenotype\": \"Viral infection\", \"ICDversion\": 9.0}, {\"siteid\": \"FUU\", \"icd_code\": \"J12.89\", \"icd_version\": 10, \"num_patients\": 79, \"ICDcode\": null, \"ICDdescription\": null, \"PheCode\": null, \"Phenotype\": null, \"ICDversion\": null}, {\"siteid\": \"FUU\", \"icd_code\": \"B97.29\", \"icd_version\": 10, \"num_patients\": -1, \"ICDcode\": null, \"ICDdescription\": null, \"PheCode\": null, \"Phenotype\": null, \"ICDversion\": null}, {\"siteid\": \"FUU\", \"icd_code\": \"J40\", \"icd_version\": 10, \"num_patients\": -1, \"ICDcode\": \"J40\", \"ICDdescription\": \"Bronchitis, not specified as acute or chronic\", \"PheCode\": 497.0, \"Phenotype\": \"Bronchitis\", \"ICDversion\": 10.0}, {\"siteid\": \"FUU\", \"icd_code\": \"J22\", \"icd_version\": 10, \"num_patients\": -1, \"ICDcode\": \"J22\", \"ICDdescription\": \"Unspecified acute lower respiratory infection\", \"PheCode\": 519.8, \"Phenotype\": \"Other diseases of respiratory system, NEC\", \"ICDversion\": 10.0}, {\"siteid\": \"FUU\", \"icd_code\": \"J98.8\", \"icd_version\": 10, \"num_patients\": -1, \"ICDcode\": \"J98.8\", \"ICDdescription\": \"Other specified respiratory disorders\", \"PheCode\": 519.8, \"Phenotype\": \"Other diseases of respiratory system, NEC\", \"ICDversion\": 10.0}, {\"siteid\": \"FUU\", \"icd_code\": \"Z03.818\", \"icd_version\": 10, \"num_patients\": -1, \"ICDcode\": null, \"ICDdescription\": null, \"PheCode\": null, \"Phenotype\": null, \"ICDversion\": null}, {\"siteid\": \"FZM\", \"icd_code\": \"021\", \"icd_version\": 9, \"num_patients\": -1, \"ICDcode\": \"021\", \"ICDdescription\": \"Tularemia\", \"PheCode\": 41.0, \"Phenotype\": \"Bacterial infection NOS\", \"ICDversion\": 9.0}, {\"siteid\": \"FZM\", \"icd_code\": \"126\", \"icd_version\": 9, \"num_patients\": -1, \"ICDcode\": \"126\", \"ICDdescription\": \"Ancylostomiasis and necatoriasis\", \"PheCode\": 134.0, \"Phenotype\": \"Helminthiases\", \"ICDversion\": 9.0}, {\"siteid\": \"FZM\", \"icd_code\": \"082\", \"icd_version\": 9, \"num_patients\": -1, \"ICDcode\": \"082\", \"ICDdescription\": \"Tick-borne rickettsioses\", \"PheCode\": 136.0, \"Phenotype\": \"Other infectious and parasitic diseases\", \"ICDversion\": 9.0}, {\"siteid\": \"FZM\", \"icd_code\": \"022\", \"icd_version\": 9, \"num_patients\": 3, \"ICDcode\": \"022\", \"ICDdescription\": \"Anthrax\", \"PheCode\": 41.0, \"Phenotype\": \"Bacterial infection NOS\", \"ICDversion\": 9.0}, {\"siteid\": \"FZM\", \"icd_code\": \"087\", \"icd_version\": 9, \"num_patients\": 5, \"ICDcode\": \"087\", \"ICDdescription\": \"Relapsing fever\", \"PheCode\": 130.0, \"Phenotype\": \"Spirochetal infection\", \"ICDversion\": 9.0}, {\"siteid\": \"FZM\", \"icd_code\": \"J12.89\", \"icd_version\": 10, \"num_patients\": 8, \"ICDcode\": null, \"ICDdescription\": null, \"PheCode\": null, \"Phenotype\": null, \"ICDversion\": null}, {\"siteid\": \"FZM\", \"icd_code\": \"B97.29\", \"icd_version\": 10, \"num_patients\": -1, \"ICDcode\": null, \"ICDdescription\": null, \"PheCode\": null, \"Phenotype\": null, \"ICDversion\": null}, {\"siteid\": \"FZM\", \"icd_code\": \"J22\", \"icd_version\": 10, \"num_patients\": -1, \"ICDcode\": \"J22\", \"ICDdescription\": \"Unspecified acute lower respiratory infection\", \"PheCode\": 519.8, \"Phenotype\": \"Other diseases of respiratory system, NEC\", \"ICDversion\": 10.0}, {\"siteid\": \"FZM\", \"icd_code\": \"J98.8\", \"icd_version\": 10, \"num_patients\": -1, \"ICDcode\": \"J98.8\", \"ICDdescription\": \"Other specified respiratory disorders\", \"PheCode\": 519.8, \"Phenotype\": \"Other diseases of respiratory system, NEC\", \"ICDversion\": 10.0}, {\"siteid\": \"FVX\", \"icd_code\": \"126\", \"icd_version\": 9, \"num_patients\": 2, \"ICDcode\": \"126\", \"ICDdescription\": \"Ancylostomiasis and necatoriasis\", \"PheCode\": 134.0, \"Phenotype\": \"Helminthiases\", \"ICDversion\": 9.0}, {\"siteid\": \"FVX\", \"icd_code\": \"J12.89\", \"icd_version\": 10, \"num_patients\": 11, \"ICDcode\": null, \"ICDdescription\": null, \"PheCode\": null, \"Phenotype\": null, \"ICDversion\": null}, {\"siteid\": \"FVX\", \"icd_code\": \"B97.29\", \"icd_version\": 10, \"num_patients\": 9, \"ICDcode\": null, \"ICDdescription\": null, \"PheCode\": null, \"Phenotype\": null, \"ICDversion\": null}, {\"siteid\": \"FVX\", \"icd_code\": \"J22\", \"icd_version\": 10, \"num_patients\": -1, \"ICDcode\": \"J22\", \"ICDdescription\": \"Unspecified acute lower respiratory infection\", \"PheCode\": 519.8, \"Phenotype\": \"Other diseases of respiratory system, NEC\", \"ICDversion\": 10.0}, {\"siteid\": \"FVX\", \"icd_code\": \"J98.8\", \"icd_version\": 10, \"num_patients\": -1, \"ICDcode\": \"J98.8\", \"ICDdescription\": \"Other specified respiratory disorders\", \"PheCode\": 519.8, \"Phenotype\": \"Other diseases of respiratory system, NEC\", \"ICDversion\": 10.0}, {\"siteid\": \"FVX\", \"icd_code\": \"J80\", \"icd_version\": 10, \"num_patients\": 4, \"ICDcode\": \"J80\", \"ICDdescription\": \"Adult respiratory distress syndrome\", \"PheCode\": 509.2, \"Phenotype\": \"Respiratory insufficiency\", \"ICDversion\": 10.0}, {\"siteid\": \"FVX\", \"icd_code\": \"Z03.818\", \"icd_version\": 10, \"num_patients\": 10, \"ICDcode\": null, \"ICDdescription\": null, \"PheCode\": null, \"Phenotype\": null, \"ICDversion\": null}, {\"siteid\": \"FVX\", \"icd_code\": \"Z20.828\", \"icd_version\": 10, \"num_patients\": 10, \"ICDcode\": null, \"ICDdescription\": null, \"PheCode\": null, \"Phenotype\": null, \"ICDversion\": null}, {\"siteid\": \"FBL\", \"icd_code\": \"021\", \"icd_version\": 9, \"num_patients\": -1, \"ICDcode\": \"021\", \"ICDdescription\": \"Tularemia\", \"PheCode\": 41.0, \"Phenotype\": \"Bacterial infection NOS\", \"ICDversion\": 9.0}, {\"siteid\": \"FBL\", \"icd_code\": \"082\", \"icd_version\": 9, \"num_patients\": 40, \"ICDcode\": \"082\", \"ICDdescription\": \"Tick-borne rickettsioses\", \"PheCode\": 136.0, \"Phenotype\": \"Other infectious and parasitic diseases\", \"ICDversion\": 9.0}, {\"siteid\": \"FBL\", \"icd_code\": \"009\", \"icd_version\": 9, \"num_patients\": 26, \"ICDcode\": \"009\", \"ICDdescription\": \"Ill-defined intestinal infections\", \"PheCode\": 8.0, \"Phenotype\": \"Intestinal infection\", \"ICDversion\": 9.0}, {\"siteid\": \"FBL\", \"icd_code\": \"103\", \"icd_version\": 9, \"num_patients\": -1, \"ICDcode\": \"103\", \"ICDdescription\": \"Pinta\", \"PheCode\": 130.0, \"Phenotype\": \"Spirochetal infection\", \"ICDversion\": 9.0}, {\"siteid\": \"FBL\", \"icd_code\": \"022\", \"icd_version\": 9, \"num_patients\": -1, \"ICDcode\": \"022\", \"ICDdescription\": \"Anthrax\", \"PheCode\": 41.0, \"Phenotype\": \"Bacterial infection NOS\", \"ICDversion\": 9.0}, {\"siteid\": \"FBL\", \"icd_code\": \"087\", \"icd_version\": 9, \"num_patients\": -1, \"ICDcode\": \"087\", \"ICDdescription\": \"Relapsing fever\", \"PheCode\": 130.0, \"Phenotype\": \"Spirochetal infection\", \"ICDversion\": 9.0}, {\"siteid\": \"FBL\", \"icd_code\": \"J12.89\", \"icd_version\": 10, \"num_patients\": 20, \"ICDcode\": null, \"ICDdescription\": null, \"PheCode\": null, \"Phenotype\": null, \"ICDversion\": null}, {\"siteid\": \"FBL\", \"icd_code\": \"B97.29\", \"icd_version\": 10, \"num_patients\": -1, \"ICDcode\": null, \"ICDdescription\": null, \"PheCode\": null, \"Phenotype\": null, \"ICDversion\": null}, {\"siteid\": \"FBL\", \"icd_code\": \"J40\", \"icd_version\": 10, \"num_patients\": -1, \"ICDcode\": \"J40\", \"ICDdescription\": \"Bronchitis, not specified as acute or chronic\", \"PheCode\": 497.0, \"Phenotype\": \"Bronchitis\", \"ICDversion\": 10.0}, {\"siteid\": \"FBL\", \"icd_code\": \"J80\", \"icd_version\": 10, \"num_patients\": -1, \"ICDcode\": \"J80\", \"ICDdescription\": \"Adult respiratory distress syndrome\", \"PheCode\": 509.2, \"Phenotype\": \"Respiratory insufficiency\", \"ICDversion\": 10.0}, {\"siteid\": \"FBL\", \"icd_code\": \"Z03.818\", \"icd_version\": 10, \"num_patients\": -1, \"ICDcode\": null, \"ICDdescription\": null, \"PheCode\": null, \"Phenotype\": null, \"ICDversion\": null}, {\"siteid\": \"FBL\", \"icd_code\": \"Z20.828\", \"icd_version\": 10, \"num_patients\": -1, \"ICDcode\": null, \"ICDdescription\": null, \"PheCode\": null, \"Phenotype\": null, \"ICDversion\": null}, {\"siteid\": \"FMT\", \"icd_code\": \"021\", \"icd_version\": 9, \"num_patients\": -1, \"ICDcode\": \"021\", \"ICDdescription\": \"Tularemia\", \"PheCode\": 41.0, \"Phenotype\": \"Bacterial infection NOS\", \"ICDversion\": 9.0}, {\"siteid\": \"FMT\", \"icd_code\": \"126\", \"icd_version\": 9, \"num_patients\": -1, \"ICDcode\": \"126\", \"ICDdescription\": \"Ancylostomiasis and necatoriasis\", \"PheCode\": 134.0, \"Phenotype\": \"Helminthiases\", \"ICDversion\": 9.0}, {\"siteid\": \"FMT\", \"icd_code\": \"082\", \"icd_version\": 9, \"num_patients\": 3, \"ICDcode\": \"082\", \"ICDdescription\": \"Tick-borne rickettsioses\", \"PheCode\": 136.0, \"Phenotype\": \"Other infectious and parasitic diseases\", \"ICDversion\": 9.0}, {\"siteid\": \"FMT\", \"icd_code\": \"093\", \"icd_version\": 9, \"num_patients\": 46, \"ICDcode\": \"093\", \"ICDdescription\": \"Cardiovascular syphilis\", \"PheCode\": 90.0, \"Phenotype\": \"Sexually transmitted infections (not HIV or hepatitis)\", \"ICDversion\": 9.0}, {\"siteid\": \"FMT\", \"icd_code\": \"009\", \"icd_version\": 9, \"num_patients\": -1, \"ICDcode\": \"009\", \"ICDdescription\": \"Ill-defined intestinal infections\", \"PheCode\": 8.0, \"Phenotype\": \"Intestinal infection\", \"ICDversion\": 9.0}, {\"siteid\": \"FMT\", \"icd_code\": \"103\", \"icd_version\": 9, \"num_patients\": 49, \"ICDcode\": \"103\", \"ICDdescription\": \"Pinta\", \"PheCode\": 130.0, \"Phenotype\": \"Spirochetal infection\", \"ICDversion\": 9.0}, {\"siteid\": \"FMT\", \"icd_code\": \"087\", \"icd_version\": 9, \"num_patients\": 9, \"ICDcode\": \"087\", \"ICDdescription\": \"Relapsing fever\", \"PheCode\": 130.0, \"Phenotype\": \"Spirochetal infection\", \"ICDversion\": 9.0}, {\"siteid\": \"FMT\", \"icd_code\": \"J12.89\", \"icd_version\": 10, \"num_patients\": 89, \"ICDcode\": null, \"ICDdescription\": null, \"PheCode\": null, \"Phenotype\": null, \"ICDversion\": null}, {\"siteid\": \"FMT\", \"icd_code\": \"B97.29\", \"icd_version\": 10, \"num_patients\": 60, \"ICDcode\": null, \"ICDdescription\": null, \"PheCode\": null, \"Phenotype\": null, \"ICDversion\": null}, {\"siteid\": \"FMT\", \"icd_code\": \"J20.8\", \"icd_version\": 10, \"num_patients\": 65, \"ICDcode\": \"J20.8\", \"ICDdescription\": \"Acute bronchitis due to other specified organisms\", \"PheCode\": 483.0, \"Phenotype\": \"Acute bronchitis and bronchiolitis\", \"ICDversion\": 10.0}, {\"siteid\": \"FMT\", \"icd_code\": \"J40\", \"icd_version\": 10, \"num_patients\": -1, \"ICDcode\": \"J40\", \"ICDdescription\": \"Bronchitis, not specified as acute or chronic\", \"PheCode\": 497.0, \"Phenotype\": \"Bronchitis\", \"ICDversion\": 10.0}, {\"siteid\": \"FMT\", \"icd_code\": \"Z03.818\", \"icd_version\": 10, \"num_patients\": -1, \"ICDcode\": null, \"ICDdescription\": null, \"PheCode\": null, \"Phenotype\": null, \"ICDversion\": null}, {\"siteid\": \"FMT\", \"icd_code\": \"Z20.828\", \"icd_version\": 10, \"num_patients\": -1, \"ICDcode\": null, \"ICDdescription\": null, \"PheCode\": null, \"Phenotype\": null, \"ICDversion\": null}, {\"siteid\": \"FMA\", \"icd_code\": \"082\", \"icd_version\": 9, \"num_patients\": 11, \"ICDcode\": \"082\", \"ICDdescription\": \"Tick-borne rickettsioses\", \"PheCode\": 136.0, \"Phenotype\": \"Other infectious and parasitic diseases\", \"ICDversion\": 9.0}, {\"siteid\": \"FMA\", \"icd_code\": \"093\", \"icd_version\": 9, \"num_patients\": -1, \"ICDcode\": \"093\", \"ICDdescription\": \"Cardiovascular syphilis\", \"PheCode\": 90.0, \"Phenotype\": \"Sexually transmitted infections (not HIV or hepatitis)\", \"ICDversion\": 9.0}, {\"siteid\": \"FMA\", \"icd_code\": \"009\", \"icd_version\": 9, \"num_patients\": -1, \"ICDcode\": \"009\", \"ICDdescription\": \"Ill-defined intestinal infections\", \"PheCode\": 8.0, \"Phenotype\": \"Intestinal infection\", \"ICDversion\": 9.0}, {\"siteid\": \"FMA\", \"icd_code\": \"022\", \"icd_version\": 9, \"num_patients\": -1, \"ICDcode\": \"022\", \"ICDdescription\": \"Anthrax\", \"PheCode\": 41.0, \"Phenotype\": \"Bacterial infection NOS\", \"ICDversion\": 9.0}, {\"siteid\": \"FMA\", \"icd_code\": \"087\", \"icd_version\": 9, \"num_patients\": 5, \"ICDcode\": \"087\", \"ICDdescription\": \"Relapsing fever\", \"PheCode\": 130.0, \"Phenotype\": \"Spirochetal infection\", \"ICDversion\": 9.0}, {\"siteid\": \"FMA\", \"icd_code\": \"J12.89\", \"icd_version\": 10, \"num_patients\": -1, \"ICDcode\": null, \"ICDdescription\": null, \"PheCode\": null, \"Phenotype\": null, \"ICDversion\": null}, {\"siteid\": \"FMA\", \"icd_code\": \"J20.8\", \"icd_version\": 10, \"num_patients\": 7, \"ICDcode\": \"J20.8\", \"ICDdescription\": \"Acute bronchitis due to other specified organisms\", \"PheCode\": 483.0, \"Phenotype\": \"Acute bronchitis and bronchiolitis\", \"ICDversion\": 10.0}, {\"siteid\": \"FMA\", \"icd_code\": \"J40\", \"icd_version\": 10, \"num_patients\": -1, \"ICDcode\": \"J40\", \"ICDdescription\": \"Bronchitis, not specified as acute or chronic\", \"PheCode\": 497.0, \"Phenotype\": \"Bronchitis\", \"ICDversion\": 10.0}, {\"siteid\": \"FMA\", \"icd_code\": \"J80\", \"icd_version\": 10, \"num_patients\": -1, \"ICDcode\": \"J80\", \"ICDdescription\": \"Adult respiratory distress syndrome\", \"PheCode\": 509.2, \"Phenotype\": \"Respiratory insufficiency\", \"ICDversion\": 10.0}, {\"siteid\": \"FWN\", \"icd_code\": \"021\", \"icd_version\": 9, \"num_patients\": -1, \"ICDcode\": \"021\", \"ICDdescription\": \"Tularemia\", \"PheCode\": 41.0, \"Phenotype\": \"Bacterial infection NOS\", \"ICDversion\": 9.0}, {\"siteid\": \"FWN\", \"icd_code\": \"082\", \"icd_version\": 9, \"num_patients\": -1, \"ICDcode\": \"082\", \"ICDdescription\": \"Tick-borne rickettsioses\", \"PheCode\": 136.0, \"Phenotype\": \"Other infectious and parasitic diseases\", \"ICDversion\": 9.0}, {\"siteid\": \"FWN\", \"icd_code\": \"022\", \"icd_version\": 9, \"num_patients\": -1, \"ICDcode\": \"022\", \"ICDdescription\": \"Anthrax\", \"PheCode\": 41.0, \"Phenotype\": \"Bacterial infection NOS\", \"ICDversion\": 9.0}, {\"siteid\": \"FWN\", \"icd_code\": \"059\", \"icd_version\": 9, \"num_patients\": -1, \"ICDcode\": \"059\", \"ICDdescription\": \"Other poxvirus infections\", \"PheCode\": 79.0, \"Phenotype\": \"Viral infection\", \"ICDversion\": 9.0}, {\"siteid\": \"FWN\", \"icd_code\": \"B97.29\", \"icd_version\": 10, \"num_patients\": 5, \"ICDcode\": null, \"ICDdescription\": null, \"PheCode\": null, \"Phenotype\": null, \"ICDversion\": null}, {\"siteid\": \"FWN\", \"icd_code\": \"J40\", \"icd_version\": 10, \"num_patients\": -1, \"ICDcode\": \"J40\", \"ICDdescription\": \"Bronchitis, not specified as acute or chronic\", \"PheCode\": 497.0, \"Phenotype\": \"Bronchitis\", \"ICDversion\": 10.0}, {\"siteid\": \"FWN\", \"icd_code\": \"J98.8\", \"icd_version\": 10, \"num_patients\": 6, \"ICDcode\": \"J98.8\", \"ICDdescription\": \"Other specified respiratory disorders\", \"PheCode\": 519.8, \"Phenotype\": \"Other diseases of respiratory system, NEC\", \"ICDversion\": 10.0}, {\"siteid\": \"FWN\", \"icd_code\": \"J80\", \"icd_version\": 10, \"num_patients\": -1, \"ICDcode\": \"J80\", \"ICDdescription\": \"Adult respiratory distress syndrome\", \"PheCode\": 509.2, \"Phenotype\": \"Respiratory insufficiency\", \"ICDversion\": 10.0}, {\"siteid\": \"FWN\", \"icd_code\": \"Z03.818\", \"icd_version\": 10, \"num_patients\": 7, \"ICDcode\": null, \"ICDdescription\": null, \"PheCode\": null, \"Phenotype\": null, \"ICDversion\": null}, {\"siteid\": \"FWN\", \"icd_code\": \"Z20.828\", \"icd_version\": 10, \"num_patients\": -1, \"ICDcode\": null, \"ICDdescription\": null, \"PheCode\": null, \"Phenotype\": null, \"ICDversion\": null}, {\"siteid\": \"FKQ\", \"icd_code\": \"021\", \"icd_version\": 9, \"num_patients\": 48, \"ICDcode\": \"021\", \"ICDdescription\": \"Tularemia\", \"PheCode\": 41.0, \"Phenotype\": \"Bacterial infection NOS\", \"ICDversion\": 9.0}, {\"siteid\": \"FKQ\", \"icd_code\": \"126\", \"icd_version\": 9, \"num_patients\": -1, \"ICDcode\": \"126\", \"ICDdescription\": \"Ancylostomiasis and necatoriasis\", \"PheCode\": 134.0, \"Phenotype\": \"Helminthiases\", \"ICDversion\": 9.0}, {\"siteid\": \"FKQ\", \"icd_code\": \"009\", \"icd_version\": 9, \"num_patients\": 5, \"ICDcode\": \"009\", \"ICDdescription\": \"Ill-defined intestinal infections\", \"PheCode\": 8.0, \"Phenotype\": \"Intestinal infection\", \"ICDversion\": 9.0}, {\"siteid\": \"FKQ\", \"icd_code\": \"087\", \"icd_version\": 9, \"num_patients\": 16, \"ICDcode\": \"087\", \"ICDdescription\": \"Relapsing fever\", \"PheCode\": 130.0, \"Phenotype\": \"Spirochetal infection\", \"ICDversion\": 9.0}, {\"siteid\": \"FKQ\", \"icd_code\": \"J12.89\", \"icd_version\": 10, \"num_patients\": -1, \"ICDcode\": null, \"ICDdescription\": null, \"PheCode\": null, \"Phenotype\": null, \"ICDversion\": null}, {\"siteid\": \"FKQ\", \"icd_code\": \"J20.8\", \"icd_version\": 10, \"num_patients\": 42, \"ICDcode\": \"J20.8\", \"ICDdescription\": \"Acute bronchitis due to other specified organisms\", \"PheCode\": 483.0, \"Phenotype\": \"Acute bronchitis and bronchiolitis\", \"ICDversion\": 10.0}, {\"siteid\": \"FKQ\", \"icd_code\": \"J40\", \"icd_version\": 10, \"num_patients\": 16, \"ICDcode\": \"J40\", \"ICDdescription\": \"Bronchitis, not specified as acute or chronic\", \"PheCode\": 497.0, \"Phenotype\": \"Bronchitis\", \"ICDversion\": 10.0}, {\"siteid\": \"FKQ\", \"icd_code\": \"J98.8\", \"icd_version\": 10, \"num_patients\": 3, \"ICDcode\": \"J98.8\", \"ICDdescription\": \"Other specified respiratory disorders\", \"PheCode\": 519.8, \"Phenotype\": \"Other diseases of respiratory system, NEC\", \"ICDversion\": 10.0}, {\"siteid\": \"FKQ\", \"icd_code\": \"J80\", \"icd_version\": 10, \"num_patients\": 13, \"ICDcode\": \"J80\", \"ICDdescription\": \"Adult respiratory distress syndrome\", \"PheCode\": 509.2, \"Phenotype\": \"Respiratory insufficiency\", \"ICDversion\": 10.0}, {\"siteid\": \"FKQ\", \"icd_code\": \"Z03.818\", \"icd_version\": 10, \"num_patients\": 19, \"ICDcode\": null, \"ICDdescription\": null, \"PheCode\": null, \"Phenotype\": null, \"ICDversion\": null}, {\"siteid\": \"FFG\", \"icd_code\": \"021\", \"icd_version\": 9, \"num_patients\": 14, \"ICDcode\": \"021\", \"ICDdescription\": \"Tularemia\", \"PheCode\": 41.0, \"Phenotype\": \"Bacterial infection NOS\", \"ICDversion\": 9.0}, {\"siteid\": \"FFG\", \"icd_code\": \"126\", \"icd_version\": 9, \"num_patients\": 17, \"ICDcode\": \"126\", \"ICDdescription\": \"Ancylostomiasis and necatoriasis\", \"PheCode\": 134.0, \"Phenotype\": \"Helminthiases\", \"ICDversion\": 9.0}, {\"siteid\": \"FFG\", \"icd_code\": \"082\", \"icd_version\": 9, \"num_patients\": -1, \"ICDcode\": \"082\", \"ICDdescription\": \"Tick-borne rickettsioses\", \"PheCode\": 136.0, \"Phenotype\": \"Other infectious and parasitic diseases\", \"ICDversion\": 9.0}, {\"siteid\": \"FFG\", \"icd_code\": \"093\", \"icd_version\": 9, \"num_patients\": -1, \"ICDcode\": \"093\", \"ICDdescription\": \"Cardiovascular syphilis\", \"PheCode\": 90.0, \"Phenotype\": \"Sexually transmitted infections (not HIV or hepatitis)\", \"ICDversion\": 9.0}, {\"siteid\": \"FFG\", \"icd_code\": \"009\", \"icd_version\": 9, \"num_patients\": -1, \"ICDcode\": \"009\", \"ICDdescription\": \"Ill-defined intestinal infections\", \"PheCode\": 8.0, \"Phenotype\": \"Intestinal infection\", \"ICDversion\": 9.0}, {\"siteid\": \"FFG\", \"icd_code\": \"087\", \"icd_version\": 9, \"num_patients\": -1, \"ICDcode\": \"087\", \"ICDdescription\": \"Relapsing fever\", \"PheCode\": 130.0, \"Phenotype\": \"Spirochetal infection\", \"ICDversion\": 9.0}, {\"siteid\": \"FFG\", \"icd_code\": \"B97.29\", \"icd_version\": 10, \"num_patients\": 20, \"ICDcode\": null, \"ICDdescription\": null, \"PheCode\": null, \"Phenotype\": null, \"ICDversion\": null}, {\"siteid\": \"FFG\", \"icd_code\": \"J80\", \"icd_version\": 10, \"num_patients\": 46, \"ICDcode\": \"J80\", \"ICDdescription\": \"Adult respiratory distress syndrome\", \"PheCode\": 509.2, \"Phenotype\": \"Respiratory insufficiency\", \"ICDversion\": 10.0}, {\"siteid\": \"FFG\", \"icd_code\": \"Z03.818\", \"icd_version\": 10, \"num_patients\": 28, \"ICDcode\": null, \"ICDdescription\": null, \"PheCode\": null, \"Phenotype\": null, \"ICDversion\": null}, {\"siteid\": \"FFG\", \"icd_code\": \"Z20.828\", \"icd_version\": 10, \"num_patients\": -1, \"ICDcode\": null, \"ICDdescription\": null, \"PheCode\": null, \"Phenotype\": null, \"ICDversion\": null}]}}, {\"mode\": \"vega-lite\"});\n",
       "</script>"
      ],
      "text/plain": [
       "alt.Chart(...)"
      ]
     },
     "execution_count": 9,
     "metadata": {},
     "output_type": "execute_result"
    }
   ],
   "source": [
    "def apply_theme_sm(base):\n",
    "    return base.configure_axis(\n",
    "        labelFontSize=10,\n",
    "        labelFontWeight=300,\n",
    "        titleFontSize=14,\n",
    "        titleFontWeight=300\n",
    "    ).configure_title(fontSize=20, fontWeight=400, anchor=\"middle\")\n",
    "\n",
    "# Mouseover effect\n",
    "mouseover = alt.selection(type='single', on='mouseover', fields=[icd_code], nearest=False)\n",
    "    \n",
    "base = alt.Chart(df).mark_bar().encode(\n",
    "    x=alt.X(f\"{icd_code}:N\", title=\"ICD Code\"),\n",
    "    y=alt.Y(f\"sum({num_patients}):Q\", title=\"Total Number of Patients\"),\n",
    "    color=alt.Color(icd_version + \":N\", scale=icd_color_scale, title=\"ICD Version\"),\n",
    "    facet=alt.Facet(f\"{siteid}:N\", columns=5, title=\"\"),\n",
    "    tooltip=[icd_code, f\"sum({num_patients})\"]\n",
    ").transform_filter(\n",
    "    # Do not show uncertain data\n",
    "    alt.FieldGTEPredicate(field=num_patients, gte=0)\n",
    ").properties(\n",
    "    width=150,\n",
    "    height=150\n",
    ")\n",
    "\n",
    "chart = apply_theme_sm(base).properties(\n",
    "    title=\"All Diagnoses Patients Have Starting 7 Days Before Positive Test\"\n",
    ")\n",
    "\n",
    "chart.interactive()"
   ]
  },
  {
   "cell_type": "code",
   "execution_count": null,
   "metadata": {},
   "outputs": [],
   "source": []
  }
 ],
 "metadata": {
  "kernelspec": {
   "display_name": "Python [conda env:c19i2b2-py] *",
   "language": "python",
   "name": "conda-env-c19i2b2-py-py"
  },
  "language_info": {
   "codemirror_mode": {
    "name": "ipython",
    "version": 3
   },
   "file_extension": ".py",
   "mimetype": "text/x-python",
   "name": "python",
   "nbconvert_exporter": "python",
   "pygments_lexer": "ipython3",
   "version": "3.8.2"
  }
 },
 "nbformat": 4,
 "nbformat_minor": 4
}
