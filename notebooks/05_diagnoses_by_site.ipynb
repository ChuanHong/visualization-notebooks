{
 "cells": [
  {
   "cell_type": "code",
   "execution_count": 1,
   "metadata": {},
   "outputs": [],
   "source": [
    "import pandas as pd\n",
    "import numpy as np\n",
    "import altair as alt\n",
    "from ipywidgets import interact\n",
    "from os.path import join\n",
    "\n",
    "from constants import COLUMNS\n",
    "from utils import read_latest_diagnoses_df"
   ]
  },
  {
   "cell_type": "code",
   "execution_count": 2,
   "metadata": {},
   "outputs": [
    {
     "data": {
      "text/html": [
       "<div>\n",
       "<style scoped>\n",
       "    .dataframe tbody tr th:only-of-type {\n",
       "        vertical-align: middle;\n",
       "    }\n",
       "\n",
       "    .dataframe tbody tr th {\n",
       "        vertical-align: top;\n",
       "    }\n",
       "\n",
       "    .dataframe thead th {\n",
       "        text-align: right;\n",
       "    }\n",
       "</style>\n",
       "<table border=\"1\" class=\"dataframe\">\n",
       "  <thead>\n",
       "    <tr style=\"text-align: right;\">\n",
       "      <th></th>\n",
       "      <th>siteid</th>\n",
       "      <th>icd_code</th>\n",
       "      <th>icd_version</th>\n",
       "      <th>num_patients</th>\n",
       "    </tr>\n",
       "  </thead>\n",
       "  <tbody>\n",
       "    <tr>\n",
       "      <th>0</th>\n",
       "      <td>FZU</td>\n",
       "      <td>126</td>\n",
       "      <td>9</td>\n",
       "      <td>8</td>\n",
       "    </tr>\n",
       "    <tr>\n",
       "      <th>1</th>\n",
       "      <td>FZU</td>\n",
       "      <td>093</td>\n",
       "      <td>9</td>\n",
       "      <td>7</td>\n",
       "    </tr>\n",
       "    <tr>\n",
       "      <th>2</th>\n",
       "      <td>FZU</td>\n",
       "      <td>009</td>\n",
       "      <td>9</td>\n",
       "      <td>-1</td>\n",
       "    </tr>\n",
       "    <tr>\n",
       "      <th>3</th>\n",
       "      <td>FZU</td>\n",
       "      <td>103</td>\n",
       "      <td>9</td>\n",
       "      <td>-1</td>\n",
       "    </tr>\n",
       "    <tr>\n",
       "      <th>4</th>\n",
       "      <td>FZU</td>\n",
       "      <td>J12.89</td>\n",
       "      <td>10</td>\n",
       "      <td>6</td>\n",
       "    </tr>\n",
       "  </tbody>\n",
       "</table>\n",
       "</div>"
      ],
      "text/plain": [
       "  siteid icd_code  icd_version  num_patients\n",
       "0    FZU      126            9             8\n",
       "1    FZU      093            9             7\n",
       "2    FZU      009            9            -1\n",
       "3    FZU      103            9            -1\n",
       "4    FZU   J12.89           10             6"
      ]
     },
     "execution_count": 2,
     "metadata": {},
     "output_type": "execute_result"
    }
   ],
   "source": [
    "df = read_latest_diagnoses_df()\n",
    "SITE_IDS = df[COLUMNS.SITE_ID].unique().tolist()\n",
    "\n",
    "# Columns\n",
    "siteid = COLUMNS.SITE_ID\n",
    "icd_code = COLUMNS.ICD_CODE\n",
    "icd_version = COLUMNS.ICD_VERSION\n",
    "num_patients = COLUMNS.NUM_PATIENTS\n",
    "\n",
    "df.head()"
   ]
  },
  {
   "cell_type": "markdown",
   "metadata": {},
   "source": [
    "## Summarization Chart\n",
    "##### Select Site ID to see data by a specific site ID"
   ]
  },
  {
   "cell_type": "code",
   "execution_count": 3,
   "metadata": {},
   "outputs": [
    {
     "data": {
      "application/vnd.jupyter.widget-view+json": {
       "model_id": "28be5b19014f4620a9d8c8bf994a69d3",
       "version_major": 2,
       "version_minor": 0
      },
      "text/plain": [
       "interactive(children=(Dropdown(description='SiteID', options=('All Sites', 'FZU', 'FZT', 'FZM', 'FXL', 'FWN', …"
      ]
     },
     "metadata": {},
     "output_type": "display_data"
    },
    {
     "data": {
      "text/plain": [
       "<function __main__.diagnoses_chart(SiteID)>"
      ]
     },
     "execution_count": 3,
     "metadata": {},
     "output_type": "execute_result"
    }
   ],
   "source": [
    "icd_color_scale = alt.Scale(domain=[\"9\", \"10\"], range=[\"#69A6CE\", \"#EB6F63\"])\n",
    "\n",
    "def apply_theme(base):\n",
    "    return base.configure_axis(\n",
    "        labelFontSize=14,\n",
    "        labelFontWeight=300,\n",
    "        titleFontSize=18,\n",
    "        titleFontWeight=300\n",
    "    ).configure_title(fontSize=18, fontWeight=400, anchor=\"middle\")\n",
    "    \n",
    "def diagnoses_chart(SiteID): \n",
    "    \n",
    "    # Mouseover effect\n",
    "    mouseover = alt.selection(type='single', on='mouseover', fields=[icd_code], nearest=False)\n",
    "    \n",
    "    # Base bar chart\n",
    "    base = alt.Chart(df).mark_bar().encode(\n",
    "        x=alt.X(f\"sum({num_patients}):Q\", title=\"Total Number of Patients\", axis=alt.Axis(tickCount=5)),\n",
    "        y=alt.Y(f\"{icd_code}:N\", title=\"ICD Code\", sort=\"-x\"),\n",
    "        color=alt.Color(icd_version + \":N\", scale=icd_color_scale, title=\"ICD Version\"),\n",
    "        # mouse hover visual effect\n",
    "        opacity=alt.condition(~mouseover, alt.value(1), alt.value(0.8)),\n",
    "        tooltip=[icd_code, f\"sum({num_patients})\"]\n",
    "    ).transform_filter(\n",
    "        # Do not show uncertain data\n",
    "        alt.FieldGTEPredicate(field=num_patients, gte=0)\n",
    "    ).properties(\n",
    "        title=\"All Diagnoses Patients Have Starting 7 Days Before Positive Test (\" + SiteID + \")\",\n",
    "        width=500,\n",
    "        height=300\n",
    "    )\n",
    "    \n",
    "    if SiteID != \"All Sites\":\n",
    "        base = base.transform_filter(\n",
    "            alt.FieldEqualPredicate(field=siteid, equal=SiteID)\n",
    "        )\n",
    "    \n",
    "    # Text label\n",
    "    text = base.mark_text(align='right', baseline='middle', dx=-4, fontWeight=\"bold\").encode(\n",
    "        text=f\"sum({num_patients}):Q\",\n",
    "        color=alt.value(\"white\")\n",
    "    )\n",
    "    \n",
    "    chart = apply_theme((base + text)).add_selection(mouseover)\n",
    "        \n",
    "    return chart.interactive()\n",
    "\n",
    "interact(diagnoses_chart, SiteID=[\"All Sites\"] + SITE_IDS, )"
   ]
  },
  {
   "cell_type": "markdown",
   "metadata": {},
   "source": [
    "## One-to-N Comparison Chart\n",
    "##### Select site ID using dropdown menu to highlight"
   ]
  },
  {
   "cell_type": "code",
   "execution_count": 4,
   "metadata": {},
   "outputs": [
    {
     "data": {
      "application/vnd.jupyter.widget-view+json": {
       "model_id": "7f25f3ea33a746d99405f047de596b2e",
       "version_major": 2,
       "version_minor": 0
      },
      "text/plain": [
       "interactive(children=(Dropdown(description='HighlightBy', options=('FZU', 'FZT', 'FZM', 'FXL', 'FWN', 'FVX', '…"
      ]
     },
     "metadata": {},
     "output_type": "display_data"
    },
    {
     "data": {
      "text/plain": [
       "<function __main__.diagnoses_chart_hl(HighlightBy)>"
      ]
     },
     "execution_count": 4,
     "metadata": {},
     "output_type": "execute_result"
    }
   ],
   "source": [
    "def diagnoses_chart_hl(HighlightBy): \n",
    "    \n",
    "    # Base bar chart\n",
    "    base = alt.Chart(df).mark_bar().encode(\n",
    "        x=alt.X(f\"sum({num_patients}):Q\", title=\"Total Number of Patients\", axis=alt.Axis(tickCount=5)),\n",
    "        y=alt.Y(f\"{icd_code}:N\", title=\"ICD Code\", sort=\"-x\"),\n",
    "        color=alt.value(\"lightgray\")\n",
    "    ).transform_filter(\n",
    "        # Do not show uncertain data\n",
    "        alt.FieldGTEPredicate(field=num_patients, gte=0)\n",
    "    ).properties(\n",
    "        title=\"All Diagnoses Patients Have Starting 7 Days Before Positive Test (\" + HighlightBy + \")\",\n",
    "        width=500,\n",
    "        height=300\n",
    "    )\n",
    "    \n",
    "    # Selected bars\n",
    "    hl = base.encode(\n",
    "        color=alt.Color(icd_version + \":N\", scale=icd_color_scale, title=\"ICD Version\")\n",
    "    ).transform_filter(\n",
    "        alt.FieldEqualPredicate(field=siteid, equal=HighlightBy)\n",
    "    )\n",
    "    \n",
    "    # Text label\n",
    "    text = base.mark_text(align='right', baseline='middle', dx=-4, fontWeight=\"bold\").encode(\n",
    "        text=f\"sum({num_patients}):Q\",\n",
    "        color=alt.value(\"white\")\n",
    "    )\n",
    "    \n",
    "    text_hl = hl.mark_text(align='left', baseline='middle', dx=4, fontWeight=\"bold\").encode(\n",
    "        text=f\"sum({num_patients}):Q\"\n",
    "    )\n",
    "    \n",
    "    chart = apply_theme((base + text + hl + text_hl))\n",
    "        \n",
    "    return chart.interactive()\n",
    "\n",
    "interact(diagnoses_chart_hl, HighlightBy=SITE_IDS, )"
   ]
  },
  {
   "cell_type": "code",
   "execution_count": 5,
   "metadata": {},
   "outputs": [
    {
     "data": {
      "text/html": [
       "\n",
       "<div id=\"altair-viz-feba57ce91114d049a9766849900be25\"></div>\n",
       "<script type=\"text/javascript\">\n",
       "  (function(spec, embedOpt){\n",
       "    const outputDiv = document.getElementById(\"altair-viz-feba57ce91114d049a9766849900be25\");\n",
       "    const paths = {\n",
       "      \"vega\": \"https://cdn.jsdelivr.net/npm//vega@5?noext\",\n",
       "      \"vega-lib\": \"https://cdn.jsdelivr.net/npm//vega-lib?noext\",\n",
       "      \"vega-lite\": \"https://cdn.jsdelivr.net/npm//vega-lite@4.0.2?noext\",\n",
       "      \"vega-embed\": \"https://cdn.jsdelivr.net/npm//vega-embed@6?noext\",\n",
       "    };\n",
       "\n",
       "    function loadScript(lib) {\n",
       "      return new Promise(function(resolve, reject) {\n",
       "        var s = document.createElement('script');\n",
       "        s.src = paths[lib];\n",
       "        s.async = true;\n",
       "        s.onload = () => resolve(paths[lib]);\n",
       "        s.onerror = () => reject(`Error loading script: ${paths[lib]}`);\n",
       "        document.getElementsByTagName(\"head\")[0].appendChild(s);\n",
       "      });\n",
       "    }\n",
       "\n",
       "    function showError(err) {\n",
       "      outputDiv.innerHTML = `<div class=\"error\" style=\"color:red;\">${err}</div>`;\n",
       "      throw err;\n",
       "    }\n",
       "\n",
       "    function displayChart(vegaEmbed) {\n",
       "      vegaEmbed(outputDiv, spec, embedOpt)\n",
       "        .catch(err => showError(`Javascript Error: ${err.message}<br>This usually means there's a typo in your chart specification. See the javascript console for the full traceback.`));\n",
       "    }\n",
       "\n",
       "    if(typeof define === \"function\" && define.amd) {\n",
       "      requirejs.config({paths});\n",
       "      require([\"vega-embed\"], displayChart, err => showError(`Error loading script: ${err.message}`));\n",
       "    } else if (typeof vegaEmbed === \"function\") {\n",
       "      displayChart(vegaEmbed);\n",
       "    } else {\n",
       "      loadScript(\"vega\")\n",
       "        .then(() => loadScript(\"vega-lite\"))\n",
       "        .then(() => loadScript(\"vega-embed\"))\n",
       "        .catch(showError)\n",
       "        .then(() => displayChart(vegaEmbed));\n",
       "    }\n",
       "  })({\"config\": {\"view\": {\"continuousWidth\": 400, \"continuousHeight\": 300}, \"axis\": {\"labelFontSize\": 14, \"labelFontWeight\": 300, \"titleFontSize\": 18, \"titleFontWeight\": 300}, \"title\": {\"anchor\": \"middle\", \"fontSize\": 18, \"fontWeight\": 400}}, \"hconcat\": [{\"layer\": [{\"mark\": \"bar\", \"encoding\": {\"color\": {\"value\": \"lightgray\"}, \"x\": {\"type\": \"quantitative\", \"aggregate\": \"sum\", \"axis\": {\"tickCount\": 5}, \"field\": \"num_patients\", \"title\": \"Total Number of Patients\"}, \"y\": {\"type\": \"nominal\", \"field\": \"icd_code\", \"title\": \"ICD Code\"}}, \"height\": 300, \"title\": \"Diagnoses Patients Have Starting 7 Days Before Positive Test\", \"transform\": [{\"filter\": {\"field\": \"num_patients\", \"gte\": 0}}], \"width\": 350}, {\"mark\": {\"type\": \"text\", \"align\": \"right\", \"baseline\": \"middle\", \"dx\": -4, \"fontWeight\": \"bold\"}, \"encoding\": {\"color\": {\"value\": \"white\"}, \"text\": {\"type\": \"quantitative\", \"aggregate\": \"sum\", \"field\": \"num_patients\"}, \"x\": {\"type\": \"quantitative\", \"aggregate\": \"sum\", \"axis\": {\"tickCount\": 5}, \"field\": \"num_patients\", \"title\": \"Total Number of Patients\"}, \"y\": {\"type\": \"nominal\", \"field\": \"icd_code\", \"title\": \"ICD Code\"}}, \"height\": 300, \"title\": \"Diagnoses Patients Have Starting 7 Days Before Positive Test\", \"transform\": [{\"filter\": {\"field\": \"num_patients\", \"gte\": 0}}], \"width\": 350}, {\"mark\": \"bar\", \"encoding\": {\"color\": {\"type\": \"nominal\", \"field\": \"icd_version\", \"scale\": {\"domain\": [\"9\", \"10\"], \"range\": [\"#69A6CE\", \"#EB6F63\"]}, \"title\": \"ICD Version\"}, \"x\": {\"type\": \"quantitative\", \"aggregate\": \"sum\", \"axis\": {\"tickCount\": 5}, \"field\": \"num_patients\", \"title\": \"Total Number of Patients\"}, \"y\": {\"type\": \"nominal\", \"field\": \"icd_code\", \"title\": \"ICD Code\"}}, \"height\": 300, \"title\": \"Diagnoses Patients Have Starting 7 Days Before Positive Test\", \"transform\": [{\"filter\": {\"field\": \"num_patients\", \"gte\": 0}}, {\"filter\": {\"selection\": \"selector004\"}}], \"width\": 350}, {\"mark\": {\"type\": \"text\", \"align\": \"left\", \"baseline\": \"middle\", \"dx\": 4, \"fontWeight\": \"bold\"}, \"encoding\": {\"color\": {\"type\": \"nominal\", \"field\": \"icd_version\", \"scale\": {\"domain\": [\"9\", \"10\"], \"range\": [\"#69A6CE\", \"#EB6F63\"]}, \"title\": \"ICD Version\"}, \"text\": {\"type\": \"quantitative\", \"aggregate\": \"sum\", \"field\": \"num_patients\"}, \"x\": {\"type\": \"quantitative\", \"aggregate\": \"sum\", \"axis\": {\"tickCount\": 5}, \"field\": \"num_patients\", \"title\": \"Total Number of Patients\"}, \"y\": {\"type\": \"nominal\", \"field\": \"icd_code\", \"title\": \"ICD Code\"}}, \"height\": 300, \"title\": \"Diagnoses Patients Have Starting 7 Days Before Positive Test\", \"transform\": [{\"filter\": {\"field\": \"num_patients\", \"gte\": 0}}, {\"filter\": {\"selection\": \"selector004\"}}], \"width\": 350}]}, {\"mark\": \"bar\", \"encoding\": {\"color\": {\"condition\": {\"value\": \"rgb(244, 208, 75)\", \"selection\": {\"not\": \"selector004\"}}, \"value\": \"#E48236\"}, \"x\": {\"type\": \"nominal\", \"field\": \"siteid\", \"sort\": \"-y\", \"title\": \"Site\"}, \"y\": {\"type\": \"quantitative\", \"aggregate\": \"sum\", \"axis\": {\"tickCount\": 5}, \"field\": \"num_patients\", \"title\": \"Total Number of Patients\"}}, \"height\": 300, \"selection\": {\"selector004\": {\"type\": \"single\", \"on\": \"mouseover\", \"fields\": [\"siteid\"], \"nearest\": false}}, \"title\": \"Diagnoses By Site\", \"transform\": [{\"filter\": {\"field\": \"num_patients\", \"gte\": 0}}], \"width\": 350}], \"data\": {\"name\": \"data-7c276bdf7963a74796d5380a54c50889\"}, \"resolve\": {\"scale\": {\"color\": \"independent\"}}, \"$schema\": \"https://vega.github.io/schema/vega-lite/v4.0.2.json\", \"datasets\": {\"data-7c276bdf7963a74796d5380a54c50889\": [{\"siteid\": \"FZU\", \"icd_code\": \"126\", \"icd_version\": 9, \"num_patients\": 8}, {\"siteid\": \"FZU\", \"icd_code\": \"093\", \"icd_version\": 9, \"num_patients\": 7}, {\"siteid\": \"FZU\", \"icd_code\": \"009\", \"icd_version\": 9, \"num_patients\": -1}, {\"siteid\": \"FZU\", \"icd_code\": \"103\", \"icd_version\": 9, \"num_patients\": -1}, {\"siteid\": \"FZU\", \"icd_code\": \"J12.89\", \"icd_version\": 10, \"num_patients\": 6}, {\"siteid\": \"FZU\", \"icd_code\": \"B97.29\", \"icd_version\": 10, \"num_patients\": -1}, {\"siteid\": \"FZU\", \"icd_code\": \"J20.8\", \"icd_version\": 10, \"num_patients\": -1}, {\"siteid\": \"FZU\", \"icd_code\": \"J40\", \"icd_version\": 10, \"num_patients\": 10}, {\"siteid\": \"FZU\", \"icd_code\": \"J80\", \"icd_version\": 10, \"num_patients\": 7}, {\"siteid\": \"FZU\", \"icd_code\": \"Z20.828\", \"icd_version\": 10, \"num_patients\": -1}, {\"siteid\": \"FZT\", \"icd_code\": \"082\", \"icd_version\": 9, \"num_patients\": 2}, {\"siteid\": \"FZT\", \"icd_code\": \"009\", \"icd_version\": 9, \"num_patients\": 72}, {\"siteid\": \"FZT\", \"icd_code\": \"103\", \"icd_version\": 9, \"num_patients\": 15}, {\"siteid\": \"FZT\", \"icd_code\": \"022\", \"icd_version\": 9, \"num_patients\": 24}, {\"siteid\": \"FZT\", \"icd_code\": \"059\", \"icd_version\": 9, \"num_patients\": 88}, {\"siteid\": \"FZT\", \"icd_code\": \"J12.89\", \"icd_version\": 10, \"num_patients\": 88}, {\"siteid\": \"FZT\", \"icd_code\": \"B97.29\", \"icd_version\": 10, \"num_patients\": 69}, {\"siteid\": \"FZT\", \"icd_code\": \"J20.8\", \"icd_version\": 10, \"num_patients\": -1}, {\"siteid\": \"FZT\", \"icd_code\": \"J98.8\", \"icd_version\": 10, \"num_patients\": 94}, {\"siteid\": \"FZT\", \"icd_code\": \"J80\", \"icd_version\": 10, \"num_patients\": 53}, {\"siteid\": \"FZM\", \"icd_code\": \"021\", \"icd_version\": 9, \"num_patients\": -1}, {\"siteid\": \"FZM\", \"icd_code\": \"126\", \"icd_version\": 9, \"num_patients\": -1}, {\"siteid\": \"FZM\", \"icd_code\": \"082\", \"icd_version\": 9, \"num_patients\": -1}, {\"siteid\": \"FZM\", \"icd_code\": \"022\", \"icd_version\": 9, \"num_patients\": 3}, {\"siteid\": \"FZM\", \"icd_code\": \"087\", \"icd_version\": 9, \"num_patients\": 5}, {\"siteid\": \"FZM\", \"icd_code\": \"J12.89\", \"icd_version\": 10, \"num_patients\": 8}, {\"siteid\": \"FZM\", \"icd_code\": \"B97.29\", \"icd_version\": 10, \"num_patients\": -1}, {\"siteid\": \"FZM\", \"icd_code\": \"J22\", \"icd_version\": 10, \"num_patients\": -1}, {\"siteid\": \"FZM\", \"icd_code\": \"J98.8\", \"icd_version\": 10, \"num_patients\": -1}, {\"siteid\": \"FXL\", \"icd_code\": \"021\", \"icd_version\": 9, \"num_patients\": 44}, {\"siteid\": \"FXL\", \"icd_code\": \"126\", \"icd_version\": 9, \"num_patients\": 40}, {\"siteid\": \"FXL\", \"icd_code\": \"082\", \"icd_version\": 9, \"num_patients\": 2}, {\"siteid\": \"FXL\", \"icd_code\": \"093\", \"icd_version\": 9, \"num_patients\": 11}, {\"siteid\": \"FXL\", \"icd_code\": \"009\", \"icd_version\": 9, \"num_patients\": -1}, {\"siteid\": \"FXL\", \"icd_code\": \"103\", \"icd_version\": 9, \"num_patients\": -1}, {\"siteid\": \"FXL\", \"icd_code\": \"059\", \"icd_version\": 9, \"num_patients\": -1}, {\"siteid\": \"FXL\", \"icd_code\": \"B97.29\", \"icd_version\": 10, \"num_patients\": 4}, {\"siteid\": \"FXL\", \"icd_code\": \"J20.8\", \"icd_version\": 10, \"num_patients\": 3}, {\"siteid\": \"FXL\", \"icd_code\": \"J40\", \"icd_version\": 10, \"num_patients\": -1}, {\"siteid\": \"FXL\", \"icd_code\": \"J22\", \"icd_version\": 10, \"num_patients\": -1}, {\"siteid\": \"FXL\", \"icd_code\": \"J80\", \"icd_version\": 10, \"num_patients\": 6}, {\"siteid\": \"FWN\", \"icd_code\": \"021\", \"icd_version\": 9, \"num_patients\": -1}, {\"siteid\": \"FWN\", \"icd_code\": \"082\", \"icd_version\": 9, \"num_patients\": -1}, {\"siteid\": \"FWN\", \"icd_code\": \"022\", \"icd_version\": 9, \"num_patients\": -1}, {\"siteid\": \"FWN\", \"icd_code\": \"059\", \"icd_version\": 9, \"num_patients\": -1}, {\"siteid\": \"FWN\", \"icd_code\": \"B97.29\", \"icd_version\": 10, \"num_patients\": 5}, {\"siteid\": \"FWN\", \"icd_code\": \"J40\", \"icd_version\": 10, \"num_patients\": -1}, {\"siteid\": \"FWN\", \"icd_code\": \"J98.8\", \"icd_version\": 10, \"num_patients\": 6}, {\"siteid\": \"FWN\", \"icd_code\": \"J80\", \"icd_version\": 10, \"num_patients\": -1}, {\"siteid\": \"FWN\", \"icd_code\": \"Z03.818\", \"icd_version\": 10, \"num_patients\": 7}, {\"siteid\": \"FWN\", \"icd_code\": \"Z20.828\", \"icd_version\": 10, \"num_patients\": -1}, {\"siteid\": \"FVX\", \"icd_code\": \"126\", \"icd_version\": 9, \"num_patients\": 2}, {\"siteid\": \"FVX\", \"icd_code\": \"J12.89\", \"icd_version\": 10, \"num_patients\": 11}, {\"siteid\": \"FVX\", \"icd_code\": \"B97.29\", \"icd_version\": 10, \"num_patients\": 9}, {\"siteid\": \"FVX\", \"icd_code\": \"J22\", \"icd_version\": 10, \"num_patients\": -1}, {\"siteid\": \"FVX\", \"icd_code\": \"J98.8\", \"icd_version\": 10, \"num_patients\": -1}, {\"siteid\": \"FVX\", \"icd_code\": \"J80\", \"icd_version\": 10, \"num_patients\": 4}, {\"siteid\": \"FVX\", \"icd_code\": \"Z03.818\", \"icd_version\": 10, \"num_patients\": 10}, {\"siteid\": \"FVX\", \"icd_code\": \"Z20.828\", \"icd_version\": 10, \"num_patients\": 10}, {\"siteid\": \"FUU\", \"icd_code\": \"021\", \"icd_version\": 9, \"num_patients\": 3}, {\"siteid\": \"FUU\", \"icd_code\": \"082\", \"icd_version\": 9, \"num_patients\": 58}, {\"siteid\": \"FUU\", \"icd_code\": \"059\", \"icd_version\": 9, \"num_patients\": -1}, {\"siteid\": \"FUU\", \"icd_code\": \"J12.89\", \"icd_version\": 10, \"num_patients\": 79}, {\"siteid\": \"FUU\", \"icd_code\": \"B97.29\", \"icd_version\": 10, \"num_patients\": -1}, {\"siteid\": \"FUU\", \"icd_code\": \"J40\", \"icd_version\": 10, \"num_patients\": -1}, {\"siteid\": \"FUU\", \"icd_code\": \"J22\", \"icd_version\": 10, \"num_patients\": -1}, {\"siteid\": \"FUU\", \"icd_code\": \"J98.8\", \"icd_version\": 10, \"num_patients\": -1}, {\"siteid\": \"FUU\", \"icd_code\": \"Z03.818\", \"icd_version\": 10, \"num_patients\": -1}, {\"siteid\": \"FUN\", \"icd_code\": \"093\", \"icd_version\": 9, \"num_patients\": -1}, {\"siteid\": \"FUN\", \"icd_code\": \"103\", \"icd_version\": 9, \"num_patients\": -1}, {\"siteid\": \"FUN\", \"icd_code\": \"059\", \"icd_version\": 9, \"num_patients\": -1}, {\"siteid\": \"FUN\", \"icd_code\": \"J20.8\", \"icd_version\": 10, \"num_patients\": 38}, {\"siteid\": \"FUN\", \"icd_code\": \"J98.8\", \"icd_version\": 10, \"num_patients\": -1}, {\"siteid\": \"FUN\", \"icd_code\": \"Z03.818\", \"icd_version\": 10, \"num_patients\": 32}, {\"siteid\": \"FUN\", \"icd_code\": \"Z20.828\", \"icd_version\": 10, \"num_patients\": -1}, {\"siteid\": \"FSZ\", \"icd_code\": \"009\", \"icd_version\": 9, \"num_patients\": -1}, {\"siteid\": \"FSZ\", \"icd_code\": \"103\", \"icd_version\": 9, \"num_patients\": -1}, {\"siteid\": \"FSZ\", \"icd_code\": \"022\", \"icd_version\": 9, \"num_patients\": 61}, {\"siteid\": \"FSZ\", \"icd_code\": \"087\", \"icd_version\": 9, \"num_patients\": 39}, {\"siteid\": \"FSZ\", \"icd_code\": \"059\", \"icd_version\": 9, \"num_patients\": 84}, {\"siteid\": \"FSZ\", \"icd_code\": \"B97.29\", \"icd_version\": 10, \"num_patients\": -1}, {\"siteid\": \"FSZ\", \"icd_code\": \"J20.8\", \"icd_version\": 10, \"num_patients\": 35}, {\"siteid\": \"FSZ\", \"icd_code\": \"J22\", \"icd_version\": 10, \"num_patients\": 59}, {\"siteid\": \"FSZ\", \"icd_code\": \"J98.8\", \"icd_version\": 10, \"num_patients\": 80}, {\"siteid\": \"FSZ\", \"icd_code\": \"J80\", \"icd_version\": 10, \"num_patients\": 70}, {\"siteid\": \"FSZ\", \"icd_code\": \"Z03.818\", \"icd_version\": 10, \"num_patients\": 12}, {\"siteid\": \"FSZ\", \"icd_code\": \"Z20.828\", \"icd_version\": 10, \"num_patients\": -1}, {\"siteid\": \"FOW\", \"icd_code\": \"021\", \"icd_version\": 9, \"num_patients\": 42}, {\"siteid\": \"FOW\", \"icd_code\": \"082\", \"icd_version\": 9, \"num_patients\": 17}, {\"siteid\": \"FOW\", \"icd_code\": \"103\", \"icd_version\": 9, \"num_patients\": 2}, {\"siteid\": \"FOW\", \"icd_code\": \"022\", \"icd_version\": 9, \"num_patients\": -1}, {\"siteid\": \"FOW\", \"icd_code\": \"059\", \"icd_version\": 9, \"num_patients\": 45}, {\"siteid\": \"FOW\", \"icd_code\": \"J12.89\", \"icd_version\": 10, \"num_patients\": -1}, {\"siteid\": \"FOW\", \"icd_code\": \"B97.29\", \"icd_version\": 10, \"num_patients\": -1}, {\"siteid\": \"FOW\", \"icd_code\": \"J20.8\", \"icd_version\": 10, \"num_patients\": -1}, {\"siteid\": \"FOW\", \"icd_code\": \"J40\", \"icd_version\": 10, \"num_patients\": -1}, {\"siteid\": \"FOW\", \"icd_code\": \"J98.8\", \"icd_version\": 10, \"num_patients\": -1}, {\"siteid\": \"FOW\", \"icd_code\": \"Z03.818\", \"icd_version\": 10, \"num_patients\": -1}, {\"siteid\": \"FOW\", \"icd_code\": \"Z20.828\", \"icd_version\": 10, \"num_patients\": -1}, {\"siteid\": \"FMT\", \"icd_code\": \"021\", \"icd_version\": 9, \"num_patients\": -1}, {\"siteid\": \"FMT\", \"icd_code\": \"126\", \"icd_version\": 9, \"num_patients\": -1}, {\"siteid\": \"FMT\", \"icd_code\": \"082\", \"icd_version\": 9, \"num_patients\": 3}, {\"siteid\": \"FMT\", \"icd_code\": \"093\", \"icd_version\": 9, \"num_patients\": 46}, {\"siteid\": \"FMT\", \"icd_code\": \"009\", \"icd_version\": 9, \"num_patients\": -1}, {\"siteid\": \"FMT\", \"icd_code\": \"103\", \"icd_version\": 9, \"num_patients\": 49}, {\"siteid\": \"FMT\", \"icd_code\": \"087\", \"icd_version\": 9, \"num_patients\": 9}, {\"siteid\": \"FMT\", \"icd_code\": \"J12.89\", \"icd_version\": 10, \"num_patients\": 89}, {\"siteid\": \"FMT\", \"icd_code\": \"B97.29\", \"icd_version\": 10, \"num_patients\": 60}, {\"siteid\": \"FMT\", \"icd_code\": \"J20.8\", \"icd_version\": 10, \"num_patients\": 65}, {\"siteid\": \"FMT\", \"icd_code\": \"J40\", \"icd_version\": 10, \"num_patients\": -1}, {\"siteid\": \"FMT\", \"icd_code\": \"Z03.818\", \"icd_version\": 10, \"num_patients\": -1}, {\"siteid\": \"FMT\", \"icd_code\": \"Z20.828\", \"icd_version\": 10, \"num_patients\": -1}, {\"siteid\": \"FMA\", \"icd_code\": \"082\", \"icd_version\": 9, \"num_patients\": 11}, {\"siteid\": \"FMA\", \"icd_code\": \"093\", \"icd_version\": 9, \"num_patients\": -1}, {\"siteid\": \"FMA\", \"icd_code\": \"009\", \"icd_version\": 9, \"num_patients\": -1}, {\"siteid\": \"FMA\", \"icd_code\": \"022\", \"icd_version\": 9, \"num_patients\": -1}, {\"siteid\": \"FMA\", \"icd_code\": \"087\", \"icd_version\": 9, \"num_patients\": 5}, {\"siteid\": \"FMA\", \"icd_code\": \"J12.89\", \"icd_version\": 10, \"num_patients\": -1}, {\"siteid\": \"FMA\", \"icd_code\": \"J20.8\", \"icd_version\": 10, \"num_patients\": 7}, {\"siteid\": \"FMA\", \"icd_code\": \"J40\", \"icd_version\": 10, \"num_patients\": -1}, {\"siteid\": \"FMA\", \"icd_code\": \"J80\", \"icd_version\": 10, \"num_patients\": -1}, {\"siteid\": \"FKQ\", \"icd_code\": \"021\", \"icd_version\": 9, \"num_patients\": 48}, {\"siteid\": \"FKQ\", \"icd_code\": \"126\", \"icd_version\": 9, \"num_patients\": -1}, {\"siteid\": \"FKQ\", \"icd_code\": \"009\", \"icd_version\": 9, \"num_patients\": 5}, {\"siteid\": \"FKQ\", \"icd_code\": \"087\", \"icd_version\": 9, \"num_patients\": 16}, {\"siteid\": \"FKQ\", \"icd_code\": \"J12.89\", \"icd_version\": 10, \"num_patients\": -1}, {\"siteid\": \"FKQ\", \"icd_code\": \"J20.8\", \"icd_version\": 10, \"num_patients\": 42}, {\"siteid\": \"FKQ\", \"icd_code\": \"J40\", \"icd_version\": 10, \"num_patients\": 16}, {\"siteid\": \"FKQ\", \"icd_code\": \"J98.8\", \"icd_version\": 10, \"num_patients\": 3}, {\"siteid\": \"FKQ\", \"icd_code\": \"J80\", \"icd_version\": 10, \"num_patients\": 13}, {\"siteid\": \"FKQ\", \"icd_code\": \"Z03.818\", \"icd_version\": 10, \"num_patients\": 19}, {\"siteid\": \"FKN\", \"icd_code\": \"082\", \"icd_version\": 9, \"num_patients\": -1}, {\"siteid\": \"FKN\", \"icd_code\": \"009\", \"icd_version\": 9, \"num_patients\": 5}, {\"siteid\": \"FKN\", \"icd_code\": \"087\", \"icd_version\": 9, \"num_patients\": -1}, {\"siteid\": \"FKN\", \"icd_code\": \"059\", \"icd_version\": 9, \"num_patients\": -1}, {\"siteid\": \"FKN\", \"icd_code\": \"J22\", \"icd_version\": 10, \"num_patients\": -1}, {\"siteid\": \"FKN\", \"icd_code\": \"J98.8\", \"icd_version\": 10, \"num_patients\": -1}, {\"siteid\": \"FKN\", \"icd_code\": \"J80\", \"icd_version\": 10, \"num_patients\": 2}, {\"siteid\": \"FKN\", \"icd_code\": \"Z20.828\", \"icd_version\": 10, \"num_patients\": -1}, {\"siteid\": \"FKL\", \"icd_code\": \"126\", \"icd_version\": 9, \"num_patients\": 2}, {\"siteid\": \"FKL\", \"icd_code\": \"082\", \"icd_version\": 9, \"num_patients\": 5}, {\"siteid\": \"FKL\", \"icd_code\": \"009\", \"icd_version\": 9, \"num_patients\": -1}, {\"siteid\": \"FKL\", \"icd_code\": \"022\", \"icd_version\": 9, \"num_patients\": 10}, {\"siteid\": \"FKL\", \"icd_code\": \"B97.29\", \"icd_version\": 10, \"num_patients\": -1}, {\"siteid\": \"FKL\", \"icd_code\": \"J20.8\", \"icd_version\": 10, \"num_patients\": 10}, {\"siteid\": \"FKL\", \"icd_code\": \"J40\", \"icd_version\": 10, \"num_patients\": 6}, {\"siteid\": \"FKL\", \"icd_code\": \"J22\", \"icd_version\": 10, \"num_patients\": 6}, {\"siteid\": \"FKL\", \"icd_code\": \"J80\", \"icd_version\": 10, \"num_patients\": 5}, {\"siteid\": \"FKL\", \"icd_code\": \"Z03.818\", \"icd_version\": 10, \"num_patients\": -1}, {\"siteid\": \"FFG\", \"icd_code\": \"021\", \"icd_version\": 9, \"num_patients\": 14}, {\"siteid\": \"FFG\", \"icd_code\": \"126\", \"icd_version\": 9, \"num_patients\": 17}, {\"siteid\": \"FFG\", \"icd_code\": \"082\", \"icd_version\": 9, \"num_patients\": -1}, {\"siteid\": \"FFG\", \"icd_code\": \"093\", \"icd_version\": 9, \"num_patients\": -1}, {\"siteid\": \"FFG\", \"icd_code\": \"009\", \"icd_version\": 9, \"num_patients\": -1}, {\"siteid\": \"FFG\", \"icd_code\": \"087\", \"icd_version\": 9, \"num_patients\": -1}, {\"siteid\": \"FFG\", \"icd_code\": \"B97.29\", \"icd_version\": 10, \"num_patients\": 20}, {\"siteid\": \"FFG\", \"icd_code\": \"J80\", \"icd_version\": 10, \"num_patients\": 46}, {\"siteid\": \"FFG\", \"icd_code\": \"Z03.818\", \"icd_version\": 10, \"num_patients\": 28}, {\"siteid\": \"FFG\", \"icd_code\": \"Z20.828\", \"icd_version\": 10, \"num_patients\": -1}, {\"siteid\": \"FEQ\", \"icd_code\": \"093\", \"icd_version\": 9, \"num_patients\": -1}, {\"siteid\": \"FEQ\", \"icd_code\": \"009\", \"icd_version\": 9, \"num_patients\": 9}, {\"siteid\": \"FEQ\", \"icd_code\": \"103\", \"icd_version\": 9, \"num_patients\": -1}, {\"siteid\": \"FEQ\", \"icd_code\": \"022\", \"icd_version\": 9, \"num_patients\": 6}, {\"siteid\": \"FEQ\", \"icd_code\": \"087\", \"icd_version\": 9, \"num_patients\": 2}, {\"siteid\": \"FEQ\", \"icd_code\": \"059\", \"icd_version\": 9, \"num_patients\": 2}, {\"siteid\": \"FEQ\", \"icd_code\": \"J12.89\", \"icd_version\": 10, \"num_patients\": -1}, {\"siteid\": \"FEQ\", \"icd_code\": \"J20.8\", \"icd_version\": 10, \"num_patients\": -1}, {\"siteid\": \"FEQ\", \"icd_code\": \"J40\", \"icd_version\": 10, \"num_patients\": -1}, {\"siteid\": \"FEQ\", \"icd_code\": \"J98.8\", \"icd_version\": 10, \"num_patients\": 7}, {\"siteid\": \"FEQ\", \"icd_code\": \"Z03.818\", \"icd_version\": 10, \"num_patients\": -1}, {\"siteid\": \"FEQ\", \"icd_code\": \"Z20.828\", \"icd_version\": 10, \"num_patients\": 3}, {\"siteid\": \"FDQ\", \"icd_code\": \"126\", \"icd_version\": 9, \"num_patients\": -1}, {\"siteid\": \"FDQ\", \"icd_code\": \"093\", \"icd_version\": 9, \"num_patients\": 1}, {\"siteid\": \"FDQ\", \"icd_code\": \"103\", \"icd_version\": 9, \"num_patients\": 10}, {\"siteid\": \"FDQ\", \"icd_code\": \"022\", \"icd_version\": 9, \"num_patients\": 69}, {\"siteid\": \"FDQ\", \"icd_code\": \"J12.89\", \"icd_version\": 10, \"num_patients\": 81}, {\"siteid\": \"FDQ\", \"icd_code\": \"B97.29\", \"icd_version\": 10, \"num_patients\": -1}, {\"siteid\": \"FDQ\", \"icd_code\": \"J20.8\", \"icd_version\": 10, \"num_patients\": -1}, {\"siteid\": \"FDQ\", \"icd_code\": \"J40\", \"icd_version\": 10, \"num_patients\": 39}, {\"siteid\": \"FDQ\", \"icd_code\": \"J22\", \"icd_version\": 10, \"num_patients\": 44}, {\"siteid\": \"FDQ\", \"icd_code\": \"J98.8\", \"icd_version\": 10, \"num_patients\": 37}, {\"siteid\": \"FDQ\", \"icd_code\": \"J80\", \"icd_version\": 10, \"num_patients\": 52}, {\"siteid\": \"FDQ\", \"icd_code\": \"Z03.818\", \"icd_version\": 10, \"num_patients\": -1}, {\"siteid\": \"FDQ\", \"icd_code\": \"Z20.828\", \"icd_version\": 10, \"num_patients\": -1}, {\"siteid\": \"FBL\", \"icd_code\": \"021\", \"icd_version\": 9, \"num_patients\": -1}, {\"siteid\": \"FBL\", \"icd_code\": \"082\", \"icd_version\": 9, \"num_patients\": 40}, {\"siteid\": \"FBL\", \"icd_code\": \"009\", \"icd_version\": 9, \"num_patients\": 26}, {\"siteid\": \"FBL\", \"icd_code\": \"103\", \"icd_version\": 9, \"num_patients\": -1}, {\"siteid\": \"FBL\", \"icd_code\": \"022\", \"icd_version\": 9, \"num_patients\": -1}, {\"siteid\": \"FBL\", \"icd_code\": \"087\", \"icd_version\": 9, \"num_patients\": -1}, {\"siteid\": \"FBL\", \"icd_code\": \"J12.89\", \"icd_version\": 10, \"num_patients\": 20}, {\"siteid\": \"FBL\", \"icd_code\": \"B97.29\", \"icd_version\": 10, \"num_patients\": -1}, {\"siteid\": \"FBL\", \"icd_code\": \"J40\", \"icd_version\": 10, \"num_patients\": -1}, {\"siteid\": \"FBL\", \"icd_code\": \"J80\", \"icd_version\": 10, \"num_patients\": -1}, {\"siteid\": \"FBL\", \"icd_code\": \"Z03.818\", \"icd_version\": 10, \"num_patients\": -1}, {\"siteid\": \"FBL\", \"icd_code\": \"Z20.828\", \"icd_version\": 10, \"num_patients\": -1}, {\"siteid\": \"FBD\", \"icd_code\": \"021\", \"icd_version\": 9, \"num_patients\": 5}, {\"siteid\": \"FBD\", \"icd_code\": \"093\", \"icd_version\": 9, \"num_patients\": 9}, {\"siteid\": \"FBD\", \"icd_code\": \"J98.8\", \"icd_version\": 10, \"num_patients\": -1}, {\"siteid\": \"FBD\", \"icd_code\": \"Z20.828\", \"icd_version\": 10, \"num_patients\": -1}]}}, {\"mode\": \"vega-lite\"});\n",
       "</script>"
      ],
      "text/plain": [
       "alt.HConcatChart(...)"
      ]
     },
     "execution_count": 5,
     "metadata": {},
     "output_type": "execute_result"
    }
   ],
   "source": [
    "# Mouseover effect\n",
    "mouseover = alt.selection(type='single', on='mouseover', fields=[siteid], nearest=False)\n",
    "\n",
    "# Base bar chart\n",
    "base = alt.Chart(df).mark_bar().encode(\n",
    "    x=alt.X(f\"sum({num_patients}):Q\", title=\"Total Number of Patients\", axis=alt.Axis(tickCount=5)),\n",
    "    y=alt.Y(f\"{icd_code}:N\", title=\"ICD Code\"),\n",
    "    color=alt.value(\"lightgray\")\n",
    ").transform_filter(\n",
    "    # Do not show uncertain data\n",
    "    alt.FieldGTEPredicate(field=num_patients, gte=0)\n",
    ").properties(\n",
    "    title=\"Diagnoses Patients Have Starting 7 Days Before Positive Test\",\n",
    "    width=350,\n",
    "    height=300\n",
    ")\n",
    "\n",
    "# Text label\n",
    "text = base.mark_text(align='right', baseline='middle', dx=-4, fontWeight=\"bold\").encode(\n",
    "    text=f\"sum({num_patients}):Q\",\n",
    "    color=alt.value(\"white\")\n",
    ")\n",
    "\n",
    "# Highlight selected site id\n",
    "hl = base.encode(\n",
    "    color=alt.Color(icd_version + \":N\", scale=icd_color_scale, title=\"ICD Version\")\n",
    ").transform_filter(mouseover)\n",
    "\n",
    "text_hl = hl.mark_text(align='left', baseline='middle', dx=4, fontWeight=\"bold\").encode(\n",
    "    text=f\"sum({num_patients}):Q\"\n",
    ")\n",
    "\n",
    "# Chart for total by site ID\n",
    "chart_by_siteid = alt.Chart(df).mark_bar().encode(\n",
    "    y=alt.Y(f\"sum({num_patients}):Q\", title=\"Total Number of Patients\", axis=alt.Axis(tickCount=5)),\n",
    "    x=alt.X(f\"{siteid}:N\", title=\"Site\", sort=\"-y\"),\n",
    "    color=alt.condition(~mouseover, alt.value(\"rgb(244, 208, 75)\"), alt.value(\"#E48236\"))\n",
    ").transform_filter(\n",
    "    # Do not show uncertain data\n",
    "    alt.FieldGTEPredicate(field=num_patients, gte=0)\n",
    ").properties(\n",
    "    title=\"Diagnoses By Site\",\n",
    "    width=350,\n",
    "    height=300\n",
    ").add_selection(\n",
    "    mouseover\n",
    ")\n",
    "\n",
    "chart = apply_theme(\n",
    "    ((base + text + hl + text_hl) | chart_by_siteid)\n",
    ").resolve_scale(\"independent\")\n",
    "        \n",
    "chart"
   ]
  },
  {
   "cell_type": "code",
   "execution_count": 6,
   "metadata": {},
   "outputs": [
    {
     "data": {
      "text/html": [
       "\n",
       "<div id=\"altair-viz-973a8317668e422fa6cbd59a334a8a82\"></div>\n",
       "<script type=\"text/javascript\">\n",
       "  (function(spec, embedOpt){\n",
       "    const outputDiv = document.getElementById(\"altair-viz-973a8317668e422fa6cbd59a334a8a82\");\n",
       "    const paths = {\n",
       "      \"vega\": \"https://cdn.jsdelivr.net/npm//vega@5?noext\",\n",
       "      \"vega-lib\": \"https://cdn.jsdelivr.net/npm//vega-lib?noext\",\n",
       "      \"vega-lite\": \"https://cdn.jsdelivr.net/npm//vega-lite@4.0.2?noext\",\n",
       "      \"vega-embed\": \"https://cdn.jsdelivr.net/npm//vega-embed@6?noext\",\n",
       "    };\n",
       "\n",
       "    function loadScript(lib) {\n",
       "      return new Promise(function(resolve, reject) {\n",
       "        var s = document.createElement('script');\n",
       "        s.src = paths[lib];\n",
       "        s.async = true;\n",
       "        s.onload = () => resolve(paths[lib]);\n",
       "        s.onerror = () => reject(`Error loading script: ${paths[lib]}`);\n",
       "        document.getElementsByTagName(\"head\")[0].appendChild(s);\n",
       "      });\n",
       "    }\n",
       "\n",
       "    function showError(err) {\n",
       "      outputDiv.innerHTML = `<div class=\"error\" style=\"color:red;\">${err}</div>`;\n",
       "      throw err;\n",
       "    }\n",
       "\n",
       "    function displayChart(vegaEmbed) {\n",
       "      vegaEmbed(outputDiv, spec, embedOpt)\n",
       "        .catch(err => showError(`Javascript Error: ${err.message}<br>This usually means there's a typo in your chart specification. See the javascript console for the full traceback.`));\n",
       "    }\n",
       "\n",
       "    if(typeof define === \"function\" && define.amd) {\n",
       "      requirejs.config({paths});\n",
       "      require([\"vega-embed\"], displayChart, err => showError(`Error loading script: ${err.message}`));\n",
       "    } else if (typeof vegaEmbed === \"function\") {\n",
       "      displayChart(vegaEmbed);\n",
       "    } else {\n",
       "      loadScript(\"vega\")\n",
       "        .then(() => loadScript(\"vega-lite\"))\n",
       "        .then(() => loadScript(\"vega-embed\"))\n",
       "        .catch(showError)\n",
       "        .then(() => displayChart(vegaEmbed));\n",
       "    }\n",
       "  })({\"config\": {\"view\": {\"continuousWidth\": 400, \"continuousHeight\": 300}, \"axis\": {\"labelFontSize\": 10, \"labelFontWeight\": 300, \"titleFontSize\": 14, \"titleFontWeight\": 300}, \"title\": {\"anchor\": \"middle\", \"fontSize\": 20, \"fontWeight\": 400}}, \"data\": {\"name\": \"data-7c276bdf7963a74796d5380a54c50889\"}, \"mark\": \"bar\", \"encoding\": {\"color\": {\"type\": \"nominal\", \"field\": \"icd_version\", \"scale\": {\"domain\": [\"9\", \"10\"], \"range\": [\"#69A6CE\", \"#EB6F63\"]}, \"title\": \"ICD Version\"}, \"facet\": {\"type\": \"nominal\", \"columns\": 5, \"field\": \"siteid\", \"title\": \"\"}, \"tooltip\": [{\"type\": \"nominal\", \"field\": \"icd_code\"}, {\"type\": \"quantitative\", \"aggregate\": \"sum\", \"field\": \"num_patients\"}], \"x\": {\"type\": \"nominal\", \"field\": \"icd_code\", \"title\": \"ICD Code\"}, \"y\": {\"type\": \"quantitative\", \"aggregate\": \"sum\", \"field\": \"num_patients\", \"title\": \"Total Number of Patients\"}}, \"height\": 150, \"selection\": {\"selector006\": {\"type\": \"interval\", \"bind\": \"scales\", \"encodings\": [\"x\", \"y\"]}}, \"title\": \"All Diagnoses Patients Have Starting 7 Days Before Positive Test\", \"transform\": [{\"filter\": {\"field\": \"num_patients\", \"gte\": 0}}], \"width\": 150, \"$schema\": \"https://vega.github.io/schema/vega-lite/v4.0.2.json\", \"datasets\": {\"data-7c276bdf7963a74796d5380a54c50889\": [{\"siteid\": \"FZU\", \"icd_code\": \"126\", \"icd_version\": 9, \"num_patients\": 8}, {\"siteid\": \"FZU\", \"icd_code\": \"093\", \"icd_version\": 9, \"num_patients\": 7}, {\"siteid\": \"FZU\", \"icd_code\": \"009\", \"icd_version\": 9, \"num_patients\": -1}, {\"siteid\": \"FZU\", \"icd_code\": \"103\", \"icd_version\": 9, \"num_patients\": -1}, {\"siteid\": \"FZU\", \"icd_code\": \"J12.89\", \"icd_version\": 10, \"num_patients\": 6}, {\"siteid\": \"FZU\", \"icd_code\": \"B97.29\", \"icd_version\": 10, \"num_patients\": -1}, {\"siteid\": \"FZU\", \"icd_code\": \"J20.8\", \"icd_version\": 10, \"num_patients\": -1}, {\"siteid\": \"FZU\", \"icd_code\": \"J40\", \"icd_version\": 10, \"num_patients\": 10}, {\"siteid\": \"FZU\", \"icd_code\": \"J80\", \"icd_version\": 10, \"num_patients\": 7}, {\"siteid\": \"FZU\", \"icd_code\": \"Z20.828\", \"icd_version\": 10, \"num_patients\": -1}, {\"siteid\": \"FZT\", \"icd_code\": \"082\", \"icd_version\": 9, \"num_patients\": 2}, {\"siteid\": \"FZT\", \"icd_code\": \"009\", \"icd_version\": 9, \"num_patients\": 72}, {\"siteid\": \"FZT\", \"icd_code\": \"103\", \"icd_version\": 9, \"num_patients\": 15}, {\"siteid\": \"FZT\", \"icd_code\": \"022\", \"icd_version\": 9, \"num_patients\": 24}, {\"siteid\": \"FZT\", \"icd_code\": \"059\", \"icd_version\": 9, \"num_patients\": 88}, {\"siteid\": \"FZT\", \"icd_code\": \"J12.89\", \"icd_version\": 10, \"num_patients\": 88}, {\"siteid\": \"FZT\", \"icd_code\": \"B97.29\", \"icd_version\": 10, \"num_patients\": 69}, {\"siteid\": \"FZT\", \"icd_code\": \"J20.8\", \"icd_version\": 10, \"num_patients\": -1}, {\"siteid\": \"FZT\", \"icd_code\": \"J98.8\", \"icd_version\": 10, \"num_patients\": 94}, {\"siteid\": \"FZT\", \"icd_code\": \"J80\", \"icd_version\": 10, \"num_patients\": 53}, {\"siteid\": \"FZM\", \"icd_code\": \"021\", \"icd_version\": 9, \"num_patients\": -1}, {\"siteid\": \"FZM\", \"icd_code\": \"126\", \"icd_version\": 9, \"num_patients\": -1}, {\"siteid\": \"FZM\", \"icd_code\": \"082\", \"icd_version\": 9, \"num_patients\": -1}, {\"siteid\": \"FZM\", \"icd_code\": \"022\", \"icd_version\": 9, \"num_patients\": 3}, {\"siteid\": \"FZM\", \"icd_code\": \"087\", \"icd_version\": 9, \"num_patients\": 5}, {\"siteid\": \"FZM\", \"icd_code\": \"J12.89\", \"icd_version\": 10, \"num_patients\": 8}, {\"siteid\": \"FZM\", \"icd_code\": \"B97.29\", \"icd_version\": 10, \"num_patients\": -1}, {\"siteid\": \"FZM\", \"icd_code\": \"J22\", \"icd_version\": 10, \"num_patients\": -1}, {\"siteid\": \"FZM\", \"icd_code\": \"J98.8\", \"icd_version\": 10, \"num_patients\": -1}, {\"siteid\": \"FXL\", \"icd_code\": \"021\", \"icd_version\": 9, \"num_patients\": 44}, {\"siteid\": \"FXL\", \"icd_code\": \"126\", \"icd_version\": 9, \"num_patients\": 40}, {\"siteid\": \"FXL\", \"icd_code\": \"082\", \"icd_version\": 9, \"num_patients\": 2}, {\"siteid\": \"FXL\", \"icd_code\": \"093\", \"icd_version\": 9, \"num_patients\": 11}, {\"siteid\": \"FXL\", \"icd_code\": \"009\", \"icd_version\": 9, \"num_patients\": -1}, {\"siteid\": \"FXL\", \"icd_code\": \"103\", \"icd_version\": 9, \"num_patients\": -1}, {\"siteid\": \"FXL\", \"icd_code\": \"059\", \"icd_version\": 9, \"num_patients\": -1}, {\"siteid\": \"FXL\", \"icd_code\": \"B97.29\", \"icd_version\": 10, \"num_patients\": 4}, {\"siteid\": \"FXL\", \"icd_code\": \"J20.8\", \"icd_version\": 10, \"num_patients\": 3}, {\"siteid\": \"FXL\", \"icd_code\": \"J40\", \"icd_version\": 10, \"num_patients\": -1}, {\"siteid\": \"FXL\", \"icd_code\": \"J22\", \"icd_version\": 10, \"num_patients\": -1}, {\"siteid\": \"FXL\", \"icd_code\": \"J80\", \"icd_version\": 10, \"num_patients\": 6}, {\"siteid\": \"FWN\", \"icd_code\": \"021\", \"icd_version\": 9, \"num_patients\": -1}, {\"siteid\": \"FWN\", \"icd_code\": \"082\", \"icd_version\": 9, \"num_patients\": -1}, {\"siteid\": \"FWN\", \"icd_code\": \"022\", \"icd_version\": 9, \"num_patients\": -1}, {\"siteid\": \"FWN\", \"icd_code\": \"059\", \"icd_version\": 9, \"num_patients\": -1}, {\"siteid\": \"FWN\", \"icd_code\": \"B97.29\", \"icd_version\": 10, \"num_patients\": 5}, {\"siteid\": \"FWN\", \"icd_code\": \"J40\", \"icd_version\": 10, \"num_patients\": -1}, {\"siteid\": \"FWN\", \"icd_code\": \"J98.8\", \"icd_version\": 10, \"num_patients\": 6}, {\"siteid\": \"FWN\", \"icd_code\": \"J80\", \"icd_version\": 10, \"num_patients\": -1}, {\"siteid\": \"FWN\", \"icd_code\": \"Z03.818\", \"icd_version\": 10, \"num_patients\": 7}, {\"siteid\": \"FWN\", \"icd_code\": \"Z20.828\", \"icd_version\": 10, \"num_patients\": -1}, {\"siteid\": \"FVX\", \"icd_code\": \"126\", \"icd_version\": 9, \"num_patients\": 2}, {\"siteid\": \"FVX\", \"icd_code\": \"J12.89\", \"icd_version\": 10, \"num_patients\": 11}, {\"siteid\": \"FVX\", \"icd_code\": \"B97.29\", \"icd_version\": 10, \"num_patients\": 9}, {\"siteid\": \"FVX\", \"icd_code\": \"J22\", \"icd_version\": 10, \"num_patients\": -1}, {\"siteid\": \"FVX\", \"icd_code\": \"J98.8\", \"icd_version\": 10, \"num_patients\": -1}, {\"siteid\": \"FVX\", \"icd_code\": \"J80\", \"icd_version\": 10, \"num_patients\": 4}, {\"siteid\": \"FVX\", \"icd_code\": \"Z03.818\", \"icd_version\": 10, \"num_patients\": 10}, {\"siteid\": \"FVX\", \"icd_code\": \"Z20.828\", \"icd_version\": 10, \"num_patients\": 10}, {\"siteid\": \"FUU\", \"icd_code\": \"021\", \"icd_version\": 9, \"num_patients\": 3}, {\"siteid\": \"FUU\", \"icd_code\": \"082\", \"icd_version\": 9, \"num_patients\": 58}, {\"siteid\": \"FUU\", \"icd_code\": \"059\", \"icd_version\": 9, \"num_patients\": -1}, {\"siteid\": \"FUU\", \"icd_code\": \"J12.89\", \"icd_version\": 10, \"num_patients\": 79}, {\"siteid\": \"FUU\", \"icd_code\": \"B97.29\", \"icd_version\": 10, \"num_patients\": -1}, {\"siteid\": \"FUU\", \"icd_code\": \"J40\", \"icd_version\": 10, \"num_patients\": -1}, {\"siteid\": \"FUU\", \"icd_code\": \"J22\", \"icd_version\": 10, \"num_patients\": -1}, {\"siteid\": \"FUU\", \"icd_code\": \"J98.8\", \"icd_version\": 10, \"num_patients\": -1}, {\"siteid\": \"FUU\", \"icd_code\": \"Z03.818\", \"icd_version\": 10, \"num_patients\": -1}, {\"siteid\": \"FUN\", \"icd_code\": \"093\", \"icd_version\": 9, \"num_patients\": -1}, {\"siteid\": \"FUN\", \"icd_code\": \"103\", \"icd_version\": 9, \"num_patients\": -1}, {\"siteid\": \"FUN\", \"icd_code\": \"059\", \"icd_version\": 9, \"num_patients\": -1}, {\"siteid\": \"FUN\", \"icd_code\": \"J20.8\", \"icd_version\": 10, \"num_patients\": 38}, {\"siteid\": \"FUN\", \"icd_code\": \"J98.8\", \"icd_version\": 10, \"num_patients\": -1}, {\"siteid\": \"FUN\", \"icd_code\": \"Z03.818\", \"icd_version\": 10, \"num_patients\": 32}, {\"siteid\": \"FUN\", \"icd_code\": \"Z20.828\", \"icd_version\": 10, \"num_patients\": -1}, {\"siteid\": \"FSZ\", \"icd_code\": \"009\", \"icd_version\": 9, \"num_patients\": -1}, {\"siteid\": \"FSZ\", \"icd_code\": \"103\", \"icd_version\": 9, \"num_patients\": -1}, {\"siteid\": \"FSZ\", \"icd_code\": \"022\", \"icd_version\": 9, \"num_patients\": 61}, {\"siteid\": \"FSZ\", \"icd_code\": \"087\", \"icd_version\": 9, \"num_patients\": 39}, {\"siteid\": \"FSZ\", \"icd_code\": \"059\", \"icd_version\": 9, \"num_patients\": 84}, {\"siteid\": \"FSZ\", \"icd_code\": \"B97.29\", \"icd_version\": 10, \"num_patients\": -1}, {\"siteid\": \"FSZ\", \"icd_code\": \"J20.8\", \"icd_version\": 10, \"num_patients\": 35}, {\"siteid\": \"FSZ\", \"icd_code\": \"J22\", \"icd_version\": 10, \"num_patients\": 59}, {\"siteid\": \"FSZ\", \"icd_code\": \"J98.8\", \"icd_version\": 10, \"num_patients\": 80}, {\"siteid\": \"FSZ\", \"icd_code\": \"J80\", \"icd_version\": 10, \"num_patients\": 70}, {\"siteid\": \"FSZ\", \"icd_code\": \"Z03.818\", \"icd_version\": 10, \"num_patients\": 12}, {\"siteid\": \"FSZ\", \"icd_code\": \"Z20.828\", \"icd_version\": 10, \"num_patients\": -1}, {\"siteid\": \"FOW\", \"icd_code\": \"021\", \"icd_version\": 9, \"num_patients\": 42}, {\"siteid\": \"FOW\", \"icd_code\": \"082\", \"icd_version\": 9, \"num_patients\": 17}, {\"siteid\": \"FOW\", \"icd_code\": \"103\", \"icd_version\": 9, \"num_patients\": 2}, {\"siteid\": \"FOW\", \"icd_code\": \"022\", \"icd_version\": 9, \"num_patients\": -1}, {\"siteid\": \"FOW\", \"icd_code\": \"059\", \"icd_version\": 9, \"num_patients\": 45}, {\"siteid\": \"FOW\", \"icd_code\": \"J12.89\", \"icd_version\": 10, \"num_patients\": -1}, {\"siteid\": \"FOW\", \"icd_code\": \"B97.29\", \"icd_version\": 10, \"num_patients\": -1}, {\"siteid\": \"FOW\", \"icd_code\": \"J20.8\", \"icd_version\": 10, \"num_patients\": -1}, {\"siteid\": \"FOW\", \"icd_code\": \"J40\", \"icd_version\": 10, \"num_patients\": -1}, {\"siteid\": \"FOW\", \"icd_code\": \"J98.8\", \"icd_version\": 10, \"num_patients\": -1}, {\"siteid\": \"FOW\", \"icd_code\": \"Z03.818\", \"icd_version\": 10, \"num_patients\": -1}, {\"siteid\": \"FOW\", \"icd_code\": \"Z20.828\", \"icd_version\": 10, \"num_patients\": -1}, {\"siteid\": \"FMT\", \"icd_code\": \"021\", \"icd_version\": 9, \"num_patients\": -1}, {\"siteid\": \"FMT\", \"icd_code\": \"126\", \"icd_version\": 9, \"num_patients\": -1}, {\"siteid\": \"FMT\", \"icd_code\": \"082\", \"icd_version\": 9, \"num_patients\": 3}, {\"siteid\": \"FMT\", \"icd_code\": \"093\", \"icd_version\": 9, \"num_patients\": 46}, {\"siteid\": \"FMT\", \"icd_code\": \"009\", \"icd_version\": 9, \"num_patients\": -1}, {\"siteid\": \"FMT\", \"icd_code\": \"103\", \"icd_version\": 9, \"num_patients\": 49}, {\"siteid\": \"FMT\", \"icd_code\": \"087\", \"icd_version\": 9, \"num_patients\": 9}, {\"siteid\": \"FMT\", \"icd_code\": \"J12.89\", \"icd_version\": 10, \"num_patients\": 89}, {\"siteid\": \"FMT\", \"icd_code\": \"B97.29\", \"icd_version\": 10, \"num_patients\": 60}, {\"siteid\": \"FMT\", \"icd_code\": \"J20.8\", \"icd_version\": 10, \"num_patients\": 65}, {\"siteid\": \"FMT\", \"icd_code\": \"J40\", \"icd_version\": 10, \"num_patients\": -1}, {\"siteid\": \"FMT\", \"icd_code\": \"Z03.818\", \"icd_version\": 10, \"num_patients\": -1}, {\"siteid\": \"FMT\", \"icd_code\": \"Z20.828\", \"icd_version\": 10, \"num_patients\": -1}, {\"siteid\": \"FMA\", \"icd_code\": \"082\", \"icd_version\": 9, \"num_patients\": 11}, {\"siteid\": \"FMA\", \"icd_code\": \"093\", \"icd_version\": 9, \"num_patients\": -1}, {\"siteid\": \"FMA\", \"icd_code\": \"009\", \"icd_version\": 9, \"num_patients\": -1}, {\"siteid\": \"FMA\", \"icd_code\": \"022\", \"icd_version\": 9, \"num_patients\": -1}, {\"siteid\": \"FMA\", \"icd_code\": \"087\", \"icd_version\": 9, \"num_patients\": 5}, {\"siteid\": \"FMA\", \"icd_code\": \"J12.89\", \"icd_version\": 10, \"num_patients\": -1}, {\"siteid\": \"FMA\", \"icd_code\": \"J20.8\", \"icd_version\": 10, \"num_patients\": 7}, {\"siteid\": \"FMA\", \"icd_code\": \"J40\", \"icd_version\": 10, \"num_patients\": -1}, {\"siteid\": \"FMA\", \"icd_code\": \"J80\", \"icd_version\": 10, \"num_patients\": -1}, {\"siteid\": \"FKQ\", \"icd_code\": \"021\", \"icd_version\": 9, \"num_patients\": 48}, {\"siteid\": \"FKQ\", \"icd_code\": \"126\", \"icd_version\": 9, \"num_patients\": -1}, {\"siteid\": \"FKQ\", \"icd_code\": \"009\", \"icd_version\": 9, \"num_patients\": 5}, {\"siteid\": \"FKQ\", \"icd_code\": \"087\", \"icd_version\": 9, \"num_patients\": 16}, {\"siteid\": \"FKQ\", \"icd_code\": \"J12.89\", \"icd_version\": 10, \"num_patients\": -1}, {\"siteid\": \"FKQ\", \"icd_code\": \"J20.8\", \"icd_version\": 10, \"num_patients\": 42}, {\"siteid\": \"FKQ\", \"icd_code\": \"J40\", \"icd_version\": 10, \"num_patients\": 16}, {\"siteid\": \"FKQ\", \"icd_code\": \"J98.8\", \"icd_version\": 10, \"num_patients\": 3}, {\"siteid\": \"FKQ\", \"icd_code\": \"J80\", \"icd_version\": 10, \"num_patients\": 13}, {\"siteid\": \"FKQ\", \"icd_code\": \"Z03.818\", \"icd_version\": 10, \"num_patients\": 19}, {\"siteid\": \"FKN\", \"icd_code\": \"082\", \"icd_version\": 9, \"num_patients\": -1}, {\"siteid\": \"FKN\", \"icd_code\": \"009\", \"icd_version\": 9, \"num_patients\": 5}, {\"siteid\": \"FKN\", \"icd_code\": \"087\", \"icd_version\": 9, \"num_patients\": -1}, {\"siteid\": \"FKN\", \"icd_code\": \"059\", \"icd_version\": 9, \"num_patients\": -1}, {\"siteid\": \"FKN\", \"icd_code\": \"J22\", \"icd_version\": 10, \"num_patients\": -1}, {\"siteid\": \"FKN\", \"icd_code\": \"J98.8\", \"icd_version\": 10, \"num_patients\": -1}, {\"siteid\": \"FKN\", \"icd_code\": \"J80\", \"icd_version\": 10, \"num_patients\": 2}, {\"siteid\": \"FKN\", \"icd_code\": \"Z20.828\", \"icd_version\": 10, \"num_patients\": -1}, {\"siteid\": \"FKL\", \"icd_code\": \"126\", \"icd_version\": 9, \"num_patients\": 2}, {\"siteid\": \"FKL\", \"icd_code\": \"082\", \"icd_version\": 9, \"num_patients\": 5}, {\"siteid\": \"FKL\", \"icd_code\": \"009\", \"icd_version\": 9, \"num_patients\": -1}, {\"siteid\": \"FKL\", \"icd_code\": \"022\", \"icd_version\": 9, \"num_patients\": 10}, {\"siteid\": \"FKL\", \"icd_code\": \"B97.29\", \"icd_version\": 10, \"num_patients\": -1}, {\"siteid\": \"FKL\", \"icd_code\": \"J20.8\", \"icd_version\": 10, \"num_patients\": 10}, {\"siteid\": \"FKL\", \"icd_code\": \"J40\", \"icd_version\": 10, \"num_patients\": 6}, {\"siteid\": \"FKL\", \"icd_code\": \"J22\", \"icd_version\": 10, \"num_patients\": 6}, {\"siteid\": \"FKL\", \"icd_code\": \"J80\", \"icd_version\": 10, \"num_patients\": 5}, {\"siteid\": \"FKL\", \"icd_code\": \"Z03.818\", \"icd_version\": 10, \"num_patients\": -1}, {\"siteid\": \"FFG\", \"icd_code\": \"021\", \"icd_version\": 9, \"num_patients\": 14}, {\"siteid\": \"FFG\", \"icd_code\": \"126\", \"icd_version\": 9, \"num_patients\": 17}, {\"siteid\": \"FFG\", \"icd_code\": \"082\", \"icd_version\": 9, \"num_patients\": -1}, {\"siteid\": \"FFG\", \"icd_code\": \"093\", \"icd_version\": 9, \"num_patients\": -1}, {\"siteid\": \"FFG\", \"icd_code\": \"009\", \"icd_version\": 9, \"num_patients\": -1}, {\"siteid\": \"FFG\", \"icd_code\": \"087\", \"icd_version\": 9, \"num_patients\": -1}, {\"siteid\": \"FFG\", \"icd_code\": \"B97.29\", \"icd_version\": 10, \"num_patients\": 20}, {\"siteid\": \"FFG\", \"icd_code\": \"J80\", \"icd_version\": 10, \"num_patients\": 46}, {\"siteid\": \"FFG\", \"icd_code\": \"Z03.818\", \"icd_version\": 10, \"num_patients\": 28}, {\"siteid\": \"FFG\", \"icd_code\": \"Z20.828\", \"icd_version\": 10, \"num_patients\": -1}, {\"siteid\": \"FEQ\", \"icd_code\": \"093\", \"icd_version\": 9, \"num_patients\": -1}, {\"siteid\": \"FEQ\", \"icd_code\": \"009\", \"icd_version\": 9, \"num_patients\": 9}, {\"siteid\": \"FEQ\", \"icd_code\": \"103\", \"icd_version\": 9, \"num_patients\": -1}, {\"siteid\": \"FEQ\", \"icd_code\": \"022\", \"icd_version\": 9, \"num_patients\": 6}, {\"siteid\": \"FEQ\", \"icd_code\": \"087\", \"icd_version\": 9, \"num_patients\": 2}, {\"siteid\": \"FEQ\", \"icd_code\": \"059\", \"icd_version\": 9, \"num_patients\": 2}, {\"siteid\": \"FEQ\", \"icd_code\": \"J12.89\", \"icd_version\": 10, \"num_patients\": -1}, {\"siteid\": \"FEQ\", \"icd_code\": \"J20.8\", \"icd_version\": 10, \"num_patients\": -1}, {\"siteid\": \"FEQ\", \"icd_code\": \"J40\", \"icd_version\": 10, \"num_patients\": -1}, {\"siteid\": \"FEQ\", \"icd_code\": \"J98.8\", \"icd_version\": 10, \"num_patients\": 7}, {\"siteid\": \"FEQ\", \"icd_code\": \"Z03.818\", \"icd_version\": 10, \"num_patients\": -1}, {\"siteid\": \"FEQ\", \"icd_code\": \"Z20.828\", \"icd_version\": 10, \"num_patients\": 3}, {\"siteid\": \"FDQ\", \"icd_code\": \"126\", \"icd_version\": 9, \"num_patients\": -1}, {\"siteid\": \"FDQ\", \"icd_code\": \"093\", \"icd_version\": 9, \"num_patients\": 1}, {\"siteid\": \"FDQ\", \"icd_code\": \"103\", \"icd_version\": 9, \"num_patients\": 10}, {\"siteid\": \"FDQ\", \"icd_code\": \"022\", \"icd_version\": 9, \"num_patients\": 69}, {\"siteid\": \"FDQ\", \"icd_code\": \"J12.89\", \"icd_version\": 10, \"num_patients\": 81}, {\"siteid\": \"FDQ\", \"icd_code\": \"B97.29\", \"icd_version\": 10, \"num_patients\": -1}, {\"siteid\": \"FDQ\", \"icd_code\": \"J20.8\", \"icd_version\": 10, \"num_patients\": -1}, {\"siteid\": \"FDQ\", \"icd_code\": \"J40\", \"icd_version\": 10, \"num_patients\": 39}, {\"siteid\": \"FDQ\", \"icd_code\": \"J22\", \"icd_version\": 10, \"num_patients\": 44}, {\"siteid\": \"FDQ\", \"icd_code\": \"J98.8\", \"icd_version\": 10, \"num_patients\": 37}, {\"siteid\": \"FDQ\", \"icd_code\": \"J80\", \"icd_version\": 10, \"num_patients\": 52}, {\"siteid\": \"FDQ\", \"icd_code\": \"Z03.818\", \"icd_version\": 10, \"num_patients\": -1}, {\"siteid\": \"FDQ\", \"icd_code\": \"Z20.828\", \"icd_version\": 10, \"num_patients\": -1}, {\"siteid\": \"FBL\", \"icd_code\": \"021\", \"icd_version\": 9, \"num_patients\": -1}, {\"siteid\": \"FBL\", \"icd_code\": \"082\", \"icd_version\": 9, \"num_patients\": 40}, {\"siteid\": \"FBL\", \"icd_code\": \"009\", \"icd_version\": 9, \"num_patients\": 26}, {\"siteid\": \"FBL\", \"icd_code\": \"103\", \"icd_version\": 9, \"num_patients\": -1}, {\"siteid\": \"FBL\", \"icd_code\": \"022\", \"icd_version\": 9, \"num_patients\": -1}, {\"siteid\": \"FBL\", \"icd_code\": \"087\", \"icd_version\": 9, \"num_patients\": -1}, {\"siteid\": \"FBL\", \"icd_code\": \"J12.89\", \"icd_version\": 10, \"num_patients\": 20}, {\"siteid\": \"FBL\", \"icd_code\": \"B97.29\", \"icd_version\": 10, \"num_patients\": -1}, {\"siteid\": \"FBL\", \"icd_code\": \"J40\", \"icd_version\": 10, \"num_patients\": -1}, {\"siteid\": \"FBL\", \"icd_code\": \"J80\", \"icd_version\": 10, \"num_patients\": -1}, {\"siteid\": \"FBL\", \"icd_code\": \"Z03.818\", \"icd_version\": 10, \"num_patients\": -1}, {\"siteid\": \"FBL\", \"icd_code\": \"Z20.828\", \"icd_version\": 10, \"num_patients\": -1}, {\"siteid\": \"FBD\", \"icd_code\": \"021\", \"icd_version\": 9, \"num_patients\": 5}, {\"siteid\": \"FBD\", \"icd_code\": \"093\", \"icd_version\": 9, \"num_patients\": 9}, {\"siteid\": \"FBD\", \"icd_code\": \"J98.8\", \"icd_version\": 10, \"num_patients\": -1}, {\"siteid\": \"FBD\", \"icd_code\": \"Z20.828\", \"icd_version\": 10, \"num_patients\": -1}]}}, {\"mode\": \"vega-lite\"});\n",
       "</script>"
      ],
      "text/plain": [
       "alt.Chart(...)"
      ]
     },
     "execution_count": 6,
     "metadata": {},
     "output_type": "execute_result"
    }
   ],
   "source": [
    "def apply_theme_sm(base):\n",
    "    return base.configure_axis(\n",
    "        labelFontSize=10,\n",
    "        labelFontWeight=300,\n",
    "        titleFontSize=14,\n",
    "        titleFontWeight=300\n",
    "    ).configure_title(fontSize=20, fontWeight=400, anchor=\"middle\")\n",
    "\n",
    "# Mouseover effect\n",
    "mouseover = alt.selection(type='single', on='mouseover', fields=[icd_code], nearest=False)\n",
    "    \n",
    "base = alt.Chart(df).mark_bar().encode(\n",
    "    x=alt.X(f\"{icd_code}:N\", title=\"ICD Code\"),\n",
    "    y=alt.Y(f\"sum({num_patients}):Q\", title=\"Total Number of Patients\"),\n",
    "    color=alt.Color(icd_version + \":N\", scale=icd_color_scale, title=\"ICD Version\"),\n",
    "    facet=alt.Facet(f\"{siteid}:N\", columns=5, title=\"\"),\n",
    "    tooltip=[icd_code, f\"sum({num_patients})\"]\n",
    ").transform_filter(\n",
    "    # Do not show uncertain data\n",
    "    alt.FieldGTEPredicate(field=num_patients, gte=0)\n",
    ").properties(\n",
    "    width=150,\n",
    "    height=150\n",
    ")\n",
    "\n",
    "chart = apply_theme_sm(base).properties(\n",
    "    title=\"All Diagnoses Patients Have Starting 7 Days Before Positive Test\"\n",
    ")\n",
    "\n",
    "chart.interactive()"
   ]
  },
  {
   "cell_type": "code",
   "execution_count": null,
   "metadata": {},
   "outputs": [],
   "source": []
  }
 ],
 "metadata": {
  "kernelspec": {
   "display_name": "Python [conda env:c19i2b2-py] *",
   "language": "python",
   "name": "conda-env-c19i2b2-py-py"
  },
  "language_info": {
   "codemirror_mode": {
    "name": "ipython",
    "version": 3
   },
   "file_extension": ".py",
   "mimetype": "text/x-python",
   "name": "python",
   "nbconvert_exporter": "python",
   "pygments_lexer": "ipython3",
   "version": "3.8.2"
  }
 },
 "nbformat": 4,
 "nbformat_minor": 4
}
