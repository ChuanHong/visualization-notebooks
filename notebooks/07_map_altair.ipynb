{
 "cells": [
  {
   "cell_type": "code",
   "execution_count": null,
   "metadata": {},
   "outputs": [],
   "source": [
    "%load_ext autoreload\n",
    "%autoreload 2\n",
    "%aimport utils\n",
    "\n",
    "import altair as alt\n",
    "import pandas as pd\n",
    "import numpy as np\n",
    "from vega_datasets import data\n",
    "\n",
    "from constants import COLUMNS\n",
    "from utils import apply_theme, get_visualization_subtitle\n",
    "from web import for_website"
   ]
  },
  {
   "cell_type": "code",
   "execution_count": null,
   "metadata": {},
   "outputs": [],
   "source": [
    "sites = pd.read_csv('../data/sites.csv', header=[0])\n",
    "sites.head()"
   ]
  },
  {
   "cell_type": "code",
   "execution_count": null,
   "metadata": {},
   "outputs": [],
   "source": [
    "countries = alt.topo_feature(data.world_110m.url, 'countries')\n",
    "\n",
    "COUNTRIES = [\"France\", \"Germany\", \"Italy\", \"Singapore\", \"USA\"]\n",
    "COUNTRY_ID = [250, 276, 380, 702, 840]\n",
    "COUNTRY_COLOR = [\"#0072B2\", \"#E69F00\", \"#009E73\", \"#CC79A7\", \"#D55E00\"]\n",
    "COLOR_BY_COUNTRY = {COUNTRIES[i]: COUNTRY_COLOR[i] for i in range(len(COUNTRIES))} \n",
    "COLOR_BY_ID = {COUNTRY_ID[i]: COUNTRY_COLOR[i] for i in range(len(COUNTRY_ID))} \n",
    "color_scale = alt.Scale(domain=COUNTRIES, range=COUNTRY_COLOR)\n",
    "color_id_scale = alt.Scale(domain=COUNTRY_ID, range=COUNTRY_COLOR)\n",
    "\n",
    "\n",
    "background = alt.Chart(countries).mark_geoshape(\n",
    "    fill='lightgray',\n",
    "    stroke='white'\n",
    ").encode(\n",
    "    color=alt.Color('id:N', scale=color_id_scale)\n",
    ")\n",
    "\n",
    "# city positions on background\n",
    "locations = alt.Chart(sites).transform_aggregate(\n",
    "    Latitude_Mean='mean(Latitude)',\n",
    "    Longitude_Mean='mean(Longitude)',\n",
    "    Hospitals_Total='sum(Hospitals)',\n",
    "    Sites_Total='count()',\n",
    "    groupby=['City','Country']\n",
    ").mark_circle().encode(\n",
    "    longitude='Longitude_Mean:Q',\n",
    "    latitude='Latitude_Mean:Q',\n",
    "    size=alt.Size( 'Hospitals_Total:Q', title='Number of Hospitals'),\n",
    "    #size=alt.value(75),\n",
    "    color=alt.Color('Country:N', scale=color_scale),\n",
    "    tooltip=['City:N','Sites_Total:Q', 'Hospitals_Total:Q']\n",
    ")\n",
    "\n",
    "labels = locations.mark_text(\n",
    "    align='center',\n",
    "    baseline='top',\n",
    "    dy=7\n",
    ").encode(\n",
    "    text='City',\n",
    "    size=alt.value(10),\n",
    "    color=alt.value('black')\n",
    ")"
   ]
  },
  {
   "cell_type": "code",
   "execution_count": null,
   "metadata": {},
   "outputs": [],
   "source": [
    "north_america_map = ( background + locations + labels ).project(\n",
    "    type= 'mercator',\n",
    "    scale= 380,                          # Magnify\n",
    "    center= [-95,40],                     # [lon, lat]\n",
    "    clipExtent= [[0, 0], [400, 300]],    # [[left, top], [right, bottom]]\n",
    ").properties(\n",
    "    title={\n",
    "        \"text\": 'Sites in USA',\n",
    "        \"subtitle\": get_visualization_subtitle(),\n",
    "        \"subtitleColor\": \"gray\"\n",
    "    },\n",
    "    width=400, height=300,\n",
    ")\n",
    "\n",
    "apply_theme(north_america_map, legend_orient=\"right\")"
   ]
  },
  {
   "cell_type": "code",
   "execution_count": null,
   "metadata": {},
   "outputs": [],
   "source": [
    "europe_map = ( background + locations + labels ).project(\n",
    "    type= 'mercator',\n",
    "    scale=800,                          # Magnify\n",
    "    center= [7,47],                     # [lon, lat]\n",
    "    clipExtent= [[0, 0], [400, 300]],    # [[left, top], [right, bottom]]\n",
    ").properties(\n",
    "    title={\n",
    "        \"text\": 'Sites in Europe',\n",
    "        \"subtitle\": get_visualization_subtitle(),\n",
    "        \"subtitleColor\": \"gray\"\n",
    "    },\n",
    "    width=400, height=300\n",
    ")\n",
    "\n",
    "apply_theme(europe_map, legend_orient=\"right\")"
   ]
  },
  {
   "cell_type": "code",
   "execution_count": null,
   "metadata": {},
   "outputs": [],
   "source": [
    "asia_map = ( background + locations + labels ).project(\n",
    "    type= 'mercator',\n",
    "    scale= 400,                          # Magnify\n",
    "    center= [100,0],                     # [lon, lat]\n",
    "    clipExtent= [[0, 0], [400, 300]],    # [[left, top], [right, bottom]]\n",
    ").properties(\n",
    "    title={\n",
    "        \"text\": 'Sites in Asia',\n",
    "        \"subtitle\": get_visualization_subtitle(),\n",
    "        \"subtitleColor\": \"gray\"\n",
    "    },\n",
    "    width=400, height=300\n",
    ")\n",
    "\n",
    "apply_theme(asia_map, legend_orient=\"right\")"
   ]
  },
  {
   "cell_type": "code",
   "execution_count": null,
   "metadata": {},
   "outputs": [],
   "source": []
  }
 ],
 "metadata": {
  "kernelspec": {
   "display_name": "Python 3",
   "language": "python",
   "name": "python3"
  },
  "language_info": {
   "codemirror_mode": {
    "name": "ipython",
    "version": 3
   },
   "file_extension": ".py",
   "mimetype": "text/x-python",
   "name": "python",
   "nbconvert_exporter": "python",
   "pygments_lexer": "ipython3",
   "version": "3.8.2"
  }
 },
 "nbformat": 4,
 "nbformat_minor": 4
}
