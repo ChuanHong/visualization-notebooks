{
 "cells": [
  {
   "cell_type": "code",
   "execution_count": null,
   "metadata": {},
   "outputs": [],
   "source": [
    "##############################\n",
    "### Install/load packages ###\n",
    "#############################\n",
    "library(ggplot2)\n",
    "library(cowplot)"
   ]
  },
  {
   "cell_type": "code",
   "execution_count": null,
   "metadata": {},
   "outputs": [],
   "source": [
    "#####################\n",
    "### Load the data ###\n",
    "#####################\n",
    "load(\"country.report.RData\")\n",
    "\n",
    "#for the codes without description, we put the original code\n",
    "country.report$description <- ifelse( is.na( country.report$Icd10Name), \n",
    "                                     country.report$icd_code, \n",
    "                                     country.report$Icd10Name)"
   ]
  },
  {
   "cell_type": "code",
   "execution_count": null,
   "metadata": {},
   "outputs": [],
   "source": [
    "###########################################\n",
    "### Format the data for ggplot barplot ###\n",
    "##########################################\n",
    "country.report <- country.report[order(country.report$siteid, country.report$FractionPatients, decreasing = TRUE), ]\n",
    "\n",
    "#select the top 5 of each country\n",
    "selection_list <- by(country.report, country.report[\"siteid\"], head, n=5)\n",
    "selection_df <- Reduce(rbind, selection_list)\n",
    "\n",
    "\n",
    "#create a plot for each country\n",
    "italy <- ggplot(data=selection_df[ selection_df$siteid == \"Italy\", ], aes(x=reorder(description,FractionPatients), y=FractionPatients)) +\n",
    "  geom_bar(aes(fill= siteid), stat=\"identity\", position=position_dodge()) + \n",
    "  ylim( 0, 1) +\n",
    "  facet_grid(. ~ siteid ) +\n",
    "  theme_bw()+\n",
    "  theme(legend.position = \"none\", axis.text.y = element_text(size=5),axis.text.x = element_text(size=7), \n",
    "        axis.title = element_text(size = 7),strip.text.y = element_text(angle = 0)\n",
    "  )+\n",
    "  labs(title = \"\", \n",
    "       x = \"\", y = \"Fraction of patients\")+ coord_flip()+\n",
    "  scale_fill_manual(\"legend\", values = c(\"Italy\" = \"#009E73\", \"France\" = \"#0072B2\", \"Germany\" = \"#E69F00\", \"USA\" = \"#D55E00\", \"Combined\" = \"#444444\"))\n",
    "\n",
    "france <- ggplot(data=selection_df[ selection_df$siteid == \"France\", ], aes(x=reorder(description,FractionPatients), y=FractionPatients)) +\n",
    "  geom_bar(aes(fill= siteid), stat=\"identity\", position=position_dodge()) + \n",
    "  facet_grid(. ~ siteid ) +\n",
    "  ylim( 0, 1) +\n",
    "  theme_bw()+\n",
    "  theme(legend.position = \"none\", axis.text.y = element_text(size=5),axis.text.x = element_text(size=7), \n",
    "        axis.title = element_text(size = 7),strip.text.y = element_text(angle = 0)\n",
    "  )+\n",
    "  labs(title = \"\", \n",
    "       x = \"\", y = \"Fraction of patients\")+ coord_flip()+\n",
    "  scale_fill_manual(\"legend\", values = c(\"Italy\" = \"#009E73\", \"France\" = \"#0072B2\", \"Germany\" = \"#E69F00\", \"USA\" = \"#D55E00\", \"Combined\" = \"#444444\"))\n",
    "\n",
    "\n",
    "germany <- ggplot(data=selection_df[ selection_df$siteid == \"Germany\", ], aes(x=reorder(description,FractionPatients), y=FractionPatients)) +\n",
    "  geom_bar(aes(fill= siteid), stat=\"identity\", position=position_dodge()) + \n",
    "  facet_grid(. ~ siteid ) +\n",
    "  ylim( 0, 1) +\n",
    "  theme_bw()+\n",
    "  theme(legend.position = \"none\", axis.text.y = element_text(size=5),axis.text.x = element_text(size=7), \n",
    "        axis.title = element_text(size = 7),strip.text.y = element_text(angle = 0)\n",
    "  )+\n",
    "  labs(title = \"\", \n",
    "       x = \"\", y = \"Fraction of patients\")+coord_flip()+\n",
    "  scale_fill_manual(\"legend\", values = c(\"Italy\" = \"#009E73\", \"France\" = \"#0072B2\", \"Germany\" = \"#E69F00\", \"USA\" = \"#D55E00\", \"Combined\" = \"#444444\"))\n",
    "\n",
    "usa <- ggplot(data=selection_df[ selection_df$siteid == \"USA\", ], aes(x=reorder(description,FractionPatients), y=FractionPatients)) +\n",
    "  geom_bar(aes(fill= siteid), stat=\"identity\", position=position_dodge()) + \n",
    "  facet_grid(. ~ siteid ) +\n",
    "  ylim( 0, 1) +\n",
    "  theme_bw()+\n",
    "  theme(legend.position = \"none\", axis.text.y = element_text(size=5),axis.text.x = element_text(size=7), \n",
    "        axis.title = element_text(size = 7),\n",
    "        strip.text.y = element_text(angle = 0)\n",
    "  )+\n",
    "  labs(title = \"\", \n",
    "       x = \"\", y = \"Fraction of patients\")+ coord_flip()+\n",
    "  scale_fill_manual(\"legend\", values = c(\"Italy\" = \"#009E73\", \"France\" = \"#0072B2\", \"Germany\" = \"#E69F00\", \"USA\" = \"#D55E00\", \"Combined\" = \"#444444\"))"
   ]
  },
  {
   "cell_type": "code",
   "execution_count": null,
   "metadata": {},
   "outputs": [],
   "source": [
    "######################################\n",
    "### Plot all the graphics together ###\n",
    "######################################\n",
    "cowplot::plot_grid( italy, france, germany, usa, align = \"v\", ncol = 2)"
   ]
  }
 ],
 "metadata": {
  "kernelspec": {
   "display_name": "R",
   "language": "R",
   "name": "ir"
  },
  "language_info": {
   "codemirror_mode": "r",
   "file_extension": ".r",
   "mimetype": "text/x-r-source",
   "name": "R",
   "pygments_lexer": "r",
   "version": "3.3.1"
  }
 },
 "nbformat": 4,
 "nbformat_minor": 1
}
