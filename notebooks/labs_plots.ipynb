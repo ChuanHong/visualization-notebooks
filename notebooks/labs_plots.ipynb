{
 "cells": [
  {
   "cell_type": "code",
   "execution_count": null,
   "metadata": {},
   "outputs": [],
   "source": [
    "library(\"ggplot2\")\n",
    "library(\"dplyr\")\n",
    "install.packages(\"ggsci\")\n",
    "library(\"ggsci\")\n",
    "library(\"repr\")"
   ]
  },
  {
   "cell_type": "raw",
   "metadata": {},
   "source": [
    "# Real data\n",
    "labs_BCH = read.csv(\"BCH/2020-03-29_Labs-BCH.csv\", stringsAsFactors = F)\n",
    "labs_Penn = read.csv(\"UPenn//2020-03-30_Labs-UPenn.csv\", stringsAsFactors = F, \n",
    "                    na.strings = c(\"NA\", \"NULL\"))\n",
    "\n",
    "names(labs_Penn) <- toupper(names(labs_Penn))\n",
    "names(labs_BCH)[which(names(labs_BCH) ==\"STDEV_VAL\")] <- \"STDEV_VALUE\"\n",
    "\n",
    "all_institutes <- dplyr::bind_rows(labs_Penn, labs_BCH)"
   ]
  },
  {
   "cell_type": "code",
   "execution_count": null,
   "metadata": {},
   "outputs": [],
   "source": [
    "# Fake data\n",
    "path_data <- \"../fakedata/site_level_data/\"\n",
    "list_file_paths <- list.files(path_data, pattern = \"*Labs.*\\\\.csv\", recursive=TRUE, include.dirs=TRUE, full.names=T)\n",
    "list_files <- lapply(list_file_paths, read.csv, header=FALSE, stringsAsFactors=FALSE)\n",
    "all_institutes <- do.call(dplyr::bind_rows, list_files)\n",
    "names(all_institutes) <- c(\"SITEID\", \"LOINC\", \"DAYS_SINCE_POSITIVE\", \"NUM_PATIENTS\", \"MEAN_VALUE\", \"STDEV_VALUE\")"
   ]
  },
  {
   "cell_type": "code",
   "execution_count": null,
   "metadata": {},
   "outputs": [],
   "source": [
    "loinc_mapping <- read.csv(\"../fakedata/loinc_mapping_long.csv\", stringsAsFactors = F)\n",
    "loinc_mapping[\"PLOT_NAME_UNITS\"] <- paste0(loinc_mapping$PLOT_NAME, \" (\", loinc_mapping$UNITS, \")\")"
   ]
  },
  {
   "cell_type": "code",
   "execution_count": null,
   "metadata": {},
   "outputs": [],
   "source": [
    "all_institutes <- dplyr::left_join(all_institutes, loinc_mapping, by=\"LOINC\")\n",
    "all_institutes <- all_institutes[order(all_institutes$DAYS_SINCE_POSITIVE),] %>%\n",
    "    filter(DAYS_SINCE_POSITIVE >=-1, NUM_PATIENTS > 1)"
   ]
  },
  {
   "cell_type": "code",
   "execution_count": null,
   "metadata": {},
   "outputs": [],
   "source": [
    "ggplot2::theme_set(\n",
    "    theme_bw() +\n",
    "    theme(plot.title = element_text(size=20, hjust = 0.5),\n",
    "         axis.title.x = element_text(size=14),\n",
    "         axis.title.y = element_text(size=14),\n",
    "         axis.text.x = element_text(size=11),\n",
    "         axis.text.y = element_text(size=11),\n",
    "         strip.text = element_text(size=11),\n",
    "         legend.title = element_text(size=13),\n",
    "        legend.text = element_text(size=12))\n",
    ")\n",
    "\n",
    "## Setting plot size in Jupyter\n",
    "options(repr.plot.width=12, repr.plot.height=6)"
   ]
  },
  {
   "cell_type": "code",
   "execution_count": null,
   "metadata": {},
   "outputs": [],
   "source": [
    "ggplot(data=all_institutes, aes_string(x=\"DAYS_SINCE_POSITIVE\", y=\"MEAN_VALUE\")) +\n",
    "geom_point(aes_string(col=\"SITEID\")\n",
    "          #            size=\"NUM_PATIENTS\")\n",
    "          ) +\n",
    "geom_line(aes_string(col=\"SITEID\")) +\n",
    "facet_wrap(\"PLOT_NAME_UNITS\", scales=\"free_y\") +\n",
    "labs(title = \"Labs Mean Values\",\n",
    "     x = \"Days since COVID-19 Diagnosis\",\n",
    "     y = \"Mean Value\",\n",
    "    col = \"Institution\") + \n",
    "scale_x_continuous(breaks = unique(all_institutes$DAYS_SINCE_POSITIVE))\n",
    "#+ scale_color_nejm()\n",
    "#ggsave(\"lab_plots/labs.png\", height=14, width=32, unit=\"cm\")"
   ]
  },
  {
   "cell_type": "code",
   "execution_count": null,
   "metadata": {},
   "outputs": [],
   "source": [
    "ggplot(data=all_institutes, aes_string(x=\"DAYS_SINCE_POSITIVE\", y=\"MEAN_VALUE\")) +\n",
    "geom_point(aes_string(col=\"SITEID\", size=\"NUM_PATIENTS\")) +\n",
    "facet_wrap(\"PLOT_NAME_UNITS\", scales=\"free_y\") +\n",
    "labs(title = \"Labs Mean Values\",\n",
    "     x = \"Days since COVID-19 Diagnosis\",\n",
    "     y = \"Mean Value\",\n",
    "    size = \"Number of Patients\",\n",
    "    col = \"Institution\") + \n",
    "scale_x_continuous(breaks = unique(all_institutes$DAYS_SINCE_POSITIVE))\n",
    "#+ scale_color_nejm()\n",
    "#ggsave(\"lab_plots/labs_size.png\", height=14, width=32, unit=\"cm\")"
   ]
  },
  {
   "cell_type": "markdown",
   "metadata": {},
   "source": [
    "# Labs grouped into categories"
   ]
  },
  {
   "cell_type": "code",
   "execution_count": null,
   "metadata": {},
   "outputs": [],
   "source": [
    "hepatic_panel <- c(\"ALT\", \"AST\", \"Albumin\", \"Total Bilirubin\", \"Prothrombin Time\")\n",
    "white_blood_cells <- c(\"Leukocytes Count\", \"Lymphocytes Count\", \"Neutrophil Count\")\n",
    "systemic_response <- c(\"C-Reactive Protein\", \"D-dimer\", \"Procalcitonin\", \"LDH\")"
   ]
  },
  {
   "cell_type": "code",
   "execution_count": null,
   "metadata": {},
   "outputs": [],
   "source": [
    "hepatic_subset <- all_institutes[all_institutes$PLOT_NAME %in% hepatic_panel,]\n",
    "white_blood_cells_subset <- all_institutes[all_institutes$PLOT_NAME %in% white_blood_cells,]\n",
    "systemic_response_subset <- all_institutes[all_institutes$PLOT_NAME %in% systemic_response,]"
   ]
  },
  {
   "cell_type": "markdown",
   "metadata": {},
   "source": [
    "## Liver Function Panel"
   ]
  },
  {
   "cell_type": "code",
   "execution_count": null,
   "metadata": {},
   "outputs": [],
   "source": [
    "ggplot(data=hepatic_subset, aes_string(x=\"DAYS_SINCE_POSITIVE\", y=\"MEAN_VALUE\")) +\n",
    "geom_point(aes_string(col=\"SITEID\")) +\n",
    "#geom_errorbar(aes(ymin=MEAN_VALUE-STDEV_VALUE, ymax=MEAN_VALUE+STDEV_VALUE), width=.2,\n",
    "#                 position=position_dodge(.9)) + \n",
    "facet_wrap(\"PLOT_NAME_UNITS\", scales=\"free_y\") +\n",
    "labs(title = \"Labs Mean Values: Liver Function Panel\",\n",
    "     x = \"Days since COVID-19 Diagnosis\",\n",
    "     y = \"Labs Mean Value\",\n",
    "    col = \"Institution\"\n",
    "    ) + \n",
    "theme(\n",
    "    legend.position = c(0.85, 0.2),\n",
    "    )+\n",
    "scale_x_continuous(breaks = unique(all_institutes$DAYS_SINCE_POSITIVE))\n",
    "#+scale_color_nejm()\n",
    "#ggsave(\"lab_plots/liver.png\", height=14, width=28, unit=\"cm\")"
   ]
  },
  {
   "cell_type": "code",
   "execution_count": null,
   "metadata": {},
   "outputs": [],
   "source": [
    "ggplot(data=hepatic_subset, aes_string(x=\"DAYS_SINCE_POSITIVE\", y=\"MEAN_VALUE\")) +\n",
    "geom_point(aes_string(col=\"SITEID\", size=\"NUM_PATIENTS\")) +\n",
    "#geom_errorbar(aes(ymin=MEAN_VALUE-STDEV_VALUE, ymax=MEAN_VALUE+STDEV_VALUE), width=.2,\n",
    "#                 position=position_dodge(.9)) + \n",
    "facet_wrap(\"PLOT_NAME_UNITS\", scales=\"free_y\") +\n",
    "labs(title = \"Labs Mean Values: Liver Function Panel\",\n",
    "     x = \"Days since COVID-19 Diagnosis\",\n",
    "     y = \"Labs Mean Value\",\n",
    "    size = \"Number of Patients\",\n",
    "    col = \"Institution\"\n",
    "    ) + \n",
    "theme(\n",
    "    legend.position = c(0.85, 0.2),\n",
    "    )+\n",
    "scale_x_continuous(breaks = unique(all_institutes$DAYS_SINCE_POSITIVE))\n",
    "#+scale_color_nejm()\n",
    "#ggsave(\"lab_plots/liver_size.png\", height=14, width=28, unit=\"cm\")"
   ]
  },
  {
   "cell_type": "markdown",
   "metadata": {},
   "source": [
    "## White Blood Cells"
   ]
  },
  {
   "cell_type": "code",
   "execution_count": null,
   "metadata": {},
   "outputs": [],
   "source": [
    "ggplot(data=white_blood_cells_subset, aes_string(x=\"DAYS_SINCE_POSITIVE\", y=\"MEAN_VALUE\")) +\n",
    "geom_point(aes_string(col=\"SITEID\")) +\n",
    "#geom_errorbar(aes(ymin=MEAN_VALUE-STDEV_VALUE, ymax=MEAN_VALUE+STDEV_VALUE), width=.2,\n",
    "#                 position=position_dodge(.9)) + \n",
    "facet_wrap(\"PLOT_NAME_UNITS\", scales=\"free_y\") +\n",
    "labs(title = \"Labs Mean Values: White Blood Cells\",\n",
    "     x = \"Days since COVID-19 Diagnosis\",\n",
    "     y = \"Labs Mean Value\",\n",
    "    col = \"Institution\"\n",
    "    ) \n",
    "#+scale_color_nejm()\n",
    "#ggsave(\"lab_plots/white_blood.png\", height=14, width=28, unit=\"cm\")"
   ]
  },
  {
   "cell_type": "markdown",
   "metadata": {},
   "source": [
    "## Systemic Response"
   ]
  },
  {
   "cell_type": "code",
   "execution_count": null,
   "metadata": {},
   "outputs": [],
   "source": [
    "ggplot(data=systemic_response_subset, aes_string(x=\"DAYS_SINCE_POSITIVE\", y=\"MEAN_VALUE\")) +\n",
    " geom_point(aes_string(col=\"SITEID\")) +\n",
    "#geom_errorbar(aes(ymin=MEAN_VALUE-STDEV_VALUE, ymax=MEAN_VALUE+STDEV_VALUE), width=.2,\n",
    "#                 position=position_dodge(.9)) + \n",
    "facet_wrap(\"PLOT_NAME_UNITS\", scales=\"free_y\") +\n",
    "labs(title = \"Labs: Systemic Response\",\n",
    "     x = \"Days since COVID-19 Diagnosis\",\n",
    "     y = \"Labs Mean Value\",\n",
    "    col = \"Institution\"\n",
    "    ) \n",
    "#+scale_color_nejm()\n",
    "#ggsave(\"lab_plots/sytemic_response.png\", height=14, width=28, unit=\"cm\")"
   ]
  }
 ],
 "metadata": {
  "kernelspec": {
   "display_name": "R",
   "language": "R",
   "name": "ir"
  },
  "language_info": {
   "codemirror_mode": "r",
   "file_extension": ".r",
   "mimetype": "text/x-r-source",
   "name": "R",
   "pygments_lexer": "r",
   "version": "3.6.1"
  }
 },
 "nbformat": 4,
 "nbformat_minor": 4
}
