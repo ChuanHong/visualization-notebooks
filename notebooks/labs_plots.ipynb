{
 "cells": [
  {
   "cell_type": "code",
   "execution_count": null,
   "metadata": {},
   "outputs": [],
   "source": [
    "library(\"ggplot2\")\n",
    "library(\"dplyr\")\n",
    "install.packages(\"ggsci\")\n",
    "library(\"ggsci\")\n",
    "library(\"repr\")"
   ]
  },
  {
   "cell_type": "raw",
   "metadata": {},
   "source": [
    "# Real data\n",
    "path_data = read.csv(\"BCH/2020-03-29_Labs-BCH.csv\", stringsAsFactors = F)\n",
    "labs_Penn = read.csv(\"UPenn//2020-03-30_Labs-UPenn.csv\", stringsAsFactors = F, \n",
    "                    na.strings = c(\"NA\", \"NULL\"))\n",
    "\n",
    "names(labs_Penn) <- toupper(names(labs_Penn))\n",
    "names(labs_BCH)[which(names(labs_BCH) ==\"STDEV_VAL\")] <- \"STDEV_VALUE\"\n",
    "\n",
    "all_institutes <- dplyr::bind_rows(labs_Penn, labs_BCH)"
   ]
  },
  {
   "cell_type": "raw",
   "metadata": {},
   "source": [
    "# Fake data\n",
    "path_data <- \"../fakedata/site_level_data/\"\n",
    "list_file_paths <- list.files(path_data, pattern = \"*Labs.*\\\\.csv\", recursive=TRUE, include.dirs=TRUE, full.names=T)\n",
    "list_files <- lapply(list_file_paths, read.csv, header=FALSE, stringsAsFactors=FALSE)\n",
    "all_institutes <- do.call(dplyr::bind_rows, list_files)\n",
    "names(all_institutes) <- c(\"SITEID\", \"LOINC\", \"DAYS_SINCE_POSITIVE\", \"NUM_PATIENTS\", \"MEAN_VALUE\", \"STDEV_VALUE\")"
   ]
  },
  {
   "cell_type": "code",
   "execution_count": null,
   "metadata": {},
   "outputs": [],
   "source": [
    "path_data <- \"../FRBDX/Labs-FRBDX.csv\"\n",
    "all_institutes <- read.csv(path_data, stringsAsFactors = F)\n",
    "#all_institutes <- read.csv(\"../combined_data/Labs-Combined200401.csv\", stringsAsFactors = F)"
   ]
  },
  {
   "cell_type": "code",
   "execution_count": null,
   "metadata": {},
   "outputs": [],
   "source": [
    "loinc_mapping <- read.csv(\"../fakedata/loinc_mapping_long.csv\", stringsAsFactors = F)\n",
    "names(loinc_mapping) <- tolower(names(loinc_mapping))"
   ]
  },
  {
   "cell_type": "code",
   "execution_count": null,
   "metadata": {},
   "outputs": [],
   "source": [
    "loinc_mapping[\"plot_names_units\"] <- paste0(loinc_mapping$plot_name, \" (\", loinc_mapping$units, \")\")"
   ]
  },
  {
   "cell_type": "code",
   "execution_count": null,
   "metadata": {},
   "outputs": [],
   "source": [
    "all_institutes <- dplyr::left_join(all_institutes, loinc_mapping, by=\"loinc\")\n",
    "all_institutes <- all_institutes[order(all_institutes$days_since_positive),] %>%\n",
    "    filter(num_patients >= 1)"
   ]
  },
  {
   "cell_type": "code",
   "execution_count": null,
   "metadata": {},
   "outputs": [],
   "source": [
    "ggplot2::theme_set(\n",
    "    theme_bw() +\n",
    "    theme(plot.title = element_text(size=20, hjust = 0.5),\n",
    "         axis.title.x = element_text(size=14),\n",
    "         axis.title.y = element_text(size=14),\n",
    "         axis.text.x = element_text(size=11),\n",
    "         axis.text.y = element_text(size=11),\n",
    "         strip.text = element_text(size=11),\n",
    "         legend.title = element_text(size=13),\n",
    "        legend.text = element_text(size=12))\n",
    ")\n",
    "\n",
    "## Setting plot size in Jupyter\n",
    "options(repr.plot.width=12, repr.plot.height=6)"
   ]
  },
  {
   "cell_type": "markdown",
   "metadata": {},
   "source": [
    "# All measures"
   ]
  },
  {
   "cell_type": "code",
   "execution_count": null,
   "metadata": {},
   "outputs": [],
   "source": [
    "ggplot(data=all_institutes, aes_string(x=\"days_since_positive\", y=\"mean_value\")) +\n",
    "geom_point(aes_string(\n",
    "    col=\"num_patients\",\n",
    "    size=\"num_patients\")\n",
    ") +\n",
    "facet_wrap(\"plot_names_units\", scales=\"free_y\") +\n",
    "labs(title = \"APHP: Labs Mean Values\",\n",
    "     x = \"Days since COVID-19 Diagnosis\",\n",
    "     y = \"Mean Value\",\n",
    "     col = \"Number of patients\",\n",
    "    size = \"Number of patients\") +\n",
    "scale_colour_gradient(high = \"#132B43\", low = \"#56B1F7\") +\n",
    "scale_fill_continuous(low = \"#132B43\", high = \"#56B1F7\") +\n",
    "theme(\n",
    "    legend.position = c(0.8, 0.01),\n",
    "    legend.direction = \"horizontal\")\n",
    "#ggsave(\"labs_combined200403_aphp.png\", height=14, width=32, unit=\"cm\")"
   ]
  },
  {
   "cell_type": "markdown",
   "metadata": {},
   "source": [
    "# Labs grouped into categories"
   ]
  },
  {
   "cell_type": "code",
   "execution_count": null,
   "metadata": {},
   "outputs": [],
   "source": [
    "hepatic_panel <- c(\"ALT\", \"AST\", \"Albumin\", \"Total Bilirubin\", \"Prothrombin Time\")\n",
    "white_blood_cells <- c(\"Leukocytes Count\", \"Lymphocytes Count\", \"Neutrophil Count\")\n",
    "systemic_response <- c(\"C-Reactive Protein\", \"D-dimer\", \"Procalcitonin\", \"LDH\")"
   ]
  },
  {
   "cell_type": "code",
   "execution_count": null,
   "metadata": {},
   "outputs": [],
   "source": [
    "hepatic_subset <- all_institutes[all_institutes$plot_name %in% hepatic_panel,]\n",
    "white_blood_cells_subset <- all_institutes[all_institutes$plot_name %in% white_blood_cells,]\n",
    "systemic_response_subset <- all_institutes[all_institutes$plot_name %in% systemic_response,]"
   ]
  },
  {
   "cell_type": "markdown",
   "metadata": {},
   "source": [
    "## Liver Function Panel"
   ]
  },
  {
   "cell_type": "code",
   "execution_count": null,
   "metadata": {},
   "outputs": [],
   "source": [
    "ggplot(data=hepatic_subset, aes_string(x=\"days_since_positive\", y=\"mean_value\")) +\n",
    "geom_point(aes_string(col=\"num_patients\",\n",
    "                     size=\"num_patients\")) +\n",
    "facet_wrap(\"plot_names_units\", scales=\"free_y\") +\n",
    "labs(title = \"Labs Mean Values: Liver Function Panel\",\n",
    "     x = \"Days since COVID-19 Diagnosis\",\n",
    "     y = \"Labs Mean Value\",\n",
    "    col = \"Number of Patients\", \n",
    "     size = \"Number of Patients\"\n",
    "    ) + \n",
    "theme(\n",
    "    legend.position = c(0.85, 0.2),\n",
    "    )\n",
    "#ggsave(\"labs_liver200403_aphp.png\", height=14, width=32, unit=\"cm\")"
   ]
  },
  {
   "cell_type": "code",
   "execution_count": null,
   "metadata": {},
   "outputs": [],
   "source": [
    "ggplot(data=hepatic_subset, aes_string(x=\"days_since_positive\", y=\"mean_value\")) +\n",
    "geom_point(aes_string(col=\"num_patients\", size=\"num_patients\")) +\n",
    "geom_errorbar(aes(ymin=mean_value-stdev_value, ymax=mean_value+stdev_value), width=.2,\n",
    "                 position=position_dodge(.9)) + \n",
    "facet_wrap(\"plot_names_units\", scales=\"free_y\") +\n",
    "labs(title = \"Labs Mean Values: Liver Function Panel\",\n",
    "     x = \"Days since COVID-19 Diagnosis\",\n",
    "     y = \"Labs Mean Value\",\n",
    "    col = \"Number of Patients\", \n",
    "     size = \"Number of Patients\"\n",
    "    ) + \n",
    "theme(\n",
    "    legend.position = c(0.85, 0.2),\n",
    "    )\n",
    "#ggsave(\"labs_liver_sd_200403_aphp.png\", height=14, width=32, unit=\"cm\")"
   ]
  },
  {
   "cell_type": "markdown",
   "metadata": {},
   "source": [
    "## White Blood Cells"
   ]
  },
  {
   "cell_type": "code",
   "execution_count": null,
   "metadata": {},
   "outputs": [],
   "source": [
    "ggplot(data=white_blood_cells_subset, aes_string(x=\"days_since_positive\", y=\"mean_value\")) +\n",
    "geom_point(aes_string(col=\"num_patients\", size=\"num_patients\")) +\n",
    "#geom_errorbar(aes(ymin=mean_value-stdev_value, ymax=mean_value+stdev_value), width=.2,\n",
    "#                 position=position_dodge(.9)) + \n",
    "facet_wrap(\"plot_names_units\", scales=\"free_y\") +\n",
    "labs(title = \"Labs Mean Values: White Blood Cells\",\n",
    "     x = \"Days since COVID-19 Diagnosis\",\n",
    "     y = \"Labs Mean Value\",\n",
    "     col = \"Number of Patients\", \n",
    "     size = \"Number of Patients\")\n",
    "#ggsave(\"labs_whiteb200403_aphp.png\", height=14, width=32, unit=\"cm\")    "
   ]
  },
  {
   "cell_type": "markdown",
   "metadata": {},
   "source": [
    "## Systemic Response"
   ]
  },
  {
   "cell_type": "code",
   "execution_count": null,
   "metadata": {},
   "outputs": [],
   "source": [
    "ggplot(data=systemic_response_subset, aes_string(x=\"days_since_positive\", y=\"mean_value\")) +\n",
    " geom_point(aes_string(col=\"num_patients\", size=\"num_patients\")) +\n",
    "#geom_errorbar(aes(ymin=MEAN_VALUE-STDEV_VALUE, ymax=MEAN_VALUE+STDEV_VALUE), width=.2,\n",
    "#                 position=position_dodge(.9)) + \n",
    "facet_wrap(\"plot_names_units\", scales=\"free_y\") +\n",
    "labs(title = \"Labs: Systemic Response\",\n",
    "     x = \"Days since COVID-19 Diagnosis\",\n",
    "     col = \"Number of Patients\", \n",
    "     size = \"Number of Patients\"\n",
    "    ) \n",
    "#ggsave(\"labs_systemic200403.png\", height=14, width=28, unit=\"cm\")"
   ]
  },
  {
   "cell_type": "markdown",
   "metadata": {},
   "source": [
    "## Albumin"
   ]
  },
  {
   "cell_type": "code",
   "execution_count": null,
   "metadata": {},
   "outputs": [],
   "source": [
    "ggplot(data=all_institutes[all_institutes$test==\"albumin\",], aes_string(x=\"days_since_positive\", y=\"mean_value\")) +\n",
    "geom_point(aes_string(\n",
    "    col=\"num_patients\",\n",
    "                      size=\"num_patients\")\n",
    "          , \n",
    "          ) +\n",
    "scale_colour_gradient(high = \"#132B43\", low = \"#56B1F7\") +\n",
    "#geom_line(aes_string(col=\"siteid\")) +\n",
    "labs(title = \"Combined dataset: Albumin (g/dl)\",\n",
    "     x = \"Days since COVID-19 Diagnosis\",\n",
    "     y = \"Mean Value\",\n",
    "     size = \"Number of patients\",\n",
    "    col = \"Number of patients\")\n",
    "#ggsave(\"albumin_200403.png\", height=14, width=32, unit=\"cm\")"
   ]
  },
  {
   "cell_type": "markdown",
   "metadata": {},
   "source": [
    "# Creatinine"
   ]
  },
  {
   "cell_type": "code",
   "execution_count": null,
   "metadata": {},
   "outputs": [],
   "source": [
    "ggplot(data=all_institutes[all_institutes$test==\"creatinine\",], aes_string(x=\"days_since_positive\", y=\"mean_value\")) +\n",
    "geom_point(aes_string(\n",
    "    col=\"num_patients\",\n",
    "                      size=\"num_patients\")\n",
    "          ) +\n",
    "labs(title = \"Combined dataset: Creatinine (mg/dl)\",\n",
    "     x = \"Days since COVID-19 Diagnosis\",\n",
    "     y = \"Mean Value\",\n",
    "     size = \"Number of patients\",\n",
    "    col = \"Number of patients\") +\n",
    "scale_colour_gradient(high = \"#132B43\", low = \"#56B1F7\") \n",
    "#ggsave(\"creatinine_200402.png\", height=14, width=32, unit=\"cm\")"
   ]
  },
  {
   "cell_type": "code",
   "execution_count": null,
   "metadata": {},
   "outputs": [],
   "source": []
  }
 ],
 "metadata": {
  "kernelspec": {
   "display_name": "R",
   "language": "R",
   "name": "ir"
  },
  "language_info": {
   "codemirror_mode": "r",
   "file_extension": ".r",
   "mimetype": "text/x-r-source",
   "name": "R",
   "pygments_lexer": "r",
   "version": "3.6.1"
  }
 },
 "nbformat": 4,
 "nbformat_minor": 4
}
